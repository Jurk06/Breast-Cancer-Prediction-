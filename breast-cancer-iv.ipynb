{
 "cells": [
  {
   "cell_type": "code",
   "execution_count": 1,
   "id": "f664a8ba",
   "metadata": {
    "_cell_guid": "b1076dfc-b9ad-4769-8c92-a6c4dae69d19",
    "_uuid": "8f2839f25d086af736a60e9eeb907d3b93b6e0e5",
    "execution": {
     "iopub.execute_input": "2021-08-29T09:44:28.487867Z",
     "iopub.status.busy": "2021-08-29T09:44:28.486614Z",
     "iopub.status.idle": "2021-08-29T09:44:28.509558Z",
     "shell.execute_reply": "2021-08-29T09:44:28.508803Z",
     "shell.execute_reply.started": "2021-08-29T09:37:19.001426Z"
    },
    "papermill": {
     "duration": 0.152267,
     "end_time": "2021-08-29T09:44:28.509762",
     "exception": false,
     "start_time": "2021-08-29T09:44:28.357495",
     "status": "completed"
    },
    "tags": []
   },
   "outputs": [
    {
     "name": "stdout",
     "output_type": "stream",
     "text": [
      "/kaggle/input/breast-cancer-wisconsin-data/data.csv\n"
     ]
    }
   ],
   "source": [
    "# This Python 3 environment comes with many helpful analytics libraries installed\n",
    "# It is defined by the kaggle/python Docker image: https://github.com/kaggle/docker-python\n",
    "# For example, here's several helpful packages to load\n",
    "\n",
    "import numpy as np # linear algebra\n",
    "import pandas as pd # data processing, CSV file I/O (e.g. pd.read_csv)\n",
    "\n",
    "# Input data files are available in the read-only \"../input/\" directory\n",
    "# For example, running this (by clicking run or pressing Shift+Enter) will list all files under the input directory\n",
    "\n",
    "import os\n",
    "for dirname, _, filenames in os.walk('/kaggle/input'):\n",
    "    for filename in filenames:\n",
    "        print(os.path.join(dirname, filename))\n",
    "\n",
    "# You can write up to 20GB to the current directory (/kaggle/working/) that gets preserved as output when you create a version using \"Save & Run All\" \n",
    "# You can also write temporary files to /kaggle/temp/, but they won't be saved outside of the current session"
   ]
  },
  {
   "cell_type": "code",
   "execution_count": 2,
   "id": "ef2522dc",
   "metadata": {
    "execution": {
     "iopub.execute_input": "2021-08-29T09:44:28.770831Z",
     "iopub.status.busy": "2021-08-29T09:44:28.770083Z",
     "iopub.status.idle": "2021-08-29T09:44:33.938948Z",
     "shell.execute_reply": "2021-08-29T09:44:33.937479Z",
     "shell.execute_reply.started": "2021-08-29T09:37:19.021700Z"
    },
    "papermill": {
     "duration": 5.302464,
     "end_time": "2021-08-29T09:44:33.939184",
     "exception": false,
     "start_time": "2021-08-29T09:44:28.636720",
     "status": "completed"
    },
    "tags": []
   },
   "outputs": [
    {
     "data": {
      "text/html": [
       "        <script type=\"text/javascript\">\n",
       "        window.PlotlyConfig = {MathJaxConfig: 'local'};\n",
       "        if (window.MathJax) {MathJax.Hub.Config({SVG: {font: \"STIX-Web\"}});}\n",
       "        if (typeof require !== 'undefined') {\n",
       "        require.undef(\"plotly\");\n",
       "        requirejs.config({\n",
       "            paths: {\n",
       "                'plotly': ['https://cdn.plot.ly/plotly-2.2.0.min']\n",
       "            }\n",
       "        });\n",
       "        require(['plotly'], function(Plotly) {\n",
       "            window._Plotly = Plotly;\n",
       "        });\n",
       "        }\n",
       "        </script>\n",
       "        "
      ]
     },
     "metadata": {},
     "output_type": "display_data"
    },
    {
     "name": "stderr",
     "output_type": "stream",
     "text": [
      "/opt/conda/lib/python3.7/site-packages/sklearn/utils/deprecation.py:143: FutureWarning:\n",
      "\n",
      "The sklearn.utils.testing module is  deprecated in version 0.22 and will be removed in version 0.24. The corresponding classes / functions should instead be imported from sklearn.utils. Anything that cannot be imported from sklearn.utils is now part of the private API.\n",
      "\n"
     ]
    }
   ],
   "source": [
    "import pandas as pd\n",
    "import matplotlib.pyplot as plt\n",
    "import seaborn as sns\n",
    "\n",
    "from pandas import plotting\n",
    "\n",
    "#plotly \n",
    "import plotly.offline as py\n",
    "import plotly.graph_objects as go\n",
    "from plotly.offline import init_notebook_mode, iplot\n",
    "from plotly import tools\n",
    "init_notebook_mode(connected=True)\n",
    "import plotly.figure_factory as ff\n",
    "import plotly.express as px\n",
    "\n",
    "from sklearn.preprocessing import StandardScaler\n",
    "\n",
    "from sklearn.linear_model import LogisticRegression\n",
    "from sklearn import preprocessing\n",
    "from sklearn import neighbors\n",
    "from sklearn.metrics import confusion_matrix,classification_report,precision_score\n",
    "from sklearn.model_selection import train_test_split\n",
    "\n",
    "import statsmodels.api as sm\n",
    "import statsmodels.formula.api as smf\n",
    "\n",
    "\n",
    "plt.style.use('fivethirtyeight')\n",
    "\n",
    "import warnings\n",
    "from sklearn.utils.testing import ignore_warnings\n",
    "from sklearn.exceptions import ConvergenceWarning"
   ]
  },
  {
   "cell_type": "code",
   "execution_count": 3,
   "id": "5fa74965",
   "metadata": {
    "execution": {
     "iopub.execute_input": "2021-08-29T09:44:34.199925Z",
     "iopub.status.busy": "2021-08-29T09:44:34.199113Z",
     "iopub.status.idle": "2021-08-29T09:44:34.265428Z",
     "shell.execute_reply": "2021-08-29T09:44:34.264661Z",
     "shell.execute_reply.started": "2021-08-29T09:37:23.666118Z"
    },
    "papermill": {
     "duration": 0.199589,
     "end_time": "2021-08-29T09:44:34.265598",
     "exception": false,
     "start_time": "2021-08-29T09:44:34.066009",
     "status": "completed"
    },
    "tags": []
   },
   "outputs": [
    {
     "data": {
      "text/html": [
       "<div>\n",
       "<style scoped>\n",
       "    .dataframe tbody tr th:only-of-type {\n",
       "        vertical-align: middle;\n",
       "    }\n",
       "\n",
       "    .dataframe tbody tr th {\n",
       "        vertical-align: top;\n",
       "    }\n",
       "\n",
       "    .dataframe thead th {\n",
       "        text-align: right;\n",
       "    }\n",
       "</style>\n",
       "<table border=\"1\" class=\"dataframe\">\n",
       "  <thead>\n",
       "    <tr style=\"text-align: right;\">\n",
       "      <th></th>\n",
       "      <th>id</th>\n",
       "      <th>diagnosis</th>\n",
       "      <th>radius_mean</th>\n",
       "      <th>texture_mean</th>\n",
       "      <th>perimeter_mean</th>\n",
       "      <th>area_mean</th>\n",
       "      <th>smoothness_mean</th>\n",
       "      <th>compactness_mean</th>\n",
       "      <th>concavity_mean</th>\n",
       "      <th>concave points_mean</th>\n",
       "      <th>...</th>\n",
       "      <th>texture_worst</th>\n",
       "      <th>perimeter_worst</th>\n",
       "      <th>area_worst</th>\n",
       "      <th>smoothness_worst</th>\n",
       "      <th>compactness_worst</th>\n",
       "      <th>concavity_worst</th>\n",
       "      <th>concave points_worst</th>\n",
       "      <th>symmetry_worst</th>\n",
       "      <th>fractal_dimension_worst</th>\n",
       "      <th>Unnamed: 32</th>\n",
       "    </tr>\n",
       "  </thead>\n",
       "  <tbody>\n",
       "    <tr>\n",
       "      <th>0</th>\n",
       "      <td>842302</td>\n",
       "      <td>M</td>\n",
       "      <td>17.99</td>\n",
       "      <td>10.38</td>\n",
       "      <td>122.80</td>\n",
       "      <td>1001.0</td>\n",
       "      <td>0.11840</td>\n",
       "      <td>0.27760</td>\n",
       "      <td>0.3001</td>\n",
       "      <td>0.14710</td>\n",
       "      <td>...</td>\n",
       "      <td>17.33</td>\n",
       "      <td>184.60</td>\n",
       "      <td>2019.0</td>\n",
       "      <td>0.1622</td>\n",
       "      <td>0.6656</td>\n",
       "      <td>0.7119</td>\n",
       "      <td>0.2654</td>\n",
       "      <td>0.4601</td>\n",
       "      <td>0.11890</td>\n",
       "      <td>NaN</td>\n",
       "    </tr>\n",
       "    <tr>\n",
       "      <th>1</th>\n",
       "      <td>842517</td>\n",
       "      <td>M</td>\n",
       "      <td>20.57</td>\n",
       "      <td>17.77</td>\n",
       "      <td>132.90</td>\n",
       "      <td>1326.0</td>\n",
       "      <td>0.08474</td>\n",
       "      <td>0.07864</td>\n",
       "      <td>0.0869</td>\n",
       "      <td>0.07017</td>\n",
       "      <td>...</td>\n",
       "      <td>23.41</td>\n",
       "      <td>158.80</td>\n",
       "      <td>1956.0</td>\n",
       "      <td>0.1238</td>\n",
       "      <td>0.1866</td>\n",
       "      <td>0.2416</td>\n",
       "      <td>0.1860</td>\n",
       "      <td>0.2750</td>\n",
       "      <td>0.08902</td>\n",
       "      <td>NaN</td>\n",
       "    </tr>\n",
       "    <tr>\n",
       "      <th>2</th>\n",
       "      <td>84300903</td>\n",
       "      <td>M</td>\n",
       "      <td>19.69</td>\n",
       "      <td>21.25</td>\n",
       "      <td>130.00</td>\n",
       "      <td>1203.0</td>\n",
       "      <td>0.10960</td>\n",
       "      <td>0.15990</td>\n",
       "      <td>0.1974</td>\n",
       "      <td>0.12790</td>\n",
       "      <td>...</td>\n",
       "      <td>25.53</td>\n",
       "      <td>152.50</td>\n",
       "      <td>1709.0</td>\n",
       "      <td>0.1444</td>\n",
       "      <td>0.4245</td>\n",
       "      <td>0.4504</td>\n",
       "      <td>0.2430</td>\n",
       "      <td>0.3613</td>\n",
       "      <td>0.08758</td>\n",
       "      <td>NaN</td>\n",
       "    </tr>\n",
       "    <tr>\n",
       "      <th>3</th>\n",
       "      <td>84348301</td>\n",
       "      <td>M</td>\n",
       "      <td>11.42</td>\n",
       "      <td>20.38</td>\n",
       "      <td>77.58</td>\n",
       "      <td>386.1</td>\n",
       "      <td>0.14250</td>\n",
       "      <td>0.28390</td>\n",
       "      <td>0.2414</td>\n",
       "      <td>0.10520</td>\n",
       "      <td>...</td>\n",
       "      <td>26.50</td>\n",
       "      <td>98.87</td>\n",
       "      <td>567.7</td>\n",
       "      <td>0.2098</td>\n",
       "      <td>0.8663</td>\n",
       "      <td>0.6869</td>\n",
       "      <td>0.2575</td>\n",
       "      <td>0.6638</td>\n",
       "      <td>0.17300</td>\n",
       "      <td>NaN</td>\n",
       "    </tr>\n",
       "    <tr>\n",
       "      <th>4</th>\n",
       "      <td>84358402</td>\n",
       "      <td>M</td>\n",
       "      <td>20.29</td>\n",
       "      <td>14.34</td>\n",
       "      <td>135.10</td>\n",
       "      <td>1297.0</td>\n",
       "      <td>0.10030</td>\n",
       "      <td>0.13280</td>\n",
       "      <td>0.1980</td>\n",
       "      <td>0.10430</td>\n",
       "      <td>...</td>\n",
       "      <td>16.67</td>\n",
       "      <td>152.20</td>\n",
       "      <td>1575.0</td>\n",
       "      <td>0.1374</td>\n",
       "      <td>0.2050</td>\n",
       "      <td>0.4000</td>\n",
       "      <td>0.1625</td>\n",
       "      <td>0.2364</td>\n",
       "      <td>0.07678</td>\n",
       "      <td>NaN</td>\n",
       "    </tr>\n",
       "  </tbody>\n",
       "</table>\n",
       "<p>5 rows × 33 columns</p>\n",
       "</div>"
      ],
      "text/plain": [
       "         id diagnosis  radius_mean  texture_mean  perimeter_mean  area_mean  \\\n",
       "0    842302         M        17.99         10.38          122.80     1001.0   \n",
       "1    842517         M        20.57         17.77          132.90     1326.0   \n",
       "2  84300903         M        19.69         21.25          130.00     1203.0   \n",
       "3  84348301         M        11.42         20.38           77.58      386.1   \n",
       "4  84358402         M        20.29         14.34          135.10     1297.0   \n",
       "\n",
       "   smoothness_mean  compactness_mean  concavity_mean  concave points_mean  \\\n",
       "0          0.11840           0.27760          0.3001              0.14710   \n",
       "1          0.08474           0.07864          0.0869              0.07017   \n",
       "2          0.10960           0.15990          0.1974              0.12790   \n",
       "3          0.14250           0.28390          0.2414              0.10520   \n",
       "4          0.10030           0.13280          0.1980              0.10430   \n",
       "\n",
       "   ...  texture_worst  perimeter_worst  area_worst  smoothness_worst  \\\n",
       "0  ...          17.33           184.60      2019.0            0.1622   \n",
       "1  ...          23.41           158.80      1956.0            0.1238   \n",
       "2  ...          25.53           152.50      1709.0            0.1444   \n",
       "3  ...          26.50            98.87       567.7            0.2098   \n",
       "4  ...          16.67           152.20      1575.0            0.1374   \n",
       "\n",
       "   compactness_worst  concavity_worst  concave points_worst  symmetry_worst  \\\n",
       "0             0.6656           0.7119                0.2654          0.4601   \n",
       "1             0.1866           0.2416                0.1860          0.2750   \n",
       "2             0.4245           0.4504                0.2430          0.3613   \n",
       "3             0.8663           0.6869                0.2575          0.6638   \n",
       "4             0.2050           0.4000                0.1625          0.2364   \n",
       "\n",
       "   fractal_dimension_worst  Unnamed: 32  \n",
       "0                  0.11890          NaN  \n",
       "1                  0.08902          NaN  \n",
       "2                  0.08758          NaN  \n",
       "3                  0.17300          NaN  \n",
       "4                  0.07678          NaN  \n",
       "\n",
       "[5 rows x 33 columns]"
      ]
     },
     "execution_count": 3,
     "metadata": {},
     "output_type": "execute_result"
    }
   ],
   "source": [
    "df=pd.read_csv('../input/breast-cancer-wisconsin-data/data.csv')\n",
    "df.head()"
   ]
  },
  {
   "cell_type": "code",
   "execution_count": 4,
   "id": "ee8c96b3",
   "metadata": {
    "execution": {
     "iopub.execute_input": "2021-08-29T09:44:34.538475Z",
     "iopub.status.busy": "2021-08-29T09:44:34.537091Z",
     "iopub.status.idle": "2021-08-29T09:44:34.541049Z",
     "shell.execute_reply": "2021-08-29T09:44:34.540467Z",
     "shell.execute_reply.started": "2021-08-29T09:37:23.735543Z"
    },
    "papermill": {
     "duration": 0.145828,
     "end_time": "2021-08-29T09:44:34.541222",
     "exception": false,
     "start_time": "2021-08-29T09:44:34.395394",
     "status": "completed"
    },
    "tags": []
   },
   "outputs": [],
   "source": [
    "df=df.drop('Unnamed: 32', axis=1)\n"
   ]
  },
  {
   "cell_type": "markdown",
   "id": "53d64833",
   "metadata": {
    "papermill": {
     "duration": 0.124641,
     "end_time": "2021-08-29T09:44:34.791426",
     "exception": false,
     "start_time": "2021-08-29T09:44:34.666785",
     "status": "completed"
    },
    "tags": []
   },
   "source": [
    "# Converting the categorical feature as into numerical\n",
    "* Malign- 1\n",
    "* Baning-0"
   ]
  },
  {
   "cell_type": "code",
   "execution_count": 5,
   "id": "cf06a803",
   "metadata": {
    "execution": {
     "iopub.execute_input": "2021-08-29T09:44:35.053240Z",
     "iopub.status.busy": "2021-08-29T09:44:35.052142Z",
     "iopub.status.idle": "2021-08-29T09:44:35.055521Z",
     "shell.execute_reply": "2021-08-29T09:44:35.054828Z",
     "shell.execute_reply.started": "2021-08-29T09:37:23.749680Z"
    },
    "papermill": {
     "duration": 0.137199,
     "end_time": "2021-08-29T09:44:35.055689",
     "exception": false,
     "start_time": "2021-08-29T09:44:34.918490",
     "status": "completed"
    },
    "tags": []
   },
   "outputs": [],
   "source": [
    "diagnosis={'M':1, 'B':0}\n",
    "df['diagnosis']=[diagnosis[x] for x in df['diagnosis']]"
   ]
  },
  {
   "cell_type": "markdown",
   "id": "a9f92fa5",
   "metadata": {
    "papermill": {
     "duration": 0.12622,
     "end_time": "2021-08-29T09:44:35.309521",
     "exception": false,
     "start_time": "2021-08-29T09:44:35.183301",
     "status": "completed"
    },
    "tags": []
   },
   "source": [
    "# Missing Value"
   ]
  },
  {
   "cell_type": "code",
   "execution_count": 6,
   "id": "5e7d539a",
   "metadata": {
    "execution": {
     "iopub.execute_input": "2021-08-29T09:44:35.584600Z",
     "iopub.status.busy": "2021-08-29T09:44:35.583668Z",
     "iopub.status.idle": "2021-08-29T09:44:35.587649Z",
     "shell.execute_reply": "2021-08-29T09:44:35.587118Z",
     "shell.execute_reply.started": "2021-08-29T09:37:23.768524Z"
    },
    "papermill": {
     "duration": 0.152182,
     "end_time": "2021-08-29T09:44:35.587843",
     "exception": false,
     "start_time": "2021-08-29T09:44:35.435661",
     "status": "completed"
    },
    "tags": []
   },
   "outputs": [
    {
     "data": {
      "text/html": [
       "<div>\n",
       "<style scoped>\n",
       "    .dataframe tbody tr th:only-of-type {\n",
       "        vertical-align: middle;\n",
       "    }\n",
       "\n",
       "    .dataframe tbody tr th {\n",
       "        vertical-align: top;\n",
       "    }\n",
       "\n",
       "    .dataframe thead th {\n",
       "        text-align: right;\n",
       "    }\n",
       "</style>\n",
       "<table border=\"1\" class=\"dataframe\">\n",
       "  <thead>\n",
       "    <tr style=\"text-align: right;\">\n",
       "      <th></th>\n",
       "      <th>id</th>\n",
       "      <th>diagnosis</th>\n",
       "      <th>radius_mean</th>\n",
       "      <th>texture_mean</th>\n",
       "      <th>perimeter_mean</th>\n",
       "      <th>area_mean</th>\n",
       "      <th>smoothness_mean</th>\n",
       "      <th>compactness_mean</th>\n",
       "      <th>concavity_mean</th>\n",
       "      <th>concave points_mean</th>\n",
       "      <th>...</th>\n",
       "      <th>radius_worst</th>\n",
       "      <th>texture_worst</th>\n",
       "      <th>perimeter_worst</th>\n",
       "      <th>area_worst</th>\n",
       "      <th>smoothness_worst</th>\n",
       "      <th>compactness_worst</th>\n",
       "      <th>concavity_worst</th>\n",
       "      <th>concave points_worst</th>\n",
       "      <th>symmetry_worst</th>\n",
       "      <th>fractal_dimension_worst</th>\n",
       "    </tr>\n",
       "  </thead>\n",
       "  <tbody>\n",
       "    <tr>\n",
       "      <th>df</th>\n",
       "      <td>0</td>\n",
       "      <td>0</td>\n",
       "      <td>0</td>\n",
       "      <td>0</td>\n",
       "      <td>0</td>\n",
       "      <td>0</td>\n",
       "      <td>0</td>\n",
       "      <td>0</td>\n",
       "      <td>0</td>\n",
       "      <td>0</td>\n",
       "      <td>...</td>\n",
       "      <td>0</td>\n",
       "      <td>0</td>\n",
       "      <td>0</td>\n",
       "      <td>0</td>\n",
       "      <td>0</td>\n",
       "      <td>0</td>\n",
       "      <td>0</td>\n",
       "      <td>0</td>\n",
       "      <td>0</td>\n",
       "      <td>0</td>\n",
       "    </tr>\n",
       "  </tbody>\n",
       "</table>\n",
       "<p>1 rows × 32 columns</p>\n",
       "</div>"
      ],
      "text/plain": [
       "    id  diagnosis  radius_mean  texture_mean  perimeter_mean  area_mean  \\\n",
       "df   0          0            0             0               0          0   \n",
       "\n",
       "    smoothness_mean  compactness_mean  concavity_mean  concave points_mean  \\\n",
       "df                0                 0               0                    0   \n",
       "\n",
       "    ...  radius_worst  texture_worst  perimeter_worst  area_worst  \\\n",
       "df  ...             0              0                0           0   \n",
       "\n",
       "    smoothness_worst  compactness_worst  concavity_worst  \\\n",
       "df                 0                  0                0   \n",
       "\n",
       "    concave points_worst  symmetry_worst  fractal_dimension_worst  \n",
       "df                     0               0                        0  \n",
       "\n",
       "[1 rows x 32 columns]"
      ]
     },
     "execution_count": 6,
     "metadata": {},
     "output_type": "execute_result"
    }
   ],
   "source": [
    "k= pd.DataFrame()\n",
    "k['df']= df.isnull().sum()\n",
    "k.T"
   ]
  },
  {
   "cell_type": "code",
   "execution_count": 7,
   "id": "78429c44",
   "metadata": {
    "execution": {
     "iopub.execute_input": "2021-08-29T09:44:35.850503Z",
     "iopub.status.busy": "2021-08-29T09:44:35.849787Z",
     "iopub.status.idle": "2021-08-29T09:44:35.869600Z",
     "shell.execute_reply": "2021-08-29T09:44:35.870163Z",
     "shell.execute_reply.started": "2021-08-29T09:37:23.801916Z"
    },
    "papermill": {
     "duration": 0.155276,
     "end_time": "2021-08-29T09:44:35.870381",
     "exception": false,
     "start_time": "2021-08-29T09:44:35.715105",
     "status": "completed"
    },
    "tags": []
   },
   "outputs": [
    {
     "name": "stdout",
     "output_type": "stream",
     "text": [
      "<class 'pandas.core.frame.DataFrame'>\n",
      "RangeIndex: 569 entries, 0 to 568\n",
      "Data columns (total 32 columns):\n",
      " #   Column                   Non-Null Count  Dtype  \n",
      "---  ------                   --------------  -----  \n",
      " 0   id                       569 non-null    int64  \n",
      " 1   diagnosis                569 non-null    int64  \n",
      " 2   radius_mean              569 non-null    float64\n",
      " 3   texture_mean             569 non-null    float64\n",
      " 4   perimeter_mean           569 non-null    float64\n",
      " 5   area_mean                569 non-null    float64\n",
      " 6   smoothness_mean          569 non-null    float64\n",
      " 7   compactness_mean         569 non-null    float64\n",
      " 8   concavity_mean           569 non-null    float64\n",
      " 9   concave points_mean      569 non-null    float64\n",
      " 10  symmetry_mean            569 non-null    float64\n",
      " 11  fractal_dimension_mean   569 non-null    float64\n",
      " 12  radius_se                569 non-null    float64\n",
      " 13  texture_se               569 non-null    float64\n",
      " 14  perimeter_se             569 non-null    float64\n",
      " 15  area_se                  569 non-null    float64\n",
      " 16  smoothness_se            569 non-null    float64\n",
      " 17  compactness_se           569 non-null    float64\n",
      " 18  concavity_se             569 non-null    float64\n",
      " 19  concave points_se        569 non-null    float64\n",
      " 20  symmetry_se              569 non-null    float64\n",
      " 21  fractal_dimension_se     569 non-null    float64\n",
      " 22  radius_worst             569 non-null    float64\n",
      " 23  texture_worst            569 non-null    float64\n",
      " 24  perimeter_worst          569 non-null    float64\n",
      " 25  area_worst               569 non-null    float64\n",
      " 26  smoothness_worst         569 non-null    float64\n",
      " 27  compactness_worst        569 non-null    float64\n",
      " 28  concavity_worst          569 non-null    float64\n",
      " 29  concave points_worst     569 non-null    float64\n",
      " 30  symmetry_worst           569 non-null    float64\n",
      " 31  fractal_dimension_worst  569 non-null    float64\n",
      "dtypes: float64(30), int64(2)\n",
      "memory usage: 142.4 KB\n"
     ]
    }
   ],
   "source": [
    "df.info()"
   ]
  },
  {
   "cell_type": "markdown",
   "id": "9188a9ae",
   "metadata": {
    "papermill": {
     "duration": 0.126903,
     "end_time": "2021-08-29T09:44:36.128520",
     "exception": false,
     "start_time": "2021-08-29T09:44:36.001617",
     "status": "completed"
    },
    "tags": []
   },
   "source": [
    "# Normality Test \n",
    "* use parametric or nonparametric statistical methods.\n",
    "* Parametric statistical methods assume that the data has a known and specific distribution, often a Gaussian distribution\n",
    "* If a data sample is not Gaussian, then the assumptions of parametric statistical tests are violated and nonparametric statistical methods must be used."
   ]
  },
  {
   "cell_type": "markdown",
   "id": "8bd5c761",
   "metadata": {
    "papermill": {
     "duration": 0.128541,
     "end_time": "2021-08-29T09:44:36.384634",
     "exception": false,
     "start_time": "2021-08-29T09:44:36.256093",
     "status": "completed"
    },
    "tags": []
   },
   "source": [
    "# Normality Assumption\n",
    "* A large fraction of the field of statistics is concerned with data that assumes that it was drawn from a Gaussian distribution.\n",
    "* If methods are used that assume a Gaussian distribution, and your data was drawn from a different distribution, the findings may be misleading or plain wrong\n",
    "If Data Is Gaussian:\n",
    "* Use Parametric Statistical Methods\n",
    "* Else:\n",
    "* Use Nonparametric Statistical Methods"
   ]
  },
  {
   "cell_type": "markdown",
   "id": "5f68eb9b",
   "metadata": {
    "papermill": {
     "duration": 0.126614,
     "end_time": "2021-08-29T09:44:36.638636",
     "exception": false,
     "start_time": "2021-08-29T09:44:36.512022",
     "status": "completed"
    },
    "tags": []
   },
   "source": [
    "# Histogram\n",
    "* the data is divided into a pre-specified number of groups called bins.\n"
   ]
  },
  {
   "cell_type": "code",
   "execution_count": 8,
   "id": "0035b5b8",
   "metadata": {
    "execution": {
     "iopub.execute_input": "2021-08-29T09:44:36.915410Z",
     "iopub.status.busy": "2021-08-29T09:44:36.914614Z",
     "iopub.status.idle": "2021-08-29T09:44:37.593835Z",
     "shell.execute_reply": "2021-08-29T09:44:37.592969Z",
     "shell.execute_reply.started": "2021-08-29T09:37:23.828432Z"
    },
    "papermill": {
     "duration": 0.828894,
     "end_time": "2021-08-29T09:44:37.594032",
     "exception": false,
     "start_time": "2021-08-29T09:44:36.765138",
     "status": "completed"
    },
    "tags": []
   },
   "outputs": [
    {
     "name": "stderr",
     "output_type": "stream",
     "text": [
      "/opt/conda/lib/python3.7/site-packages/seaborn/distributions.py:2557: FutureWarning:\n",
      "\n",
      "`distplot` is a deprecated function and will be removed in a future version. Please adapt your code to use either `displot` (a figure-level function with similar flexibility) or `histplot` (an axes-level function for histograms).\n",
      "\n"
     ]
    },
    {
     "data": {
      "text/plain": [
       "<AxesSubplot:xlabel='radius_mean', ylabel='Density'>"
      ]
     },
     "execution_count": 8,
     "metadata": {},
     "output_type": "execute_result"
    },
    {
     "data": {
      "image/png": "[encoded data removed]",
      "text/plain": [
       "<Figure size 432x288 with 1 Axes>"
      ]
     },
     "metadata": {},
     "output_type": "display_data"
    }
   ],
   "source": [
    "sns.distplot(df.radius_mean)"
   ]
  },
  {
   "cell_type": "code",
   "execution_count": 9,
   "id": "73760896",
   "metadata": {
    "execution": {
     "iopub.execute_input": "2021-08-29T09:44:37.934017Z",
     "iopub.status.busy": "2021-08-29T09:44:37.933026Z",
     "iopub.status.idle": "2021-08-29T09:44:37.937997Z",
     "shell.execute_reply": "2021-08-29T09:44:37.937296Z",
     "shell.execute_reply.started": "2021-08-29T09:37:24.382185Z"
    },
    "papermill": {
     "duration": 0.142008,
     "end_time": "2021-08-29T09:44:37.938169",
     "exception": false,
     "start_time": "2021-08-29T09:44:37.796161",
     "status": "completed"
    },
    "tags": []
   },
   "outputs": [
    {
     "data": {
      "text/plain": [
       "Index(['id', 'diagnosis', 'radius_mean', 'texture_mean', 'perimeter_mean',\n",
       "       'area_mean', 'smoothness_mean', 'compactness_mean', 'concavity_mean',\n",
       "       'concave points_mean', 'symmetry_mean', 'fractal_dimension_mean',\n",
       "       'radius_se', 'texture_se', 'perimeter_se', 'area_se', 'smoothness_se',\n",
       "       'compactness_se', 'concavity_se', 'concave points_se', 'symmetry_se',\n",
       "       'fractal_dimension_se', 'radius_worst', 'texture_worst',\n",
       "       'perimeter_worst', 'area_worst', 'smoothness_worst',\n",
       "       'compactness_worst', 'concavity_worst', 'concave points_worst',\n",
       "       'symmetry_worst', 'fractal_dimension_worst'],\n",
       "      dtype='object')"
      ]
     },
     "execution_count": 9,
     "metadata": {},
     "output_type": "execute_result"
    }
   ],
   "source": [
    "df.columns"
   ]
  },
  {
   "cell_type": "code",
   "execution_count": 10,
   "id": "d99c47ed",
   "metadata": {
    "execution": {
     "iopub.execute_input": "2021-08-29T09:44:38.209815Z",
     "iopub.status.busy": "2021-08-29T09:44:38.209103Z",
     "iopub.status.idle": "2021-08-29T09:44:38.212094Z",
     "shell.execute_reply": "2021-08-29T09:44:38.211537Z",
     "shell.execute_reply.started": "2021-08-29T09:37:24.389446Z"
    },
    "papermill": {
     "duration": 0.139181,
     "end_time": "2021-08-29T09:44:38.212270",
     "exception": false,
     "start_time": "2021-08-29T09:44:38.073089",
     "status": "completed"
    },
    "tags": []
   },
   "outputs": [],
   "source": [
    "col=['radius_mean', 'texture_mean', 'perimeter_mean',\n",
    "       'area_mean', 'smoothness_mean', 'compactness_mean', 'concavity_mean',\n",
    "       'concave points_mean', 'symmetry_mean', 'fractal_dimension_mean',\n",
    "       'radius_se', 'texture_se', 'perimeter_se', 'area_se', 'smoothness_se',\n",
    "       'compactness_se', 'concavity_se', 'concave points_se', 'symmetry_se',\n",
    "       'fractal_dimension_se', 'radius_worst', 'texture_worst',\n",
    "       'perimeter_worst', 'area_worst', 'smoothness_worst',\n",
    "       'compactness_worst', 'concavity_worst', 'concave points_worst',\n",
    "       'symmetry_worst', 'fractal_dimension_worst']"
   ]
  },
  {
   "cell_type": "markdown",
   "id": "a796f963",
   "metadata": {
    "papermill": {
     "duration": 0.130358,
     "end_time": "2021-08-29T09:44:38.473416",
     "exception": false,
     "start_time": "2021-08-29T09:44:38.343058",
     "status": "completed"
    },
    "tags": []
   },
   "source": [
    "# Subplot"
   ]
  },
  {
   "cell_type": "code",
   "execution_count": 11,
   "id": "155b8199",
   "metadata": {
    "execution": {
     "iopub.execute_input": "2021-08-29T09:44:38.773642Z",
     "iopub.status.busy": "2021-08-29T09:44:38.772662Z",
     "iopub.status.idle": "2021-08-29T09:44:44.695134Z",
     "shell.execute_reply": "2021-08-29T09:44:44.695741Z",
     "shell.execute_reply.started": "2021-08-29T09:37:24.401453Z"
    },
    "papermill": {
     "duration": 6.092621,
     "end_time": "2021-08-29T09:44:44.696109",
     "exception": true,
     "start_time": "2021-08-29T09:44:38.603488",
     "status": "failed"
    },
    "tags": []
   },
   "outputs": [
    {
     "ename": "ValueError",
     "evalue": "num must be 1 <= num <= 30, not 31",
     "output_type": "error",
     "traceback": [
      "\u001b[0;31m---------------------------------------------------------------------------\u001b[0m",
      "\u001b[0;31mValueError\u001b[0m                                Traceback (most recent call last)",
      "\u001b[0;32m<ipython-input-11-af9921413735>\u001b[0m in \u001b[0;36m<module>\u001b[0;34m\u001b[0m\n\u001b[1;32m      8\u001b[0m \u001b[0;34m\u001b[0m\u001b[0m\n\u001b[1;32m      9\u001b[0m \u001b[0;32mfor\u001b[0m \u001b[0mi\u001b[0m \u001b[0;32min\u001b[0m \u001b[0mcol\u001b[0m\u001b[0;34m:\u001b[0m\u001b[0;34m\u001b[0m\u001b[0;34m\u001b[0m\u001b[0m\n\u001b[0;32m---> 10\u001b[0;31m     \u001b[0mplt\u001b[0m\u001b[0;34m.\u001b[0m\u001b[0msubplot\u001b[0m\u001b[0;34m(\u001b[0m\u001b[0ma\u001b[0m\u001b[0;34m,\u001b[0m \u001b[0mb\u001b[0m\u001b[0;34m,\u001b[0m \u001b[0mc\u001b[0m \u001b[0;34m)\u001b[0m\u001b[0;34m\u001b[0m\u001b[0;34m\u001b[0m\u001b[0m\n\u001b[0m\u001b[1;32m     11\u001b[0m    \u001b[0;31m# plt.title('{} (dist), subplot: {}{}{}'.format(i, a, b, c))\u001b[0m\u001b[0;34m\u001b[0m\u001b[0;34m\u001b[0m\u001b[0;34m\u001b[0m\u001b[0m\n\u001b[1;32m     12\u001b[0m     \u001b[0mplt\u001b[0m\u001b[0;34m.\u001b[0m\u001b[0mxlabel\u001b[0m\u001b[0;34m(\u001b[0m\u001b[0mi\u001b[0m\u001b[0;34m,\u001b[0m \u001b[0mfontsize\u001b[0m\u001b[0;34m=\u001b[0m\u001b[0;36m10\u001b[0m\u001b[0;34m)\u001b[0m\u001b[0;34m\u001b[0m\u001b[0;34m\u001b[0m\u001b[0m\n",
      "\u001b[0;32m/opt/conda/lib/python3.7/site-packages/matplotlib/pyplot.py\u001b[0m in \u001b[0;36msubplot\u001b[0;34m(*args, **kwargs)\u001b[0m\n\u001b[1;32m   1270\u001b[0m \u001b[0;34m\u001b[0m\u001b[0m\n\u001b[1;32m   1271\u001b[0m     \u001b[0;31m# First, search for an existing subplot with a matching spec.\u001b[0m\u001b[0;34m\u001b[0m\u001b[0;34m\u001b[0m\u001b[0;34m\u001b[0m\u001b[0m\n\u001b[0;32m-> 1272\u001b[0;31m     \u001b[0mkey\u001b[0m \u001b[0;34m=\u001b[0m \u001b[0mSubplotSpec\u001b[0m\u001b[0;34m.\u001b[0m\u001b[0m_from_subplot_args\u001b[0m\u001b[0;34m(\u001b[0m\u001b[0mfig\u001b[0m\u001b[0;34m,\u001b[0m \u001b[0margs\u001b[0m\u001b[0;34m)\u001b[0m\u001b[0;34m\u001b[0m\u001b[0;34m\u001b[0m\u001b[0m\n\u001b[0m\u001b[1;32m   1273\u001b[0m \u001b[0;34m\u001b[0m\u001b[0m\n\u001b[1;32m   1274\u001b[0m     \u001b[0;32mfor\u001b[0m \u001b[0max\u001b[0m \u001b[0;32min\u001b[0m \u001b[0mfig\u001b[0m\u001b[0;34m.\u001b[0m\u001b[0maxes\u001b[0m\u001b[0;34m:\u001b[0m\u001b[0;34m\u001b[0m\u001b[0;34m\u001b[0m\u001b[0m\n",
      "\u001b[0;32m/opt/conda/lib/python3.7/site-packages/matplotlib/gridspec.py\u001b[0m in \u001b[0;36m_from_subplot_args\u001b[0;34m(figure, args)\u001b[0m\n\u001b[1;32m    652\u001b[0m                 \u001b[0;32mif\u001b[0m \u001b[0mnum\u001b[0m \u001b[0;34m<\u001b[0m \u001b[0;36m1\u001b[0m \u001b[0;32mor\u001b[0m \u001b[0mnum\u001b[0m \u001b[0;34m>\u001b[0m \u001b[0mrows\u001b[0m\u001b[0;34m*\u001b[0m\u001b[0mcols\u001b[0m\u001b[0;34m:\u001b[0m\u001b[0;34m\u001b[0m\u001b[0;34m\u001b[0m\u001b[0m\n\u001b[1;32m    653\u001b[0m                     raise ValueError(\n\u001b[0;32m--> 654\u001b[0;31m                         f\"num must be 1 <= num <= {rows*cols}, not {num}\")\n\u001b[0m\u001b[1;32m    655\u001b[0m                 \u001b[0mi\u001b[0m \u001b[0;34m=\u001b[0m \u001b[0mj\u001b[0m \u001b[0;34m=\u001b[0m \u001b[0mnum\u001b[0m\u001b[0;34m\u001b[0m\u001b[0;34m\u001b[0m\u001b[0m\n\u001b[1;32m    656\u001b[0m         \u001b[0;32melse\u001b[0m\u001b[0;34m:\u001b[0m\u001b[0;34m\u001b[0m\u001b[0;34m\u001b[0m\u001b[0m\n",
      "\u001b[0;31mValueError\u001b[0m: num must be 1 <= num <= 30, not 31"
     ]
    },
    {
     "data": {
      "image/png": "[encoded data removed]",
      "text/plain": [
       "<Figure size 1008x1584 with 30 Axes>"
      ]
     },
     "metadata": {},
     "output_type": "display_data"
    }
   ],
   "source": [
    "\n",
    "#  plot Numerical Data\n",
    "a = 6  # number of rows\n",
    "b = 5  # number of columns\n",
    "c = 1  # initialize plot counter\n",
    "\n",
    "fig = plt.figure(figsize=(14,22))\n",
    "\n",
    "\n",
    "for i in col:\n",
    "    plt.subplot(a, b, c )\n",
    "   # plt.title('{} (dist), subplot: {}{}{}'.format(i, a, b, c))\n",
    "    plt.xlabel(i, fontsize=10)\n",
    "    sns.histplot(df[i])\n",
    "    c = c + 1\n",
    "\n",
    "    plt.subplot(a, b, c)\n",
    "   # plt.title('{} (box), subplot: {}{}{}'.format(i, a, b, c))\n",
    "    plt.xlabel(i, fontsize=10)\n",
    "    sns.histplot( df[i])\n",
    "    c = c + 1\n",
    "\n",
    "    plt.subplot(a, b, c)\n",
    "   # plt.title('{} (scatter), subplot: {}{}{}'.format(i, a, b, c))\n",
    "    plt.xlabel(i, fontsize=12)\n",
    "    sns.histplot(df[i])\n",
    "    c = c + 1\n",
    "\n",
    "plt.show()"
   ]
  },
  {
   "cell_type": "markdown",
   "id": "039449a0",
   "metadata": {
    "papermill": {
     "duration": null,
     "end_time": null,
     "exception": null,
     "start_time": null,
     "status": "pending"
    },
    "tags": []
   },
   "source": [
    "# Deviding the dataset \n",
    "* When Diagnosi is M=1\n",
    "* b=0"
   ]
  },
  {
   "cell_type": "code",
   "execution_count": null,
   "id": "3662c21d",
   "metadata": {
    "execution": {
     "iopub.execute_input": "2021-08-29T09:37:42.322361Z",
     "iopub.status.busy": "2021-08-29T09:37:42.322049Z",
     "iopub.status.idle": "2021-08-29T09:37:42.328585Z",
     "shell.execute_reply": "2021-08-29T09:37:42.327514Z",
     "shell.execute_reply.started": "2021-08-29T09:37:42.322335Z"
    },
    "papermill": {
     "duration": null,
     "end_time": null,
     "exception": null,
     "start_time": null,
     "status": "pending"
    },
    "tags": []
   },
   "outputs": [],
   "source": [
    "df.columns"
   ]
  },
  {
   "cell_type": "markdown",
   "id": "e21619d0",
   "metadata": {
    "papermill": {
     "duration": null,
     "end_time": null,
     "exception": null,
     "start_time": null,
     "status": "pending"
    },
    "tags": []
   },
   "source": [
    "# Slicing the Dataset:\n",
    "* To separate your data into subgroups and look at the values of your metrics in those subgroups separately.\n",
    "* To see the trends individual analysins"
   ]
  },
  {
   "cell_type": "code",
   "execution_count": null,
   "id": "de0e1a48",
   "metadata": {
    "execution": {
     "iopub.execute_input": "2021-08-29T09:37:45.157343Z",
     "iopub.status.busy": "2021-08-29T09:37:45.157019Z",
     "iopub.status.idle": "2021-08-29T09:37:45.164388Z",
     "shell.execute_reply": "2021-08-29T09:37:45.163432Z",
     "shell.execute_reply.started": "2021-08-29T09:37:45.157315Z"
    },
    "papermill": {
     "duration": null,
     "end_time": null,
     "exception": null,
     "start_time": null,
     "status": "pending"
    },
    "tags": []
   },
   "outputs": [],
   "source": [
    "df_m=df[df['diagnosis']==1]\n",
    "df_b=df[df['diagnosis']==0]"
   ]
  },
  {
   "cell_type": "markdown",
   "id": "8c067c19",
   "metadata": {
    "papermill": {
     "duration": null,
     "end_time": null,
     "exception": null,
     "start_time": null,
     "status": "pending"
    },
    "tags": []
   },
   "source": [
    "# Shape of the each sliced dataset\n"
   ]
  },
  {
   "cell_type": "code",
   "execution_count": null,
   "id": "e6973c23",
   "metadata": {
    "execution": {
     "iopub.execute_input": "2021-08-29T09:37:48.238812Z",
     "iopub.status.busy": "2021-08-29T09:37:48.238456Z",
     "iopub.status.idle": "2021-08-29T09:37:48.244097Z",
     "shell.execute_reply": "2021-08-29T09:37:48.243380Z",
     "shell.execute_reply.started": "2021-08-29T09:37:48.238768Z"
    },
    "papermill": {
     "duration": null,
     "end_time": null,
     "exception": null,
     "start_time": null,
     "status": "pending"
    },
    "tags": []
   },
   "outputs": [],
   "source": [
    "df_m.shape, df_b.shape"
   ]
  },
  {
   "cell_type": "code",
   "execution_count": null,
   "id": "8f2f06b8",
   "metadata": {
    "execution": {
     "iopub.status.busy": "2021-08-29T09:37:29.746504Z",
     "iopub.status.idle": "2021-08-29T09:37:29.746901Z"
    },
    "papermill": {
     "duration": null,
     "end_time": null,
     "exception": null,
     "start_time": null,
     "status": "pending"
    },
    "tags": []
   },
   "outputs": [],
   "source": [
    "#  plot Numerical Data\n",
    "a = 6  # number of rows\n",
    "b = 5  # number of columns\n",
    "c = 1  # initialize plot counter\n",
    "\n",
    "fig = plt.figure(figsize=(14,22))\n",
    "\n",
    "\n",
    "for i in col:\n",
    "    plt.subplot(a, b, c )\n",
    "   # plt.title('{} (dist), subplot: {}{}{}'.format(i, a, b, c))\n",
    "    plt.xlabel(i, fontsize=10)\n",
    "    sns.histplot(df_m[i])\n",
    "    c = c + 1\n",
    "\n",
    "    plt.subplot(a, b, c)\n",
    "   # plt.title('{} (box), subplot: {}{}{}'.format(i, a, b, c))\n",
    "    plt.xlabel(i, fontsize=10)\n",
    "    sns.histplot( df_m[i])\n",
    "    c = c + 1\n",
    "\n",
    "    plt.subplot(a, b, c)\n",
    "   # plt.title('{} (scatter), subplot: {}{}{}'.format(i, a, b, c))\n",
    "    plt.xlabel(i, fontsize=12)\n",
    "    sns.histplot(df_m[i])\n",
    "    c = c + 1\n",
    "\n",
    "plt.show()"
   ]
  },
  {
   "cell_type": "code",
   "execution_count": null,
   "id": "abdb18fe",
   "metadata": {
    "execution": {
     "iopub.status.busy": "2021-08-29T09:37:29.747656Z",
     "iopub.status.idle": "2021-08-29T09:37:29.748076Z"
    },
    "papermill": {
     "duration": null,
     "end_time": null,
     "exception": null,
     "start_time": null,
     "status": "pending"
    },
    "tags": []
   },
   "outputs": [],
   "source": [
    "#  plot Numerical Data\n",
    "a = 6  # number of rows\n",
    "b = 5  # number of columns\n",
    "c = 1  # initialize plot counter\n",
    "\n",
    "fig = plt.figure(figsize=(14,22))\n",
    "\n",
    "\n",
    "for i in col:\n",
    "    plt.subplot(a, b, c)\n",
    "   # plt.title('{} (dist), subplot: {}{}{}'.format(i, a, b, c))\n",
    "    plt.xlabel(i, fontsize=10)\n",
    "    sns.histplot(df_b[i])\n",
    "    c = c + 1\n",
    "\n",
    "    plt.subplot(a, b, c)\n",
    "   # plt.title('{} (box), subplot: {}{}{}'.format(i, a, b, c))\n",
    "    plt.xlabel(i, fontsize=10)\n",
    "    sns.histplot( df_b[i])\n",
    "    c = c + 1\n",
    "\n",
    "    plt.subplot(a, b, c)\n",
    "   # plt.title('{} (scatter), subplot: {}{}{}'.format(i, a, b, c))\n",
    "    plt.xlabel(i, fontsize=12)\n",
    "    sns.histplot(df_b[i])\n",
    "    c = c + 1\n",
    "\n",
    "plt.show()"
   ]
  },
  {
   "cell_type": "code",
   "execution_count": null,
   "id": "b971309c",
   "metadata": {
    "execution": {
     "iopub.execute_input": "2021-08-29T09:37:59.385097Z",
     "iopub.status.busy": "2021-08-29T09:37:59.384649Z",
     "iopub.status.idle": "2021-08-29T09:38:08.018285Z",
     "shell.execute_reply": "2021-08-29T09:38:08.017378Z",
     "shell.execute_reply.started": "2021-08-29T09:37:59.385070Z"
    },
    "papermill": {
     "duration": null,
     "end_time": null,
     "exception": null,
     "start_time": null,
     "status": "pending"
    },
    "tags": []
   },
   "outputs": [],
   "source": [
    "fig = plt.figure(figsize=(12,6))\n",
    "\n",
    "plt.subplot(211)   #  subplot 1 - female\n",
    "plt.title('Malignant.corr(),  subplot: 121')\n",
    "sns.heatmap(df_m.corr(), annot=True, fmt='.2f', square=True, cmap = 'Reds_r')\n",
    "\n",
    "plt.subplot(212)   #  subplot 2 - male\n",
    "plt.title('Banign.corr(),  subplot: 122')\n",
    "sns.heatmap(df_b.corr(), annot=True, fmt='.2f', square=True, cmap = 'Blues_r')\n",
    "\n",
    "plt.show()"
   ]
  },
  {
   "cell_type": "code",
   "execution_count": null,
   "id": "878b067d",
   "metadata": {
    "execution": {
     "iopub.execute_input": "2021-08-29T09:38:19.035625Z",
     "iopub.status.busy": "2021-08-29T09:38:19.035240Z",
     "iopub.status.idle": "2021-08-29T09:38:19.596811Z",
     "shell.execute_reply": "2021-08-29T09:38:19.595853Z",
     "shell.execute_reply.started": "2021-08-29T09:38:19.035592Z"
    },
    "papermill": {
     "duration": null,
     "end_time": null,
     "exception": null,
     "start_time": null,
     "status": "pending"
    },
    "tags": []
   },
   "outputs": [],
   "source": [
    "plt.figure(figsize=(10, 15))\n",
    "plt.subplot(3,1,1)\n",
    "sns.histplot(df['radius_mean'])\n",
    "\n",
    "plt.subplot(3,1,2)\n",
    "sns.histplot(df_m['radius_mean'])\n",
    "\n",
    "plt.subplot(3,1,3)\n",
    "sns.histplot(df_b['radius_mean'])\n"
   ]
  },
  {
   "cell_type": "code",
   "execution_count": null,
   "id": "96d68f84",
   "metadata": {
    "execution": {
     "iopub.execute_input": "2021-08-29T09:38:20.502918Z",
     "iopub.status.busy": "2021-08-29T09:38:20.502569Z",
     "iopub.status.idle": "2021-08-29T09:38:20.993460Z",
     "shell.execute_reply": "2021-08-29T09:38:20.992528Z",
     "shell.execute_reply.started": "2021-08-29T09:38:20.502886Z"
    },
    "papermill": {
     "duration": null,
     "end_time": null,
     "exception": null,
     "start_time": null,
     "status": "pending"
    },
    "tags": []
   },
   "outputs": [],
   "source": [
    "plt.figure(figsize=(10, 15))\n",
    "plt.subplot(3,1,1)\n",
    "sns.kdeplot(df['radius_mean'], fill=True)\n",
    "\n",
    "plt.subplot(3,1,2)\n",
    "sns.kdeplot(df_m['radius_mean'], fill=True)\n",
    "\n",
    "plt.subplot(3,1,3)\n",
    "sns.kdeplot(df_b['radius_mean'], fill=True)\n"
   ]
  },
  {
   "cell_type": "code",
   "execution_count": null,
   "id": "3df7ad37",
   "metadata": {
    "execution": {
     "iopub.execute_input": "2021-08-29T09:38:22.006179Z",
     "iopub.status.busy": "2021-08-29T09:38:22.005764Z",
     "iopub.status.idle": "2021-08-29T09:38:22.515081Z",
     "shell.execute_reply": "2021-08-29T09:38:22.514001Z",
     "shell.execute_reply.started": "2021-08-29T09:38:22.006146Z"
    },
    "papermill": {
     "duration": null,
     "end_time": null,
     "exception": null,
     "start_time": null,
     "status": "pending"
    },
    "tags": []
   },
   "outputs": [],
   "source": [
    "plt.figure(figsize=(10, 15))\n",
    "plt.subplot(3,1,1)\n",
    "sns.kdeplot(df['area_mean'], fill=True)\n",
    "\n",
    "plt.subplot(3,1,2)\n",
    "sns.kdeplot(df_m['area_mean'], fill=True)\n",
    "\n",
    "plt.subplot(3,1,3)\n",
    "sns.kdeplot(df_b['area_mean'], fill=True)"
   ]
  },
  {
   "cell_type": "code",
   "execution_count": null,
   "id": "db598b2d",
   "metadata": {
    "execution": {
     "iopub.execute_input": "2021-08-29T09:38:23.518851Z",
     "iopub.status.busy": "2021-08-29T09:38:23.518483Z",
     "iopub.status.idle": "2021-08-29T09:38:36.490867Z",
     "shell.execute_reply": "2021-08-29T09:38:36.489844Z",
     "shell.execute_reply.started": "2021-08-29T09:38:23.518822Z"
    },
    "papermill": {
     "duration": null,
     "end_time": null,
     "exception": null,
     "start_time": null,
     "status": "pending"
    },
    "tags": []
   },
   "outputs": [],
   "source": [
    "for i in col:\n",
    "    plt.figure(figsize=(10, 15))\n",
    "    plt.subplot(3,3,1)\n",
    "    sns.kdeplot(df[i], fill=True)\n",
    "\n",
    "    plt.subplot(3,3,2)\n",
    "    sns.kdeplot(df_m[i], fill=True)\n",
    "\n",
    "    plt.subplot(3,3,3)\n",
    "    sns.kdeplot(df_b[i], fill=True)"
   ]
  },
  {
   "cell_type": "markdown",
   "id": "a1074fbb",
   "metadata": {
    "papermill": {
     "duration": null,
     "end_time": null,
     "exception": null,
     "start_time": null,
     "status": "pending"
    },
    "tags": []
   },
   "source": [
    "# Obs\n",
    "* It is hard t find the Sampson's paradox\n",
    "* We can see that most of the features follow Gaussian's Distribution\n",
    "* Concavity Mean, Concave Point Mean, Radius  SE -- These features donot follow the gaussian Distribution "
   ]
  },
  {
   "cell_type": "markdown",
   "id": "926d0c50",
   "metadata": {
    "papermill": {
     "duration": null,
     "end_time": null,
     "exception": null,
     "start_time": null,
     "status": "pending"
    },
    "tags": []
   },
   "source": [
    "# Q-Q plot\n",
    "* Another popular plot for checking the distribution of a data sample is the quantile-quantile plot, Q-Q plot, or QQ plot for short.\n",
    "*  it is a technique to compare whether two sets of sample points are from or they follow same distributions.\n",
    "* one distribution is know , we have to check for the other distribution\n",
    "* If the unknown sample of dataset follow given distribution, we will have a scatter plot, where data points will be in a straight line y = x.\n",
    "* he idea is to plot the quantile values of two distributions/samples and see\n",
    "*  if they make a straight line or not. If the quantiles of two sample sets are similar or in a better case, identical then sample set is from the same distribution.\n",
    "# The process of QQ plot \n",
    "* Arrange the datase in increasing order.\n",
    "* Caculate the percentiles for each increasig dataset\n",
    "* PLot those percentiles with the help of Scatter plot\n",
    "* Done"
   ]
  },
  {
   "cell_type": "markdown",
   "id": "5439e414",
   "metadata": {
    "papermill": {
     "duration": null,
     "end_time": null,
     "exception": null,
     "start_time": null,
     "status": "pending"
    },
    "tags": []
   },
   "source": [
    "# Let's plot Q-Q plot for these data points against the normal distribution"
   ]
  },
  {
   "cell_type": "code",
   "execution_count": null,
   "id": "6d4caa54",
   "metadata": {
    "execution": {
     "iopub.execute_input": "2021-08-29T09:38:41.785020Z",
     "iopub.status.busy": "2021-08-29T09:38:41.784673Z",
     "iopub.status.idle": "2021-08-29T09:38:41.931724Z",
     "shell.execute_reply": "2021-08-29T09:38:41.930738Z",
     "shell.execute_reply.started": "2021-08-29T09:38:41.784990Z"
    },
    "papermill": {
     "duration": null,
     "end_time": null,
     "exception": null,
     "start_time": null,
     "status": "pending"
    },
    "tags": []
   },
   "outputs": [],
   "source": [
    "import scipy.stats as stats\n",
    "stats.probplot(df['radius_mean'], dist=\"norm\", plot=plt)\n",
    "plt.show()"
   ]
  },
  {
   "cell_type": "code",
   "execution_count": null,
   "id": "b6282f65",
   "metadata": {
    "execution": {
     "iopub.execute_input": "2021-08-29T09:38:43.486985Z",
     "iopub.status.busy": "2021-08-29T09:38:43.486630Z",
     "iopub.status.idle": "2021-08-29T09:38:47.720223Z",
     "shell.execute_reply": "2021-08-29T09:38:47.719280Z",
     "shell.execute_reply.started": "2021-08-29T09:38:43.486956Z"
    },
    "papermill": {
     "duration": null,
     "end_time": null,
     "exception": null,
     "start_time": null,
     "status": "pending"
    },
    "tags": []
   },
   "outputs": [],
   "source": [
    "for i in col:\n",
    "    \n",
    "    stats.probplot(df[i], dist=\"norm\", plot=plt)\n",
    "    plt.title(i)\n",
    "    plt.show()"
   ]
  },
  {
   "cell_type": "markdown",
   "id": "d343f029",
   "metadata": {
    "papermill": {
     "duration": null,
     "end_time": null,
     "exception": null,
     "start_time": null,
     "status": "pending"
    },
    "tags": []
   },
   "source": [
    "# Obs\n",
    "* As we can see that QQ plot gives an better idea that which distribution follow the Normality distribution "
   ]
  },
  {
   "cell_type": "markdown",
   "id": "8d3a6293",
   "metadata": {
    "papermill": {
     "duration": null,
     "end_time": null,
     "exception": null,
     "start_time": null,
     "status": "pending"
    },
    "tags": []
   },
   "source": [
    "# Shapiro-Wilk Test\n",
    "* evaluates a data sample and quantifies how likely it is that the data was drawn from a Gaussian distribution\n",
    "* he Shapiro-Wilk test is believed to be a reliable test of normality, although there is some suggestion that the test may be suitable for smaller samples of data, e.g. thousands of observations or fewer.\n",
    "* The function returns both the W-statistic calculated by the test and the p-value."
   ]
  },
  {
   "cell_type": "code",
   "execution_count": null,
   "id": "110f5532",
   "metadata": {
    "execution": {
     "iopub.execute_input": "2021-08-29T09:38:54.654011Z",
     "iopub.status.busy": "2021-08-29T09:38:54.653634Z",
     "iopub.status.idle": "2021-08-29T09:38:54.658015Z",
     "shell.execute_reply": "2021-08-29T09:38:54.657088Z",
     "shell.execute_reply.started": "2021-08-29T09:38:54.653978Z"
    },
    "papermill": {
     "duration": null,
     "end_time": null,
     "exception": null,
     "start_time": null,
     "status": "pending"
    },
    "tags": []
   },
   "outputs": [],
   "source": [
    "from scipy.stats import shapiro\n"
   ]
  },
  {
   "cell_type": "code",
   "execution_count": null,
   "id": "f21a4453",
   "metadata": {
    "execution": {
     "iopub.execute_input": "2021-08-29T09:38:55.893586Z",
     "iopub.status.busy": "2021-08-29T09:38:55.893204Z",
     "iopub.status.idle": "2021-08-29T09:38:55.899657Z",
     "shell.execute_reply": "2021-08-29T09:38:55.898880Z",
     "shell.execute_reply.started": "2021-08-29T09:38:55.893552Z"
    },
    "papermill": {
     "duration": null,
     "end_time": null,
     "exception": null,
     "start_time": null,
     "status": "pending"
    },
    "tags": []
   },
   "outputs": [],
   "source": [
    "# normality test\n",
    "stat, p = shapiro(df['radius_mean'])\n",
    "print('Statistics=%.3f, p=%.3f' % (stat, p))\n",
    "# interpret\n",
    "alpha = 0.05\n",
    "if p > alpha:\n",
    "    print('Sample looks Gaussian (fail to reject H0)')\n",
    "else:\n",
    "    print('Sample does not look Gaussian (reject H0)')"
   ]
  },
  {
   "cell_type": "code",
   "execution_count": null,
   "id": "7b55d477",
   "metadata": {
    "execution": {
     "iopub.execute_input": "2021-08-29T09:38:57.172951Z",
     "iopub.status.busy": "2021-08-29T09:38:57.172476Z",
     "iopub.status.idle": "2021-08-29T09:38:57.247020Z",
     "shell.execute_reply": "2021-08-29T09:38:57.246219Z",
     "shell.execute_reply.started": "2021-08-29T09:38:57.172920Z"
    },
    "papermill": {
     "duration": null,
     "end_time": null,
     "exception": null,
     "start_time": null,
     "status": "pending"
    },
    "tags": []
   },
   "outputs": [],
   "source": [
    "cor_df=pd.DataFrame(columns=['W','p-value'])\n",
    "for col in df:\n",
    "   # print(col)\n",
    "    if pd.api.types.is_numeric_dtype(df[col]):\n",
    "        w, p=shapiro(df[col])\n",
    "        cor_df.loc[col]=[w, p]\n",
    "cor_df"
   ]
  },
  {
   "cell_type": "code",
   "execution_count": null,
   "id": "75ee73ea",
   "metadata": {
    "execution": {
     "iopub.execute_input": "2021-08-29T09:38:58.472633Z",
     "iopub.status.busy": "2021-08-29T09:38:58.472168Z",
     "iopub.status.idle": "2021-08-29T09:38:58.478001Z",
     "shell.execute_reply": "2021-08-29T09:38:58.477170Z",
     "shell.execute_reply.started": "2021-08-29T09:38:58.472604Z"
    },
    "papermill": {
     "duration": null,
     "end_time": null,
     "exception": null,
     "start_time": null,
     "status": "pending"
    },
    "tags": []
   },
   "outputs": [],
   "source": [
    "alpha=0.05\n",
    "cor_df[\"p-a\"]=cor_df['p-value']-alpha"
   ]
  },
  {
   "cell_type": "code",
   "execution_count": null,
   "id": "32b6f15a",
   "metadata": {
    "execution": {
     "iopub.execute_input": "2021-08-29T09:38:59.566734Z",
     "iopub.status.busy": "2021-08-29T09:38:59.566339Z",
     "iopub.status.idle": "2021-08-29T09:38:59.575336Z",
     "shell.execute_reply": "2021-08-29T09:38:59.574304Z",
     "shell.execute_reply.started": "2021-08-29T09:38:59.566702Z"
    },
    "papermill": {
     "duration": null,
     "end_time": null,
     "exception": null,
     "start_time": null,
     "status": "pending"
    },
    "tags": []
   },
   "outputs": [],
   "source": [
    "for i in cor_df['p-value']:\n",
    "    if i >alpha:\n",
    "        print(\"Hypotheis is True\")\n",
    "    else:\n",
    "        print(\"Hypotheis is not true\")"
   ]
  },
  {
   "cell_type": "markdown",
   "id": "e784d141",
   "metadata": {
    "papermill": {
     "duration": null,
     "end_time": null,
     "exception": null,
     "start_time": null,
     "status": "pending"
    },
    "tags": []
   },
   "source": [
    "# OBS\n",
    "* It is observed that using this test\n",
    "* none of the features follow gaussian distribution\n",
    "* we use some other test "
   ]
  },
  {
   "cell_type": "markdown",
   "id": "f2f599f2",
   "metadata": {
    "papermill": {
     "duration": null,
     "end_time": null,
     "exception": null,
     "start_time": null,
     "status": "pending"
    },
    "tags": []
   },
   "source": [
    "# Performing the same test to the sliced dataset"
   ]
  },
  {
   "cell_type": "code",
   "execution_count": null,
   "id": "96d9610b",
   "metadata": {
    "execution": {
     "iopub.execute_input": "2021-08-29T09:39:02.393554Z",
     "iopub.status.busy": "2021-08-29T09:39:02.393176Z",
     "iopub.status.idle": "2021-08-29T09:39:02.398924Z",
     "shell.execute_reply": "2021-08-29T09:39:02.397770Z",
     "shell.execute_reply.started": "2021-08-29T09:39:02.393525Z"
    },
    "papermill": {
     "duration": null,
     "end_time": null,
     "exception": null,
     "start_time": null,
     "status": "pending"
    },
    "tags": []
   },
   "outputs": [],
   "source": [
    "col=['radius_mean', 'texture_mean', 'perimeter_mean',\n",
    "       'area_mean', 'smoothness_mean', 'compactness_mean', 'concavity_mean',\n",
    "       'concave points_mean', 'symmetry_mean', 'fractal_dimension_mean',\n",
    "       'radius_se', 'texture_se', 'perimeter_se', 'area_se', 'smoothness_se',\n",
    "       'compactness_se', 'concavity_se', 'concave points_se', 'symmetry_se',\n",
    "       'fractal_dimension_se', 'radius_worst', 'texture_worst',\n",
    "       'perimeter_worst', 'area_worst', 'smoothness_worst',\n",
    "       'compactness_worst', 'concavity_worst', 'concave points_worst',\n",
    "       'symmetry_worst', 'fractal_dimension_worst']"
   ]
  },
  {
   "cell_type": "code",
   "execution_count": null,
   "id": "d557f8f3",
   "metadata": {
    "execution": {
     "iopub.execute_input": "2021-08-29T09:39:04.040277Z",
     "iopub.status.busy": "2021-08-29T09:39:04.039557Z",
     "iopub.status.idle": "2021-08-29T09:39:08.570076Z",
     "shell.execute_reply": "2021-08-29T09:39:08.569405Z",
     "shell.execute_reply.started": "2021-08-29T09:39:04.040241Z"
    },
    "papermill": {
     "duration": null,
     "end_time": null,
     "exception": null,
     "start_time": null,
     "status": "pending"
    },
    "tags": []
   },
   "outputs": [],
   "source": [
    "for i in col:\n",
    "    stats.probplot(df_m[i], dist=\"norm\", plot=plt)\n",
    "    plt.title(i)\n",
    "    plt.show()"
   ]
  },
  {
   "cell_type": "code",
   "execution_count": null,
   "id": "1af39890",
   "metadata": {
    "execution": {
     "iopub.execute_input": "2021-08-29T09:39:08.571317Z",
     "iopub.status.busy": "2021-08-29T09:39:08.571110Z",
     "iopub.status.idle": "2021-08-29T09:39:12.781394Z",
     "shell.execute_reply": "2021-08-29T09:39:12.780586Z",
     "shell.execute_reply.started": "2021-08-29T09:39:08.571295Z"
    },
    "papermill": {
     "duration": null,
     "end_time": null,
     "exception": null,
     "start_time": null,
     "status": "pending"
    },
    "tags": []
   },
   "outputs": [],
   "source": [
    "for i in col:\n",
    "    stats.probplot(df_b[i], dist=\"norm\", plot=plt)\n",
    "    plt.title(i)\n",
    "    plt.show()"
   ]
  },
  {
   "cell_type": "markdown",
   "id": "4445626b",
   "metadata": {
    "papermill": {
     "duration": null,
     "end_time": null,
     "exception": null,
     "start_time": null,
     "status": "pending"
    },
    "tags": []
   },
   "source": [
    "# Obs\n",
    "* As we have observed that we have seen that some of the features donot follow the Gaussian \n",
    "* Those features are Perimeter_se, smoothness_se, compatness_se, concavity, fractal_dimension_se, compactness_worst, fractal_dimension_worst"
   ]
  },
  {
   "cell_type": "markdown",
   "id": "d9d170e9",
   "metadata": {
    "papermill": {
     "duration": null,
     "end_time": null,
     "exception": null,
     "start_time": null,
     "status": "pending"
    },
    "tags": []
   },
   "source": [
    "# Shapiro-Wilk Test"
   ]
  },
  {
   "cell_type": "code",
   "execution_count": null,
   "id": "41603129",
   "metadata": {
    "execution": {
     "iopub.execute_input": "2021-08-29T09:39:20.007391Z",
     "iopub.status.busy": "2021-08-29T09:39:20.007053Z",
     "iopub.status.idle": "2021-08-29T09:39:20.085685Z",
     "shell.execute_reply": "2021-08-29T09:39:20.084817Z",
     "shell.execute_reply.started": "2021-08-29T09:39:20.007354Z"
    },
    "papermill": {
     "duration": null,
     "end_time": null,
     "exception": null,
     "start_time": null,
     "status": "pending"
    },
    "tags": []
   },
   "outputs": [],
   "source": [
    "cor_df_m=pd.DataFrame(columns=['W','p-value'])\n",
    "for col in df_m:\n",
    "   # print(col)\n",
    "    if pd.api.types.is_numeric_dtype(df_m[col]):\n",
    "        w, p=shapiro(df_m[col])\n",
    "        cor_df_m.loc[col]=[w, p]\n",
    "cor_df_m"
   ]
  },
  {
   "cell_type": "code",
   "execution_count": null,
   "id": "0e013db7",
   "metadata": {
    "execution": {
     "iopub.execute_input": "2021-08-29T09:39:26.122074Z",
     "iopub.status.busy": "2021-08-29T09:39:26.121722Z",
     "iopub.status.idle": "2021-08-29T09:39:26.130388Z",
     "shell.execute_reply": "2021-08-29T09:39:26.129603Z",
     "shell.execute_reply.started": "2021-08-29T09:39:26.122044Z"
    },
    "papermill": {
     "duration": null,
     "end_time": null,
     "exception": null,
     "start_time": null,
     "status": "pending"
    },
    "tags": []
   },
   "outputs": [],
   "source": [
    "for i in cor_df_m['p-value']:\n",
    "    if i >alpha:\n",
    "        print(\"Hypotheis is True\")\n",
    "    else:\n",
    "        print(\"Hypotheis is not true\")\n",
    "        "
   ]
  },
  {
   "cell_type": "markdown",
   "id": "2e60a29e",
   "metadata": {
    "papermill": {
     "duration": null,
     "end_time": null,
     "exception": null,
     "start_time": null,
     "status": "pending"
    },
    "tags": []
   },
   "source": [
    "# Obs\n",
    "* AS we can see that radius_mean and concave points_worst follow the gaussian distribution and rest donot"
   ]
  },
  {
   "cell_type": "code",
   "execution_count": null,
   "id": "f7737f65",
   "metadata": {
    "execution": {
     "iopub.execute_input": "2021-08-29T09:39:31.930444Z",
     "iopub.status.busy": "2021-08-29T09:39:31.930078Z",
     "iopub.status.idle": "2021-08-29T09:39:32.005513Z",
     "shell.execute_reply": "2021-08-29T09:39:32.004544Z",
     "shell.execute_reply.started": "2021-08-29T09:39:31.930416Z"
    },
    "papermill": {
     "duration": null,
     "end_time": null,
     "exception": null,
     "start_time": null,
     "status": "pending"
    },
    "tags": []
   },
   "outputs": [],
   "source": [
    "cor_df_b=pd.DataFrame(columns=['W','p-value'])\n",
    "for col in df_b:\n",
    "   # print(col)\n",
    "    if pd.api.types.is_numeric_dtype(df_b[col]):\n",
    "        w, p=shapiro(df_b[col])\n",
    "        cor_df_b.loc[col]=[w, p]\n",
    "cor_df_b"
   ]
  },
  {
   "cell_type": "code",
   "execution_count": null,
   "id": "fb9dc873",
   "metadata": {
    "execution": {
     "iopub.execute_input": "2021-08-29T09:39:33.430547Z",
     "iopub.status.busy": "2021-08-29T09:39:33.430229Z",
     "iopub.status.idle": "2021-08-29T09:39:33.438368Z",
     "shell.execute_reply": "2021-08-29T09:39:33.436905Z",
     "shell.execute_reply.started": "2021-08-29T09:39:33.430520Z"
    },
    "papermill": {
     "duration": null,
     "end_time": null,
     "exception": null,
     "start_time": null,
     "status": "pending"
    },
    "tags": []
   },
   "outputs": [],
   "source": [
    "for i in cor_df_b['p-value']:\n",
    "    if i >alpha:\n",
    "        print(\"Hypotheis is True\")\n",
    "    else:\n",
    "        print(\"Hypotheis is not true\")"
   ]
  },
  {
   "cell_type": "markdown",
   "id": "27b928a0",
   "metadata": {
    "papermill": {
     "duration": null,
     "end_time": null,
     "exception": null,
     "start_time": null,
     "status": "pending"
    },
    "tags": []
   },
   "source": [
    "# Obs\n",
    "* radius_mean, texture_mean, perimeter_mean, symmetry_worst, perimeter_worst, radius_worst --these features follow the Guassian Distributon."
   ]
  },
  {
   "cell_type": "code",
   "execution_count": null,
   "id": "bed16575",
   "metadata": {
    "execution": {
     "iopub.execute_input": "2021-08-29T09:39:35.737208Z",
     "iopub.status.busy": "2021-08-29T09:39:35.736889Z",
     "iopub.status.idle": "2021-08-29T09:39:35.743021Z",
     "shell.execute_reply": "2021-08-29T09:39:35.741906Z",
     "shell.execute_reply.started": "2021-08-29T09:39:35.737180Z"
    },
    "papermill": {
     "duration": null,
     "end_time": null,
     "exception": null,
     "start_time": null,
     "status": "pending"
    },
    "tags": []
   },
   "outputs": [],
   "source": [
    "col=['radius_mean', 'texture_mean', 'perimeter_mean',\n",
    "        'smoothness_mean', \n",
    "        'symmetry_mean', 'fractal_dimension_mean',\n",
    "       'radius_se', 'texture_se', 'perimeter_se', 'smoothness_se',\n",
    "        'concavity_se', 'concave points_se', 'symmetry_se',\n",
    "       'fractal_dimension_se', 'radius_worst', 'texture_worst',\n",
    "       'perimeter_worst', 'area_worst', 'smoothness_worst',\n",
    "        'concavity_worst', 'concave points_worst',\n",
    "       'symmetry_worst', 'fractal_dimension_worst']"
   ]
  },
  {
   "cell_type": "markdown",
   "id": "7fe788b3",
   "metadata": {
    "papermill": {
     "duration": null,
     "end_time": null,
     "exception": null,
     "start_time": null,
     "status": "pending"
    },
    "tags": []
   },
   "source": [
    "# Modelling "
   ]
  },
  {
   "cell_type": "code",
   "execution_count": null,
   "id": "d39debde",
   "metadata": {
    "execution": {
     "iopub.execute_input": "2021-08-29T09:39:38.212016Z",
     "iopub.status.busy": "2021-08-29T09:39:38.211627Z",
     "iopub.status.idle": "2021-08-29T09:39:38.219833Z",
     "shell.execute_reply": "2021-08-29T09:39:38.218836Z",
     "shell.execute_reply.started": "2021-08-29T09:39:38.211990Z"
    },
    "papermill": {
     "duration": null,
     "end_time": null,
     "exception": null,
     "start_time": null,
     "status": "pending"
    },
    "tags": []
   },
   "outputs": [],
   "source": [
    "X=df.drop(col, axis=1)\n",
    "y=df['diagnosis']\n",
    "X_train, x_test, y_train, y_test=train_test_split(X, y, test_size=0.3, random_state=10)"
   ]
  },
  {
   "cell_type": "markdown",
   "id": "57c04bea",
   "metadata": {
    "papermill": {
     "duration": null,
     "end_time": null,
     "exception": null,
     "start_time": null,
     "status": "pending"
    },
    "tags": []
   },
   "source": [
    "# Logistic Regresion"
   ]
  },
  {
   "cell_type": "code",
   "execution_count": null,
   "id": "c91e7f55",
   "metadata": {
    "execution": {
     "iopub.execute_input": "2021-08-29T09:39:40.545123Z",
     "iopub.status.busy": "2021-08-29T09:39:40.544745Z",
     "iopub.status.idle": "2021-08-29T09:39:40.549688Z",
     "shell.execute_reply": "2021-08-29T09:39:40.548888Z",
     "shell.execute_reply.started": "2021-08-29T09:39:40.545092Z"
    },
    "papermill": {
     "duration": null,
     "end_time": null,
     "exception": null,
     "start_time": null,
     "status": "pending"
    },
    "tags": []
   },
   "outputs": [],
   "source": [
    "from sklearn import metrics\n",
    "from sklearn.linear_model import LogisticRegression\n",
    "from sklearn.metrics import classification_report, confusion_matrix,ConfusionMatrixDisplay\n",
    "import statsmodels.api as sm\n",
    "import statsmodels.formula.api as smf"
   ]
  },
  {
   "cell_type": "code",
   "execution_count": null,
   "id": "4c74f387",
   "metadata": {
    "execution": {
     "iopub.execute_input": "2021-08-29T09:39:41.744586Z",
     "iopub.status.busy": "2021-08-29T09:39:41.744238Z",
     "iopub.status.idle": "2021-08-29T09:39:42.202123Z",
     "shell.execute_reply": "2021-08-29T09:39:42.201133Z",
     "shell.execute_reply.started": "2021-08-29T09:39:41.744553Z"
    },
    "papermill": {
     "duration": null,
     "end_time": null,
     "exception": null,
     "start_time": null,
     "status": "pending"
    },
    "tags": []
   },
   "outputs": [],
   "source": [
    "solver=['newton-cg', 'lbfgs', 'liblinear', 'sag', 'saga']\n",
    "error_rate=[]\n",
    "for s in solver:\n",
    "    \n",
    "    lr=LogisticRegression(solver=s)\n",
    "    lr.fit(X_train, y_train)\n",
    "    pred=lr.predict(x_test)\n",
    "    error_rate.append(np.mean(pred!=y_test))\n",
    "plt.figure(figsize=(15,10))\n",
    "plt.plot(solver, error_rate,marker='o', markersize=9)"
   ]
  },
  {
   "cell_type": "markdown",
   "id": "c75b8b05",
   "metadata": {
    "papermill": {
     "duration": null,
     "end_time": null,
     "exception": null,
     "start_time": null,
     "status": "pending"
    },
    "tags": []
   },
   "source": [
    "# Observation:\n",
    "* Using the multiple solver we can see that \"newton-cg\" work good\n",
    "* Error rate is very low for this"
   ]
  },
  {
   "cell_type": "code",
   "execution_count": null,
   "id": "96cea5ae",
   "metadata": {
    "execution": {
     "iopub.execute_input": "2021-08-29T09:39:44.593516Z",
     "iopub.status.busy": "2021-08-29T09:39:44.593178Z",
     "iopub.status.idle": "2021-08-29T09:39:44.842124Z",
     "shell.execute_reply": "2021-08-29T09:39:44.841045Z",
     "shell.execute_reply.started": "2021-08-29T09:39:44.593489Z"
    },
    "papermill": {
     "duration": null,
     "end_time": null,
     "exception": null,
     "start_time": null,
     "status": "pending"
    },
    "tags": []
   },
   "outputs": [],
   "source": [
    "lr=LogisticRegression(solver='newton-cg')\n",
    "lr.fit(X_train, y_train)"
   ]
  },
  {
   "cell_type": "code",
   "execution_count": null,
   "id": "6f0a5dc6",
   "metadata": {
    "execution": {
     "iopub.execute_input": "2021-08-29T09:39:45.756881Z",
     "iopub.status.busy": "2021-08-29T09:39:45.756533Z",
     "iopub.status.idle": "2021-08-29T09:39:45.763419Z",
     "shell.execute_reply": "2021-08-29T09:39:45.762352Z",
     "shell.execute_reply.started": "2021-08-29T09:39:45.756852Z"
    },
    "papermill": {
     "duration": null,
     "end_time": null,
     "exception": null,
     "start_time": null,
     "status": "pending"
    },
    "tags": []
   },
   "outputs": [],
   "source": [
    "y_pred=lr.predict(X_train)"
   ]
  },
  {
   "cell_type": "code",
   "execution_count": null,
   "id": "2b38667e",
   "metadata": {
    "execution": {
     "iopub.execute_input": "2021-08-29T09:39:46.751958Z",
     "iopub.status.busy": "2021-08-29T09:39:46.751489Z",
     "iopub.status.idle": "2021-08-29T09:39:46.780213Z",
     "shell.execute_reply": "2021-08-29T09:39:46.779135Z",
     "shell.execute_reply.started": "2021-08-29T09:39:46.751915Z"
    },
    "papermill": {
     "duration": null,
     "end_time": null,
     "exception": null,
     "start_time": null,
     "status": "pending"
    },
    "tags": []
   },
   "outputs": [],
   "source": [
    "print(\"Accuracy Score:-\", metrics.accuracy_score(y_train, y_pred))\n",
    "print(\"F1 Score:-\", metrics.f1_score(y_train, y_pred))\n",
    "print(\"Average Precision Score:-\", metrics.average_precision_score(y_train, y_pred))\n",
    "print(\"Log Loss:-\", metrics.log_loss(y_train, y_pred))\n",
    "print(\"Precision Score:-\", metrics.precision_score(y_train, y_pred))\n",
    "print(\"Recall Score:-\", metrics.recall_score(y_train, y_pred))\n",
    "print(\"ROC-AUC Score:-\", metrics.roc_auc_score(y_train, y_pred))"
   ]
  },
  {
   "cell_type": "code",
   "execution_count": null,
   "id": "7d71d1b6",
   "metadata": {
    "execution": {
     "iopub.execute_input": "2021-08-29T09:39:47.678387Z",
     "iopub.status.busy": "2021-08-29T09:39:47.678032Z",
     "iopub.status.idle": "2021-08-29T09:39:47.685192Z",
     "shell.execute_reply": "2021-08-29T09:39:47.684067Z",
     "shell.execute_reply.started": "2021-08-29T09:39:47.678354Z"
    },
    "papermill": {
     "duration": null,
     "end_time": null,
     "exception": null,
     "start_time": null,
     "status": "pending"
    },
    "tags": []
   },
   "outputs": [],
   "source": [
    "y_test_pred=lr.predict(x_test)"
   ]
  },
  {
   "cell_type": "code",
   "execution_count": null,
   "id": "5cafb9fa",
   "metadata": {
    "execution": {
     "iopub.execute_input": "2021-08-29T09:39:48.539578Z",
     "iopub.status.busy": "2021-08-29T09:39:48.539198Z",
     "iopub.status.idle": "2021-08-29T09:39:48.556694Z",
     "shell.execute_reply": "2021-08-29T09:39:48.555859Z",
     "shell.execute_reply.started": "2021-08-29T09:39:48.539549Z"
    },
    "papermill": {
     "duration": null,
     "end_time": null,
     "exception": null,
     "start_time": null,
     "status": "pending"
    },
    "tags": []
   },
   "outputs": [],
   "source": [
    "lr_acc=metrics.accuracy_score(y_test, y_test_pred)\n",
    "print(\"Accuracy Score:-\",lr_acc)\n",
    "print(\"F1 Score:-\", metrics.f1_score(y_test, y_test_pred))\n",
    "print(\"Average Precision Score:-\", metrics.average_precision_score(y_test, y_test_pred))\n",
    "print(\"Log Loss:-\", metrics.log_loss(y_test, y_test_pred))\n",
    "print(\"Precision Score:-\", metrics.precision_score(y_test, y_test_pred))\n",
    "print(\"Recall Score:-\", metrics.recall_score(y_test, y_test_pred))\n",
    "print(\"ROC-AUC Score:-\", metrics.roc_auc_score(y_test, y_test_pred))"
   ]
  },
  {
   "cell_type": "markdown",
   "id": "ec78222d",
   "metadata": {
    "papermill": {
     "duration": null,
     "end_time": null,
     "exception": null,
     "start_time": null,
     "status": "pending"
    },
    "tags": []
   },
   "source": [
    "# Obs\n",
    "* Accuracy is quite high\n",
    "* NO sign of overefitting\n",
    "* Though the acuracy has increased mucher better, last time it was 0.93"
   ]
  },
  {
   "cell_type": "code",
   "execution_count": null,
   "id": "ef79e6b8",
   "metadata": {
    "execution": {
     "iopub.execute_input": "2021-08-29T09:39:50.447406Z",
     "iopub.status.busy": "2021-08-29T09:39:50.447059Z",
     "iopub.status.idle": "2021-08-29T09:39:50.641423Z",
     "shell.execute_reply": "2021-08-29T09:39:50.640469Z",
     "shell.execute_reply.started": "2021-08-29T09:39:50.447376Z"
    },
    "papermill": {
     "duration": null,
     "end_time": null,
     "exception": null,
     "start_time": null,
     "status": "pending"
    },
    "tags": []
   },
   "outputs": [],
   "source": [
    "cfm=confusion_matrix(y_test, y_test_pred)\n",
    "disp = ConfusionMatrixDisplay(confusion_matrix=cfm,\n",
    "                               display_labels=lr.classes_)\n",
    "disp.plot()"
   ]
  },
  {
   "cell_type": "markdown",
   "id": "eeb653b9",
   "metadata": {
    "papermill": {
     "duration": null,
     "end_time": null,
     "exception": null,
     "start_time": null,
     "status": "pending"
    },
    "tags": []
   },
   "source": [
    "# Observation\n",
    "* Since it is a cancer dataset\n",
    "* As we can see that True Negative and True Possitive are quite high\n",
    "* Since False negative and false positive are quite zero which is good\n",
    "* SInce one of the parameter in False Negative which is important parameters. It is zero and we can see that no patience cancer is wronly predicted to zero.\n",
    "* Our model is working very fine\n"
   ]
  },
  {
   "cell_type": "markdown",
   "id": "9601a0b3",
   "metadata": {
    "papermill": {
     "duration": null,
     "end_time": null,
     "exception": null,
     "start_time": null,
     "status": "pending"
    },
    "tags": []
   },
   "source": [
    "# Performing K-fold cross validation with Logistic Regression"
   ]
  },
  {
   "cell_type": "code",
   "execution_count": null,
   "id": "3a93f4b1",
   "metadata": {
    "execution": {
     "iopub.execute_input": "2021-08-29T09:39:52.794914Z",
     "iopub.status.busy": "2021-08-29T09:39:52.794187Z",
     "iopub.status.idle": "2021-08-29T09:39:55.658247Z",
     "shell.execute_reply": "2021-08-29T09:39:55.656698Z",
     "shell.execute_reply.started": "2021-08-29T09:39:52.794855Z"
    },
    "papermill": {
     "duration": null,
     "end_time": null,
     "exception": null,
     "start_time": null,
     "status": "pending"
    },
    "tags": []
   },
   "outputs": [],
   "source": [
    "from sklearn.model_selection import cross_val_score    \n",
    "scores = cross_val_score(lr, X, y, cv=10, scoring='accuracy') #cv is cross validation\n",
    "print(scores)\n",
    "print(\"-------------------\")\n",
    "print(scores.mean())"
   ]
  },
  {
   "cell_type": "code",
   "execution_count": null,
   "id": "c4c50f48",
   "metadata": {
    "execution": {
     "iopub.execute_input": "2021-08-29T09:39:55.661679Z",
     "iopub.status.busy": "2021-08-29T09:39:55.661405Z",
     "iopub.status.idle": "2021-08-29T09:39:55.671372Z",
     "shell.execute_reply": "2021-08-29T09:39:55.670510Z",
     "shell.execute_reply.started": "2021-08-29T09:39:55.661653Z"
    },
    "papermill": {
     "duration": null,
     "end_time": null,
     "exception": null,
     "start_time": null,
     "status": "pending"
    },
    "tags": []
   },
   "outputs": [],
   "source": [
    "from sklearn.metrics import classification_report\n",
    "print(classification_report(y_test, y_test_pred))"
   ]
  },
  {
   "cell_type": "code",
   "execution_count": null,
   "id": "f03d0e0a",
   "metadata": {
    "execution": {
     "iopub.execute_input": "2021-08-29T09:39:55.674110Z",
     "iopub.status.busy": "2021-08-29T09:39:55.673761Z",
     "iopub.status.idle": "2021-08-29T09:39:55.685178Z",
     "shell.execute_reply": "2021-08-29T09:39:55.684159Z",
     "shell.execute_reply.started": "2021-08-29T09:39:55.674081Z"
    },
    "papermill": {
     "duration": null,
     "end_time": null,
     "exception": null,
     "start_time": null,
     "status": "pending"
    },
    "tags": []
   },
   "outputs": [],
   "source": [
    "y_test_pred_prob=lr.predict_proba(x_test)[:,1]\n",
    "y_test_pred_prob\n",
    "\n",
    "from sklearn.metrics import roc_curve\n",
    "metrics.roc_auc_score(y_test, y_test_pred_prob)"
   ]
  },
  {
   "cell_type": "code",
   "execution_count": null,
   "id": "be4b8257",
   "metadata": {
    "execution": {
     "iopub.execute_input": "2021-08-29T09:39:55.764599Z",
     "iopub.status.busy": "2021-08-29T09:39:55.764255Z",
     "iopub.status.idle": "2021-08-29T09:39:55.927131Z",
     "shell.execute_reply": "2021-08-29T09:39:55.926508Z",
     "shell.execute_reply.started": "2021-08-29T09:39:55.764571Z"
    },
    "papermill": {
     "duration": null,
     "end_time": null,
     "exception": null,
     "start_time": null,
     "status": "pending"
    },
    "tags": []
   },
   "outputs": [],
   "source": [
    "fpr, tpr,thresholds=roc_curve(y_test,y_test_pred_prob)\n",
    "plt.figure(figsize=(10,10))\n",
    "plt.plot([0,1],[0,1],'k--')\n",
    "plt.plot(fpr, tpr, label='Logistic Regression')\n",
    "plt.xlabel(\"fpr (False Possitive rate)\")\n",
    "plt.ylabel(\"tpr-(True Positive rate)\")\n",
    "plt.title(\"ROC_AUC\")\n",
    "plt.show()"
   ]
  },
  {
   "cell_type": "code",
   "execution_count": null,
   "id": "1d9be5c2",
   "metadata": {
    "execution": {
     "iopub.execute_input": "2021-08-29T09:39:58.439883Z",
     "iopub.status.busy": "2021-08-29T09:39:58.439528Z",
     "iopub.status.idle": "2021-08-29T09:39:58.608879Z",
     "shell.execute_reply": "2021-08-29T09:39:58.608002Z",
     "shell.execute_reply.started": "2021-08-29T09:39:58.439854Z"
    },
    "papermill": {
     "duration": null,
     "end_time": null,
     "exception": null,
     "start_time": null,
     "status": "pending"
    },
    "tags": []
   },
   "outputs": [],
   "source": [
    "from sklearn.metrics import precision_recall_curve\n",
    "no_skill=len(y==1)/len(y)\n",
    "y_test_prob=lr.predict_proba(x_test)[:,1]\n",
    "plt.figure(figsize=(10,8))\n",
    "plt.plot([0,1],[no_skill, no_skill], label=\"No Skill\")\n",
    "precision, recall,_ =precision_recall_curve(y_test, y_test_prob)\n",
    "plt.plot(recall, precision, marker='',label=\"Logistic Regression\")\n",
    "plt.xlabel(\"Recall\")\n",
    "plt.ylabel(\"Precision\")\n",
    "plt.title(\"Recall-Precision Curve\")\n",
    "plt.legend()\n",
    "plt.show()"
   ]
  },
  {
   "cell_type": "markdown",
   "id": "add718e0",
   "metadata": {
    "papermill": {
     "duration": null,
     "end_time": null,
     "exception": null,
     "start_time": null,
     "status": "pending"
    },
    "tags": []
   },
   "source": [
    "# K-NN"
   ]
  },
  {
   "cell_type": "code",
   "execution_count": null,
   "id": "e625f027",
   "metadata": {
    "execution": {
     "iopub.execute_input": "2021-08-29T09:40:00.459664Z",
     "iopub.status.busy": "2021-08-29T09:40:00.459312Z",
     "iopub.status.idle": "2021-08-29T09:40:00.463500Z",
     "shell.execute_reply": "2021-08-29T09:40:00.462547Z",
     "shell.execute_reply.started": "2021-08-29T09:40:00.459637Z"
    },
    "papermill": {
     "duration": null,
     "end_time": null,
     "exception": null,
     "start_time": null,
     "status": "pending"
    },
    "tags": []
   },
   "outputs": [],
   "source": [
    "from sklearn.neighbors import KNeighborsClassifier\n",
    "\n"
   ]
  },
  {
   "cell_type": "code",
   "execution_count": null,
   "id": "7f71e80f",
   "metadata": {
    "execution": {
     "iopub.execute_input": "2021-08-29T09:40:01.572842Z",
     "iopub.status.busy": "2021-08-29T09:40:01.572489Z",
     "iopub.status.idle": "2021-08-29T09:40:01.863633Z",
     "shell.execute_reply": "2021-08-29T09:40:01.862464Z",
     "shell.execute_reply.started": "2021-08-29T09:40:01.572803Z"
    },
    "papermill": {
     "duration": null,
     "end_time": null,
     "exception": null,
     "start_time": null,
     "status": "pending"
    },
    "tags": []
   },
   "outputs": [],
   "source": [
    "error_rate=[]\n",
    "\n",
    "for i in range(1,11):\n",
    "    knn=KNeighborsClassifier(n_neighbors=i)\n",
    "    knn.fit(X_train, y_train)\n",
    "    pred=knn.predict(x_test)\n",
    "    error_rate.append(np.mean(pred!=y_test))\n",
    "    \n",
    "plt.figure(figsize=(15,10))\n",
    "plt.plot(range(1,11), error_rate,marker='o', markersize=9)"
   ]
  },
  {
   "cell_type": "markdown",
   "id": "1cade6f2",
   "metadata": {
    "papermill": {
     "duration": null,
     "end_time": null,
     "exception": null,
     "start_time": null,
     "status": "pending"
    },
    "tags": []
   },
   "source": [
    "# Conclusion:-\n",
    "As we can see that the optimum K in KNN we get is K=6."
   ]
  },
  {
   "cell_type": "code",
   "execution_count": null,
   "id": "aec1aa84",
   "metadata": {
    "execution": {
     "iopub.execute_input": "2021-08-29T09:40:03.825083Z",
     "iopub.status.busy": "2021-08-29T09:40:03.824687Z",
     "iopub.status.idle": "2021-08-29T09:40:03.835268Z",
     "shell.execute_reply": "2021-08-29T09:40:03.834287Z",
     "shell.execute_reply.started": "2021-08-29T09:40:03.825046Z"
    },
    "papermill": {
     "duration": null,
     "end_time": null,
     "exception": null,
     "start_time": null,
     "status": "pending"
    },
    "tags": []
   },
   "outputs": [],
   "source": [
    "knn=KNeighborsClassifier(n_neighbors=6)\n",
    "knn.fit(X_train, y_train)"
   ]
  },
  {
   "cell_type": "code",
   "execution_count": null,
   "id": "041f2683",
   "metadata": {
    "execution": {
     "iopub.execute_input": "2021-08-29T09:40:04.723170Z",
     "iopub.status.busy": "2021-08-29T09:40:04.722631Z",
     "iopub.status.idle": "2021-08-29T09:40:04.750958Z",
     "shell.execute_reply": "2021-08-29T09:40:04.750115Z",
     "shell.execute_reply.started": "2021-08-29T09:40:04.723123Z"
    },
    "papermill": {
     "duration": null,
     "end_time": null,
     "exception": null,
     "start_time": null,
     "status": "pending"
    },
    "tags": []
   },
   "outputs": [],
   "source": [
    "y_pred=knn.predict(X_train)\n"
   ]
  },
  {
   "cell_type": "code",
   "execution_count": null,
   "id": "677a8246",
   "metadata": {
    "execution": {
     "iopub.execute_input": "2021-08-29T09:40:05.708321Z",
     "iopub.status.busy": "2021-08-29T09:40:05.707979Z",
     "iopub.status.idle": "2021-08-29T09:40:05.728635Z",
     "shell.execute_reply": "2021-08-29T09:40:05.727856Z",
     "shell.execute_reply.started": "2021-08-29T09:40:05.708295Z"
    },
    "papermill": {
     "duration": null,
     "end_time": null,
     "exception": null,
     "start_time": null,
     "status": "pending"
    },
    "tags": []
   },
   "outputs": [],
   "source": [
    "print(\"Accuracy Score:-\", metrics.accuracy_score(y_train, y_pred))\n",
    "print(\"F1 Score:-\", metrics.f1_score(y_train, y_pred))\n",
    "print(\"Average Precision Score:-\", metrics.average_precision_score(y_train, y_pred))\n",
    "print(\"Log Loss:-\", metrics.log_loss(y_train, y_pred))\n",
    "print(\"Precision Score:-\", metrics.precision_score(y_train, y_pred))\n",
    "print(\"Recall Score:-\", metrics.recall_score(y_train, y_pred))\n",
    "print(\"ROC-AUC Score:-\", metrics.roc_auc_score(y_train, y_pred))"
   ]
  },
  {
   "cell_type": "markdown",
   "id": "b76d1b7b",
   "metadata": {
    "papermill": {
     "duration": null,
     "end_time": null,
     "exception": null,
     "start_time": null,
     "status": "pending"
    },
    "tags": []
   },
   "source": [
    "# Conclusion:\n",
    "* As we can see that in my previsous notebook the accuracy was 87.43%, while in this case the accuracy is 74%.\n",
    "* It is observed that removing the two feature help ub increasing the accuracy of the dataset using KNN model as prediction\n",
    "* Log Loss is increased as it was 4.33 and now it is 8.67\n",
    "* ROC-AUC is decreased , now it is 0.6805 , which is no improvement of previous results in last notbook"
   ]
  },
  {
   "cell_type": "code",
   "execution_count": null,
   "id": "3ad4bb73",
   "metadata": {
    "execution": {
     "iopub.execute_input": "2021-08-29T09:40:12.384198Z",
     "iopub.status.busy": "2021-08-29T09:40:12.383782Z",
     "iopub.status.idle": "2021-08-29T09:40:12.399245Z",
     "shell.execute_reply": "2021-08-29T09:40:12.398050Z",
     "shell.execute_reply.started": "2021-08-29T09:40:12.384166Z"
    },
    "papermill": {
     "duration": null,
     "end_time": null,
     "exception": null,
     "start_time": null,
     "status": "pending"
    },
    "tags": []
   },
   "outputs": [],
   "source": [
    "y_test_pred=knn.predict(x_test)\n"
   ]
  },
  {
   "cell_type": "code",
   "execution_count": null,
   "id": "712fb2fa",
   "metadata": {
    "execution": {
     "iopub.execute_input": "2021-08-29T09:40:13.739362Z",
     "iopub.status.busy": "2021-08-29T09:40:13.739053Z",
     "iopub.status.idle": "2021-08-29T09:40:13.757538Z",
     "shell.execute_reply": "2021-08-29T09:40:13.756423Z",
     "shell.execute_reply.started": "2021-08-29T09:40:13.739336Z"
    },
    "papermill": {
     "duration": null,
     "end_time": null,
     "exception": null,
     "start_time": null,
     "status": "pending"
    },
    "tags": []
   },
   "outputs": [],
   "source": [
    "knn_acc=metrics.accuracy_score(y_test, y_test_pred)\n",
    "print(\"Accuracy Score:-\",knn_acc)\n",
    "print(\"F1 Score:-\", metrics.f1_score(y_test, y_test_pred))\n",
    "print(\"Average Precision Score:-\", metrics.average_precision_score(y_test, y_test_pred))\n",
    "print(\"Log Loss:-\", metrics.log_loss(y_test, y_test_pred))\n",
    "print(\"Precision Score:-\", metrics.precision_score(y_test, y_test_pred))\n",
    "print(\"Recall Score:-\", metrics.recall_score(y_test, y_test_pred))\n",
    "print(\"ROC-AUC Score:-\", metrics.roc_auc_score(y_test, y_test_pred))"
   ]
  },
  {
   "cell_type": "code",
   "execution_count": null,
   "id": "f2ad394e",
   "metadata": {
    "execution": {
     "iopub.execute_input": "2021-08-29T09:40:14.879670Z",
     "iopub.status.busy": "2021-08-29T09:40:14.879306Z",
     "iopub.status.idle": "2021-08-29T09:40:15.064885Z",
     "shell.execute_reply": "2021-08-29T09:40:15.063883Z",
     "shell.execute_reply.started": "2021-08-29T09:40:14.879642Z"
    },
    "papermill": {
     "duration": null,
     "end_time": null,
     "exception": null,
     "start_time": null,
     "status": "pending"
    },
    "tags": []
   },
   "outputs": [],
   "source": [
    "cfm=confusion_matrix(y_test, y_test_pred)\n",
    "disp = ConfusionMatrixDisplay(confusion_matrix=cfm,\n",
    "                               display_labels=knn.classes_)\n",
    "disp.plot()"
   ]
  },
  {
   "cell_type": "code",
   "execution_count": null,
   "id": "5adc8c3f",
   "metadata": {
    "execution": {
     "iopub.execute_input": "2021-08-29T09:40:16.072604Z",
     "iopub.status.busy": "2021-08-29T09:40:16.072292Z",
     "iopub.status.idle": "2021-08-29T09:40:16.085259Z",
     "shell.execute_reply": "2021-08-29T09:40:16.084125Z",
     "shell.execute_reply.started": "2021-08-29T09:40:16.072578Z"
    },
    "papermill": {
     "duration": null,
     "end_time": null,
     "exception": null,
     "start_time": null,
     "status": "pending"
    },
    "tags": []
   },
   "outputs": [],
   "source": [
    "from sklearn.metrics import classification_report\n",
    "print(classification_report(y_test, y_test_pred))"
   ]
  },
  {
   "cell_type": "code",
   "execution_count": null,
   "id": "23331077",
   "metadata": {
    "execution": {
     "iopub.execute_input": "2021-08-29T09:40:16.990619Z",
     "iopub.status.busy": "2021-08-29T09:40:16.990289Z",
     "iopub.status.idle": "2021-08-29T09:40:17.002252Z",
     "shell.execute_reply": "2021-08-29T09:40:17.001157Z",
     "shell.execute_reply.started": "2021-08-29T09:40:16.990591Z"
    },
    "papermill": {
     "duration": null,
     "end_time": null,
     "exception": null,
     "start_time": null,
     "status": "pending"
    },
    "tags": []
   },
   "outputs": [],
   "source": [
    "y_test_pred_prob=knn.predict_proba(x_test)[:,1]\n",
    "y_test_pred_prob\n",
    "\n",
    "from sklearn.metrics import roc_curve\n",
    "metrics.roc_auc_score(y_test, y_test_pred_prob)"
   ]
  },
  {
   "cell_type": "code",
   "execution_count": null,
   "id": "7836006a",
   "metadata": {
    "execution": {
     "iopub.execute_input": "2021-08-29T09:40:18.033990Z",
     "iopub.status.busy": "2021-08-29T09:40:18.033632Z",
     "iopub.status.idle": "2021-08-29T09:40:18.222527Z",
     "shell.execute_reply": "2021-08-29T09:40:18.221561Z",
     "shell.execute_reply.started": "2021-08-29T09:40:18.033959Z"
    },
    "papermill": {
     "duration": null,
     "end_time": null,
     "exception": null,
     "start_time": null,
     "status": "pending"
    },
    "tags": []
   },
   "outputs": [],
   "source": [
    "fpr, tpr,thresholds=roc_curve(y_test,y_test_pred_prob)\n",
    "plt.figure(figsize=(10,10))\n",
    "plt.plot([0,1],[0,1],'k--')\n",
    "plt.plot(fpr, tpr, label='Logistic Regression')\n",
    "plt.xlabel(\"fpr (False Possitive rate)\")\n",
    "plt.ylabel(\"tpr-(True Positive rate)\")\n",
    "plt.title"
   ]
  },
  {
   "cell_type": "code",
   "execution_count": null,
   "id": "25b234f3",
   "metadata": {
    "execution": {
     "iopub.execute_input": "2021-08-29T09:40:19.251498Z",
     "iopub.status.busy": "2021-08-29T09:40:19.251161Z",
     "iopub.status.idle": "2021-08-29T09:40:19.435026Z",
     "shell.execute_reply": "2021-08-29T09:40:19.434020Z",
     "shell.execute_reply.started": "2021-08-29T09:40:19.251469Z"
    },
    "papermill": {
     "duration": null,
     "end_time": null,
     "exception": null,
     "start_time": null,
     "status": "pending"
    },
    "tags": []
   },
   "outputs": [],
   "source": [
    "from sklearn.metrics import precision_recall_curve\n",
    "no_skill=len(y==1)/len(y)\n",
    "y_test_prob=knn.predict_proba(x_test)[:,1]\n",
    "plt.figure(figsize=(10,8))\n",
    "plt.plot([0,1],[no_skill, no_skill], label=\"No Skill\")\n",
    "precision, recall,_ =precision_recall_curve(y_test, y_test_prob)\n",
    "plt.plot(recall, precision, marker='',label=\"Knn\")\n",
    "plt.xlabel(\"Recall\")\n",
    "plt.ylabel(\"Precision\")\n",
    "plt.title(\"Recall-Precision Curve\")\n",
    "plt.legend()\n",
    "plt.show()"
   ]
  },
  {
   "cell_type": "markdown",
   "id": "842824d9",
   "metadata": {
    "papermill": {
     "duration": null,
     "end_time": null,
     "exception": null,
     "start_time": null,
     "status": "pending"
    },
    "tags": []
   },
   "source": [
    "# Simple Cross validation"
   ]
  },
  {
   "cell_type": "code",
   "execution_count": null,
   "id": "5276a56a",
   "metadata": {
    "execution": {
     "iopub.execute_input": "2021-08-29T09:40:21.783754Z",
     "iopub.status.busy": "2021-08-29T09:40:21.783397Z",
     "iopub.status.idle": "2021-08-29T09:40:21.792066Z",
     "shell.execute_reply": "2021-08-29T09:40:21.790941Z",
     "shell.execute_reply.started": "2021-08-29T09:40:21.783726Z"
    },
    "papermill": {
     "duration": null,
     "end_time": null,
     "exception": null,
     "start_time": null,
     "status": "pending"
    },
    "tags": []
   },
   "outputs": [],
   "source": [
    "# train, cv, test\n",
    "X_train, x_test, y_train, y_test=train_test_split(X, y, test_size=0.3, random_state=10)\n",
    "X_tr, X_cv, y_tr, y_cv = train_test_split(X, y, test_size=0.3)"
   ]
  },
  {
   "cell_type": "code",
   "execution_count": null,
   "id": "cb5067c0",
   "metadata": {
    "execution": {
     "iopub.execute_input": "2021-08-29T09:40:23.028492Z",
     "iopub.status.busy": "2021-08-29T09:40:23.028158Z",
     "iopub.status.idle": "2021-08-29T09:40:23.790811Z",
     "shell.execute_reply": "2021-08-29T09:40:23.789727Z",
     "shell.execute_reply.started": "2021-08-29T09:40:23.028461Z"
    },
    "papermill": {
     "duration": null,
     "end_time": null,
     "exception": null,
     "start_time": null,
     "status": "pending"
    },
    "tags": []
   },
   "outputs": [],
   "source": [
    "from sklearn.metrics import accuracy_score\n",
    "hist = {\n",
    "    'ks': [],\n",
    "    'acc_cv': [],\n",
    "    'acc_tr': []\n",
    "}\n",
    "\n",
    "for k in range(1,50,2):\n",
    "    knn = KNeighborsClassifier(n_neighbors=k)\n",
    "    # fitting cv train\n",
    "    knn.fit(X_tr, y_tr)\n",
    "    # predict and eval  cv train\n",
    "    pred_cv = knn.predict(X_cv)\n",
    "    pred_tr = knn.predict(X_tr)\n",
    "    acc_cv = accuracy_score(y_cv, pred_cv, normalize=True) * float(100)\n",
    "    acc_tr  = accuracy_score(y_tr, pred_tr, normalize=True) * float(100)\n",
    "    print(f\"k:{k}\\t val-acc: {acc_cv} \\ttrain-acc: {acc_tr}\")\n",
    "    \n",
    "    # log\n",
    "    hist['ks'].append(k)    \n",
    "    hist['acc_cv'].append(acc_cv)    \n",
    "    hist['acc_tr'].append(acc_tr)"
   ]
  },
  {
   "cell_type": "code",
   "execution_count": null,
   "id": "2b333d17",
   "metadata": {
    "execution": {
     "iopub.execute_input": "2021-08-29T09:40:23.833988Z",
     "iopub.status.busy": "2021-08-29T09:40:23.833601Z",
     "iopub.status.idle": "2021-08-29T09:40:24.074574Z",
     "shell.execute_reply": "2021-08-29T09:40:24.073620Z",
     "shell.execute_reply.started": "2021-08-29T09:40:23.833938Z"
    },
    "papermill": {
     "duration": null,
     "end_time": null,
     "exception": null,
     "start_time": null,
     "status": "pending"
    },
    "tags": []
   },
   "outputs": [],
   "source": [
    "plt.figure(figsize=(20, 7))\n",
    "\n",
    "plt.plot(hist['ks'], hist['acc_cv'], label='cv')\n",
    "plt.plot(hist['ks'], hist['acc_tr'], label='train')\n",
    "\n",
    "for k, acc_cv in zip(hist['ks'], hist['acc_cv']):\n",
    "    plt.text(k, acc_cv, f'k={k}')\n",
    "\n",
    "plt.legend()\n",
    "plt.show()"
   ]
  },
  {
   "cell_type": "markdown",
   "id": "6d99a306",
   "metadata": {
    "papermill": {
     "duration": null,
     "end_time": null,
     "exception": null,
     "start_time": null,
     "status": "pending"
    },
    "tags": []
   },
   "source": [
    "# k=35 looks good"
   ]
  },
  {
   "cell_type": "code",
   "execution_count": null,
   "id": "14d182a3",
   "metadata": {
    "execution": {
     "iopub.execute_input": "2021-08-29T09:40:26.143365Z",
     "iopub.status.busy": "2021-08-29T09:40:26.143062Z",
     "iopub.status.idle": "2021-08-29T09:40:26.165429Z",
     "shell.execute_reply": "2021-08-29T09:40:26.164531Z",
     "shell.execute_reply.started": "2021-08-29T09:40:26.143340Z"
    },
    "papermill": {
     "duration": null,
     "end_time": null,
     "exception": null,
     "start_time": null,
     "status": "pending"
    },
    "tags": []
   },
   "outputs": [],
   "source": [
    "k = 35\n",
    "\n",
    "knn = KNeighborsClassifier(n_neighbors=k)\n",
    "# fitting cv train\n",
    "knn.fit(X_tr, y_tr)\n",
    "# predict and eval  cv train\n",
    "pred_cv = knn.predict(X_cv)\n",
    "acc_cv = accuracy_score(y_cv, pred_cv, normalize=True) * float(100)\n",
    "print(f\"k:{k}\\t val-acc: {acc_cv}\")"
   ]
  },
  {
   "cell_type": "markdown",
   "id": "21d2844e",
   "metadata": {
    "papermill": {
     "duration": null,
     "end_time": null,
     "exception": null,
     "start_time": null,
     "status": "pending"
    },
    "tags": []
   },
   "source": [
    "* Accuracy is very low hence it can not be used"
   ]
  },
  {
   "cell_type": "markdown",
   "id": "9399b253",
   "metadata": {
    "papermill": {
     "duration": null,
     "end_time": null,
     "exception": null,
     "start_time": null,
     "status": "pending"
    },
    "tags": []
   },
   "source": [
    "# SVC -Support Vector Classifier\n"
   ]
  },
  {
   "cell_type": "code",
   "execution_count": null,
   "id": "048ce23a",
   "metadata": {
    "execution": {
     "iopub.execute_input": "2021-08-29T09:40:30.578437Z",
     "iopub.status.busy": "2021-08-29T09:40:30.578103Z",
     "iopub.status.idle": "2021-08-29T09:40:30.588465Z",
     "shell.execute_reply": "2021-08-29T09:40:30.587401Z",
     "shell.execute_reply.started": "2021-08-29T09:40:30.578406Z"
    },
    "papermill": {
     "duration": null,
     "end_time": null,
     "exception": null,
     "start_time": null,
     "status": "pending"
    },
    "tags": []
   },
   "outputs": [],
   "source": [
    "from sklearn.svm import SVC\n",
    "from sklearn import metrics\n",
    "from sklearn.preprocessing import StandardScaler\n",
    "scaler = StandardScaler()\n",
    "scaler.fit(X)\n",
    "X = scaler.transform(X)"
   ]
  },
  {
   "cell_type": "code",
   "execution_count": null,
   "id": "b41fe9e5",
   "metadata": {
    "execution": {
     "iopub.execute_input": "2021-08-29T09:40:31.835310Z",
     "iopub.status.busy": "2021-08-29T09:40:31.834941Z",
     "iopub.status.idle": "2021-08-29T09:40:31.844020Z",
     "shell.execute_reply": "2021-08-29T09:40:31.843008Z",
     "shell.execute_reply.started": "2021-08-29T09:40:31.835270Z"
    },
    "papermill": {
     "duration": null,
     "end_time": null,
     "exception": null,
     "start_time": null,
     "status": "pending"
    },
    "tags": []
   },
   "outputs": [],
   "source": [
    "from sklearn.model_selection import train_test_split\n",
    "X_train, X_test, y_train, y_test = train_test_split(X, y, test_size=0.2, random_state=1)"
   ]
  },
  {
   "cell_type": "code",
   "execution_count": null,
   "id": "c4802fc2",
   "metadata": {
    "execution": {
     "iopub.execute_input": "2021-08-29T09:40:33.020864Z",
     "iopub.status.busy": "2021-08-29T09:40:33.020525Z",
     "iopub.status.idle": "2021-08-29T09:40:33.028367Z",
     "shell.execute_reply": "2021-08-29T09:40:33.027600Z",
     "shell.execute_reply.started": "2021-08-29T09:40:33.020834Z"
    },
    "papermill": {
     "duration": null,
     "end_time": null,
     "exception": null,
     "start_time": null,
     "status": "pending"
    },
    "tags": []
   },
   "outputs": [],
   "source": [
    "svc=SVC(kernel='poly', C=1.0) #Default hyperparameters\n",
    "svc.fit(X_train,y_train)\n",
    "y_pred=svc.predict(X_train)"
   ]
  },
  {
   "cell_type": "code",
   "execution_count": null,
   "id": "80084199",
   "metadata": {
    "execution": {
     "iopub.execute_input": "2021-08-29T09:40:33.998582Z",
     "iopub.status.busy": "2021-08-29T09:40:33.998263Z",
     "iopub.status.idle": "2021-08-29T09:40:34.016743Z",
     "shell.execute_reply": "2021-08-29T09:40:34.015908Z",
     "shell.execute_reply.started": "2021-08-29T09:40:33.998553Z"
    },
    "papermill": {
     "duration": null,
     "end_time": null,
     "exception": null,
     "start_time": null,
     "status": "pending"
    },
    "tags": []
   },
   "outputs": [],
   "source": [
    "print(\"Accuracy Score:-\", metrics.accuracy_score(y_train, y_pred))\n",
    "print(\"F1 Score:-\", metrics.f1_score(y_train, y_pred))\n",
    "print(\"Average Precision Score:-\", metrics.average_precision_score(y_train, y_pred))\n",
    "print(\"Log Loss:-\", metrics.log_loss(y_train, y_pred))\n",
    "print(\"Precision Score:-\", metrics.precision_score(y_train, y_pred))\n",
    "print(\"Recall Score:-\", metrics.recall_score(y_train, y_pred))\n",
    "print(\"ROC-AUC Score:-\", metrics.roc_auc_score(y_train, y_pred))"
   ]
  },
  {
   "cell_type": "code",
   "execution_count": null,
   "id": "3f641e1b",
   "metadata": {
    "execution": {
     "iopub.execute_input": "2021-08-29T09:40:35.182632Z",
     "iopub.status.busy": "2021-08-29T09:40:35.182265Z",
     "iopub.status.idle": "2021-08-29T09:40:35.187871Z",
     "shell.execute_reply": "2021-08-29T09:40:35.187117Z",
     "shell.execute_reply.started": "2021-08-29T09:40:35.182603Z"
    },
    "papermill": {
     "duration": null,
     "end_time": null,
     "exception": null,
     "start_time": null,
     "status": "pending"
    },
    "tags": []
   },
   "outputs": [],
   "source": [
    "y_test_pred=svc.predict(X_test)\n"
   ]
  },
  {
   "cell_type": "code",
   "execution_count": null,
   "id": "ba4f1e16",
   "metadata": {
    "execution": {
     "iopub.execute_input": "2021-08-29T09:40:36.199207Z",
     "iopub.status.busy": "2021-08-29T09:40:36.198887Z",
     "iopub.status.idle": "2021-08-29T09:40:36.215596Z",
     "shell.execute_reply": "2021-08-29T09:40:36.214910Z",
     "shell.execute_reply.started": "2021-08-29T09:40:36.199181Z"
    },
    "papermill": {
     "duration": null,
     "end_time": null,
     "exception": null,
     "start_time": null,
     "status": "pending"
    },
    "tags": []
   },
   "outputs": [],
   "source": [
    "svc_acc=metrics.accuracy_score(y_test, y_test_pred)\n",
    "print(\"Accuracy Score:-\",svc_acc)\n",
    "print(\"F1 Score:-\", metrics.f1_score(y_test, y_test_pred))\n",
    "print(\"Average Precision Score:-\", metrics.average_precision_score(y_test, y_test_pred))\n",
    "print(\"Log Loss:-\", metrics.log_loss(y_test, y_test_pred))\n",
    "print(\"Precision Score:-\", metrics.precision_score(y_test, y_test_pred))\n",
    "print(\"Recall Score:-\", metrics.recall_score(y_test, y_test_pred))\n",
    "print(\"ROC-AUC Score:-\", metrics.roc_auc_score(y_test, y_test_pred))"
   ]
  },
  {
   "cell_type": "code",
   "execution_count": null,
   "id": "c1f147e9",
   "metadata": {
    "execution": {
     "iopub.execute_input": "2021-08-29T09:40:37.212908Z",
     "iopub.status.busy": "2021-08-29T09:40:37.212429Z",
     "iopub.status.idle": "2021-08-29T09:40:37.395784Z",
     "shell.execute_reply": "2021-08-29T09:40:37.395133Z",
     "shell.execute_reply.started": "2021-08-29T09:40:37.212876Z"
    },
    "papermill": {
     "duration": null,
     "end_time": null,
     "exception": null,
     "start_time": null,
     "status": "pending"
    },
    "tags": []
   },
   "outputs": [],
   "source": [
    "cfm=confusion_matrix(y_test, y_test_pred)\n",
    "disp = ConfusionMatrixDisplay(confusion_matrix=cfm,\n",
    "                               display_labels=svc.classes_)\n",
    "disp.plot()"
   ]
  },
  {
   "cell_type": "code",
   "execution_count": null,
   "id": "5ac712ed",
   "metadata": {
    "execution": {
     "iopub.execute_input": "2021-08-29T09:40:38.186039Z",
     "iopub.status.busy": "2021-08-29T09:40:38.185531Z",
     "iopub.status.idle": "2021-08-29T09:40:38.194110Z",
     "shell.execute_reply": "2021-08-29T09:40:38.193396Z",
     "shell.execute_reply.started": "2021-08-29T09:40:38.186009Z"
    },
    "papermill": {
     "duration": null,
     "end_time": null,
     "exception": null,
     "start_time": null,
     "status": "pending"
    },
    "tags": []
   },
   "outputs": [],
   "source": [
    "from sklearn.metrics import classification_report\n",
    "print(classification_report(y_test, y_test_pred))"
   ]
  },
  {
   "cell_type": "code",
   "execution_count": null,
   "id": "a9a7440e",
   "metadata": {
    "execution": {
     "iopub.execute_input": "2021-08-29T09:40:39.208818Z",
     "iopub.status.busy": "2021-08-29T09:40:39.208347Z",
     "iopub.status.idle": "2021-08-29T09:40:39.217593Z",
     "shell.execute_reply": "2021-08-29T09:40:39.216254Z",
     "shell.execute_reply.started": "2021-08-29T09:40:39.208778Z"
    },
    "papermill": {
     "duration": null,
     "end_time": null,
     "exception": null,
     "start_time": null,
     "status": "pending"
    },
    "tags": []
   },
   "outputs": [],
   "source": [
    "y_test_pred_prob=lr.predict_proba(X_test)[:,1]\n",
    "y_test_pred_prob\n",
    "\n",
    "from sklearn.metrics import roc_curve\n",
    "metrics.roc_auc_score(y_test, y_test_pred_prob)"
   ]
  },
  {
   "cell_type": "code",
   "execution_count": null,
   "id": "eaab8c12",
   "metadata": {
    "execution": {
     "iopub.execute_input": "2021-08-29T09:40:40.303509Z",
     "iopub.status.busy": "2021-08-29T09:40:40.303152Z",
     "iopub.status.idle": "2021-08-29T09:40:40.462625Z",
     "shell.execute_reply": "2021-08-29T09:40:40.462000Z",
     "shell.execute_reply.started": "2021-08-29T09:40:40.303476Z"
    },
    "papermill": {
     "duration": null,
     "end_time": null,
     "exception": null,
     "start_time": null,
     "status": "pending"
    },
    "tags": []
   },
   "outputs": [],
   "source": [
    "fpr, tpr,thresholds=roc_curve(y_test,y_test_pred_prob)\n",
    "plt.figure(figsize=(10,10))\n",
    "plt.plot([0,1],[0,1],'k--')\n",
    "plt.plot(fpr, tpr, label='Logistic Regression')\n",
    "plt.xlabel(\"fpr (False Possitive rate)\")\n",
    "plt.ylabel(\"tpr-(True Positive rate)\")\n",
    "plt.title(\"ROC_AUC\")\n",
    "plt.show()"
   ]
  },
  {
   "cell_type": "code",
   "execution_count": null,
   "id": "ef6d7f1d",
   "metadata": {
    "execution": {
     "iopub.execute_input": "2021-08-29T09:40:41.768618Z",
     "iopub.status.busy": "2021-08-29T09:40:41.768015Z",
     "iopub.status.idle": "2021-08-29T09:40:41.963589Z",
     "shell.execute_reply": "2021-08-29T09:40:41.962826Z",
     "shell.execute_reply.started": "2021-08-29T09:40:41.768573Z"
    },
    "papermill": {
     "duration": null,
     "end_time": null,
     "exception": null,
     "start_time": null,
     "status": "pending"
    },
    "tags": []
   },
   "outputs": [],
   "source": [
    "from sklearn.metrics import precision_recall_curve\n",
    "no_skill=len(y==1)/len(y)\n",
    "y_test_prob=knn.predict_proba(X_test)[:,1]\n",
    "plt.figure(figsize=(10,8))\n",
    "plt.plot([0,1],[no_skill, no_skill], label=\"No Skill\")\n",
    "precision, recall,_ =precision_recall_curve(y_test, y_test_prob)\n",
    "plt.plot(recall, precision, marker='',label=\"SVC\")\n",
    "plt.xlabel(\"Recall\")\n",
    "plt.ylabel(\"Precision\")\n",
    "plt.title(\"Recall-Precision Curve\")\n",
    "plt.legend()\n",
    "plt.show()"
   ]
  },
  {
   "cell_type": "markdown",
   "id": "0dda0970",
   "metadata": {
    "papermill": {
     "duration": null,
     "end_time": null,
     "exception": null,
     "start_time": null,
     "status": "pending"
    },
    "tags": []
   },
   "source": [
    "# Decision Tree Clasifiers"
   ]
  },
  {
   "cell_type": "code",
   "execution_count": null,
   "id": "d4266391",
   "metadata": {
    "execution": {
     "iopub.execute_input": "2021-08-29T09:40:43.877084Z",
     "iopub.status.busy": "2021-08-29T09:40:43.876558Z",
     "iopub.status.idle": "2021-08-29T09:40:43.882369Z",
     "shell.execute_reply": "2021-08-29T09:40:43.881766Z",
     "shell.execute_reply.started": "2021-08-29T09:40:43.877028Z"
    },
    "papermill": {
     "duration": null,
     "end_time": null,
     "exception": null,
     "start_time": null,
     "status": "pending"
    },
    "tags": []
   },
   "outputs": [],
   "source": [
    "col=['radius_mean', 'texture_mean', 'perimeter_mean',\n",
    "        'smoothness_mean', \n",
    "        'symmetry_mean', 'fractal_dimension_mean',\n",
    "       'radius_se', 'texture_se', 'perimeter_se', 'smoothness_se',\n",
    "        'concavity_se', 'concave points_se', 'symmetry_se',\n",
    "       'fractal_dimension_se', 'radius_worst', 'texture_worst',\n",
    "       'perimeter_worst', 'area_worst', 'smoothness_worst',\n",
    "        'concavity_worst', 'concave points_worst',\n",
    "       'symmetry_worst', 'fractal_dimension_worst']"
   ]
  },
  {
   "cell_type": "code",
   "execution_count": null,
   "id": "38e692f3",
   "metadata": {
    "execution": {
     "iopub.execute_input": "2021-08-29T09:40:44.957765Z",
     "iopub.status.busy": "2021-08-29T09:40:44.957311Z",
     "iopub.status.idle": "2021-08-29T09:40:44.965145Z",
     "shell.execute_reply": "2021-08-29T09:40:44.964240Z",
     "shell.execute_reply.started": "2021-08-29T09:40:44.957736Z"
    },
    "papermill": {
     "duration": null,
     "end_time": null,
     "exception": null,
     "start_time": null,
     "status": "pending"
    },
    "tags": []
   },
   "outputs": [],
   "source": [
    "X=df.drop(col, axis=1)\n",
    "y=df['diagnosis']\n",
    "X_train, x_test, y_train, y_test=train_test_split(X, y, test_size=0.3, random_state=10)"
   ]
  },
  {
   "cell_type": "code",
   "execution_count": null,
   "id": "04e3a097",
   "metadata": {
    "execution": {
     "iopub.execute_input": "2021-08-29T09:40:45.945666Z",
     "iopub.status.busy": "2021-08-29T09:40:45.945358Z",
     "iopub.status.idle": "2021-08-29T09:40:45.974890Z",
     "shell.execute_reply": "2021-08-29T09:40:45.974019Z",
     "shell.execute_reply.started": "2021-08-29T09:40:45.945639Z"
    },
    "papermill": {
     "duration": null,
     "end_time": null,
     "exception": null,
     "start_time": null,
     "status": "pending"
    },
    "tags": []
   },
   "outputs": [],
   "source": [
    "from sklearn.tree import DecisionTreeClassifier\n"
   ]
  },
  {
   "cell_type": "code",
   "execution_count": null,
   "id": "a284af6f",
   "metadata": {
    "execution": {
     "iopub.execute_input": "2021-08-29T09:40:46.775876Z",
     "iopub.status.busy": "2021-08-29T09:40:46.775525Z",
     "iopub.status.idle": "2021-08-29T09:40:46.788615Z",
     "shell.execute_reply": "2021-08-29T09:40:46.787797Z",
     "shell.execute_reply.started": "2021-08-29T09:40:46.775843Z"
    },
    "papermill": {
     "duration": null,
     "end_time": null,
     "exception": null,
     "start_time": null,
     "status": "pending"
    },
    "tags": []
   },
   "outputs": [],
   "source": [
    "clf_gini = DecisionTreeClassifier(criterion='gini', max_depth=3, random_state=0)\n",
    "\n",
    "\n",
    "# fit the model\n",
    "clf_gini.fit(X_train, y_train)"
   ]
  },
  {
   "cell_type": "code",
   "execution_count": null,
   "id": "3c4998de",
   "metadata": {
    "execution": {
     "iopub.execute_input": "2021-08-29T09:40:47.705113Z",
     "iopub.status.busy": "2021-08-29T09:40:47.704628Z",
     "iopub.status.idle": "2021-08-29T09:40:47.712201Z",
     "shell.execute_reply": "2021-08-29T09:40:47.711288Z",
     "shell.execute_reply.started": "2021-08-29T09:40:47.705081Z"
    },
    "papermill": {
     "duration": null,
     "end_time": null,
     "exception": null,
     "start_time": null,
     "status": "pending"
    },
    "tags": []
   },
   "outputs": [],
   "source": [
    "y_pred_gini = clf_gini.predict(X_train)\n"
   ]
  },
  {
   "cell_type": "code",
   "execution_count": null,
   "id": "f05f0b68",
   "metadata": {
    "execution": {
     "iopub.execute_input": "2021-08-29T09:40:48.687484Z",
     "iopub.status.busy": "2021-08-29T09:40:48.687129Z",
     "iopub.status.idle": "2021-08-29T09:40:48.706202Z",
     "shell.execute_reply": "2021-08-29T09:40:48.705367Z",
     "shell.execute_reply.started": "2021-08-29T09:40:48.687457Z"
    },
    "papermill": {
     "duration": null,
     "end_time": null,
     "exception": null,
     "start_time": null,
     "status": "pending"
    },
    "tags": []
   },
   "outputs": [],
   "source": [
    "print(\"Accuracy Score:-\", metrics.accuracy_score(y_train, y_pred_gini))\n",
    "print(\"F1 Score:-\", metrics.f1_score(y_train, y_pred_gini))\n",
    "print(\"Average Precision Score:-\", metrics.average_precision_score(y_train, y_pred_gini))\n",
    "print(\"Log Loss:-\", metrics.log_loss(y_train, y_pred_gini))\n",
    "print(\"Precision Score:-\", metrics.precision_score(y_train, y_pred_gini))\n",
    "print(\"Recall Score:-\", metrics.recall_score(y_train, y_pred_gini))\n",
    "print(\"ROC-AUC Score:-\", metrics.roc_auc_score(y_train, y_pred_gini))"
   ]
  },
  {
   "cell_type": "code",
   "execution_count": null,
   "id": "22b04b00",
   "metadata": {
    "execution": {
     "iopub.execute_input": "2021-08-29T09:40:49.547093Z",
     "iopub.status.busy": "2021-08-29T09:40:49.546724Z",
     "iopub.status.idle": "2021-08-29T09:40:49.553618Z",
     "shell.execute_reply": "2021-08-29T09:40:49.552525Z",
     "shell.execute_reply.started": "2021-08-29T09:40:49.547063Z"
    },
    "papermill": {
     "duration": null,
     "end_time": null,
     "exception": null,
     "start_time": null,
     "status": "pending"
    },
    "tags": []
   },
   "outputs": [],
   "source": [
    "y_test_pred= clf_gini.predict(x_test)\n"
   ]
  },
  {
   "cell_type": "code",
   "execution_count": null,
   "id": "2e8c62d1",
   "metadata": {
    "execution": {
     "iopub.execute_input": "2021-08-29T09:40:50.451814Z",
     "iopub.status.busy": "2021-08-29T09:40:50.451487Z",
     "iopub.status.idle": "2021-08-29T09:40:50.469040Z",
     "shell.execute_reply": "2021-08-29T09:40:50.467863Z",
     "shell.execute_reply.started": "2021-08-29T09:40:50.451773Z"
    },
    "papermill": {
     "duration": null,
     "end_time": null,
     "exception": null,
     "start_time": null,
     "status": "pending"
    },
    "tags": []
   },
   "outputs": [],
   "source": [
    "dc_acc=metrics.accuracy_score(y_test, y_test_pred)\n",
    "print(\"Accuracy Score:-\",dc_acc)\n",
    "print(\"F1 Score:-\", metrics.f1_score(y_test, y_test_pred))\n",
    "print(\"Average Precision Score:-\", metrics.average_precision_score(y_test, y_test_pred))\n",
    "print(\"Log Loss:-\", metrics.log_loss(y_test, y_test_pred))\n",
    "print(\"Precision Score:-\", metrics.precision_score(y_test, y_test_pred))\n",
    "print(\"Recall Score:-\", metrics.recall_score(y_test, y_test_pred))\n",
    "print(\"ROC-AUC Score:-\", metrics.roc_auc_score(y_test, y_test_pred))"
   ]
  },
  {
   "cell_type": "code",
   "execution_count": null,
   "id": "7cc901e4",
   "metadata": {
    "execution": {
     "iopub.execute_input": "2021-08-29T09:40:51.495295Z",
     "iopub.status.busy": "2021-08-29T09:40:51.494939Z",
     "iopub.status.idle": "2021-08-29T09:40:51.709439Z",
     "shell.execute_reply": "2021-08-29T09:40:51.708227Z",
     "shell.execute_reply.started": "2021-08-29T09:40:51.495268Z"
    },
    "papermill": {
     "duration": null,
     "end_time": null,
     "exception": null,
     "start_time": null,
     "status": "pending"
    },
    "tags": []
   },
   "outputs": [],
   "source": [
    "cfm=confusion_matrix(y_test, y_test_pred)\n",
    "disp = ConfusionMatrixDisplay(confusion_matrix=cfm,\n",
    "                               display_labels=clf_gini.classes_)\n",
    "disp.plot()"
   ]
  },
  {
   "cell_type": "code",
   "execution_count": null,
   "id": "bf3c5115",
   "metadata": {
    "execution": {
     "iopub.execute_input": "2021-08-29T09:40:52.494214Z",
     "iopub.status.busy": "2021-08-29T09:40:52.493873Z",
     "iopub.status.idle": "2021-08-29T09:40:52.504212Z",
     "shell.execute_reply": "2021-08-29T09:40:52.503294Z",
     "shell.execute_reply.started": "2021-08-29T09:40:52.494185Z"
    },
    "papermill": {
     "duration": null,
     "end_time": null,
     "exception": null,
     "start_time": null,
     "status": "pending"
    },
    "tags": []
   },
   "outputs": [],
   "source": [
    "from sklearn.metrics import classification_report\n",
    "print(classification_report(y_test, y_test_pred))"
   ]
  },
  {
   "cell_type": "code",
   "execution_count": null,
   "id": "87db1224",
   "metadata": {
    "execution": {
     "iopub.execute_input": "2021-08-29T09:40:53.402180Z",
     "iopub.status.busy": "2021-08-29T09:40:53.401829Z",
     "iopub.status.idle": "2021-08-29T09:40:53.414496Z",
     "shell.execute_reply": "2021-08-29T09:40:53.413277Z",
     "shell.execute_reply.started": "2021-08-29T09:40:53.402148Z"
    },
    "papermill": {
     "duration": null,
     "end_time": null,
     "exception": null,
     "start_time": null,
     "status": "pending"
    },
    "tags": []
   },
   "outputs": [],
   "source": [
    "y_test_pred_prob=clf_gini.predict_proba(x_test)[:,1]\n",
    "y_test_pred_prob\n",
    "\n",
    "from sklearn.metrics import roc_curve\n",
    "metrics.roc_auc_score(y_test, y_test_pred_prob)"
   ]
  },
  {
   "cell_type": "code",
   "execution_count": null,
   "id": "a255bee9",
   "metadata": {
    "execution": {
     "iopub.execute_input": "2021-08-29T09:40:54.514148Z",
     "iopub.status.busy": "2021-08-29T09:40:54.513756Z",
     "iopub.status.idle": "2021-08-29T09:40:54.684656Z",
     "shell.execute_reply": "2021-08-29T09:40:54.683616Z",
     "shell.execute_reply.started": "2021-08-29T09:40:54.514099Z"
    },
    "papermill": {
     "duration": null,
     "end_time": null,
     "exception": null,
     "start_time": null,
     "status": "pending"
    },
    "tags": []
   },
   "outputs": [],
   "source": [
    "fpr, tpr,thresholds=roc_curve(y_test,y_test_pred_prob)\n",
    "plt.figure(figsize=(10,10))\n",
    "plt.plot([0,1],[0,1],'k--')\n",
    "plt.plot(fpr, tpr, label='Logistic Regression')\n",
    "plt.xlabel(\"fpr (False Possitive rate)\")\n",
    "plt.ylabel(\"tpr-(True Positive rate)\")\n",
    "plt.title(\"ROC_AUC\")\n",
    "plt.show()"
   ]
  },
  {
   "cell_type": "code",
   "execution_count": null,
   "id": "59d1545d",
   "metadata": {
    "execution": {
     "iopub.execute_input": "2021-08-29T09:40:55.674632Z",
     "iopub.status.busy": "2021-08-29T09:40:55.674303Z",
     "iopub.status.idle": "2021-08-29T09:40:55.850517Z",
     "shell.execute_reply": "2021-08-29T09:40:55.849627Z",
     "shell.execute_reply.started": "2021-08-29T09:40:55.674603Z"
    },
    "papermill": {
     "duration": null,
     "end_time": null,
     "exception": null,
     "start_time": null,
     "status": "pending"
    },
    "tags": []
   },
   "outputs": [],
   "source": [
    "from sklearn.metrics import precision_recall_curve\n",
    "no_skill=len(y==1)/len(y)\n",
    "y_test_prob=lr.predict_proba(x_test)[:,1]\n",
    "plt.figure(figsize=(10,8))\n",
    "plt.plot([0,1],[no_skill, no_skill], label=\"No Skill\")\n",
    "precision, recall,_ =precision_recall_curve(y_test, y_test_prob)\n",
    "plt.plot(recall, precision, marker='',label=\"Decision Tree\")\n",
    "plt.xlabel(\"Recall\")\n",
    "plt.ylabel(\"Precision\")\n",
    "plt.title(\"Recall-Precision Curve\")\n",
    "plt.legend()\n",
    "plt.show()"
   ]
  },
  {
   "cell_type": "markdown",
   "id": "456de3ce",
   "metadata": {
    "papermill": {
     "duration": null,
     "end_time": null,
     "exception": null,
     "start_time": null,
     "status": "pending"
    },
    "tags": []
   },
   "source": [
    "# Visualize decision-trees"
   ]
  },
  {
   "cell_type": "code",
   "execution_count": null,
   "id": "97a61112",
   "metadata": {
    "execution": {
     "iopub.execute_input": "2021-08-29T09:40:57.910694Z",
     "iopub.status.busy": "2021-08-29T09:40:57.910363Z",
     "iopub.status.idle": "2021-08-29T09:40:58.169447Z",
     "shell.execute_reply": "2021-08-29T09:40:58.168367Z",
     "shell.execute_reply.started": "2021-08-29T09:40:57.910666Z"
    },
    "papermill": {
     "duration": null,
     "end_time": null,
     "exception": null,
     "start_time": null,
     "status": "pending"
    },
    "tags": []
   },
   "outputs": [],
   "source": [
    "plt.figure(figsize=(12,8))\n",
    "\n",
    "from sklearn import tree\n",
    "\n",
    "tree.plot_tree(clf_gini.fit(X_train, y_train)) "
   ]
  },
  {
   "cell_type": "markdown",
   "id": "32b50cb7",
   "metadata": {
    "papermill": {
     "duration": null,
     "end_time": null,
     "exception": null,
     "start_time": null,
     "status": "pending"
    },
    "tags": []
   },
   "source": [
    "# Decision Tree Classifier with criterion entropy"
   ]
  },
  {
   "cell_type": "code",
   "execution_count": null,
   "id": "44e1d33c",
   "metadata": {
    "execution": {
     "iopub.execute_input": "2021-08-29T09:40:59.475562Z",
     "iopub.status.busy": "2021-08-29T09:40:59.475066Z",
     "iopub.status.idle": "2021-08-29T09:40:59.485171Z",
     "shell.execute_reply": "2021-08-29T09:40:59.484301Z",
     "shell.execute_reply.started": "2021-08-29T09:40:59.475530Z"
    },
    "papermill": {
     "duration": null,
     "end_time": null,
     "exception": null,
     "start_time": null,
     "status": "pending"
    },
    "tags": []
   },
   "outputs": [],
   "source": [
    "clf_en = DecisionTreeClassifier(criterion='entropy', max_depth=3, random_state=0)\n",
    "\n",
    "\n",
    "# fit the model\n",
    "clf_en.fit(X_train, y_train)"
   ]
  },
  {
   "cell_type": "code",
   "execution_count": null,
   "id": "a88e7584",
   "metadata": {
    "execution": {
     "iopub.execute_input": "2021-08-29T09:41:00.060671Z",
     "iopub.status.busy": "2021-08-29T09:41:00.060337Z",
     "iopub.status.idle": "2021-08-29T09:41:00.271255Z",
     "shell.execute_reply": "2021-08-29T09:41:00.270257Z",
     "shell.execute_reply.started": "2021-08-29T09:41:00.060643Z"
    },
    "papermill": {
     "duration": null,
     "end_time": null,
     "exception": null,
     "start_time": null,
     "status": "pending"
    },
    "tags": []
   },
   "outputs": [],
   "source": [
    "error_rate=[]\n",
    "for i in range(1,11):\n",
    "    clf_en = DecisionTreeClassifier(criterion='entropy', max_depth=i, random_state=0)\n",
    "\n",
    "\n",
    "    # fit the model\n",
    "    clf_en.fit(X_train, y_train)\n",
    "    pred=clf_en.predict(x_test)\n",
    "    error_rate.append(np.mean(pred!=y_test))\n",
    "    \n",
    "plt.figure(figsize=(15,10))\n",
    "plt.plot(range(1,11), error_rate,marker='o', markersize=9)"
   ]
  },
  {
   "cell_type": "code",
   "execution_count": null,
   "id": "a36155fc",
   "metadata": {
    "execution": {
     "iopub.execute_input": "2021-08-29T09:41:01.272961Z",
     "iopub.status.busy": "2021-08-29T09:41:01.272605Z",
     "iopub.status.idle": "2021-08-29T09:41:01.283635Z",
     "shell.execute_reply": "2021-08-29T09:41:01.282774Z",
     "shell.execute_reply.started": "2021-08-29T09:41:01.272930Z"
    },
    "papermill": {
     "duration": null,
     "end_time": null,
     "exception": null,
     "start_time": null,
     "status": "pending"
    },
    "tags": []
   },
   "outputs": [],
   "source": [
    "clf_en = DecisionTreeClassifier(criterion='entropy', max_depth=2, random_state=0)\n",
    "\n",
    "\n",
    "# fit the model\n",
    "clf_en.fit(X_train, y_train)"
   ]
  },
  {
   "cell_type": "code",
   "execution_count": null,
   "id": "3e41beaa",
   "metadata": {
    "execution": {
     "iopub.execute_input": "2021-08-29T09:41:02.155223Z",
     "iopub.status.busy": "2021-08-29T09:41:02.154892Z",
     "iopub.status.idle": "2021-08-29T09:41:02.161573Z",
     "shell.execute_reply": "2021-08-29T09:41:02.160528Z",
     "shell.execute_reply.started": "2021-08-29T09:41:02.155195Z"
    },
    "papermill": {
     "duration": null,
     "end_time": null,
     "exception": null,
     "start_time": null,
     "status": "pending"
    },
    "tags": []
   },
   "outputs": [],
   "source": [
    "y_pred=clf_en.predict(X_train)"
   ]
  },
  {
   "cell_type": "code",
   "execution_count": null,
   "id": "0b5767aa",
   "metadata": {
    "execution": {
     "iopub.execute_input": "2021-08-29T09:41:02.970363Z",
     "iopub.status.busy": "2021-08-29T09:41:02.970018Z",
     "iopub.status.idle": "2021-08-29T09:41:02.986238Z",
     "shell.execute_reply": "2021-08-29T09:41:02.985325Z",
     "shell.execute_reply.started": "2021-08-29T09:41:02.970336Z"
    },
    "papermill": {
     "duration": null,
     "end_time": null,
     "exception": null,
     "start_time": null,
     "status": "pending"
    },
    "tags": []
   },
   "outputs": [],
   "source": [
    "print(\"Accuracy Score:-\", metrics.accuracy_score(y_train, y_pred))\n",
    "print(\"F1 Score:-\", metrics.f1_score(y_train, y_pred))\n",
    "print(\"Average Precision Score:-\", metrics.average_precision_score(y_train, y_pred))\n",
    "print(\"Log Loss:-\", metrics.log_loss(y_train, y_pred))\n",
    "print(\"Precision Score:-\", metrics.precision_score(y_train, y_pred))\n",
    "print(\"Recall Score:-\", metrics.recall_score(y_train, y_pred))\n",
    "print(\"ROC-AUC Score:-\", metrics.roc_auc_score(y_train, y_pred))"
   ]
  },
  {
   "cell_type": "code",
   "execution_count": null,
   "id": "10d57f19",
   "metadata": {
    "execution": {
     "iopub.execute_input": "2021-08-29T09:41:03.771931Z",
     "iopub.status.busy": "2021-08-29T09:41:03.771570Z",
     "iopub.status.idle": "2021-08-29T09:41:03.778552Z",
     "shell.execute_reply": "2021-08-29T09:41:03.777566Z",
     "shell.execute_reply.started": "2021-08-29T09:41:03.771892Z"
    },
    "papermill": {
     "duration": null,
     "end_time": null,
     "exception": null,
     "start_time": null,
     "status": "pending"
    },
    "tags": []
   },
   "outputs": [],
   "source": [
    "y_test_pred=clf_en.predict(x_test)\n"
   ]
  },
  {
   "cell_type": "code",
   "execution_count": null,
   "id": "c3e52614",
   "metadata": {
    "execution": {
     "iopub.execute_input": "2021-08-29T09:41:04.589149Z",
     "iopub.status.busy": "2021-08-29T09:41:04.588763Z",
     "iopub.status.idle": "2021-08-29T09:41:04.606217Z",
     "shell.execute_reply": "2021-08-29T09:41:04.605195Z",
     "shell.execute_reply.started": "2021-08-29T09:41:04.589119Z"
    },
    "papermill": {
     "duration": null,
     "end_time": null,
     "exception": null,
     "start_time": null,
     "status": "pending"
    },
    "tags": []
   },
   "outputs": [],
   "source": [
    "dc_en_acc=metrics.accuracy_score(y_test, y_test_pred)\n",
    "print(\"Accuracy Score:-\",dc_en_acc)\n",
    "print(\"F1 Score:-\", metrics.f1_score(y_test, y_test_pred))\n",
    "print(\"Average Precision Score:-\", metrics.average_precision_score(y_test, y_test_pred))\n",
    "print(\"Log Loss:-\", metrics.log_loss(y_test, y_test_pred))\n",
    "print(\"Precision Score:-\", metrics.precision_score(y_test, y_test_pred))\n",
    "print(\"Recall Score:-\", metrics.recall_score(y_test, y_test_pred))\n",
    "print(\"ROC-AUC Score:-\", metrics.roc_auc_score(y_test, y_test_pred))"
   ]
  },
  {
   "cell_type": "code",
   "execution_count": null,
   "id": "c6954e6e",
   "metadata": {
    "execution": {
     "iopub.execute_input": "2021-08-29T09:41:06.550195Z",
     "iopub.status.busy": "2021-08-29T09:41:06.549882Z",
     "iopub.status.idle": "2021-08-29T09:41:06.726279Z",
     "shell.execute_reply": "2021-08-29T09:41:06.725385Z",
     "shell.execute_reply.started": "2021-08-29T09:41:06.550169Z"
    },
    "papermill": {
     "duration": null,
     "end_time": null,
     "exception": null,
     "start_time": null,
     "status": "pending"
    },
    "tags": []
   },
   "outputs": [],
   "source": [
    "cfm=confusion_matrix(y_test, y_test_pred)\n",
    "disp = ConfusionMatrixDisplay(confusion_matrix=cfm,\n",
    "                               display_labels=clf_en.classes_)\n",
    "disp.plot()"
   ]
  },
  {
   "cell_type": "code",
   "execution_count": null,
   "id": "01cb04ab",
   "metadata": {
    "execution": {
     "iopub.execute_input": "2021-08-29T09:41:07.567652Z",
     "iopub.status.busy": "2021-08-29T09:41:07.567331Z",
     "iopub.status.idle": "2021-08-29T09:41:07.577908Z",
     "shell.execute_reply": "2021-08-29T09:41:07.576908Z",
     "shell.execute_reply.started": "2021-08-29T09:41:07.567625Z"
    },
    "papermill": {
     "duration": null,
     "end_time": null,
     "exception": null,
     "start_time": null,
     "status": "pending"
    },
    "tags": []
   },
   "outputs": [],
   "source": [
    "from sklearn.metrics import classification_report\n",
    "print(classification_report(y_test, y_test_pred))"
   ]
  },
  {
   "cell_type": "code",
   "execution_count": null,
   "id": "98d72259",
   "metadata": {
    "execution": {
     "iopub.execute_input": "2021-08-29T09:41:08.210208Z",
     "iopub.status.busy": "2021-08-29T09:41:08.209858Z",
     "iopub.status.idle": "2021-08-29T09:41:08.221066Z",
     "shell.execute_reply": "2021-08-29T09:41:08.220119Z",
     "shell.execute_reply.started": "2021-08-29T09:41:08.210180Z"
    },
    "papermill": {
     "duration": null,
     "end_time": null,
     "exception": null,
     "start_time": null,
     "status": "pending"
    },
    "tags": []
   },
   "outputs": [],
   "source": [
    "y_test_pred_prob=clf_gini.predict_proba(x_test)[:,1]\n",
    "y_test_pred_prob\n",
    "\n",
    "from sklearn.metrics import roc_curve\n",
    "metrics.roc_auc_score(y_test, y_test_pred_prob)"
   ]
  },
  {
   "cell_type": "code",
   "execution_count": null,
   "id": "46518ce7",
   "metadata": {
    "execution": {
     "iopub.execute_input": "2021-08-29T09:41:09.049932Z",
     "iopub.status.busy": "2021-08-29T09:41:09.049584Z",
     "iopub.status.idle": "2021-08-29T09:41:09.221286Z",
     "shell.execute_reply": "2021-08-29T09:41:09.220626Z",
     "shell.execute_reply.started": "2021-08-29T09:41:09.049902Z"
    },
    "papermill": {
     "duration": null,
     "end_time": null,
     "exception": null,
     "start_time": null,
     "status": "pending"
    },
    "tags": []
   },
   "outputs": [],
   "source": [
    "fpr, tpr,thresholds=roc_curve(y_test,y_test_pred_prob)\n",
    "plt.figure(figsize=(10,10))\n",
    "plt.plot([0,1],[0,1],'k--')\n",
    "plt.plot(fpr, tpr, label='DEcision Tree with Entropy')\n",
    "plt.xlabel(\"fpr (False Possitive rate)\")\n",
    "plt.ylabel(\"tpr-(True Positive rate)\")\n",
    "plt.title(\"ROC_AUC\")\n",
    "plt.show()"
   ]
  },
  {
   "cell_type": "markdown",
   "id": "19188eaa",
   "metadata": {
    "papermill": {
     "duration": null,
     "end_time": null,
     "exception": null,
     "start_time": null,
     "status": "pending"
    },
    "tags": []
   },
   "source": [
    "# Standarizd dataset will be modeled"
   ]
  },
  {
   "cell_type": "code",
   "execution_count": null,
   "id": "cf7c685c",
   "metadata": {
    "execution": {
     "iopub.execute_input": "2021-08-29T09:41:11.252193Z",
     "iopub.status.busy": "2021-08-29T09:41:11.251847Z",
     "iopub.status.idle": "2021-08-29T09:41:11.257399Z",
     "shell.execute_reply": "2021-08-29T09:41:11.256228Z",
     "shell.execute_reply.started": "2021-08-29T09:41:11.252165Z"
    },
    "papermill": {
     "duration": null,
     "end_time": null,
     "exception": null,
     "start_time": null,
     "status": "pending"
    },
    "tags": []
   },
   "outputs": [],
   "source": [
    "col=['radius_mean', 'texture_mean', 'perimeter_mean',\n",
    "        'smoothness_mean', \n",
    "        'symmetry_mean', 'fractal_dimension_mean',\n",
    "       'radius_se', 'texture_se', 'perimeter_se', 'smoothness_se',\n",
    "        'concavity_se', 'concave points_se', 'symmetry_se',\n",
    "       'fractal_dimension_se', 'radius_worst', 'texture_worst',\n",
    "       'perimeter_worst', 'area_worst', 'smoothness_worst',\n",
    "        'concavity_worst', 'concave points_worst',\n",
    "       'symmetry_worst', 'fractal_dimension_worst']"
   ]
  },
  {
   "cell_type": "code",
   "execution_count": null,
   "id": "b76fdf00",
   "metadata": {
    "execution": {
     "iopub.execute_input": "2021-08-29T09:41:12.367273Z",
     "iopub.status.busy": "2021-08-29T09:41:12.366943Z",
     "iopub.status.idle": "2021-08-29T09:41:12.378459Z",
     "shell.execute_reply": "2021-08-29T09:41:12.377396Z",
     "shell.execute_reply.started": "2021-08-29T09:41:12.367245Z"
    },
    "papermill": {
     "duration": null,
     "end_time": null,
     "exception": null,
     "start_time": null,
     "status": "pending"
    },
    "tags": []
   },
   "outputs": [],
   "source": [
    "from sklearn.preprocessing import StandardScaler\n",
    "scaler = StandardScaler()\n",
    "scaler.fit(X)\n",
    "X = scaler.transform(X)"
   ]
  },
  {
   "cell_type": "code",
   "execution_count": null,
   "id": "963dcaa3",
   "metadata": {
    "execution": {
     "iopub.execute_input": "2021-08-29T09:41:13.132409Z",
     "iopub.status.busy": "2021-08-29T09:41:13.132087Z",
     "iopub.status.idle": "2021-08-29T09:41:13.138133Z",
     "shell.execute_reply": "2021-08-29T09:41:13.137376Z",
     "shell.execute_reply.started": "2021-08-29T09:41:13.132380Z"
    },
    "papermill": {
     "duration": null,
     "end_time": null,
     "exception": null,
     "start_time": null,
     "status": "pending"
    },
    "tags": []
   },
   "outputs": [],
   "source": [
    "y=df['diagnosis']\n",
    "X_train, x_test, y_train, y_test=train_test_split(X, y, test_size=0.3, random_state=10)"
   ]
  },
  {
   "cell_type": "markdown",
   "id": "164226dc",
   "metadata": {
    "papermill": {
     "duration": null,
     "end_time": null,
     "exception": null,
     "start_time": null,
     "status": "pending"
    },
    "tags": []
   },
   "source": [
    "# Logistic Regresion"
   ]
  },
  {
   "cell_type": "code",
   "execution_count": null,
   "id": "f860d682",
   "metadata": {
    "execution": {
     "iopub.execute_input": "2021-08-29T09:41:17.351726Z",
     "iopub.status.busy": "2021-08-29T09:41:17.351255Z",
     "iopub.status.idle": "2021-08-29T09:41:17.537868Z",
     "shell.execute_reply": "2021-08-29T09:41:17.536890Z",
     "shell.execute_reply.started": "2021-08-29T09:41:17.351694Z"
    },
    "papermill": {
     "duration": null,
     "end_time": null,
     "exception": null,
     "start_time": null,
     "status": "pending"
    },
    "tags": []
   },
   "outputs": [],
   "source": [
    "solver=['newton-cg', 'lbfgs', 'liblinear', 'sag', 'saga']\n",
    "error_rate=[]\n",
    "for s in solver:\n",
    "    \n",
    "    lr=LogisticRegression(solver=s)\n",
    "    lr.fit(X_train, y_train)\n",
    "    pred=lr.predict(x_test)\n",
    "    error_rate.append(np.mean(pred!=y_test))\n",
    "plt.figure(figsize=(15,10))\n",
    "plt.plot(solver, error_rate,marker='o', markersize=9)"
   ]
  },
  {
   "cell_type": "code",
   "execution_count": null,
   "id": "348c2f84",
   "metadata": {
    "execution": {
     "iopub.execute_input": "2021-08-29T09:41:18.060843Z",
     "iopub.status.busy": "2021-08-29T09:41:18.060460Z",
     "iopub.status.idle": "2021-08-29T09:41:18.076531Z",
     "shell.execute_reply": "2021-08-29T09:41:18.075562Z",
     "shell.execute_reply.started": "2021-08-29T09:41:18.060811Z"
    },
    "papermill": {
     "duration": null,
     "end_time": null,
     "exception": null,
     "start_time": null,
     "status": "pending"
    },
    "tags": []
   },
   "outputs": [],
   "source": [
    "lr=LogisticRegression(solver='newton-cg')\n",
    "lr.fit(X_train, y_train)"
   ]
  },
  {
   "cell_type": "code",
   "execution_count": null,
   "id": "9373128f",
   "metadata": {
    "execution": {
     "iopub.execute_input": "2021-08-29T09:41:18.627086Z",
     "iopub.status.busy": "2021-08-29T09:41:18.626678Z",
     "iopub.status.idle": "2021-08-29T09:41:18.631763Z",
     "shell.execute_reply": "2021-08-29T09:41:18.630609Z",
     "shell.execute_reply.started": "2021-08-29T09:41:18.627053Z"
    },
    "papermill": {
     "duration": null,
     "end_time": null,
     "exception": null,
     "start_time": null,
     "status": "pending"
    },
    "tags": []
   },
   "outputs": [],
   "source": [
    "y_pred=lr.predict(X_train)\n"
   ]
  },
  {
   "cell_type": "code",
   "execution_count": null,
   "id": "c2587e79",
   "metadata": {
    "execution": {
     "iopub.execute_input": "2021-08-29T09:41:19.401906Z",
     "iopub.status.busy": "2021-08-29T09:41:19.401515Z",
     "iopub.status.idle": "2021-08-29T09:41:19.419559Z",
     "shell.execute_reply": "2021-08-29T09:41:19.418585Z",
     "shell.execute_reply.started": "2021-08-29T09:41:19.401859Z"
    },
    "papermill": {
     "duration": null,
     "end_time": null,
     "exception": null,
     "start_time": null,
     "status": "pending"
    },
    "tags": []
   },
   "outputs": [],
   "source": [
    "print(\"Accuracy Score:-\", metrics.accuracy_score(y_train, y_pred))\n",
    "print(\"F1 Score:-\", metrics.f1_score(y_train, y_pred))\n",
    "print(\"Average Precision Score:-\", metrics.average_precision_score(y_train, y_pred))\n",
    "print(\"Log Loss:-\", metrics.log_loss(y_train, y_pred))\n",
    "print(\"Precision Score:-\", metrics.precision_score(y_train, y_pred))\n",
    "print(\"Recall Score:-\", metrics.recall_score(y_train, y_pred))\n",
    "print(\"ROC-AUC Score:-\", metrics.roc_auc_score(y_train, y_pred))"
   ]
  },
  {
   "cell_type": "markdown",
   "id": "d72ad93f",
   "metadata": {
    "papermill": {
     "duration": null,
     "end_time": null,
     "exception": null,
     "start_time": null,
     "status": "pending"
    },
    "tags": []
   },
   "source": [
    "# Conclusion\n",
    "* Standardarization of the dataset affects the model and its accuracy"
   ]
  },
  {
   "cell_type": "code",
   "execution_count": null,
   "id": "f13719cc",
   "metadata": {
    "execution": {
     "iopub.execute_input": "2021-08-29T09:41:24.130894Z",
     "iopub.status.busy": "2021-08-29T09:41:24.130566Z",
     "iopub.status.idle": "2021-08-29T09:41:24.137019Z",
     "shell.execute_reply": "2021-08-29T09:41:24.135990Z",
     "shell.execute_reply.started": "2021-08-29T09:41:24.130866Z"
    },
    "papermill": {
     "duration": null,
     "end_time": null,
     "exception": null,
     "start_time": null,
     "status": "pending"
    },
    "tags": []
   },
   "outputs": [],
   "source": [
    "y_test_pred=lr.predict(x_test)\n"
   ]
  },
  {
   "cell_type": "code",
   "execution_count": null,
   "id": "60310e56",
   "metadata": {
    "execution": {
     "iopub.execute_input": "2021-08-29T09:41:27.304201Z",
     "iopub.status.busy": "2021-08-29T09:41:27.303555Z",
     "iopub.status.idle": "2021-08-29T09:41:27.322993Z",
     "shell.execute_reply": "2021-08-29T09:41:27.322052Z",
     "shell.execute_reply.started": "2021-08-29T09:41:27.304153Z"
    },
    "papermill": {
     "duration": null,
     "end_time": null,
     "exception": null,
     "start_time": null,
     "status": "pending"
    },
    "tags": []
   },
   "outputs": [],
   "source": [
    "lr_acc=metrics.accuracy_score(y_test, y_test_pred)\n",
    "print(\"Accuracy Score:-\",lr_acc)\n",
    "print(\"F1 Score:-\", metrics.f1_score(y_test, y_test_pred))\n",
    "print(\"Average Precision Score:-\", metrics.average_precision_score(y_test, y_test_pred))\n",
    "print(\"Log Loss:-\", metrics.log_loss(y_test, y_test_pred))\n",
    "print(\"Precision Score:-\", metrics.precision_score(y_test, y_test_pred))\n",
    "print(\"Recall Score:-\", metrics.recall_score(y_test, y_test_pred))\n",
    "print(\"ROC-AUC Score:-\", metrics.roc_auc_score(y_test, y_test_pred))"
   ]
  },
  {
   "cell_type": "code",
   "execution_count": null,
   "id": "644f5586",
   "metadata": {
    "execution": {
     "iopub.execute_input": "2021-08-29T09:41:28.324572Z",
     "iopub.status.busy": "2021-08-29T09:41:28.324213Z",
     "iopub.status.idle": "2021-08-29T09:41:28.515001Z",
     "shell.execute_reply": "2021-08-29T09:41:28.514076Z",
     "shell.execute_reply.started": "2021-08-29T09:41:28.324538Z"
    },
    "papermill": {
     "duration": null,
     "end_time": null,
     "exception": null,
     "start_time": null,
     "status": "pending"
    },
    "tags": []
   },
   "outputs": [],
   "source": [
    "cfm=confusion_matrix(y_test, y_test_pred)\n",
    "disp = ConfusionMatrixDisplay(confusion_matrix=cfm,\n",
    "                               display_labels=lr.classes_)\n",
    "disp.plot()"
   ]
  },
  {
   "cell_type": "markdown",
   "id": "16b83896",
   "metadata": {
    "papermill": {
     "duration": null,
     "end_time": null,
     "exception": null,
     "start_time": null,
     "status": "pending"
    },
    "tags": []
   },
   "source": [
    "# Performing K-fold cross validation with Logistic Regression"
   ]
  },
  {
   "cell_type": "code",
   "execution_count": null,
   "id": "69ac8f6f",
   "metadata": {
    "execution": {
     "iopub.execute_input": "2021-08-29T09:41:29.647338Z",
     "iopub.status.busy": "2021-08-29T09:41:29.646980Z",
     "iopub.status.idle": "2021-08-29T09:41:29.748344Z",
     "shell.execute_reply": "2021-08-29T09:41:29.747441Z",
     "shell.execute_reply.started": "2021-08-29T09:41:29.647305Z"
    },
    "papermill": {
     "duration": null,
     "end_time": null,
     "exception": null,
     "start_time": null,
     "status": "pending"
    },
    "tags": []
   },
   "outputs": [],
   "source": [
    "from sklearn.model_selection import cross_val_score    \n",
    "scores = cross_val_score(lr, X, y, cv=10, scoring='accuracy') #cv is cross validation\n",
    "print(scores)\n",
    "print(\"-------------------\")\n",
    "print(scores.mean())"
   ]
  },
  {
   "cell_type": "code",
   "execution_count": null,
   "id": "a9da3baf",
   "metadata": {
    "execution": {
     "iopub.execute_input": "2021-08-29T09:41:30.461746Z",
     "iopub.status.busy": "2021-08-29T09:41:30.461381Z",
     "iopub.status.idle": "2021-08-29T09:41:30.471699Z",
     "shell.execute_reply": "2021-08-29T09:41:30.470776Z",
     "shell.execute_reply.started": "2021-08-29T09:41:30.461706Z"
    },
    "papermill": {
     "duration": null,
     "end_time": null,
     "exception": null,
     "start_time": null,
     "status": "pending"
    },
    "tags": []
   },
   "outputs": [],
   "source": [
    "from sklearn.metrics import classification_report\n",
    "print(classification_report(y_test, y_test_pred))"
   ]
  },
  {
   "cell_type": "code",
   "execution_count": null,
   "id": "77610a1b",
   "metadata": {
    "execution": {
     "iopub.execute_input": "2021-08-29T09:41:34.112953Z",
     "iopub.status.busy": "2021-08-29T09:41:34.112598Z",
     "iopub.status.idle": "2021-08-29T09:41:34.122891Z",
     "shell.execute_reply": "2021-08-29T09:41:34.121774Z",
     "shell.execute_reply.started": "2021-08-29T09:41:34.112914Z"
    },
    "papermill": {
     "duration": null,
     "end_time": null,
     "exception": null,
     "start_time": null,
     "status": "pending"
    },
    "tags": []
   },
   "outputs": [],
   "source": [
    "y_test_pred_prob=lr.predict_proba(x_test)[:,1]\n",
    "y_test_pred_prob\n",
    "\n",
    "from sklearn.metrics import roc_curve\n",
    "metrics.roc_auc_score(y_test, y_test_pred_prob)"
   ]
  },
  {
   "cell_type": "code",
   "execution_count": null,
   "id": "a66f1db5",
   "metadata": {
    "execution": {
     "iopub.execute_input": "2021-08-29T09:41:37.071477Z",
     "iopub.status.busy": "2021-08-29T09:41:37.071099Z",
     "iopub.status.idle": "2021-08-29T09:41:37.232733Z",
     "shell.execute_reply": "2021-08-29T09:41:37.231925Z",
     "shell.execute_reply.started": "2021-08-29T09:41:37.071447Z"
    },
    "papermill": {
     "duration": null,
     "end_time": null,
     "exception": null,
     "start_time": null,
     "status": "pending"
    },
    "tags": []
   },
   "outputs": [],
   "source": [
    "fpr, tpr,thresholds=roc_curve(y_test,y_test_pred_prob)\n",
    "plt.figure(figsize=(10,10))\n",
    "plt.plot([0,1],[0,1],'k--')\n",
    "plt.plot(fpr, tpr, label='Logistic Regression')\n",
    "plt.xlabel(\"fpr (False Possitive rate)\")\n",
    "plt.ylabel(\"tpr-(True Positive rate)\")\n",
    "plt.title(\"ROC_AUC\")\n",
    "plt.show()"
   ]
  },
  {
   "cell_type": "code",
   "execution_count": null,
   "id": "353c1d06",
   "metadata": {
    "execution": {
     "iopub.execute_input": "2021-08-29T09:41:37.769931Z",
     "iopub.status.busy": "2021-08-29T09:41:37.769590Z",
     "iopub.status.idle": "2021-08-29T09:41:37.942271Z",
     "shell.execute_reply": "2021-08-29T09:41:37.941269Z",
     "shell.execute_reply.started": "2021-08-29T09:41:37.769902Z"
    },
    "papermill": {
     "duration": null,
     "end_time": null,
     "exception": null,
     "start_time": null,
     "status": "pending"
    },
    "tags": []
   },
   "outputs": [],
   "source": [
    "from sklearn.metrics import precision_recall_curve\n",
    "no_skill=len(y==1)/len(y)\n",
    "y_test_prob=lr.predict_proba(x_test)[:,1]\n",
    "plt.figure(figsize=(10,8))\n",
    "plt.plot([0,1],[no_skill, no_skill], label=\"No Skill\")\n",
    "precision, recall,_ =precision_recall_curve(y_test, y_test_prob)\n",
    "plt.plot(recall, precision, marker='',label=\"Logistic Regression\")\n",
    "plt.xlabel(\"Recall\")\n",
    "plt.ylabel(\"Precision\")\n",
    "plt.title(\"Recall-Precision Curve\")\n",
    "plt.legend()\n",
    "plt.show()"
   ]
  },
  {
   "cell_type": "markdown",
   "id": "2f9ad42f",
   "metadata": {
    "papermill": {
     "duration": null,
     "end_time": null,
     "exception": null,
     "start_time": null,
     "status": "pending"
    },
    "tags": []
   },
   "source": [
    "# K-NN"
   ]
  },
  {
   "cell_type": "code",
   "execution_count": null,
   "id": "fd03cc9d",
   "metadata": {
    "execution": {
     "iopub.execute_input": "2021-08-29T09:41:39.520456Z",
     "iopub.status.busy": "2021-08-29T09:41:39.520120Z",
     "iopub.status.idle": "2021-08-29T09:41:39.760930Z",
     "shell.execute_reply": "2021-08-29T09:41:39.760161Z",
     "shell.execute_reply.started": "2021-08-29T09:41:39.520416Z"
    },
    "papermill": {
     "duration": null,
     "end_time": null,
     "exception": null,
     "start_time": null,
     "status": "pending"
    },
    "tags": []
   },
   "outputs": [],
   "source": [
    "error_rate=[]\n",
    "\n",
    "for i in range(1,11):\n",
    "    knn=KNeighborsClassifier(n_neighbors=i)\n",
    "    knn.fit(X_train, y_train)\n",
    "    pred=knn.predict(x_test)\n",
    "    error_rate.append(np.mean(pred!=y_test))\n",
    "    \n",
    "plt.figure(figsize=(15,10))\n",
    "plt.plot(range(1,11), error_rate,marker='o', markersize=9)"
   ]
  },
  {
   "cell_type": "code",
   "execution_count": null,
   "id": "d2f658a2",
   "metadata": {
    "execution": {
     "iopub.execute_input": "2021-08-29T09:41:40.514991Z",
     "iopub.status.busy": "2021-08-29T09:41:40.514535Z",
     "iopub.status.idle": "2021-08-29T09:41:40.521651Z",
     "shell.execute_reply": "2021-08-29T09:41:40.520908Z",
     "shell.execute_reply.started": "2021-08-29T09:41:40.514960Z"
    },
    "papermill": {
     "duration": null,
     "end_time": null,
     "exception": null,
     "start_time": null,
     "status": "pending"
    },
    "tags": []
   },
   "outputs": [],
   "source": [
    "knn=KNeighborsClassifier(n_neighbors=3)\n",
    "knn.fit(X_train, y_train)"
   ]
  },
  {
   "cell_type": "code",
   "execution_count": null,
   "id": "ec898f5c",
   "metadata": {
    "execution": {
     "iopub.execute_input": "2021-08-29T09:41:41.320198Z",
     "iopub.status.busy": "2021-08-29T09:41:41.319622Z",
     "iopub.status.idle": "2021-08-29T09:41:41.345752Z",
     "shell.execute_reply": "2021-08-29T09:41:41.344766Z",
     "shell.execute_reply.started": "2021-08-29T09:41:41.320150Z"
    },
    "papermill": {
     "duration": null,
     "end_time": null,
     "exception": null,
     "start_time": null,
     "status": "pending"
    },
    "tags": []
   },
   "outputs": [],
   "source": [
    "y_pred=knn.predict(X_train)\n"
   ]
  },
  {
   "cell_type": "code",
   "execution_count": null,
   "id": "0ed5a39b",
   "metadata": {
    "execution": {
     "iopub.execute_input": "2021-08-29T09:41:41.940364Z",
     "iopub.status.busy": "2021-08-29T09:41:41.940013Z",
     "iopub.status.idle": "2021-08-29T09:41:41.957896Z",
     "shell.execute_reply": "2021-08-29T09:41:41.957205Z",
     "shell.execute_reply.started": "2021-08-29T09:41:41.940335Z"
    },
    "papermill": {
     "duration": null,
     "end_time": null,
     "exception": null,
     "start_time": null,
     "status": "pending"
    },
    "tags": []
   },
   "outputs": [],
   "source": [
    "print(\"Accuracy Score:-\", metrics.accuracy_score(y_train, y_pred))\n",
    "print(\"F1 Score:-\", metrics.f1_score(y_train, y_pred))\n",
    "print(\"Average Precision Score:-\", metrics.average_precision_score(y_train, y_pred))\n",
    "print(\"Log Loss:-\", metrics.log_loss(y_train, y_pred))\n",
    "print(\"Precision Score:-\", metrics.precision_score(y_train, y_pred))\n",
    "print(\"Recall Score:-\", metrics.recall_score(y_train, y_pred))\n",
    "print(\"ROC-AUC Score:-\", metrics.roc_auc_score(y_train, y_pred))"
   ]
  },
  {
   "cell_type": "markdown",
   "id": "d550e5d5",
   "metadata": {
    "papermill": {
     "duration": null,
     "end_time": null,
     "exception": null,
     "start_time": null,
     "status": "pending"
    },
    "tags": []
   },
   "source": [
    "# Conclusion:\n",
    "* Accuracy has increased too much\n",
    "* Standarization affects the accuracy of the model\n",
    "* Log-loss is almost zero\n",
    "* Recall score and AUC are much better "
   ]
  },
  {
   "cell_type": "code",
   "execution_count": null,
   "id": "9ffb8a60",
   "metadata": {
    "execution": {
     "iopub.execute_input": "2021-08-29T09:41:49.656000Z",
     "iopub.status.busy": "2021-08-29T09:41:49.655472Z",
     "iopub.status.idle": "2021-08-29T09:41:49.670605Z",
     "shell.execute_reply": "2021-08-29T09:41:49.669774Z",
     "shell.execute_reply.started": "2021-08-29T09:41:49.655962Z"
    },
    "papermill": {
     "duration": null,
     "end_time": null,
     "exception": null,
     "start_time": null,
     "status": "pending"
    },
    "tags": []
   },
   "outputs": [],
   "source": [
    "y_test_pred=knn.predict(x_test)\n"
   ]
  },
  {
   "cell_type": "code",
   "execution_count": null,
   "id": "0d9725f7",
   "metadata": {
    "execution": {
     "iopub.execute_input": "2021-08-29T09:41:50.400916Z",
     "iopub.status.busy": "2021-08-29T09:41:50.400444Z",
     "iopub.status.idle": "2021-08-29T09:41:50.417355Z",
     "shell.execute_reply": "2021-08-29T09:41:50.416727Z",
     "shell.execute_reply.started": "2021-08-29T09:41:50.400885Z"
    },
    "papermill": {
     "duration": null,
     "end_time": null,
     "exception": null,
     "start_time": null,
     "status": "pending"
    },
    "tags": []
   },
   "outputs": [],
   "source": [
    "knn_acc=metrics.accuracy_score(y_test, y_test_pred)\n",
    "print(\"Accuracy Score:-\",knn_acc)\n",
    "print(\"F1 Score:-\", metrics.f1_score(y_test, y_test_pred))\n",
    "print(\"Average Precision Score:-\", metrics.average_precision_score(y_test, y_test_pred))\n",
    "print(\"Log Loss:-\", metrics.log_loss(y_test, y_test_pred))\n",
    "print(\"Precision Score:-\", metrics.precision_score(y_test, y_test_pred))\n",
    "print(\"Recall Score:-\", metrics.recall_score(y_test, y_test_pred))\n",
    "print(\"ROC-AUC Score:-\", metrics.roc_auc_score(y_test, y_test_pred))"
   ]
  },
  {
   "cell_type": "code",
   "execution_count": null,
   "id": "20135b13",
   "metadata": {
    "execution": {
     "iopub.execute_input": "2021-08-29T09:41:51.247011Z",
     "iopub.status.busy": "2021-08-29T09:41:51.246495Z",
     "iopub.status.idle": "2021-08-29T09:41:51.424001Z",
     "shell.execute_reply": "2021-08-29T09:41:51.423296Z",
     "shell.execute_reply.started": "2021-08-29T09:41:51.246980Z"
    },
    "papermill": {
     "duration": null,
     "end_time": null,
     "exception": null,
     "start_time": null,
     "status": "pending"
    },
    "tags": []
   },
   "outputs": [],
   "source": [
    "cfm=confusion_matrix(y_test, y_test_pred)\n",
    "disp = ConfusionMatrixDisplay(confusion_matrix=cfm,\n",
    "                               display_labels=knn.classes_)\n",
    "disp.plot()"
   ]
  },
  {
   "cell_type": "code",
   "execution_count": null,
   "id": "3fe22912",
   "metadata": {
    "execution": {
     "iopub.execute_input": "2021-08-29T09:41:52.107982Z",
     "iopub.status.busy": "2021-08-29T09:41:52.107393Z",
     "iopub.status.idle": "2021-08-29T09:41:52.116677Z",
     "shell.execute_reply": "2021-08-29T09:41:52.115750Z",
     "shell.execute_reply.started": "2021-08-29T09:41:52.107952Z"
    },
    "papermill": {
     "duration": null,
     "end_time": null,
     "exception": null,
     "start_time": null,
     "status": "pending"
    },
    "tags": []
   },
   "outputs": [],
   "source": [
    "from sklearn.metrics import classification_report\n",
    "print(classification_report(y_test, y_test_pred))"
   ]
  },
  {
   "cell_type": "code",
   "execution_count": null,
   "id": "b6deefd9",
   "metadata": {
    "execution": {
     "iopub.execute_input": "2021-08-29T09:41:52.818103Z",
     "iopub.status.busy": "2021-08-29T09:41:52.817708Z",
     "iopub.status.idle": "2021-08-29T09:41:52.829464Z",
     "shell.execute_reply": "2021-08-29T09:41:52.828473Z",
     "shell.execute_reply.started": "2021-08-29T09:41:52.818071Z"
    },
    "papermill": {
     "duration": null,
     "end_time": null,
     "exception": null,
     "start_time": null,
     "status": "pending"
    },
    "tags": []
   },
   "outputs": [],
   "source": [
    "y_test_pred_prob=knn.predict_proba(x_test)[:,1]\n",
    "y_test_pred_prob\n",
    "\n",
    "from sklearn.metrics import roc_curve\n",
    "metrics.roc_auc_score(y_test, y_test_pred_prob)"
   ]
  },
  {
   "cell_type": "code",
   "execution_count": null,
   "id": "32955dfc",
   "metadata": {
    "execution": {
     "iopub.execute_input": "2021-08-29T09:41:53.637013Z",
     "iopub.status.busy": "2021-08-29T09:41:53.636566Z",
     "iopub.status.idle": "2021-08-29T09:41:53.816241Z",
     "shell.execute_reply": "2021-08-29T09:41:53.815331Z",
     "shell.execute_reply.started": "2021-08-29T09:41:53.636982Z"
    },
    "papermill": {
     "duration": null,
     "end_time": null,
     "exception": null,
     "start_time": null,
     "status": "pending"
    },
    "tags": []
   },
   "outputs": [],
   "source": [
    "fpr, tpr,thresholds=roc_curve(y_test,y_test_pred_prob)\n",
    "plt.figure(figsize=(10,10))\n",
    "plt.plot([0,1],[0,1],'k--')\n",
    "plt.plot(fpr, tpr, label='Logistic Regression')\n",
    "plt.xlabel(\"fpr (False Possitive rate)\")\n",
    "plt.ylabel(\"tpr-(True Positive rate)\")\n",
    "plt.title"
   ]
  },
  {
   "cell_type": "code",
   "execution_count": null,
   "id": "71142199",
   "metadata": {
    "execution": {
     "iopub.execute_input": "2021-08-29T09:41:54.501237Z",
     "iopub.status.busy": "2021-08-29T09:41:54.500873Z",
     "iopub.status.idle": "2021-08-29T09:41:54.666389Z",
     "shell.execute_reply": "2021-08-29T09:41:54.665594Z",
     "shell.execute_reply.started": "2021-08-29T09:41:54.501207Z"
    },
    "papermill": {
     "duration": null,
     "end_time": null,
     "exception": null,
     "start_time": null,
     "status": "pending"
    },
    "tags": []
   },
   "outputs": [],
   "source": [
    "from sklearn.metrics import precision_recall_curve\n",
    "no_skill=len(y==1)/len(y)\n",
    "y_test_prob=knn.predict_proba(x_test)[:,1]\n",
    "plt.figure(figsize=(10,8))\n",
    "plt.plot([0,1],[no_skill, no_skill], label=\"No Skill\")\n",
    "precision, recall,_ =precision_recall_curve(y_test, y_test_prob)\n",
    "plt.plot(recall, precision, marker='',label=\"Knn\")\n",
    "plt.xlabel(\"Recall\")\n",
    "plt.ylabel(\"Precision\")\n",
    "plt.title(\"Recall-Precision Curve\")\n",
    "plt.legend()\n",
    "plt.show()"
   ]
  },
  {
   "cell_type": "markdown",
   "id": "15b45f4d",
   "metadata": {
    "papermill": {
     "duration": null,
     "end_time": null,
     "exception": null,
     "start_time": null,
     "status": "pending"
    },
    "tags": []
   },
   "source": [
    "# Simple Cross validation"
   ]
  },
  {
   "cell_type": "code",
   "execution_count": null,
   "id": "2b319e3b",
   "metadata": {
    "execution": {
     "iopub.execute_input": "2021-08-29T09:41:56.026344Z",
     "iopub.status.busy": "2021-08-29T09:41:56.025858Z",
     "iopub.status.idle": "2021-08-29T09:41:56.035000Z",
     "shell.execute_reply": "2021-08-29T09:41:56.034158Z",
     "shell.execute_reply.started": "2021-08-29T09:41:56.026301Z"
    },
    "papermill": {
     "duration": null,
     "end_time": null,
     "exception": null,
     "start_time": null,
     "status": "pending"
    },
    "tags": []
   },
   "outputs": [],
   "source": [
    "# train, cv, test\n",
    "X_train, x_test, y_train, y_test=train_test_split(X, y, test_size=0.3, random_state=10)\n",
    "X_tr, X_cv, y_tr, y_cv = train_test_split(X, y, test_size=0.3)"
   ]
  },
  {
   "cell_type": "code",
   "execution_count": null,
   "id": "5838c2bd",
   "metadata": {
    "execution": {
     "iopub.execute_input": "2021-08-29T09:41:56.743770Z",
     "iopub.status.busy": "2021-08-29T09:41:56.743275Z",
     "iopub.status.idle": "2021-08-29T09:41:57.498727Z",
     "shell.execute_reply": "2021-08-29T09:41:57.497601Z",
     "shell.execute_reply.started": "2021-08-29T09:41:56.743725Z"
    },
    "papermill": {
     "duration": null,
     "end_time": null,
     "exception": null,
     "start_time": null,
     "status": "pending"
    },
    "tags": []
   },
   "outputs": [],
   "source": [
    "from sklearn.metrics import accuracy_score\n",
    "hist = {\n",
    "    'ks': [],\n",
    "    'acc_cv': [],\n",
    "    'acc_tr': []\n",
    "}\n",
    "\n",
    "for k in range(1,50,2):\n",
    "    knn = KNeighborsClassifier(n_neighbors=k)\n",
    "    # fitting cv train\n",
    "    knn.fit(X_tr, y_tr)\n",
    "    # predict and eval  cv train\n",
    "    pred_cv = knn.predict(X_cv)\n",
    "    pred_tr = knn.predict(X_tr)\n",
    "    acc_cv = accuracy_score(y_cv, pred_cv, normalize=True) * float(100)\n",
    "    acc_tr  = accuracy_score(y_tr, pred_tr, normalize=True) * float(100)\n",
    "    print(f\"k:{k}\\t val-acc: {acc_cv} \\ttrain-acc: {acc_tr}\")\n",
    "    \n",
    "    # log\n",
    "    hist['ks'].append(k)    \n",
    "    hist['acc_cv'].append(acc_cv)    \n",
    "    hist['acc_tr'].append(acc_tr)"
   ]
  },
  {
   "cell_type": "code",
   "execution_count": null,
   "id": "14288e63",
   "metadata": {
    "execution": {
     "iopub.execute_input": "2021-08-29T09:41:57.500357Z",
     "iopub.status.busy": "2021-08-29T09:41:57.500090Z",
     "iopub.status.idle": "2021-08-29T09:41:57.762440Z",
     "shell.execute_reply": "2021-08-29T09:41:57.761500Z",
     "shell.execute_reply.started": "2021-08-29T09:41:57.500331Z"
    },
    "papermill": {
     "duration": null,
     "end_time": null,
     "exception": null,
     "start_time": null,
     "status": "pending"
    },
    "tags": []
   },
   "outputs": [],
   "source": [
    "plt.figure(figsize=(20, 7))\n",
    "\n",
    "plt.plot(hist['ks'], hist['acc_cv'], label='cv')\n",
    "plt.plot(hist['ks'], hist['acc_tr'], label='train')\n",
    "\n",
    "for k, acc_cv in zip(hist['ks'], hist['acc_cv']):\n",
    "    plt.text(k, acc_cv, f'k={k}')\n",
    "\n",
    "plt.legend()\n",
    "plt.show()"
   ]
  },
  {
   "cell_type": "code",
   "execution_count": null,
   "id": "daf04e56",
   "metadata": {
    "papermill": {
     "duration": null,
     "end_time": null,
     "exception": null,
     "start_time": null,
     "status": "pending"
    },
    "tags": []
   },
   "outputs": [],
   "source": []
  },
  {
   "cell_type": "code",
   "execution_count": null,
   "id": "7f59270d",
   "metadata": {
    "papermill": {
     "duration": null,
     "end_time": null,
     "exception": null,
     "start_time": null,
     "status": "pending"
    },
    "tags": []
   },
   "outputs": [],
   "source": []
  },
  {
   "cell_type": "code",
   "execution_count": null,
   "id": "f98e4db7",
   "metadata": {
    "papermill": {
     "duration": null,
     "end_time": null,
     "exception": null,
     "start_time": null,
     "status": "pending"
    },
    "tags": []
   },
   "outputs": [],
   "source": []
  }
 ],
 "metadata": {
  "kernelspec": {
   "display_name": "Python 3",
   "language": "python",
   "name": "python3"
  },
  "language_info": {
   "codemirror_mode": {
    "name": "ipython",
    "version": 3
   },
   "file_extension": ".py",
   "mimetype": "text/x-python",
   "name": "python",
   "nbconvert_exporter": "python",
   "pygments_lexer": "ipython3",
   "version": "3.7.10"
  },
  "papermill": {
   "default_parameters": {},
   "duration": 28.088113,
   "end_time": "2021-08-29T09:44:47.328294",
   "environment_variables": {},
   "exception": true,
   "input_path": "__notebook__.ipynb",
   "output_path": "__notebook__.ipynb",
   "parameters": {},
   "start_time": "2021-08-29T09:44:19.240181",
   "version": "2.3.3"
  }
 },
 "nbformat": 4,
 "nbformat_minor": 5
}
