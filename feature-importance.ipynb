{
 "cells": [
  {
   "cell_type": "code",
   "execution_count": 1,
   "id": "dccd2957",
   "metadata": {
    "_cell_guid": "b1076dfc-b9ad-4769-8c92-a6c4dae69d19",
    "_uuid": "8f2839f25d086af736a60e9eeb907d3b93b6e0e5",
    "execution": {
     "iopub.execute_input": "2021-08-31T07:31:09.571372Z",
     "iopub.status.busy": "2021-08-31T07:31:09.570171Z",
     "iopub.status.idle": "2021-08-31T07:31:09.590693Z",
     "shell.execute_reply": "2021-08-31T07:31:09.591445Z",
     "shell.execute_reply.started": "2021-08-31T07:22:46.388212Z"
    },
    "papermill": {
     "duration": 0.067275,
     "end_time": "2021-08-31T07:31:09.591838",
     "exception": false,
     "start_time": "2021-08-31T07:31:09.524563",
     "status": "completed"
    },
    "tags": []
   },
   "outputs": [
    {
     "name": "stdout",
     "output_type": "stream",
     "text": [
      "/kaggle/input/breast-cancer-wisconsin-data/data.csv\n"
     ]
    }
   ],
   "source": [
    "# This Python 3 environment comes with many helpful analytics libraries installed\n",
    "# It is defined by the kaggle/python Docker image: https://github.com/kaggle/docker-python\n",
    "# For example, here's several helpful packages to load\n",
    "\n",
    "import numpy as np # linear algebra\n",
    "import pandas as pd # data processing, CSV file I/O (e.g. pd.read_csv)\n",
    "\n",
    "# Input data files are available in the read-only \"../input/\" directory\n",
    "# For example, running this (by clicking run or pressing Shift+Enter) will list all files under the input directory\n",
    "\n",
    "import os\n",
    "for dirname, _, filenames in os.walk('/kaggle/input'):\n",
    "    for filename in filenames:\n",
    "        print(os.path.join(dirname, filename))\n",
    "\n",
    "# You can write up to 20GB to the current directory (/kaggle/working/) that gets preserved as output when you create a version using \"Save & Run All\" \n",
    "# You can also write temporary files to /kaggle/temp/, but they won't be saved outside of the current session"
   ]
  },
  {
   "cell_type": "markdown",
   "id": "dd2dc26e",
   "metadata": {
    "papermill": {
     "duration": 0.039207,
     "end_time": "2021-08-31T07:31:09.670596",
     "exception": false,
     "start_time": "2021-08-31T07:31:09.631389",
     "status": "completed"
    },
    "tags": []
   },
   "source": [
    "# Feature Importance\n",
    "*  techniques that assign a score to input features based on how useful they are at predicting a target variable\n",
    "* There are many types and sources of feature importance scores, although popular examples include statistical correlation scores, coefficients calculated as part of linear models, decision trees, and permutation importance scores\n",
    "* Feature importance scores play an important role in a predictive modeling project, including providing insight into the data, insight into the model\n",
    "* Feature importance refers to a class of techniques for assigning scores to input features to a predictive model that indicates the relative importance of each feature when making a prediction\n",
    "* Feature importance scores can be calculated for problems that involve predicting a numerical value, called regression, and those problems that involve predicting a class label, called classification."
   ]
  },
  {
   "cell_type": "code",
   "execution_count": 2,
   "id": "d4d28302",
   "metadata": {
    "execution": {
     "iopub.execute_input": "2021-08-31T07:31:09.757710Z",
     "iopub.status.busy": "2021-08-31T07:31:09.756999Z",
     "iopub.status.idle": "2021-08-31T07:31:14.624404Z",
     "shell.execute_reply": "2021-08-31T07:31:14.623763Z",
     "shell.execute_reply.started": "2021-08-31T07:22:52.886336Z"
    },
    "papermill": {
     "duration": 4.914731,
     "end_time": "2021-08-31T07:31:14.624561",
     "exception": false,
     "start_time": "2021-08-31T07:31:09.709830",
     "status": "completed"
    },
    "tags": []
   },
   "outputs": [
    {
     "data": {
      "text/html": [
       "        <script type=\"text/javascript\">\n",
       "        window.PlotlyConfig = {MathJaxConfig: 'local'};\n",
       "        if (window.MathJax) {MathJax.Hub.Config({SVG: {font: \"STIX-Web\"}});}\n",
       "        if (typeof require !== 'undefined') {\n",
       "        require.undef(\"plotly\");\n",
       "        requirejs.config({\n",
       "            paths: {\n",
       "                'plotly': ['https://cdn.plot.ly/plotly-2.2.0.min']\n",
       "            }\n",
       "        });\n",
       "        require(['plotly'], function(Plotly) {\n",
       "            window._Plotly = Plotly;\n",
       "        });\n",
       "        }\n",
       "        </script>\n",
       "        "
      ]
     },
     "metadata": {},
     "output_type": "display_data"
    }
   ],
   "source": [
    "import numpy as np\n",
    "import pandas as pd\n",
    "import matplotlib.pyplot as plt\n",
    "import seaborn as sns\n",
    "\n",
    "from pandas import plotting\n",
    "\n",
    "#plotly \n",
    "import plotly.offline as py\n",
    "import plotly.graph_objects as go\n",
    "from plotly.offline import init_notebook_mode, iplot\n",
    "from plotly import tools\n",
    "init_notebook_mode(connected=True)\n",
    "import plotly.figure_factory as ff\n",
    "import plotly.express as px\n",
    "\n",
    "from sklearn.preprocessing import StandardScaler\n",
    "\n",
    "from sklearn.linear_model import LogisticRegression\n",
    "from sklearn import preprocessing\n",
    "from sklearn import neighbors\n",
    "from sklearn.metrics import confusion_matrix,classification_report,precision_score\n",
    "from sklearn.model_selection import train_test_split\n",
    "\n",
    "import statsmodels.api as sm\n",
    "import statsmodels.formula.api as smf\n",
    "\n",
    "sns.set(style=\"whitegrid\")"
   ]
  },
  {
   "cell_type": "code",
   "execution_count": 3,
   "id": "e482d461",
   "metadata": {
    "execution": {
     "iopub.execute_input": "2021-08-31T07:31:14.709749Z",
     "iopub.status.busy": "2021-08-31T07:31:14.709086Z",
     "iopub.status.idle": "2021-08-31T07:31:14.772562Z",
     "shell.execute_reply": "2021-08-31T07:31:14.771988Z",
     "shell.execute_reply.started": "2021-08-31T07:22:53.811853Z"
    },
    "papermill": {
     "duration": 0.107559,
     "end_time": "2021-08-31T07:31:14.772716",
     "exception": false,
     "start_time": "2021-08-31T07:31:14.665157",
     "status": "completed"
    },
    "tags": []
   },
   "outputs": [
    {
     "data": {
      "text/html": [
       "<div>\n",
       "<style scoped>\n",
       "    .dataframe tbody tr th:only-of-type {\n",
       "        vertical-align: middle;\n",
       "    }\n",
       "\n",
       "    .dataframe tbody tr th {\n",
       "        vertical-align: top;\n",
       "    }\n",
       "\n",
       "    .dataframe thead th {\n",
       "        text-align: right;\n",
       "    }\n",
       "</style>\n",
       "<table border=\"1\" class=\"dataframe\">\n",
       "  <thead>\n",
       "    <tr style=\"text-align: right;\">\n",
       "      <th></th>\n",
       "      <th>id</th>\n",
       "      <th>diagnosis</th>\n",
       "      <th>radius_mean</th>\n",
       "      <th>texture_mean</th>\n",
       "      <th>perimeter_mean</th>\n",
       "      <th>area_mean</th>\n",
       "      <th>smoothness_mean</th>\n",
       "      <th>compactness_mean</th>\n",
       "      <th>concavity_mean</th>\n",
       "      <th>concave points_mean</th>\n",
       "      <th>...</th>\n",
       "      <th>texture_worst</th>\n",
       "      <th>perimeter_worst</th>\n",
       "      <th>area_worst</th>\n",
       "      <th>smoothness_worst</th>\n",
       "      <th>compactness_worst</th>\n",
       "      <th>concavity_worst</th>\n",
       "      <th>concave points_worst</th>\n",
       "      <th>symmetry_worst</th>\n",
       "      <th>fractal_dimension_worst</th>\n",
       "      <th>Unnamed: 32</th>\n",
       "    </tr>\n",
       "  </thead>\n",
       "  <tbody>\n",
       "    <tr>\n",
       "      <th>0</th>\n",
       "      <td>842302</td>\n",
       "      <td>M</td>\n",
       "      <td>17.99</td>\n",
       "      <td>10.38</td>\n",
       "      <td>122.80</td>\n",
       "      <td>1001.0</td>\n",
       "      <td>0.11840</td>\n",
       "      <td>0.27760</td>\n",
       "      <td>0.3001</td>\n",
       "      <td>0.14710</td>\n",
       "      <td>...</td>\n",
       "      <td>17.33</td>\n",
       "      <td>184.60</td>\n",
       "      <td>2019.0</td>\n",
       "      <td>0.1622</td>\n",
       "      <td>0.6656</td>\n",
       "      <td>0.7119</td>\n",
       "      <td>0.2654</td>\n",
       "      <td>0.4601</td>\n",
       "      <td>0.11890</td>\n",
       "      <td>NaN</td>\n",
       "    </tr>\n",
       "    <tr>\n",
       "      <th>1</th>\n",
       "      <td>842517</td>\n",
       "      <td>M</td>\n",
       "      <td>20.57</td>\n",
       "      <td>17.77</td>\n",
       "      <td>132.90</td>\n",
       "      <td>1326.0</td>\n",
       "      <td>0.08474</td>\n",
       "      <td>0.07864</td>\n",
       "      <td>0.0869</td>\n",
       "      <td>0.07017</td>\n",
       "      <td>...</td>\n",
       "      <td>23.41</td>\n",
       "      <td>158.80</td>\n",
       "      <td>1956.0</td>\n",
       "      <td>0.1238</td>\n",
       "      <td>0.1866</td>\n",
       "      <td>0.2416</td>\n",
       "      <td>0.1860</td>\n",
       "      <td>0.2750</td>\n",
       "      <td>0.08902</td>\n",
       "      <td>NaN</td>\n",
       "    </tr>\n",
       "    <tr>\n",
       "      <th>2</th>\n",
       "      <td>84300903</td>\n",
       "      <td>M</td>\n",
       "      <td>19.69</td>\n",
       "      <td>21.25</td>\n",
       "      <td>130.00</td>\n",
       "      <td>1203.0</td>\n",
       "      <td>0.10960</td>\n",
       "      <td>0.15990</td>\n",
       "      <td>0.1974</td>\n",
       "      <td>0.12790</td>\n",
       "      <td>...</td>\n",
       "      <td>25.53</td>\n",
       "      <td>152.50</td>\n",
       "      <td>1709.0</td>\n",
       "      <td>0.1444</td>\n",
       "      <td>0.4245</td>\n",
       "      <td>0.4504</td>\n",
       "      <td>0.2430</td>\n",
       "      <td>0.3613</td>\n",
       "      <td>0.08758</td>\n",
       "      <td>NaN</td>\n",
       "    </tr>\n",
       "    <tr>\n",
       "      <th>3</th>\n",
       "      <td>84348301</td>\n",
       "      <td>M</td>\n",
       "      <td>11.42</td>\n",
       "      <td>20.38</td>\n",
       "      <td>77.58</td>\n",
       "      <td>386.1</td>\n",
       "      <td>0.14250</td>\n",
       "      <td>0.28390</td>\n",
       "      <td>0.2414</td>\n",
       "      <td>0.10520</td>\n",
       "      <td>...</td>\n",
       "      <td>26.50</td>\n",
       "      <td>98.87</td>\n",
       "      <td>567.7</td>\n",
       "      <td>0.2098</td>\n",
       "      <td>0.8663</td>\n",
       "      <td>0.6869</td>\n",
       "      <td>0.2575</td>\n",
       "      <td>0.6638</td>\n",
       "      <td>0.17300</td>\n",
       "      <td>NaN</td>\n",
       "    </tr>\n",
       "    <tr>\n",
       "      <th>4</th>\n",
       "      <td>84358402</td>\n",
       "      <td>M</td>\n",
       "      <td>20.29</td>\n",
       "      <td>14.34</td>\n",
       "      <td>135.10</td>\n",
       "      <td>1297.0</td>\n",
       "      <td>0.10030</td>\n",
       "      <td>0.13280</td>\n",
       "      <td>0.1980</td>\n",
       "      <td>0.10430</td>\n",
       "      <td>...</td>\n",
       "      <td>16.67</td>\n",
       "      <td>152.20</td>\n",
       "      <td>1575.0</td>\n",
       "      <td>0.1374</td>\n",
       "      <td>0.2050</td>\n",
       "      <td>0.4000</td>\n",
       "      <td>0.1625</td>\n",
       "      <td>0.2364</td>\n",
       "      <td>0.07678</td>\n",
       "      <td>NaN</td>\n",
       "    </tr>\n",
       "  </tbody>\n",
       "</table>\n",
       "<p>5 rows × 33 columns</p>\n",
       "</div>"
      ],
      "text/plain": [
       "         id diagnosis  radius_mean  texture_mean  perimeter_mean  area_mean  \\\n",
       "0    842302         M        17.99         10.38          122.80     1001.0   \n",
       "1    842517         M        20.57         17.77          132.90     1326.0   \n",
       "2  84300903         M        19.69         21.25          130.00     1203.0   \n",
       "3  84348301         M        11.42         20.38           77.58      386.1   \n",
       "4  84358402         M        20.29         14.34          135.10     1297.0   \n",
       "\n",
       "   smoothness_mean  compactness_mean  concavity_mean  concave points_mean  \\\n",
       "0          0.11840           0.27760          0.3001              0.14710   \n",
       "1          0.08474           0.07864          0.0869              0.07017   \n",
       "2          0.10960           0.15990          0.1974              0.12790   \n",
       "3          0.14250           0.28390          0.2414              0.10520   \n",
       "4          0.10030           0.13280          0.1980              0.10430   \n",
       "\n",
       "   ...  texture_worst  perimeter_worst  area_worst  smoothness_worst  \\\n",
       "0  ...          17.33           184.60      2019.0            0.1622   \n",
       "1  ...          23.41           158.80      1956.0            0.1238   \n",
       "2  ...          25.53           152.50      1709.0            0.1444   \n",
       "3  ...          26.50            98.87       567.7            0.2098   \n",
       "4  ...          16.67           152.20      1575.0            0.1374   \n",
       "\n",
       "   compactness_worst  concavity_worst  concave points_worst  symmetry_worst  \\\n",
       "0             0.6656           0.7119                0.2654          0.4601   \n",
       "1             0.1866           0.2416                0.1860          0.2750   \n",
       "2             0.4245           0.4504                0.2430          0.3613   \n",
       "3             0.8663           0.6869                0.2575          0.6638   \n",
       "4             0.2050           0.4000                0.1625          0.2364   \n",
       "\n",
       "   fractal_dimension_worst  Unnamed: 32  \n",
       "0                  0.11890          NaN  \n",
       "1                  0.08902          NaN  \n",
       "2                  0.08758          NaN  \n",
       "3                  0.17300          NaN  \n",
       "4                  0.07678          NaN  \n",
       "\n",
       "[5 rows x 33 columns]"
      ]
     },
     "execution_count": 3,
     "metadata": {},
     "output_type": "execute_result"
    }
   ],
   "source": [
    "df=pd.read_csv('../input/breast-cancer-wisconsin-data/data.csv')\n",
    "df.head()"
   ]
  },
  {
   "cell_type": "code",
   "execution_count": 4,
   "id": "5c3717b6",
   "metadata": {
    "execution": {
     "iopub.execute_input": "2021-08-31T07:31:14.861105Z",
     "iopub.status.busy": "2021-08-31T07:31:14.860376Z",
     "iopub.status.idle": "2021-08-31T07:31:14.863945Z",
     "shell.execute_reply": "2021-08-31T07:31:14.863307Z",
     "shell.execute_reply.started": "2021-08-31T07:22:54.369033Z"
    },
    "papermill": {
     "duration": 0.051076,
     "end_time": "2021-08-31T07:31:14.864089",
     "exception": false,
     "start_time": "2021-08-31T07:31:14.813013",
     "status": "completed"
    },
    "tags": []
   },
   "outputs": [],
   "source": [
    "df=df.drop('Unnamed: 32', axis=1)\n"
   ]
  },
  {
   "cell_type": "code",
   "execution_count": 5,
   "id": "d52aba0b",
   "metadata": {
    "execution": {
     "iopub.execute_input": "2021-08-31T07:31:14.951480Z",
     "iopub.status.busy": "2021-08-31T07:31:14.950457Z",
     "iopub.status.idle": "2021-08-31T07:31:14.953043Z",
     "shell.execute_reply": "2021-08-31T07:31:14.953565Z",
     "shell.execute_reply.started": "2021-08-31T07:22:55.391108Z"
    },
    "papermill": {
     "duration": 0.049442,
     "end_time": "2021-08-31T07:31:14.953749",
     "exception": false,
     "start_time": "2021-08-31T07:31:14.904307",
     "status": "completed"
    },
    "tags": []
   },
   "outputs": [],
   "source": [
    "from scipy import stats\n"
   ]
  },
  {
   "cell_type": "markdown",
   "id": "d5528a4d",
   "metadata": {
    "papermill": {
     "duration": 0.04038,
     "end_time": "2021-08-31T07:31:15.034882",
     "exception": false,
     "start_time": "2021-08-31T07:31:14.994502",
     "status": "completed"
    },
    "tags": []
   },
   "source": [
    "# Joint PLot with Pearson Coefficent"
   ]
  },
  {
   "cell_type": "code",
   "execution_count": 6,
   "id": "1aca088f",
   "metadata": {
    "execution": {
     "iopub.execute_input": "2021-08-31T07:31:15.241461Z",
     "iopub.status.busy": "2021-08-31T07:31:15.240670Z",
     "iopub.status.idle": "2021-08-31T07:31:16.347240Z",
     "shell.execute_reply": "2021-08-31T07:31:16.347711Z",
     "shell.execute_reply.started": "2021-08-31T07:23:01.083096Z"
    },
    "papermill": {
     "duration": 1.271364,
     "end_time": "2021-08-31T07:31:16.347923",
     "exception": false,
     "start_time": "2021-08-31T07:31:15.076559",
     "status": "completed"
    },
    "tags": []
   },
   "outputs": [
    {
     "name": "stderr",
     "output_type": "stream",
     "text": [
      "/opt/conda/lib/python3.7/site-packages/seaborn/_decorators.py:43: FutureWarning:\n",
      "\n",
      "Pass the following variables as keyword args: x, y. From version 0.12, the only valid positional argument will be `data`, and passing other arguments without an explicit keyword will result in an error or misinterpretation.\n",
      "\n"
     ]
    },
    {
     "data": {
      "image/png": "[encoded data removed]",
      "text/plain": [
       "<Figure size 432x432 with 3 Axes>"
      ]
     },
     "metadata": {},
     "output_type": "display_data"
    }
   ],
   "source": [
    "r, p=stats.pearsonr(df.loc[:,'concavity_worst'], df.loc[:,'concave points_worst'])\n",
    "graph=sns.jointplot(df.loc[:,'concavity_worst'], df.loc[:,'concave points_worst'], kind=\"reg\", color=\"#ce1414\",)\n",
    "phantom, =graph.ax_joint.plot([],[], linestyle=\"\", alpha=0)\n",
    "graph.ax_joint.legend([phantom],['r={:f}, p={:f}'.format(r,p)])\n",
    "plt.show()"
   ]
  },
  {
   "cell_type": "code",
   "execution_count": 7,
   "id": "c08b2995",
   "metadata": {
    "execution": {
     "iopub.execute_input": "2021-08-31T07:31:16.438266Z",
     "iopub.status.busy": "2021-08-31T07:31:16.437193Z",
     "iopub.status.idle": "2021-08-31T07:31:16.444248Z",
     "shell.execute_reply": "2021-08-31T07:31:16.443684Z",
     "shell.execute_reply.started": "2021-08-31T07:23:03.461088Z"
    },
    "papermill": {
     "duration": 0.053921,
     "end_time": "2021-08-31T07:31:16.444403",
     "exception": false,
     "start_time": "2021-08-31T07:31:16.390482",
     "status": "completed"
    },
    "tags": []
   },
   "outputs": [],
   "source": [
    "diagnosis={'M':1, 'B':0}\n",
    "df['diagnosis']=[diagnosis[x] for x in df['diagnosis']]"
   ]
  },
  {
   "cell_type": "code",
   "execution_count": 8,
   "id": "dd98217c",
   "metadata": {
    "execution": {
     "iopub.execute_input": "2021-08-31T07:31:16.538591Z",
     "iopub.status.busy": "2021-08-31T07:31:16.536993Z",
     "iopub.status.idle": "2021-08-31T07:31:16.541848Z",
     "shell.execute_reply": "2021-08-31T07:31:16.541288Z",
     "shell.execute_reply.started": "2021-08-31T07:23:04.788925Z"
    },
    "papermill": {
     "duration": 0.055001,
     "end_time": "2021-08-31T07:31:16.541990",
     "exception": false,
     "start_time": "2021-08-31T07:31:16.486989",
     "status": "completed"
    },
    "tags": []
   },
   "outputs": [],
   "source": [
    "col=['id', 'diagnosis']\n",
    "X=df.drop(col, axis=1)\n",
    "y=df['diagnosis']\n",
    "X_train, x_test, y_train, y_test=train_test_split(X, y, test_size=0.3, random_state=10)"
   ]
  },
  {
   "cell_type": "code",
   "execution_count": 9,
   "id": "07c448cf",
   "metadata": {
    "execution": {
     "iopub.execute_input": "2021-08-31T07:31:16.632432Z",
     "iopub.status.busy": "2021-08-31T07:31:16.631488Z",
     "iopub.status.idle": "2021-08-31T07:31:16.635174Z",
     "shell.execute_reply": "2021-08-31T07:31:16.635674Z",
     "shell.execute_reply.started": "2021-08-31T07:23:05.839036Z"
    },
    "papermill": {
     "duration": 0.051481,
     "end_time": "2021-08-31T07:31:16.635866",
     "exception": false,
     "start_time": "2021-08-31T07:31:16.584385",
     "status": "completed"
    },
    "tags": []
   },
   "outputs": [
    {
     "data": {
      "text/plain": [
       "((569, 30), (569,))"
      ]
     },
     "execution_count": 9,
     "metadata": {},
     "output_type": "execute_result"
    }
   ],
   "source": [
    "X.shape, y.shape"
   ]
  },
  {
   "cell_type": "code",
   "execution_count": 10,
   "id": "b63ea24f",
   "metadata": {
    "execution": {
     "iopub.execute_input": "2021-08-31T07:31:16.725781Z",
     "iopub.status.busy": "2021-08-31T07:31:16.724769Z",
     "iopub.status.idle": "2021-08-31T07:31:16.744122Z",
     "shell.execute_reply": "2021-08-31T07:31:16.743322Z",
     "shell.execute_reply.started": "2021-08-31T07:23:09.844410Z"
    },
    "papermill": {
     "duration": 0.065362,
     "end_time": "2021-08-31T07:31:16.744320",
     "exception": false,
     "start_time": "2021-08-31T07:31:16.678958",
     "status": "completed"
    },
    "tags": []
   },
   "outputs": [
    {
     "name": "stdout",
     "output_type": "stream",
     "text": [
      "<class 'pandas.core.frame.DataFrame'>\n",
      "RangeIndex: 569 entries, 0 to 568\n",
      "Data columns (total 30 columns):\n",
      " #   Column                   Non-Null Count  Dtype  \n",
      "---  ------                   --------------  -----  \n",
      " 0   radius_mean              569 non-null    float64\n",
      " 1   texture_mean             569 non-null    float64\n",
      " 2   perimeter_mean           569 non-null    float64\n",
      " 3   area_mean                569 non-null    float64\n",
      " 4   smoothness_mean          569 non-null    float64\n",
      " 5   compactness_mean         569 non-null    float64\n",
      " 6   concavity_mean           569 non-null    float64\n",
      " 7   concave points_mean      569 non-null    float64\n",
      " 8   symmetry_mean            569 non-null    float64\n",
      " 9   fractal_dimension_mean   569 non-null    float64\n",
      " 10  radius_se                569 non-null    float64\n",
      " 11  texture_se               569 non-null    float64\n",
      " 12  perimeter_se             569 non-null    float64\n",
      " 13  area_se                  569 non-null    float64\n",
      " 14  smoothness_se            569 non-null    float64\n",
      " 15  compactness_se           569 non-null    float64\n",
      " 16  concavity_se             569 non-null    float64\n",
      " 17  concave points_se        569 non-null    float64\n",
      " 18  symmetry_se              569 non-null    float64\n",
      " 19  fractal_dimension_se     569 non-null    float64\n",
      " 20  radius_worst             569 non-null    float64\n",
      " 21  texture_worst            569 non-null    float64\n",
      " 22  perimeter_worst          569 non-null    float64\n",
      " 23  area_worst               569 non-null    float64\n",
      " 24  smoothness_worst         569 non-null    float64\n",
      " 25  compactness_worst        569 non-null    float64\n",
      " 26  concavity_worst          569 non-null    float64\n",
      " 27  concave points_worst     569 non-null    float64\n",
      " 28  symmetry_worst           569 non-null    float64\n",
      " 29  fractal_dimension_worst  569 non-null    float64\n",
      "dtypes: float64(30)\n",
      "memory usage: 133.5 KB\n"
     ]
    }
   ],
   "source": [
    "X.info()"
   ]
  },
  {
   "cell_type": "code",
   "execution_count": 11,
   "id": "ae9eaf6b",
   "metadata": {
    "execution": {
     "iopub.execute_input": "2021-08-31T07:31:16.836604Z",
     "iopub.status.busy": "2021-08-31T07:31:16.835994Z",
     "iopub.status.idle": "2021-08-31T07:31:16.838627Z",
     "shell.execute_reply": "2021-08-31T07:31:16.839108Z",
     "shell.execute_reply.started": "2021-08-31T07:23:10.805156Z"
    },
    "papermill": {
     "duration": 0.051433,
     "end_time": "2021-08-31T07:31:16.839277",
     "exception": false,
     "start_time": "2021-08-31T07:31:16.787844",
     "status": "completed"
    },
    "tags": []
   },
   "outputs": [
    {
     "data": {
      "text/plain": [
       "dtype('int64')"
      ]
     },
     "execution_count": 11,
     "metadata": {},
     "output_type": "execute_result"
    }
   ],
   "source": [
    "y.dtype"
   ]
  },
  {
   "cell_type": "markdown",
   "id": "f57b51aa",
   "metadata": {
    "papermill": {
     "duration": 0.042863,
     "end_time": "2021-08-31T07:31:16.925962",
     "exception": false,
     "start_time": "2021-08-31T07:31:16.883099",
     "status": "completed"
    },
    "tags": []
   },
   "source": [
    "# Logistic Regresion"
   ]
  },
  {
   "cell_type": "code",
   "execution_count": 12,
   "id": "e4cf8042",
   "metadata": {
    "execution": {
     "iopub.execute_input": "2021-08-31T07:31:17.017037Z",
     "iopub.status.busy": "2021-08-31T07:31:17.016304Z",
     "iopub.status.idle": "2021-08-31T07:31:17.020766Z",
     "shell.execute_reply": "2021-08-31T07:31:17.021349Z",
     "shell.execute_reply.started": "2021-08-31T07:23:14.428101Z"
    },
    "papermill": {
     "duration": 0.051461,
     "end_time": "2021-08-31T07:31:17.021533",
     "exception": false,
     "start_time": "2021-08-31T07:31:16.970072",
     "status": "completed"
    },
    "tags": []
   },
   "outputs": [],
   "source": [
    "from sklearn import metrics\n",
    "from sklearn.linear_model import LogisticRegression\n",
    "from sklearn.metrics import classification_report, confusion_matrix,ConfusionMatrixDisplay\n",
    "import statsmodels.api as sm\n",
    "import statsmodels.formula.api as smf"
   ]
  },
  {
   "cell_type": "code",
   "execution_count": 13,
   "id": "f1a81686",
   "metadata": {
    "execution": {
     "iopub.execute_input": "2021-08-31T07:31:17.114828Z",
     "iopub.status.busy": "2021-08-31T07:31:17.114081Z",
     "iopub.status.idle": "2021-08-31T07:31:17.120364Z",
     "shell.execute_reply": "2021-08-31T07:31:17.119746Z",
     "shell.execute_reply.started": "2021-08-31T07:23:16.428759Z"
    },
    "papermill": {
     "duration": 0.053161,
     "end_time": "2021-08-31T07:31:17.120509",
     "exception": false,
     "start_time": "2021-08-31T07:31:17.067348",
     "status": "completed"
    },
    "tags": []
   },
   "outputs": [
    {
     "data": {
      "text/plain": [
       "((398, 30), (398,))"
      ]
     },
     "execution_count": 13,
     "metadata": {},
     "output_type": "execute_result"
    }
   ],
   "source": [
    "X_train.shape, y_train.shape"
   ]
  },
  {
   "cell_type": "code",
   "execution_count": 14,
   "id": "8ac18590",
   "metadata": {
    "execution": {
     "iopub.execute_input": "2021-08-31T07:31:17.216533Z",
     "iopub.status.busy": "2021-08-31T07:31:17.215848Z",
     "iopub.status.idle": "2021-08-31T07:31:17.232681Z",
     "shell.execute_reply": "2021-08-31T07:31:17.233265Z",
     "shell.execute_reply.started": "2021-08-31T07:23:19.307195Z"
    },
    "papermill": {
     "duration": 0.068319,
     "end_time": "2021-08-31T07:31:17.233460",
     "exception": false,
     "start_time": "2021-08-31T07:31:17.165141",
     "status": "completed"
    },
    "tags": []
   },
   "outputs": [
    {
     "data": {
      "text/plain": [
       "LogisticRegression(solver='liblinear')"
      ]
     },
     "execution_count": 14,
     "metadata": {},
     "output_type": "execute_result"
    }
   ],
   "source": [
    "lr=LogisticRegression(solver=\"liblinear\")\n",
    "lr.fit(X, y)\n"
   ]
  },
  {
   "cell_type": "code",
   "execution_count": 15,
   "id": "fd22ffcc",
   "metadata": {
    "execution": {
     "iopub.execute_input": "2021-08-31T07:31:17.329579Z",
     "iopub.status.busy": "2021-08-31T07:31:17.328578Z",
     "iopub.status.idle": "2021-08-31T07:31:17.334018Z",
     "shell.execute_reply": "2021-08-31T07:31:17.334600Z",
     "shell.execute_reply.started": "2021-08-31T07:23:20.696179Z"
    },
    "papermill": {
     "duration": 0.054487,
     "end_time": "2021-08-31T07:31:17.334770",
     "exception": false,
     "start_time": "2021-08-31T07:31:17.280283",
     "status": "completed"
    },
    "tags": []
   },
   "outputs": [],
   "source": [
    "col=['radius_mean', 'texture_mean', 'perimeter_mean',\n",
    "       'area_mean', 'smoothness_mean', 'compactness_mean', 'concavity_mean',\n",
    "       'concave points_mean', 'symmetry_mean', 'fractal_dimension_mean',\n",
    "       'radius_se', 'texture_se', 'perimeter_se', 'area_se', 'smoothness_se',\n",
    "       'compactness_se', 'concavity_se', 'concave points_se', 'symmetry_se',\n",
    "       'fractal_dimension_se', 'radius_worst', 'texture_worst',\n",
    "       'perimeter_worst', 'area_worst', 'smoothness_worst',\n",
    "       'compactness_worst', 'concavity_worst', 'concave points_worst',\n",
    "       'symmetry_worst', 'fractal_dimension_worst']"
   ]
  },
  {
   "cell_type": "code",
   "execution_count": 16,
   "id": "4cd17c71",
   "metadata": {
    "execution": {
     "iopub.execute_input": "2021-08-31T07:31:17.427323Z",
     "iopub.status.busy": "2021-08-31T07:31:17.426300Z",
     "iopub.status.idle": "2021-08-31T07:31:17.966181Z",
     "shell.execute_reply": "2021-08-31T07:31:17.965549Z",
     "shell.execute_reply.started": "2021-08-31T07:23:23.351598Z"
    },
    "papermill": {
     "duration": 0.587181,
     "end_time": "2021-08-31T07:31:17.966330",
     "exception": false,
     "start_time": "2021-08-31T07:31:17.379149",
     "status": "completed"
    },
    "tags": []
   },
   "outputs": [
    {
     "name": "stdout",
     "output_type": "stream",
     "text": [
      "Feature: 0, Score: -2.08032\n",
      "Feature: 1, Score: -0.12344\n",
      "Feature: 2, Score: 0.04981\n",
      "Feature: 3, Score: 0.00388\n",
      "Feature: 4, Score: 0.15143\n",
      "Feature: 5, Score: 0.39548\n",
      "Feature: 6, Score: 0.63582\n",
      "Feature: 7, Score: 0.33548\n",
      "Feature: 8, Score: 0.22244\n",
      "Feature: 9, Score: 0.02600\n",
      "Feature: 10, Score: 0.02774\n",
      "Feature: 11, Score: -1.22877\n",
      "Feature: 12, Score: 0.00773\n",
      "Feature: 13, Score: 0.09366\n",
      "Feature: 14, Score: 0.01659\n",
      "Feature: 15, Score: -0.00643\n",
      "Feature: 16, Score: 0.04681\n",
      "Feature: 17, Score: 0.03959\n",
      "Feature: 18, Score: 0.04160\n",
      "Feature: 19, Score: -0.00616\n",
      "Feature: 20, Score: -1.22801\n",
      "Feature: 21, Score: 0.34557\n",
      "Feature: 22, Score: 0.12733\n",
      "Feature: 23, Score: 0.02376\n",
      "Feature: 24, Score: 0.28051\n",
      "Feature: 25, Score: 1.10451\n",
      "Feature: 26, Score: 1.55180\n",
      "Feature: 27, Score: 0.64575\n",
      "Feature: 28, Score: 0.67936\n",
      "Feature: 29, Score: 0.11120\n"
     ]
    },
    {
     "data": {
      "image/png": "[encoded data removed]",
      "text/plain": [
       "<Figure size 720x720 with 1 Axes>"
      ]
     },
     "metadata": {},
     "output_type": "display_data"
    }
   ],
   "source": [
    "importance = lr.coef_[0]\n",
    "# summarize feature importance\n",
    "for i,v in enumerate(importance):\n",
    "    print('Feature: %0d, Score: %.5f' % (i,v))\n",
    "# plot feature importance\n",
    "plt.figure(figsize=(10,10))\n",
    "plt.bar(X.columns, importance)\n",
    "plt.xticks(rotation=90)\n",
    "plt.show()"
   ]
  },
  {
   "cell_type": "markdown",
   "id": "4eb0371d",
   "metadata": {
    "papermill": {
     "duration": 0.051925,
     "end_time": "2021-08-31T07:31:18.067958",
     "exception": false,
     "start_time": "2021-08-31T07:31:18.016033",
     "status": "completed"
    },
    "tags": []
   },
   "source": [
    "# Feature imporatnce after Standarization"
   ]
  },
  {
   "cell_type": "code",
   "execution_count": 17,
   "id": "c0306029",
   "metadata": {
    "execution": {
     "iopub.execute_input": "2021-08-31T07:31:18.172420Z",
     "iopub.status.busy": "2021-08-31T07:31:18.171684Z",
     "iopub.status.idle": "2021-08-31T07:31:18.179085Z",
     "shell.execute_reply": "2021-08-31T07:31:18.178513Z",
     "shell.execute_reply.started": "2021-08-31T07:23:33.299111Z"
    },
    "papermill": {
     "duration": 0.06296,
     "end_time": "2021-08-31T07:31:18.179247",
     "exception": false,
     "start_time": "2021-08-31T07:31:18.116287",
     "status": "completed"
    },
    "tags": []
   },
   "outputs": [],
   "source": [
    "from sklearn.preprocessing import StandardScaler\n",
    "scaler = StandardScaler()\n",
    "scaler.fit(X)\n",
    "X = scaler.transform(X)"
   ]
  },
  {
   "cell_type": "code",
   "execution_count": null,
   "id": "395b25ed",
   "metadata": {
    "papermill": {
     "duration": 0.04707,
     "end_time": "2021-08-31T07:31:18.274660",
     "exception": false,
     "start_time": "2021-08-31T07:31:18.227590",
     "status": "completed"
    },
    "tags": []
   },
   "outputs": [],
   "source": []
  },
  {
   "cell_type": "code",
   "execution_count": 18,
   "id": "0ce888dd",
   "metadata": {
    "execution": {
     "iopub.execute_input": "2021-08-31T07:31:18.373818Z",
     "iopub.status.busy": "2021-08-31T07:31:18.372884Z",
     "iopub.status.idle": "2021-08-31T07:31:18.382831Z",
     "shell.execute_reply": "2021-08-31T07:31:18.382224Z",
     "shell.execute_reply.started": "2021-08-31T07:23:35.906393Z"
    },
    "papermill": {
     "duration": 0.061133,
     "end_time": "2021-08-31T07:31:18.382981",
     "exception": false,
     "start_time": "2021-08-31T07:31:18.321848",
     "status": "completed"
    },
    "tags": []
   },
   "outputs": [
    {
     "data": {
      "text/plain": [
       "LogisticRegression(solver='liblinear')"
      ]
     },
     "execution_count": 18,
     "metadata": {},
     "output_type": "execute_result"
    }
   ],
   "source": [
    "lr=LogisticRegression(solver=\"liblinear\")\n",
    "lr.fit(X, y)"
   ]
  },
  {
   "cell_type": "code",
   "execution_count": 19,
   "id": "e3df1d37",
   "metadata": {
    "execution": {
     "iopub.execute_input": "2021-08-31T07:31:18.485832Z",
     "iopub.status.busy": "2021-08-31T07:31:18.484644Z",
     "iopub.status.idle": "2021-08-31T07:31:18.771604Z",
     "shell.execute_reply": "2021-08-31T07:31:18.771028Z",
     "shell.execute_reply.started": "2021-08-31T07:23:37.308162Z"
    },
    "papermill": {
     "duration": 0.341484,
     "end_time": "2021-08-31T07:31:18.771796",
     "exception": false,
     "start_time": "2021-08-31T07:31:18.430312",
     "status": "completed"
    },
    "tags": []
   },
   "outputs": [
    {
     "name": "stdout",
     "output_type": "stream",
     "text": [
      "Feature: 0, Score: 0.35372\n",
      "Feature: 1, Score: 0.38509\n",
      "Feature: 2, Score: 0.34237\n",
      "Feature: 3, Score: 0.44138\n",
      "Feature: 4, Score: 0.15524\n",
      "Feature: 5, Score: -0.56816\n",
      "Feature: 6, Score: 0.86852\n",
      "Feature: 7, Score: 0.96811\n",
      "Feature: 8, Score: -0.07328\n",
      "Feature: 9, Score: -0.31122\n",
      "Feature: 10, Score: 1.29527\n",
      "Feature: 11, Score: -0.26995\n",
      "Feature: 12, Score: 0.66624\n",
      "Feature: 13, Score: 1.02955\n",
      "Feature: 14, Score: 0.28127\n",
      "Feature: 15, Score: -0.74242\n",
      "Feature: 16, Score: -0.11352\n",
      "Feature: 17, Score: 0.32007\n",
      "Feature: 18, Score: -0.28983\n",
      "Feature: 19, Score: -0.67153\n",
      "Feature: 20, Score: 1.03049\n",
      "Feature: 21, Score: 1.31319\n",
      "Feature: 22, Score: 0.82564\n",
      "Feature: 23, Score: 1.02916\n",
      "Feature: 24, Score: 0.67185\n",
      "Feature: 25, Score: -0.04896\n",
      "Feature: 26, Score: 0.87162\n",
      "Feature: 27, Score: 0.91132\n",
      "Feature: 28, Score: 0.88395\n",
      "Feature: 29, Score: 0.48355\n"
     ]
    },
    {
     "data": {
      "image/png": "[encoded data removed]",
      "text/plain": [
       "<Figure size 720x720 with 1 Axes>"
      ]
     },
     "metadata": {},
     "output_type": "display_data"
    }
   ],
   "source": [
    "importance = lr.coef_[0]\n",
    "# summarize feature importance\n",
    "for i,v in enumerate(importance):\n",
    "    print('Feature: %0d, Score: %.5f' % (i,v))\n",
    "# plot feature importance\n",
    "plt.figure(figsize=(10,10))\n",
    "plt.bar([x for x in range(len(importance))], importance)\n",
    "plt.show()"
   ]
  },
  {
   "cell_type": "markdown",
   "id": "77109f10",
   "metadata": {
    "papermill": {
     "duration": 0.04737,
     "end_time": "2021-08-31T07:31:18.867098",
     "exception": false,
     "start_time": "2021-08-31T07:31:18.819728",
     "status": "completed"
    },
    "tags": []
   },
   "source": [
    "# Conclusion\n",
    "* Standarization affect the features importance of the dataset\n",
    "* As in above graph we can see that there wwre few features whose values were either too negative or positive. Rest of the features had almost 0\n",
    "* After standarization we can see that a lot of the features wholse coefficeint values are much better. \n",
    "* Here negative values indicate that it tries to push the model towards the negative side\n",
    "* Same case with the positive value which tends to push the model in positive side."
   ]
  },
  {
   "cell_type": "markdown",
   "id": "58b9d2c7",
   "metadata": {
    "papermill": {
     "duration": 0.048372,
     "end_time": "2021-08-31T07:31:18.964124",
     "exception": false,
     "start_time": "2021-08-31T07:31:18.915752",
     "status": "completed"
    },
    "tags": []
   },
   "source": [
    "# Decision Tree"
   ]
  },
  {
   "cell_type": "code",
   "execution_count": 20,
   "id": "54df2d05",
   "metadata": {
    "execution": {
     "iopub.execute_input": "2021-08-31T07:31:19.069248Z",
     "iopub.status.busy": "2021-08-31T07:31:19.068543Z",
     "iopub.status.idle": "2021-08-31T07:31:19.072330Z",
     "shell.execute_reply": "2021-08-31T07:31:19.071657Z",
     "shell.execute_reply.started": "2021-08-31T07:24:06.984103Z"
    },
    "papermill": {
     "duration": 0.060356,
     "end_time": "2021-08-31T07:31:19.072485",
     "exception": false,
     "start_time": "2021-08-31T07:31:19.012129",
     "status": "completed"
    },
    "tags": []
   },
   "outputs": [],
   "source": [
    "col=['id', 'diagnosis']\n",
    "X=df.drop(col, axis=1)\n",
    "y=df['diagnosis']\n",
    "X_train, x_test, y_train, y_test=train_test_split(X, y, test_size=0.3, random_state=10)"
   ]
  },
  {
   "cell_type": "code",
   "execution_count": 21,
   "id": "d6a6bf18",
   "metadata": {
    "execution": {
     "iopub.execute_input": "2021-08-31T07:31:19.177835Z",
     "iopub.status.busy": "2021-08-31T07:31:19.177137Z",
     "iopub.status.idle": "2021-08-31T07:31:19.210903Z",
     "shell.execute_reply": "2021-08-31T07:31:19.210170Z",
     "shell.execute_reply.started": "2021-08-31T07:24:13.920531Z"
    },
    "papermill": {
     "duration": 0.086101,
     "end_time": "2021-08-31T07:31:19.211053",
     "exception": false,
     "start_time": "2021-08-31T07:31:19.124952",
     "status": "completed"
    },
    "tags": []
   },
   "outputs": [],
   "source": [
    "from sklearn.tree import DecisionTreeClassifier\n"
   ]
  },
  {
   "cell_type": "code",
   "execution_count": 22,
   "id": "6f5bc538",
   "metadata": {
    "execution": {
     "iopub.execute_input": "2021-08-31T07:31:19.320502Z",
     "iopub.status.busy": "2021-08-31T07:31:19.318846Z",
     "iopub.status.idle": "2021-08-31T07:31:19.878994Z",
     "shell.execute_reply": "2021-08-31T07:31:19.878429Z",
     "shell.execute_reply.started": "2021-08-31T07:24:15.831945Z"
    },
    "papermill": {
     "duration": 0.61779,
     "end_time": "2021-08-31T07:31:19.879202",
     "exception": false,
     "start_time": "2021-08-31T07:31:19.261412",
     "status": "completed"
    },
    "tags": []
   },
   "outputs": [
    {
     "name": "stdout",
     "output_type": "stream",
     "text": [
      "Feature: 0, Score: 0.00000\n",
      "Feature: 1, Score: 0.01128\n",
      "Feature: 2, Score: 0.00000\n",
      "Feature: 3, Score: 0.00000\n",
      "Feature: 4, Score: 0.00702\n",
      "Feature: 5, Score: 0.00583\n",
      "Feature: 6, Score: 0.00564\n",
      "Feature: 7, Score: 0.04061\n",
      "Feature: 8, Score: 0.00000\n",
      "Feature: 9, Score: 0.00000\n",
      "Feature: 10, Score: 0.01421\n",
      "Feature: 11, Score: 0.00000\n",
      "Feature: 12, Score: 0.00000\n",
      "Feature: 13, Score: 0.00205\n",
      "Feature: 14, Score: 0.00100\n",
      "Feature: 15, Score: 0.00000\n",
      "Feature: 16, Score: 0.00000\n",
      "Feature: 17, Score: 0.00000\n",
      "Feature: 18, Score: 0.00000\n",
      "Feature: 19, Score: 0.00644\n",
      "Feature: 20, Score: 0.69559\n",
      "Feature: 21, Score: 0.07728\n",
      "Feature: 22, Score: 0.00564\n",
      "Feature: 23, Score: 0.01109\n",
      "Feature: 24, Score: 0.00739\n",
      "Feature: 25, Score: 0.00000\n",
      "Feature: 26, Score: 0.00184\n",
      "Feature: 27, Score: 0.10710\n",
      "Feature: 28, Score: 0.00000\n",
      "Feature: 29, Score: 0.00000\n"
     ]
    },
    {
     "data": {
      "image/png": "[encoded data removed]",
      "text/plain": [
       "<Figure size 1080x1080 with 1 Axes>"
      ]
     },
     "metadata": {},
     "output_type": "display_data"
    }
   ],
   "source": [
    "model = DecisionTreeClassifier()\n",
    "# fit the model\n",
    "model.fit(X, y)\n",
    "# get importance\n",
    "importance = model.feature_importances_\n",
    "# summarize feature importance\n",
    "for i,v in enumerate(importance):\n",
    "    print('Feature: %d, Score: %.5f' % (i,v))\n",
    "# plot feature importance\n",
    "plt.figure(figsize=(15,15))\n",
    "plt.bar(X.columns, importance)\n",
    "plt.xticks(rotation=90)\n",
    "\n",
    "plt.show()"
   ]
  },
  {
   "cell_type": "markdown",
   "id": "dcf9b798",
   "metadata": {
    "papermill": {
     "duration": 0.0494,
     "end_time": "2021-08-31T07:31:19.979395",
     "exception": false,
     "start_time": "2021-08-31T07:31:19.929995",
     "status": "completed"
    },
    "tags": []
   },
   "source": [
    "# Conclusion\n",
    "* The most important features are \"radius_worst\"\n",
    "* The lkist of the important featuires are --Radius_worst, texture_worst, concave point worst, texture mean, concavity features, etc\n",
    "* Those features wholse value is almost equal to 0 , are least important features. \n",
    "* Least features can be removed form the dataset and the dataset will be used for prediction. "
   ]
  },
  {
   "cell_type": "markdown",
   "id": "7d400076",
   "metadata": {
    "papermill": {
     "duration": 0.049821,
     "end_time": "2021-08-31T07:31:20.080215",
     "exception": false,
     "start_time": "2021-08-31T07:31:20.030394",
     "status": "completed"
    },
    "tags": []
   },
   "source": [
    "# Feature importance after the standarization "
   ]
  },
  {
   "cell_type": "code",
   "execution_count": 23,
   "id": "9fad3c83",
   "metadata": {
    "execution": {
     "iopub.execute_input": "2021-08-31T07:31:20.186325Z",
     "iopub.status.busy": "2021-08-31T07:31:20.185612Z",
     "iopub.status.idle": "2021-08-31T07:31:20.191105Z",
     "shell.execute_reply": "2021-08-31T07:31:20.191692Z",
     "shell.execute_reply.started": "2021-08-31T07:24:25.217128Z"
    },
    "papermill": {
     "duration": 0.062009,
     "end_time": "2021-08-31T07:31:20.191888",
     "exception": false,
     "start_time": "2021-08-31T07:31:20.129879",
     "status": "completed"
    },
    "tags": []
   },
   "outputs": [],
   "source": [
    "from sklearn.preprocessing import StandardScaler\n",
    "scaler = StandardScaler()\n",
    "scaler.fit(X)\n",
    "X = scaler.transform(X)"
   ]
  },
  {
   "cell_type": "code",
   "execution_count": 24,
   "id": "7933a118",
   "metadata": {
    "execution": {
     "iopub.execute_input": "2021-08-31T07:31:20.294713Z",
     "iopub.status.busy": "2021-08-31T07:31:20.293990Z",
     "iopub.status.idle": "2021-08-31T07:31:20.626751Z",
     "shell.execute_reply": "2021-08-31T07:31:20.626077Z",
     "shell.execute_reply.started": "2021-08-31T07:24:28.025208Z"
    },
    "papermill": {
     "duration": 0.385245,
     "end_time": "2021-08-31T07:31:20.626916",
     "exception": false,
     "start_time": "2021-08-31T07:31:20.241671",
     "status": "completed"
    },
    "tags": []
   },
   "outputs": [
    {
     "name": "stdout",
     "output_type": "stream",
     "text": [
      "Feature: 0, Score: 0.00000\n",
      "Feature: 1, Score: 0.00000\n",
      "Feature: 2, Score: 0.00000\n",
      "Feature: 3, Score: 0.00000\n",
      "Feature: 4, Score: 0.00000\n",
      "Feature: 5, Score: 0.00000\n",
      "Feature: 6, Score: 0.00564\n",
      "Feature: 7, Score: 0.01441\n",
      "Feature: 8, Score: 0.00000\n",
      "Feature: 9, Score: 0.00000\n",
      "Feature: 10, Score: 0.00000\n",
      "Feature: 11, Score: 0.00000\n",
      "Feature: 12, Score: 0.00000\n",
      "Feature: 13, Score: 0.00205\n",
      "Feature: 14, Score: 0.00100\n",
      "Feature: 15, Score: 0.00689\n",
      "Feature: 16, Score: 0.00000\n",
      "Feature: 17, Score: 0.00000\n",
      "Feature: 18, Score: 0.00732\n",
      "Feature: 19, Score: 0.00000\n",
      "Feature: 20, Score: 0.69559\n",
      "Feature: 21, Score: 0.09501\n",
      "Feature: 22, Score: 0.00000\n",
      "Feature: 23, Score: 0.01109\n",
      "Feature: 24, Score: 0.01440\n",
      "Feature: 25, Score: 0.00000\n",
      "Feature: 26, Score: 0.00767\n",
      "Feature: 27, Score: 0.13894\n",
      "Feature: 28, Score: 0.00000\n",
      "Feature: 29, Score: 0.00000\n"
     ]
    },
    {
     "data": {
      "image/png": "[encoded data removed]",
      "text/plain": [
       "<Figure size 1080x1080 with 1 Axes>"
      ]
     },
     "metadata": {},
     "output_type": "display_data"
    }
   ],
   "source": [
    "model = DecisionTreeClassifier()\n",
    "# fit the model\n",
    "model.fit(X, y)\n",
    "# get importance\n",
    "importance = model.feature_importances_\n",
    "# summarize feature importance\n",
    "for i,v in enumerate(importance):\n",
    "    print('Feature: %d, Score: %.5f' % (i,v))\n",
    "# plot feature importance\n",
    "plt.figure(figsize=(15,15))\n",
    "plt.bar([x for x in range(len(importance))], importance)\n",
    "plt.xticks(rotation=90)\n",
    "\n",
    "plt.show()"
   ]
  },
  {
   "cell_type": "markdown",
   "id": "45429ed1",
   "metadata": {
    "papermill": {
     "duration": 0.051259,
     "end_time": "2021-08-31T07:31:20.729917",
     "exception": false,
     "start_time": "2021-08-31T07:31:20.678658",
     "status": "completed"
    },
    "tags": []
   },
   "source": [
    "# Conlusion\n",
    "* Since we are getting same number of the important features.\n"
   ]
  },
  {
   "cell_type": "markdown",
   "id": "eaa940bd",
   "metadata": {
    "papermill": {
     "duration": 0.050315,
     "end_time": "2021-08-31T07:31:20.832565",
     "exception": false,
     "start_time": "2021-08-31T07:31:20.782250",
     "status": "completed"
    },
    "tags": []
   },
   "source": [
    "# Random Forest"
   ]
  },
  {
   "cell_type": "code",
   "execution_count": 25,
   "id": "5e48561d",
   "metadata": {
    "execution": {
     "iopub.execute_input": "2021-08-31T07:31:20.942881Z",
     "iopub.status.busy": "2021-08-31T07:31:20.942108Z",
     "iopub.status.idle": "2021-08-31T07:31:20.945410Z",
     "shell.execute_reply": "2021-08-31T07:31:20.944879Z",
     "shell.execute_reply.started": "2021-08-31T07:25:10.596701Z"
    },
    "papermill": {
     "duration": 0.062097,
     "end_time": "2021-08-31T07:31:20.945556",
     "exception": false,
     "start_time": "2021-08-31T07:31:20.883459",
     "status": "completed"
    },
    "tags": []
   },
   "outputs": [],
   "source": [
    "col=['id', 'diagnosis']\n",
    "X=df.drop(col, axis=1)\n",
    "y=df['diagnosis']\n",
    "X_train, x_test, y_train, y_test=train_test_split(X, y, test_size=0.3, random_state=10)"
   ]
  },
  {
   "cell_type": "code",
   "execution_count": 26,
   "id": "69860f7e",
   "metadata": {
    "execution": {
     "iopub.execute_input": "2021-08-31T07:31:21.052302Z",
     "iopub.status.busy": "2021-08-31T07:31:21.051626Z",
     "iopub.status.idle": "2021-08-31T07:31:21.081828Z",
     "shell.execute_reply": "2021-08-31T07:31:21.081226Z",
     "shell.execute_reply.started": "2021-08-31T07:25:11.808277Z"
    },
    "papermill": {
     "duration": 0.084942,
     "end_time": "2021-08-31T07:31:21.081979",
     "exception": false,
     "start_time": "2021-08-31T07:31:20.997037",
     "status": "completed"
    },
    "tags": []
   },
   "outputs": [],
   "source": [
    "from sklearn.ensemble import RandomForestClassifier\n"
   ]
  },
  {
   "cell_type": "code",
   "execution_count": 27,
   "id": "619e9715",
   "metadata": {
    "execution": {
     "iopub.execute_input": "2021-08-31T07:31:21.192516Z",
     "iopub.status.busy": "2021-08-31T07:31:21.191860Z",
     "iopub.status.idle": "2021-08-31T07:31:22.030826Z",
     "shell.execute_reply": "2021-08-31T07:31:22.031748Z",
     "shell.execute_reply.started": "2021-08-31T07:25:12.826928Z"
    },
    "papermill": {
     "duration": 0.898917,
     "end_time": "2021-08-31T07:31:22.031965",
     "exception": false,
     "start_time": "2021-08-31T07:31:21.133048",
     "status": "completed"
    },
    "tags": []
   },
   "outputs": [
    {
     "name": "stdout",
     "output_type": "stream",
     "text": [
      "Feature: 0, Score: 0.01862\n",
      "Feature: 1, Score: 0.01097\n",
      "Feature: 2, Score: 0.08621\n",
      "Feature: 3, Score: 0.03810\n",
      "Feature: 4, Score: 0.00668\n",
      "Feature: 5, Score: 0.01146\n",
      "Feature: 6, Score: 0.03650\n",
      "Feature: 7, Score: 0.10385\n",
      "Feature: 8, Score: 0.00369\n",
      "Feature: 9, Score: 0.00370\n",
      "Feature: 10, Score: 0.01074\n",
      "Feature: 11, Score: 0.00549\n",
      "Feature: 12, Score: 0.02212\n",
      "Feature: 13, Score: 0.04113\n",
      "Feature: 14, Score: 0.00418\n",
      "Feature: 15, Score: 0.00544\n",
      "Feature: 16, Score: 0.00508\n",
      "Feature: 17, Score: 0.00374\n",
      "Feature: 18, Score: 0.00397\n",
      "Feature: 19, Score: 0.00434\n",
      "Feature: 20, Score: 0.11029\n",
      "Feature: 21, Score: 0.01667\n",
      "Feature: 22, Score: 0.13702\n",
      "Feature: 23, Score: 0.11706\n",
      "Feature: 24, Score: 0.01275\n",
      "Feature: 25, Score: 0.01631\n",
      "Feature: 26, Score: 0.03893\n",
      "Feature: 27, Score: 0.10627\n",
      "Feature: 28, Score: 0.01134\n",
      "Feature: 29, Score: 0.00733\n"
     ]
    },
    {
     "data": {
      "image/png": "[encoded data removed]",
      "text/plain": [
       "<Figure size 1080x1080 with 1 Axes>"
      ]
     },
     "metadata": {},
     "output_type": "display_data"
    }
   ],
   "source": [
    "model = RandomForestClassifier()\n",
    "# fit the model\n",
    "model.fit(X, y)\n",
    "# get importance\n",
    "importance = model.feature_importances_\n",
    "# summarize feature importance\n",
    "for i,v in enumerate(importance):\n",
    "    print('Feature: %d, Score: %.5f' % (i,v))\n",
    "# plot feature importance\n",
    "plt.figure(figsize=(15,15))\n",
    "plt.bar(X.columns, importance)\n",
    "plt.xticks(rotation=90)\n",
    "\n",
    "plt.show()"
   ]
  },
  {
   "cell_type": "markdown",
   "id": "ea8924be",
   "metadata": {
    "papermill": {
     "duration": 0.08034,
     "end_time": "2021-08-31T07:31:22.169733",
     "exception": false,
     "start_time": "2021-08-31T07:31:22.089393",
     "status": "completed"
    },
    "tags": []
   },
   "source": [
    "# Conclusion\n",
    "* The most important features is \"Concave Point Wrost\"\n",
    "* The list of the most imporatnt feature that we obtained using Random Forest Classifier are----Perimetr Wrost, Concave point worst, radius worst, concave point mean, area worst, texture mean etc.\n",
    "* SInce we can see that there are llarge number of important features ae available\n",
    "* Those feature which have least value can be removed from the dataset. "
   ]
  },
  {
   "cell_type": "markdown",
   "id": "97fee89a",
   "metadata": {
    "papermill": {
     "duration": 0.054023,
     "end_time": "2021-08-31T07:31:22.287013",
     "exception": false,
     "start_time": "2021-08-31T07:31:22.232990",
     "status": "completed"
    },
    "tags": []
   },
   "source": [
    "# Feature importance before Standarization"
   ]
  },
  {
   "cell_type": "code",
   "execution_count": null,
   "id": "ce84be38",
   "metadata": {
    "execution": {
     "iopub.execute_input": "2021-08-31T07:30:03.277223Z",
     "iopub.status.busy": "2021-08-31T07:30:03.276728Z",
     "iopub.status.idle": "2021-08-31T07:30:03.290045Z",
     "shell.execute_reply": "2021-08-31T07:30:03.288886Z",
     "shell.execute_reply.started": "2021-08-31T07:30:03.277181Z"
    },
    "papermill": {
     "duration": 0.054267,
     "end_time": "2021-08-31T07:31:22.395559",
     "exception": false,
     "start_time": "2021-08-31T07:31:22.341292",
     "status": "completed"
    },
    "tags": []
   },
   "outputs": [],
   "source": []
  },
  {
   "cell_type": "code",
   "execution_count": 28,
   "id": "08a321af",
   "metadata": {
    "execution": {
     "iopub.execute_input": "2021-08-31T07:31:22.509633Z",
     "iopub.status.busy": "2021-08-31T07:31:22.508953Z",
     "iopub.status.idle": "2021-08-31T07:31:22.516305Z",
     "shell.execute_reply": "2021-08-31T07:31:22.515587Z",
     "shell.execute_reply.started": "2021-08-31T07:30:04.730581Z"
    },
    "papermill": {
     "duration": 0.068128,
     "end_time": "2021-08-31T07:31:22.516453",
     "exception": false,
     "start_time": "2021-08-31T07:31:22.448325",
     "status": "completed"
    },
    "tags": []
   },
   "outputs": [],
   "source": [
    "from sklearn.preprocessing import StandardScaler\n",
    "scaler = StandardScaler()\n",
    "scaler.fit(X)\n",
    "X = scaler.transform(X)"
   ]
  },
  {
   "cell_type": "code",
   "execution_count": 29,
   "id": "ee004f5a",
   "metadata": {
    "execution": {
     "iopub.execute_input": "2021-08-31T07:31:22.638346Z",
     "iopub.status.busy": "2021-08-31T07:31:22.630265Z",
     "iopub.status.idle": "2021-08-31T07:31:22.922415Z",
     "shell.execute_reply": "2021-08-31T07:31:22.921808Z",
     "shell.execute_reply.started": "2021-08-31T07:27:05.964164Z"
    },
    "papermill": {
     "duration": 0.352652,
     "end_time": "2021-08-31T07:31:22.922571",
     "exception": false,
     "start_time": "2021-08-31T07:31:22.569919",
     "status": "completed"
    },
    "tags": []
   },
   "outputs": [
    {
     "data": {
      "text/plain": [
       "RandomForestClassifier()"
      ]
     },
     "execution_count": 29,
     "metadata": {},
     "output_type": "execute_result"
    }
   ],
   "source": [
    "model=RandomForestClassifier()\n",
    "model.fit(X, y)"
   ]
  },
  {
   "cell_type": "code",
   "execution_count": 30,
   "id": "b390023d",
   "metadata": {
    "execution": {
     "iopub.execute_input": "2021-08-31T07:31:23.049589Z",
     "iopub.status.busy": "2021-08-31T07:31:23.048498Z",
     "iopub.status.idle": "2021-08-31T07:31:23.347618Z",
     "shell.execute_reply": "2021-08-31T07:31:23.346971Z",
     "shell.execute_reply.started": "2021-08-31T07:27:29.376392Z"
    },
    "papermill": {
     "duration": 0.369516,
     "end_time": "2021-08-31T07:31:23.347771",
     "exception": false,
     "start_time": "2021-08-31T07:31:22.978255",
     "status": "completed"
    },
    "tags": []
   },
   "outputs": [
    {
     "name": "stdout",
     "output_type": "stream",
     "text": [
      "Feature: 0, Score: 0.04089\n",
      "Feature: 1, Score: 0.01392\n",
      "Feature: 2, Score: 0.07033\n",
      "Feature: 3, Score: 0.02773\n",
      "Feature: 4, Score: 0.00517\n",
      "Feature: 5, Score: 0.00639\n",
      "Feature: 6, Score: 0.07255\n",
      "Feature: 7, Score: 0.10066\n",
      "Feature: 8, Score: 0.00423\n",
      "Feature: 9, Score: 0.00438\n",
      "Feature: 10, Score: 0.00926\n",
      "Feature: 11, Score: 0.00357\n",
      "Feature: 12, Score: 0.01759\n",
      "Feature: 13, Score: 0.04063\n",
      "Feature: 14, Score: 0.00420\n",
      "Feature: 15, Score: 0.00451\n",
      "Feature: 16, Score: 0.00351\n",
      "Feature: 17, Score: 0.00651\n",
      "Feature: 18, Score: 0.00359\n",
      "Feature: 19, Score: 0.00620\n",
      "Feature: 20, Score: 0.10084\n",
      "Feature: 21, Score: 0.02725\n",
      "Feature: 22, Score: 0.13375\n",
      "Feature: 23, Score: 0.11345\n",
      "Feature: 24, Score: 0.01669\n",
      "Feature: 25, Score: 0.01257\n",
      "Feature: 26, Score: 0.03234\n",
      "Feature: 27, Score: 0.09768\n",
      "Feature: 28, Score: 0.01434\n",
      "Feature: 29, Score: 0.00527\n"
     ]
    },
    {
     "data": {
      "image/png": "[encoded data removed]",
      "text/plain": [
       "<Figure size 720x720 with 1 Axes>"
      ]
     },
     "metadata": {},
     "output_type": "display_data"
    }
   ],
   "source": [
    "importance = model.feature_importances_\n",
    "# summarize feature importance\n",
    "for i,v in enumerate(importance):\n",
    "    print('Feature: %0d, Score: %.5f' % (i,v))\n",
    "# plot feature importance\n",
    "plt.figure(figsize=(10,10))\n",
    "plt.bar([x for x in range(len(importance))], importance)\n",
    "plt.show()"
   ]
  },
  {
   "cell_type": "markdown",
   "id": "457c43c2",
   "metadata": {
    "papermill": {
     "duration": 0.055207,
     "end_time": "2021-08-31T07:31:23.458677",
     "exception": false,
     "start_time": "2021-08-31T07:31:23.403470",
     "status": "completed"
    },
    "tags": []
   },
   "source": [
    "# Conclusion\n",
    "* It is same as done above \n",
    "* Without and with standarization has less impact or almost no impact on feature importance"
   ]
  },
  {
   "cell_type": "markdown",
   "id": "2c7bca37",
   "metadata": {
    "papermill": {
     "duration": 0.054478,
     "end_time": "2021-08-31T07:31:23.568703",
     "exception": false,
     "start_time": "2021-08-31T07:31:23.514225",
     "status": "completed"
    },
    "tags": []
   },
   "source": [
    "# XGBoost Feature Importance"
   ]
  },
  {
   "cell_type": "code",
   "execution_count": 31,
   "id": "7cbb1bfd",
   "metadata": {
    "execution": {
     "iopub.execute_input": "2021-08-31T07:31:23.685893Z",
     "iopub.status.busy": "2021-08-31T07:31:23.685205Z",
     "iopub.status.idle": "2021-08-31T07:31:23.688004Z",
     "shell.execute_reply": "2021-08-31T07:31:23.687468Z",
     "shell.execute_reply.started": "2021-08-31T07:30:21.447200Z"
    },
    "papermill": {
     "duration": 0.065143,
     "end_time": "2021-08-31T07:31:23.688143",
     "exception": false,
     "start_time": "2021-08-31T07:31:23.623000",
     "status": "completed"
    },
    "tags": []
   },
   "outputs": [],
   "source": [
    "col=['id', 'diagnosis']\n",
    "X=df.drop(col, axis=1)\n",
    "y=df['diagnosis']\n",
    "X_train, x_test, y_train, y_test=train_test_split(X, y, test_size=0.3, random_state=10)"
   ]
  },
  {
   "cell_type": "code",
   "execution_count": 32,
   "id": "cbe258dc",
   "metadata": {
    "execution": {
     "iopub.execute_input": "2021-08-31T07:31:23.805378Z",
     "iopub.status.busy": "2021-08-31T07:31:23.804522Z",
     "iopub.status.idle": "2021-08-31T07:31:23.885445Z",
     "shell.execute_reply": "2021-08-31T07:31:23.884818Z",
     "shell.execute_reply.started": "2021-08-31T07:30:22.813391Z"
    },
    "papermill": {
     "duration": 0.140634,
     "end_time": "2021-08-31T07:31:23.885585",
     "exception": false,
     "start_time": "2021-08-31T07:31:23.744951",
     "status": "completed"
    },
    "tags": []
   },
   "outputs": [],
   "source": [
    "from xgboost import XGBClassifier\n"
   ]
  },
  {
   "cell_type": "code",
   "execution_count": 33,
   "id": "a6cfac44",
   "metadata": {
    "execution": {
     "iopub.execute_input": "2021-08-31T07:31:24.006239Z",
     "iopub.status.busy": "2021-08-31T07:31:24.005136Z",
     "iopub.status.idle": "2021-08-31T07:31:24.669375Z",
     "shell.execute_reply": "2021-08-31T07:31:24.669878Z",
     "shell.execute_reply.started": "2021-08-31T07:30:23.859106Z"
    },
    "papermill": {
     "duration": 0.7286,
     "end_time": "2021-08-31T07:31:24.670068",
     "exception": false,
     "start_time": "2021-08-31T07:31:23.941468",
     "status": "completed"
    },
    "tags": []
   },
   "outputs": [
    {
     "name": "stderr",
     "output_type": "stream",
     "text": [
      "/opt/conda/lib/python3.7/site-packages/xgboost/sklearn.py:1146: UserWarning:\n",
      "\n",
      "The use of label encoder in XGBClassifier is deprecated and will be removed in a future release. To remove this warning, do the following: 1) Pass option use_label_encoder=False when constructing XGBClassifier object; and 2) Encode your labels (y) as integers starting with 0, i.e. 0, 1, 2, ..., [num_class - 1].\n",
      "\n"
     ]
    },
    {
     "name": "stdout",
     "output_type": "stream",
     "text": [
      "[07:31:24] WARNING: ../src/learner.cc:1095: Starting in XGBoost 1.3.0, the default evaluation metric used with the objective 'binary:logistic' was changed from 'error' to 'logloss'. Explicitly set eval_metric if you'd like to restore the old behavior.\n",
      "Feature: 0, Score: 0.00911\n",
      "Feature: 1, Score: 0.01942\n",
      "Feature: 2, Score: 0.00544\n",
      "Feature: 3, Score: 0.01670\n",
      "Feature: 4, Score: 0.00439\n",
      "Feature: 5, Score: 0.00325\n",
      "Feature: 6, Score: 0.02007\n",
      "Feature: 7, Score: 0.05969\n",
      "Feature: 8, Score: 0.00062\n",
      "Feature: 9, Score: 0.00524\n",
      "Feature: 10, Score: 0.01088\n",
      "Feature: 11, Score: 0.00000\n",
      "Feature: 12, Score: 0.00000\n",
      "Feature: 13, Score: 0.00520\n",
      "Feature: 14, Score: 0.00669\n",
      "Feature: 15, Score: 0.00252\n",
      "Feature: 16, Score: 0.00563\n",
      "Feature: 17, Score: 0.00745\n",
      "Feature: 18, Score: 0.00119\n",
      "Feature: 19, Score: 0.00393\n",
      "Feature: 20, Score: 0.51029\n",
      "Feature: 21, Score: 0.01357\n",
      "Feature: 22, Score: 0.16236\n",
      "Feature: 23, Score: 0.02496\n",
      "Feature: 24, Score: 0.00231\n",
      "Feature: 25, Score: 0.00930\n",
      "Feature: 26, Score: 0.01318\n",
      "Feature: 27, Score: 0.07047\n",
      "Feature: 28, Score: 0.00128\n",
      "Feature: 29, Score: 0.00484\n"
     ]
    },
    {
     "data": {
      "image/png": "[encoded data removed]",
      "text/plain": [
       "<Figure size 1080x1080 with 1 Axes>"
      ]
     },
     "metadata": {},
     "output_type": "display_data"
    }
   ],
   "source": [
    "model = XGBClassifier()\n",
    "# fit the model\n",
    "model.fit(X, y)\n",
    "# get importance\n",
    "importance = model.feature_importances_\n",
    "# summarize feature importance\n",
    "for i,v in enumerate(importance):\n",
    "    print('Feature: %d, Score: %.5f' % (i,v))\n",
    "# plot feature importance\n",
    "plt.figure(figsize=(15,15))\n",
    "plt.bar(X.columns, importance)\n",
    "plt.xticks(rotation=90)\n",
    "\n",
    "plt.show()"
   ]
  },
  {
   "cell_type": "markdown",
   "id": "02393769",
   "metadata": {
    "papermill": {
     "duration": 0.056617,
     "end_time": "2021-08-31T07:31:24.785861",
     "exception": false,
     "start_time": "2021-08-31T07:31:24.729244",
     "status": "completed"
    },
    "tags": []
   },
   "source": [
    "# Classification\n",
    "* The most important features is Radius Worst\n",
    "* The number of important features decreaseas.\n",
    "* As we can see that Perimeter Worst is 2nd important features."
   ]
  },
  {
   "cell_type": "markdown",
   "id": "a0f3f6bd",
   "metadata": {
    "papermill": {
     "duration": 0.056528,
     "end_time": "2021-08-31T07:31:24.899302",
     "exception": false,
     "start_time": "2021-08-31T07:31:24.842774",
     "status": "completed"
    },
    "tags": []
   },
   "source": [
    "# Permutation Feature Importance\n",
    "* technique for calculating relative importance scores that is independent of the model used.\n",
    "* First, a model is fit on the dataset, such as a model that does not support native feature importance scores. \n",
    "* This approach can be used for regression or classification and requires that a performance metric be chosen as the basis of the importance score, such as the mean squared error for regression and accuracy for classification.\n"
   ]
  },
  {
   "cell_type": "code",
   "execution_count": 34,
   "id": "910a4994",
   "metadata": {
    "execution": {
     "iopub.execute_input": "2021-08-31T07:31:25.023589Z",
     "iopub.status.busy": "2021-08-31T07:31:25.022920Z",
     "iopub.status.idle": "2021-08-31T07:31:25.079755Z",
     "shell.execute_reply": "2021-08-31T07:31:25.080660Z",
     "shell.execute_reply.started": "2021-08-31T07:30:30.780175Z"
    },
    "papermill": {
     "duration": 0.121813,
     "end_time": "2021-08-31T07:31:25.080899",
     "exception": false,
     "start_time": "2021-08-31T07:31:24.959086",
     "status": "completed"
    },
    "tags": []
   },
   "outputs": [],
   "source": [
    "from sklearn.neighbors import KNeighborsClassifier\n",
    "from sklearn.inspection import permutation_importance"
   ]
  },
  {
   "cell_type": "code",
   "execution_count": 35,
   "id": "00ba05e6",
   "metadata": {
    "execution": {
     "iopub.execute_input": "2021-08-31T07:31:25.204993Z",
     "iopub.status.busy": "2021-08-31T07:31:25.203334Z",
     "iopub.status.idle": "2021-08-31T07:31:25.210413Z",
     "shell.execute_reply": "2021-08-31T07:31:25.209858Z",
     "shell.execute_reply.started": "2021-08-31T07:30:36.619852Z"
    },
    "papermill": {
     "duration": 0.071021,
     "end_time": "2021-08-31T07:31:25.210567",
     "exception": false,
     "start_time": "2021-08-31T07:31:25.139546",
     "status": "completed"
    },
    "tags": []
   },
   "outputs": [],
   "source": [
    "col=['id', 'diagnosis']\n",
    "X=df.drop(col, axis=1)\n",
    "y=df['diagnosis']\n",
    "X_train, x_test, y_train, y_test=train_test_split(X, y, test_size=0.3, random_state=10)"
   ]
  },
  {
   "cell_type": "code",
   "execution_count": 36,
   "id": "4399f316",
   "metadata": {
    "execution": {
     "iopub.execute_input": "2021-08-31T07:31:25.342829Z",
     "iopub.status.busy": "2021-08-31T07:31:25.342025Z",
     "iopub.status.idle": "2021-08-31T07:31:30.634267Z",
     "shell.execute_reply": "2021-08-31T07:31:30.633719Z",
     "shell.execute_reply.started": "2021-08-31T07:30:37.665470Z"
    },
    "papermill": {
     "duration": 5.365405,
     "end_time": "2021-08-31T07:31:30.634416",
     "exception": false,
     "start_time": "2021-08-31T07:31:25.269011",
     "status": "completed"
    },
    "tags": []
   },
   "outputs": [
    {
     "name": "stdout",
     "output_type": "stream",
     "text": [
      "Feature: 0, Score: 0.00000\n",
      "Feature: 1, Score: 0.00000\n",
      "Feature: 2, Score: 0.00070\n",
      "Feature: 3, Score: 0.14130\n",
      "Feature: 4, Score: 0.00000\n",
      "Feature: 5, Score: 0.00000\n",
      "Feature: 6, Score: 0.00000\n",
      "Feature: 7, Score: 0.00000\n",
      "Feature: 8, Score: 0.00000\n",
      "Feature: 9, Score: 0.00000\n",
      "Feature: 10, Score: 0.00000\n",
      "Feature: 11, Score: 0.00000\n",
      "Feature: 12, Score: 0.00000\n",
      "Feature: 13, Score: 0.00105\n",
      "Feature: 14, Score: 0.00000\n",
      "Feature: 15, Score: 0.00000\n",
      "Feature: 16, Score: 0.00000\n",
      "Feature: 17, Score: 0.00000\n",
      "Feature: 18, Score: 0.00000\n",
      "Feature: 19, Score: 0.00000\n",
      "Feature: 20, Score: 0.00000\n",
      "Feature: 21, Score: 0.00176\n",
      "Feature: 22, Score: 0.00070\n",
      "Feature: 23, Score: 0.39895\n",
      "Feature: 24, Score: 0.00000\n",
      "Feature: 25, Score: 0.00000\n",
      "Feature: 26, Score: 0.00000\n",
      "Feature: 27, Score: 0.00000\n",
      "Feature: 28, Score: 0.00000\n",
      "Feature: 29, Score: 0.00000\n"
     ]
    },
    {
     "data": {
      "image/png": "[encoded data removed]",
      "text/plain": [
       "<Figure size 1080x1080 with 1 Axes>"
      ]
     },
     "metadata": {},
     "output_type": "display_data"
    }
   ],
   "source": [
    "model = KNeighborsClassifier()\n",
    "# fit the model\n",
    "model.fit(X, y)\n",
    "# perform permutation importance\n",
    "results = permutation_importance(model, X, y, scoring='neg_mean_squared_error')\n",
    "# get importance\n",
    "importance = results.importances_mean\n",
    "for i,v in enumerate(importance):\n",
    "    print('Feature: %d, Score: %.5f' % (i,v))\n",
    "# plot feature importance\n",
    "plt.figure(figsize=(15,15))\n",
    "plt.bar(X.columns, importance)\n",
    "plt.xticks(rotation=90)\n",
    "\n",
    "plt.show()"
   ]
  },
  {
   "cell_type": "markdown",
   "id": "2dda57a2",
   "metadata": {
    "papermill": {
     "duration": 0.05843,
     "end_time": "2021-08-31T07:31:30.752313",
     "exception": false,
     "start_time": "2021-08-31T07:31:30.693883",
     "status": "completed"
    },
    "tags": []
   },
   "source": [
    "# Conclusion\n",
    "* The most imprtant features is Area worst\n",
    "* The 2nd most important feature is Area Mean\n",
    "* as we can see that there is only 2 features which is important"
   ]
  },
  {
   "cell_type": "code",
   "execution_count": null,
   "id": "87141615",
   "metadata": {
    "papermill": {
     "duration": 0.059192,
     "end_time": "2021-08-31T07:31:30.871845",
     "exception": false,
     "start_time": "2021-08-31T07:31:30.812653",
     "status": "completed"
    },
    "tags": []
   },
   "outputs": [],
   "source": []
  }
 ],
 "metadata": {
  "kernelspec": {
   "display_name": "Python 3",
   "language": "python",
   "name": "python3"
  },
  "language_info": {
   "codemirror_mode": {
    "name": "ipython",
    "version": 3
   },
   "file_extension": ".py",
   "mimetype": "text/x-python",
   "name": "python",
   "nbconvert_exporter": "python",
   "pygments_lexer": "ipython3",
   "version": "3.7.10"
  },
  "papermill": {
   "default_parameters": {},
   "duration": 30.757042,
   "end_time": "2021-08-31T07:31:31.943227",
   "environment_variables": {},
   "exception": null,
   "input_path": "__notebook__.ipynb",
   "output_path": "__notebook__.ipynb",
   "parameters": {},
   "start_time": "2021-08-31T07:31:01.186185",
   "version": "2.3.3"
  }
 },
 "nbformat": 4,
 "nbformat_minor": 5
}
