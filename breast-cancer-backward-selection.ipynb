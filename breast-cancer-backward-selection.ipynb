{
 "cells": [
  {
   "cell_type": "code",
   "execution_count": 1,
   "id": "4ab7f08f",
   "metadata": {
    "_cell_guid": "b1076dfc-b9ad-4769-8c92-a6c4dae69d19",
    "_uuid": "8f2839f25d086af736a60e9eeb907d3b93b6e0e5",
    "execution": {
     "iopub.execute_input": "2021-08-24T14:41:44.478179Z",
     "iopub.status.busy": "2021-08-24T14:41:44.477607Z",
     "iopub.status.idle": "2021-08-24T14:41:44.488616Z",
     "shell.execute_reply": "2021-08-24T14:41:44.488038Z",
     "shell.execute_reply.started": "2021-08-24T14:17:47.763647Z"
    },
    "papermill": {
     "duration": 0.082264,
     "end_time": "2021-08-24T14:41:44.488790",
     "exception": false,
     "start_time": "2021-08-24T14:41:44.406526",
     "status": "completed"
    },
    "tags": []
   },
   "outputs": [
    {
     "name": "stdout",
     "output_type": "stream",
     "text": [
      "/kaggle/input/breast-cancer-wisconsin-data/data.csv\n"
     ]
    }
   ],
   "source": [
    "# This Python 3 environment comes with many helpful analytics libraries installed\n",
    "# It is defined by the kaggle/python Docker image: https://github.com/kaggle/docker-python\n",
    "# For example, here's several helpful packages to load\n",
    "\n",
    "import numpy as np # linear algebra\n",
    "import pandas as pd # data processing, CSV file I/O (e.g. pd.read_csv)\n",
    "\n",
    "# Input data files are available in the read-only \"../input/\" directory\n",
    "# For example, running this (by clicking run or pressing Shift+Enter) will list all files under the input directory\n",
    "\n",
    "import os\n",
    "for dirname, _, filenames in os.walk('/kaggle/input'):\n",
    "    for filename in filenames:\n",
    "        print(os.path.join(dirname, filename))\n",
    "\n",
    "# You can write up to 20GB to the current directory (/kaggle/working/) that gets preserved as output when you create a version using \"Save & Run All\" \n",
    "# You can also write temporary files to /kaggle/temp/, but they won't be saved outside of the current session"
   ]
  },
  {
   "cell_type": "markdown",
   "id": "5cb1948b",
   "metadata": {
    "papermill": {
     "duration": 0.057966,
     "end_time": "2021-08-24T14:41:44.605908",
     "exception": false,
     "start_time": "2021-08-24T14:41:44.547942",
     "status": "completed"
    },
    "tags": []
   },
   "source": [
    "# Backward stepwise\n",
    "* Backward stepwise selection (or backward elimination) is a variable selection method which:\n",
    "* Begins with a model that contains all variables under consideration (called the Full Model)\n",
    "* Then starts removing the least significant variables one after the other\n",
    "* Until a pre-specified stopping rule is reached or until no variable is left in the model\n",
    "* From Full model we eliminate the least important features."
   ]
  },
  {
   "cell_type": "markdown",
   "id": "233b5605",
   "metadata": {
    "papermill": {
     "duration": 0.058198,
     "end_time": "2021-08-24T14:41:44.722335",
     "exception": false,
     "start_time": "2021-08-24T14:41:44.664137",
     "status": "completed"
    },
    "tags": []
   },
   "source": [
    "# Determine the least significant variable to remove at each step\n",
    "The least significant variable is a variable that:\n",
    "* Has the highest p-value in the model, or\n",
    "* Its elimination from the model causes the lowest drop in R2, or\n",
    "* Its elimination from the model causes the lowest increase in RSS (Residuals Sum of Squares) compared to other predictors.\n",
    "# Choose a stopping rule\n",
    "The stopping rule is satisfied when all remaining variables in the model have a p-value smaller than some pre-specified threshold.\n",
    "When we reach this state, backward elimination will terminate and return the current step’s model.\n",
    "# Where backward stepwise is better\n",
    "* Starting with the full model has the advantage of considering the effects of all variables simultaneously.\n",
    "* This is especially important in case of collinearity (when variables in a model are correlated which each other) because backward stepwise may be forced to keep them all in the model unlike forward selection where none of them might be entered\n",
    "* Unless the number of candidate variables > sample size (or number of events), use a backward stepwise approach.\n",
    "\n",
    "> https://quantifyinghealth.com/stepwise-selection/"
   ]
  },
  {
   "cell_type": "markdown",
   "id": "3d7f535c",
   "metadata": {
    "papermill": {
     "duration": 0.057434,
     "end_time": "2021-08-24T14:41:44.838258",
     "exception": false,
     "start_time": "2021-08-24T14:41:44.780824",
     "status": "completed"
    },
    "tags": []
   },
   "source": [
    "# Import Library"
   ]
  },
  {
   "cell_type": "code",
   "execution_count": 2,
   "id": "dd5d21e9",
   "metadata": {
    "execution": {
     "iopub.execute_input": "2021-08-24T14:41:44.960905Z",
     "iopub.status.busy": "2021-08-24T14:41:44.960155Z",
     "iopub.status.idle": "2021-08-24T14:41:49.565782Z",
     "shell.execute_reply": "2021-08-24T14:41:49.565248Z",
     "shell.execute_reply.started": "2021-08-24T14:17:47.796484Z"
    },
    "papermill": {
     "duration": 4.669421,
     "end_time": "2021-08-24T14:41:49.565931",
     "exception": false,
     "start_time": "2021-08-24T14:41:44.896510",
     "status": "completed"
    },
    "tags": []
   },
   "outputs": [
    {
     "data": {
      "text/html": [
       "        <script type=\"text/javascript\">\n",
       "        window.PlotlyConfig = {MathJaxConfig: 'local'};\n",
       "        if (window.MathJax) {MathJax.Hub.Config({SVG: {font: \"STIX-Web\"}});}\n",
       "        if (typeof require !== 'undefined') {\n",
       "        require.undef(\"plotly\");\n",
       "        requirejs.config({\n",
       "            paths: {\n",
       "                'plotly': ['https://cdn.plot.ly/plotly-2.2.0.min']\n",
       "            }\n",
       "        });\n",
       "        require(['plotly'], function(Plotly) {\n",
       "            window._Plotly = Plotly;\n",
       "        });\n",
       "        }\n",
       "        </script>\n",
       "        "
      ]
     },
     "metadata": {},
     "output_type": "display_data"
    }
   ],
   "source": [
    "import numpy as np\n",
    "import pandas as pd\n",
    "import matplotlib.pyplot as plt\n",
    "import seaborn as sns\n",
    "\n",
    "from pandas import plotting\n",
    "\n",
    "#plotly \n",
    "import plotly.offline as py\n",
    "import plotly.graph_objects as go\n",
    "from plotly.offline import init_notebook_mode, iplot\n",
    "from plotly import tools\n",
    "init_notebook_mode(connected=True)\n",
    "import plotly.figure_factory as ff\n",
    "import plotly.express as px\n",
    "\n",
    "from sklearn.preprocessing import StandardScaler\n",
    "\n",
    "from sklearn.linear_model import LogisticRegression\n",
    "from sklearn import preprocessing\n",
    "from sklearn import neighbors\n",
    "from sklearn.metrics import confusion_matrix,classification_report,precision_score\n",
    "from sklearn.model_selection import train_test_split\n",
    "\n",
    "import statsmodels.api as sm\n",
    "import statsmodels.formula.api as smf\n",
    "\n",
    "sns.set(style=\"whitegrid\")"
   ]
  },
  {
   "cell_type": "code",
   "execution_count": 3,
   "id": "b3a7af36",
   "metadata": {
    "execution": {
     "iopub.execute_input": "2021-08-24T14:41:49.691244Z",
     "iopub.status.busy": "2021-08-24T14:41:49.690650Z",
     "iopub.status.idle": "2021-08-24T14:41:49.750945Z",
     "shell.execute_reply": "2021-08-24T14:41:49.750453Z",
     "shell.execute_reply.started": "2021-08-24T14:17:52.775729Z"
    },
    "papermill": {
     "duration": 0.125544,
     "end_time": "2021-08-24T14:41:49.751077",
     "exception": false,
     "start_time": "2021-08-24T14:41:49.625533",
     "status": "completed"
    },
    "tags": []
   },
   "outputs": [
    {
     "data": {
      "text/html": [
       "<div>\n",
       "<style scoped>\n",
       "    .dataframe tbody tr th:only-of-type {\n",
       "        vertical-align: middle;\n",
       "    }\n",
       "\n",
       "    .dataframe tbody tr th {\n",
       "        vertical-align: top;\n",
       "    }\n",
       "\n",
       "    .dataframe thead th {\n",
       "        text-align: right;\n",
       "    }\n",
       "</style>\n",
       "<table border=\"1\" class=\"dataframe\">\n",
       "  <thead>\n",
       "    <tr style=\"text-align: right;\">\n",
       "      <th></th>\n",
       "      <th>id</th>\n",
       "      <th>diagnosis</th>\n",
       "      <th>radius_mean</th>\n",
       "      <th>texture_mean</th>\n",
       "      <th>perimeter_mean</th>\n",
       "      <th>area_mean</th>\n",
       "      <th>smoothness_mean</th>\n",
       "      <th>compactness_mean</th>\n",
       "      <th>concavity_mean</th>\n",
       "      <th>concave points_mean</th>\n",
       "      <th>...</th>\n",
       "      <th>texture_worst</th>\n",
       "      <th>perimeter_worst</th>\n",
       "      <th>area_worst</th>\n",
       "      <th>smoothness_worst</th>\n",
       "      <th>compactness_worst</th>\n",
       "      <th>concavity_worst</th>\n",
       "      <th>concave points_worst</th>\n",
       "      <th>symmetry_worst</th>\n",
       "      <th>fractal_dimension_worst</th>\n",
       "      <th>Unnamed: 32</th>\n",
       "    </tr>\n",
       "  </thead>\n",
       "  <tbody>\n",
       "    <tr>\n",
       "      <th>0</th>\n",
       "      <td>842302</td>\n",
       "      <td>M</td>\n",
       "      <td>17.99</td>\n",
       "      <td>10.38</td>\n",
       "      <td>122.80</td>\n",
       "      <td>1001.0</td>\n",
       "      <td>0.11840</td>\n",
       "      <td>0.27760</td>\n",
       "      <td>0.3001</td>\n",
       "      <td>0.14710</td>\n",
       "      <td>...</td>\n",
       "      <td>17.33</td>\n",
       "      <td>184.60</td>\n",
       "      <td>2019.0</td>\n",
       "      <td>0.1622</td>\n",
       "      <td>0.6656</td>\n",
       "      <td>0.7119</td>\n",
       "      <td>0.2654</td>\n",
       "      <td>0.4601</td>\n",
       "      <td>0.11890</td>\n",
       "      <td>NaN</td>\n",
       "    </tr>\n",
       "    <tr>\n",
       "      <th>1</th>\n",
       "      <td>842517</td>\n",
       "      <td>M</td>\n",
       "      <td>20.57</td>\n",
       "      <td>17.77</td>\n",
       "      <td>132.90</td>\n",
       "      <td>1326.0</td>\n",
       "      <td>0.08474</td>\n",
       "      <td>0.07864</td>\n",
       "      <td>0.0869</td>\n",
       "      <td>0.07017</td>\n",
       "      <td>...</td>\n",
       "      <td>23.41</td>\n",
       "      <td>158.80</td>\n",
       "      <td>1956.0</td>\n",
       "      <td>0.1238</td>\n",
       "      <td>0.1866</td>\n",
       "      <td>0.2416</td>\n",
       "      <td>0.1860</td>\n",
       "      <td>0.2750</td>\n",
       "      <td>0.08902</td>\n",
       "      <td>NaN</td>\n",
       "    </tr>\n",
       "    <tr>\n",
       "      <th>2</th>\n",
       "      <td>84300903</td>\n",
       "      <td>M</td>\n",
       "      <td>19.69</td>\n",
       "      <td>21.25</td>\n",
       "      <td>130.00</td>\n",
       "      <td>1203.0</td>\n",
       "      <td>0.10960</td>\n",
       "      <td>0.15990</td>\n",
       "      <td>0.1974</td>\n",
       "      <td>0.12790</td>\n",
       "      <td>...</td>\n",
       "      <td>25.53</td>\n",
       "      <td>152.50</td>\n",
       "      <td>1709.0</td>\n",
       "      <td>0.1444</td>\n",
       "      <td>0.4245</td>\n",
       "      <td>0.4504</td>\n",
       "      <td>0.2430</td>\n",
       "      <td>0.3613</td>\n",
       "      <td>0.08758</td>\n",
       "      <td>NaN</td>\n",
       "    </tr>\n",
       "    <tr>\n",
       "      <th>3</th>\n",
       "      <td>84348301</td>\n",
       "      <td>M</td>\n",
       "      <td>11.42</td>\n",
       "      <td>20.38</td>\n",
       "      <td>77.58</td>\n",
       "      <td>386.1</td>\n",
       "      <td>0.14250</td>\n",
       "      <td>0.28390</td>\n",
       "      <td>0.2414</td>\n",
       "      <td>0.10520</td>\n",
       "      <td>...</td>\n",
       "      <td>26.50</td>\n",
       "      <td>98.87</td>\n",
       "      <td>567.7</td>\n",
       "      <td>0.2098</td>\n",
       "      <td>0.8663</td>\n",
       "      <td>0.6869</td>\n",
       "      <td>0.2575</td>\n",
       "      <td>0.6638</td>\n",
       "      <td>0.17300</td>\n",
       "      <td>NaN</td>\n",
       "    </tr>\n",
       "    <tr>\n",
       "      <th>4</th>\n",
       "      <td>84358402</td>\n",
       "      <td>M</td>\n",
       "      <td>20.29</td>\n",
       "      <td>14.34</td>\n",
       "      <td>135.10</td>\n",
       "      <td>1297.0</td>\n",
       "      <td>0.10030</td>\n",
       "      <td>0.13280</td>\n",
       "      <td>0.1980</td>\n",
       "      <td>0.10430</td>\n",
       "      <td>...</td>\n",
       "      <td>16.67</td>\n",
       "      <td>152.20</td>\n",
       "      <td>1575.0</td>\n",
       "      <td>0.1374</td>\n",
       "      <td>0.2050</td>\n",
       "      <td>0.4000</td>\n",
       "      <td>0.1625</td>\n",
       "      <td>0.2364</td>\n",
       "      <td>0.07678</td>\n",
       "      <td>NaN</td>\n",
       "    </tr>\n",
       "  </tbody>\n",
       "</table>\n",
       "<p>5 rows × 33 columns</p>\n",
       "</div>"
      ],
      "text/plain": [
       "         id diagnosis  radius_mean  texture_mean  perimeter_mean  area_mean  \\\n",
       "0    842302         M        17.99         10.38          122.80     1001.0   \n",
       "1    842517         M        20.57         17.77          132.90     1326.0   \n",
       "2  84300903         M        19.69         21.25          130.00     1203.0   \n",
       "3  84348301         M        11.42         20.38           77.58      386.1   \n",
       "4  84358402         M        20.29         14.34          135.10     1297.0   \n",
       "\n",
       "   smoothness_mean  compactness_mean  concavity_mean  concave points_mean  \\\n",
       "0          0.11840           0.27760          0.3001              0.14710   \n",
       "1          0.08474           0.07864          0.0869              0.07017   \n",
       "2          0.10960           0.15990          0.1974              0.12790   \n",
       "3          0.14250           0.28390          0.2414              0.10520   \n",
       "4          0.10030           0.13280          0.1980              0.10430   \n",
       "\n",
       "   ...  texture_worst  perimeter_worst  area_worst  smoothness_worst  \\\n",
       "0  ...          17.33           184.60      2019.0            0.1622   \n",
       "1  ...          23.41           158.80      1956.0            0.1238   \n",
       "2  ...          25.53           152.50      1709.0            0.1444   \n",
       "3  ...          26.50            98.87       567.7            0.2098   \n",
       "4  ...          16.67           152.20      1575.0            0.1374   \n",
       "\n",
       "   compactness_worst  concavity_worst  concave points_worst  symmetry_worst  \\\n",
       "0             0.6656           0.7119                0.2654          0.4601   \n",
       "1             0.1866           0.2416                0.1860          0.2750   \n",
       "2             0.4245           0.4504                0.2430          0.3613   \n",
       "3             0.8663           0.6869                0.2575          0.6638   \n",
       "4             0.2050           0.4000                0.1625          0.2364   \n",
       "\n",
       "   fractal_dimension_worst  Unnamed: 32  \n",
       "0                  0.11890          NaN  \n",
       "1                  0.08902          NaN  \n",
       "2                  0.08758          NaN  \n",
       "3                  0.17300          NaN  \n",
       "4                  0.07678          NaN  \n",
       "\n",
       "[5 rows x 33 columns]"
      ]
     },
     "execution_count": 3,
     "metadata": {},
     "output_type": "execute_result"
    }
   ],
   "source": [
    "df=pd.read_csv('../input/breast-cancer-wisconsin-data/data.csv')\n",
    "df.head()"
   ]
  },
  {
   "cell_type": "code",
   "execution_count": 4,
   "id": "1acb88c2",
   "metadata": {
    "execution": {
     "iopub.execute_input": "2021-08-24T14:41:49.880729Z",
     "iopub.status.busy": "2021-08-24T14:41:49.879743Z",
     "iopub.status.idle": "2021-08-24T14:41:49.882121Z",
     "shell.execute_reply": "2021-08-24T14:41:49.882565Z",
     "shell.execute_reply.started": "2021-08-24T14:17:52.843648Z"
    },
    "papermill": {
     "duration": 0.071832,
     "end_time": "2021-08-24T14:41:49.882731",
     "exception": false,
     "start_time": "2021-08-24T14:41:49.810899",
     "status": "completed"
    },
    "tags": []
   },
   "outputs": [],
   "source": [
    "df=df.drop('Unnamed: 32', axis=1)"
   ]
  },
  {
   "cell_type": "code",
   "execution_count": 5,
   "id": "94218902",
   "metadata": {
    "execution": {
     "iopub.execute_input": "2021-08-24T14:41:50.010262Z",
     "iopub.status.busy": "2021-08-24T14:41:50.009450Z",
     "iopub.status.idle": "2021-08-24T14:41:50.012686Z",
     "shell.execute_reply": "2021-08-24T14:41:50.013267Z",
     "shell.execute_reply.started": "2021-08-24T14:17:52.854902Z"
    },
    "papermill": {
     "duration": 0.071598,
     "end_time": "2021-08-24T14:41:50.013464",
     "exception": false,
     "start_time": "2021-08-24T14:41:49.941866",
     "status": "completed"
    },
    "tags": []
   },
   "outputs": [
    {
     "data": {
      "text/plain": [
       "Index(['id', 'diagnosis', 'radius_mean', 'texture_mean', 'perimeter_mean',\n",
       "       'area_mean', 'smoothness_mean', 'compactness_mean', 'concavity_mean',\n",
       "       'concave points_mean', 'symmetry_mean', 'fractal_dimension_mean',\n",
       "       'radius_se', 'texture_se', 'perimeter_se', 'area_se', 'smoothness_se',\n",
       "       'compactness_se', 'concavity_se', 'concave points_se', 'symmetry_se',\n",
       "       'fractal_dimension_se', 'radius_worst', 'texture_worst',\n",
       "       'perimeter_worst', 'area_worst', 'smoothness_worst',\n",
       "       'compactness_worst', 'concavity_worst', 'concave points_worst',\n",
       "       'symmetry_worst', 'fractal_dimension_worst'],\n",
       "      dtype='object')"
      ]
     },
     "execution_count": 5,
     "metadata": {},
     "output_type": "execute_result"
    }
   ],
   "source": [
    "df.columns"
   ]
  },
  {
   "cell_type": "code",
   "execution_count": 6,
   "id": "b0e087bb",
   "metadata": {
    "execution": {
     "iopub.execute_input": "2021-08-24T14:41:50.139159Z",
     "iopub.status.busy": "2021-08-24T14:41:50.138580Z",
     "iopub.status.idle": "2021-08-24T14:41:50.140591Z",
     "shell.execute_reply": "2021-08-24T14:41:50.141012Z",
     "shell.execute_reply.started": "2021-08-24T14:17:52.873171Z"
    },
    "papermill": {
     "duration": 0.067355,
     "end_time": "2021-08-24T14:41:50.141168",
     "exception": false,
     "start_time": "2021-08-24T14:41:50.073813",
     "status": "completed"
    },
    "tags": []
   },
   "outputs": [],
   "source": [
    "diagnosis={'M':1, 'B':0}\n",
    "df['diagnosis']=[diagnosis[x] for x in df['diagnosis']]"
   ]
  },
  {
   "cell_type": "code",
   "execution_count": 7,
   "id": "37ac7dc4",
   "metadata": {
    "execution": {
     "iopub.execute_input": "2021-08-24T14:41:50.264407Z",
     "iopub.status.busy": "2021-08-24T14:41:50.263775Z",
     "iopub.status.idle": "2021-08-24T14:41:50.268250Z",
     "shell.execute_reply": "2021-08-24T14:41:50.267781Z",
     "shell.execute_reply.started": "2021-08-24T14:17:52.885320Z"
    },
    "papermill": {
     "duration": 0.066592,
     "end_time": "2021-08-24T14:41:50.268409",
     "exception": false,
     "start_time": "2021-08-24T14:41:50.201817",
     "status": "completed"
    },
    "tags": []
   },
   "outputs": [],
   "source": [
    "from scipy import stats\n"
   ]
  },
  {
   "cell_type": "code",
   "execution_count": 8,
   "id": "8de7deb2",
   "metadata": {
    "execution": {
     "iopub.execute_input": "2021-08-24T14:41:50.535748Z",
     "iopub.status.busy": "2021-08-24T14:41:50.534991Z",
     "iopub.status.idle": "2021-08-24T14:41:50.539367Z",
     "shell.execute_reply": "2021-08-24T14:41:50.538864Z",
     "shell.execute_reply.started": "2021-08-24T14:17:52.895455Z"
    },
    "papermill": {
     "duration": 0.211898,
     "end_time": "2021-08-24T14:41:50.539501",
     "exception": false,
     "start_time": "2021-08-24T14:41:50.327603",
     "status": "completed"
    },
    "tags": []
   },
   "outputs": [
    {
     "name": "stdout",
     "output_type": "stream",
     "text": [
      "0.7300285113754563\n",
      "8.465940572259232e-96\n"
     ]
    }
   ],
   "source": [
    "r, p=stats.pearsonr(df.radius_mean, df.diagnosis)\n",
    "print(r)\n",
    "print(p)"
   ]
  },
  {
   "cell_type": "code",
   "execution_count": 9,
   "id": "91dde8bf",
   "metadata": {
    "execution": {
     "iopub.execute_input": "2021-08-24T14:41:50.670064Z",
     "iopub.status.busy": "2021-08-24T14:41:50.667237Z",
     "iopub.status.idle": "2021-08-24T14:41:50.737027Z",
     "shell.execute_reply": "2021-08-24T14:41:50.737465Z",
     "shell.execute_reply.started": "2021-08-24T14:17:53.042380Z"
    },
    "papermill": {
     "duration": 0.138233,
     "end_time": "2021-08-24T14:41:50.737648",
     "exception": false,
     "start_time": "2021-08-24T14:41:50.599415",
     "status": "completed"
    },
    "tags": []
   },
   "outputs": [
    {
     "data": {
      "text/html": [
       "<div>\n",
       "<style scoped>\n",
       "    .dataframe tbody tr th:only-of-type {\n",
       "        vertical-align: middle;\n",
       "    }\n",
       "\n",
       "    .dataframe tbody tr th {\n",
       "        vertical-align: top;\n",
       "    }\n",
       "\n",
       "    .dataframe thead th {\n",
       "        text-align: right;\n",
       "    }\n",
       "</style>\n",
       "<table border=\"1\" class=\"dataframe\">\n",
       "  <thead>\n",
       "    <tr style=\"text-align: right;\">\n",
       "      <th></th>\n",
       "      <th>r</th>\n",
       "      <th>p-value</th>\n",
       "    </tr>\n",
       "  </thead>\n",
       "  <tbody>\n",
       "    <tr>\n",
       "      <th>id</th>\n",
       "      <td>0.039769</td>\n",
       "      <td>3.436819e-01</td>\n",
       "    </tr>\n",
       "    <tr>\n",
       "      <th>diagnosis</th>\n",
       "      <td>1.000000</td>\n",
       "      <td>0.000000e+00</td>\n",
       "    </tr>\n",
       "    <tr>\n",
       "      <th>radius_mean</th>\n",
       "      <td>0.730029</td>\n",
       "      <td>8.465941e-96</td>\n",
       "    </tr>\n",
       "    <tr>\n",
       "      <th>texture_mean</th>\n",
       "      <td>0.415185</td>\n",
       "      <td>4.058636e-25</td>\n",
       "    </tr>\n",
       "    <tr>\n",
       "      <th>perimeter_mean</th>\n",
       "      <td>0.742636</td>\n",
       "      <td>8.436251e-101</td>\n",
       "    </tr>\n",
       "    <tr>\n",
       "      <th>area_mean</th>\n",
       "      <td>0.708984</td>\n",
       "      <td>4.734564e-88</td>\n",
       "    </tr>\n",
       "    <tr>\n",
       "      <th>smoothness_mean</th>\n",
       "      <td>0.358560</td>\n",
       "      <td>1.051850e-18</td>\n",
       "    </tr>\n",
       "    <tr>\n",
       "      <th>compactness_mean</th>\n",
       "      <td>0.596534</td>\n",
       "      <td>3.938263e-56</td>\n",
       "    </tr>\n",
       "    <tr>\n",
       "      <th>concavity_mean</th>\n",
       "      <td>0.696360</td>\n",
       "      <td>9.966556e-84</td>\n",
       "    </tr>\n",
       "    <tr>\n",
       "      <th>concave points_mean</th>\n",
       "      <td>0.776614</td>\n",
       "      <td>7.101150e-116</td>\n",
       "    </tr>\n",
       "    <tr>\n",
       "      <th>symmetry_mean</th>\n",
       "      <td>0.330499</td>\n",
       "      <td>5.733384e-16</td>\n",
       "    </tr>\n",
       "    <tr>\n",
       "      <th>fractal_dimension_mean</th>\n",
       "      <td>-0.012838</td>\n",
       "      <td>7.599368e-01</td>\n",
       "    </tr>\n",
       "    <tr>\n",
       "      <th>radius_se</th>\n",
       "      <td>0.567134</td>\n",
       "      <td>9.738949e-50</td>\n",
       "    </tr>\n",
       "    <tr>\n",
       "      <th>texture_se</th>\n",
       "      <td>-0.008303</td>\n",
       "      <td>8.433320e-01</td>\n",
       "    </tr>\n",
       "    <tr>\n",
       "      <th>perimeter_se</th>\n",
       "      <td>0.556141</td>\n",
       "      <td>1.651905e-47</td>\n",
       "    </tr>\n",
       "    <tr>\n",
       "      <th>area_se</th>\n",
       "      <td>0.548236</td>\n",
       "      <td>5.895521e-46</td>\n",
       "    </tr>\n",
       "    <tr>\n",
       "      <th>smoothness_se</th>\n",
       "      <td>-0.067016</td>\n",
       "      <td>1.102966e-01</td>\n",
       "    </tr>\n",
       "    <tr>\n",
       "      <th>compactness_se</th>\n",
       "      <td>0.292999</td>\n",
       "      <td>9.975995e-13</td>\n",
       "    </tr>\n",
       "    <tr>\n",
       "      <th>concavity_se</th>\n",
       "      <td>0.253730</td>\n",
       "      <td>8.260176e-10</td>\n",
       "    </tr>\n",
       "    <tr>\n",
       "      <th>concave points_se</th>\n",
       "      <td>0.408042</td>\n",
       "      <td>3.072309e-24</td>\n",
       "    </tr>\n",
       "    <tr>\n",
       "      <th>symmetry_se</th>\n",
       "      <td>-0.006522</td>\n",
       "      <td>8.766418e-01</td>\n",
       "    </tr>\n",
       "    <tr>\n",
       "      <th>fractal_dimension_se</th>\n",
       "      <td>0.077972</td>\n",
       "      <td>6.307355e-02</td>\n",
       "    </tr>\n",
       "    <tr>\n",
       "      <th>radius_worst</th>\n",
       "      <td>0.776454</td>\n",
       "      <td>8.482292e-116</td>\n",
       "    </tr>\n",
       "    <tr>\n",
       "      <th>texture_worst</th>\n",
       "      <td>0.456903</td>\n",
       "      <td>1.078057e-30</td>\n",
       "    </tr>\n",
       "    <tr>\n",
       "      <th>perimeter_worst</th>\n",
       "      <td>0.782914</td>\n",
       "      <td>5.771397e-119</td>\n",
       "    </tr>\n",
       "    <tr>\n",
       "      <th>area_worst</th>\n",
       "      <td>0.733825</td>\n",
       "      <td>2.828848e-97</td>\n",
       "    </tr>\n",
       "    <tr>\n",
       "      <th>smoothness_worst</th>\n",
       "      <td>0.421465</td>\n",
       "      <td>6.575144e-26</td>\n",
       "    </tr>\n",
       "    <tr>\n",
       "      <th>compactness_worst</th>\n",
       "      <td>0.590998</td>\n",
       "      <td>7.069816e-55</td>\n",
       "    </tr>\n",
       "    <tr>\n",
       "      <th>concavity_worst</th>\n",
       "      <td>0.659610</td>\n",
       "      <td>2.464664e-72</td>\n",
       "    </tr>\n",
       "    <tr>\n",
       "      <th>concave points_worst</th>\n",
       "      <td>0.793566</td>\n",
       "      <td>1.969100e-124</td>\n",
       "    </tr>\n",
       "    <tr>\n",
       "      <th>symmetry_worst</th>\n",
       "      <td>0.416294</td>\n",
       "      <td>2.951121e-25</td>\n",
       "    </tr>\n",
       "    <tr>\n",
       "      <th>fractal_dimension_worst</th>\n",
       "      <td>0.323872</td>\n",
       "      <td>2.316432e-15</td>\n",
       "    </tr>\n",
       "  </tbody>\n",
       "</table>\n",
       "</div>"
      ],
      "text/plain": [
       "                                r        p-value\n",
       "id                       0.039769   3.436819e-01\n",
       "diagnosis                1.000000   0.000000e+00\n",
       "radius_mean              0.730029   8.465941e-96\n",
       "texture_mean             0.415185   4.058636e-25\n",
       "perimeter_mean           0.742636  8.436251e-101\n",
       "area_mean                0.708984   4.734564e-88\n",
       "smoothness_mean          0.358560   1.051850e-18\n",
       "compactness_mean         0.596534   3.938263e-56\n",
       "concavity_mean           0.696360   9.966556e-84\n",
       "concave points_mean      0.776614  7.101150e-116\n",
       "symmetry_mean            0.330499   5.733384e-16\n",
       "fractal_dimension_mean  -0.012838   7.599368e-01\n",
       "radius_se                0.567134   9.738949e-50\n",
       "texture_se              -0.008303   8.433320e-01\n",
       "perimeter_se             0.556141   1.651905e-47\n",
       "area_se                  0.548236   5.895521e-46\n",
       "smoothness_se           -0.067016   1.102966e-01\n",
       "compactness_se           0.292999   9.975995e-13\n",
       "concavity_se             0.253730   8.260176e-10\n",
       "concave points_se        0.408042   3.072309e-24\n",
       "symmetry_se             -0.006522   8.766418e-01\n",
       "fractal_dimension_se     0.077972   6.307355e-02\n",
       "radius_worst             0.776454  8.482292e-116\n",
       "texture_worst            0.456903   1.078057e-30\n",
       "perimeter_worst          0.782914  5.771397e-119\n",
       "area_worst               0.733825   2.828848e-97\n",
       "smoothness_worst         0.421465   6.575144e-26\n",
       "compactness_worst        0.590998   7.069816e-55\n",
       "concavity_worst          0.659610   2.464664e-72\n",
       "concave points_worst     0.793566  1.969100e-124\n",
       "symmetry_worst           0.416294   2.951121e-25\n",
       "fractal_dimension_worst  0.323872   2.316432e-15"
      ]
     },
     "execution_count": 9,
     "metadata": {},
     "output_type": "execute_result"
    }
   ],
   "source": [
    "cor_df=pd.DataFrame(columns=['r','p-value'])\n",
    "for col in df:\n",
    "   # print(col)\n",
    "    if pd.api.types.is_numeric_dtype(df[col]):\n",
    "        r, p=stats.pearsonr(df.diagnosis, df[col])\n",
    "        cor_df.loc[col]=[r, p]\n",
    "cor_df"
   ]
  },
  {
   "cell_type": "code",
   "execution_count": 10,
   "id": "783efc6b",
   "metadata": {
    "execution": {
     "iopub.execute_input": "2021-08-24T14:41:50.861772Z",
     "iopub.status.busy": "2021-08-24T14:41:50.861136Z",
     "iopub.status.idle": "2021-08-24T14:41:50.874612Z",
     "shell.execute_reply": "2021-08-24T14:41:50.874097Z",
     "shell.execute_reply.started": "2021-08-24T14:17:53.132446Z"
    },
    "papermill": {
     "duration": 0.076072,
     "end_time": "2021-08-24T14:41:50.874750",
     "exception": false,
     "start_time": "2021-08-24T14:41:50.798678",
     "status": "completed"
    },
    "tags": []
   },
   "outputs": [
    {
     "data": {
      "text/html": [
       "<div>\n",
       "<style scoped>\n",
       "    .dataframe tbody tr th:only-of-type {\n",
       "        vertical-align: middle;\n",
       "    }\n",
       "\n",
       "    .dataframe tbody tr th {\n",
       "        vertical-align: top;\n",
       "    }\n",
       "\n",
       "    .dataframe thead th {\n",
       "        text-align: right;\n",
       "    }\n",
       "</style>\n",
       "<table border=\"1\" class=\"dataframe\">\n",
       "  <thead>\n",
       "    <tr style=\"text-align: right;\">\n",
       "      <th></th>\n",
       "      <th>r</th>\n",
       "      <th>p-value</th>\n",
       "    </tr>\n",
       "  </thead>\n",
       "  <tbody>\n",
       "    <tr>\n",
       "      <th>symmetry_se</th>\n",
       "      <td>-0.006522</td>\n",
       "      <td>8.766418e-01</td>\n",
       "    </tr>\n",
       "    <tr>\n",
       "      <th>texture_se</th>\n",
       "      <td>-0.008303</td>\n",
       "      <td>8.433320e-01</td>\n",
       "    </tr>\n",
       "    <tr>\n",
       "      <th>fractal_dimension_mean</th>\n",
       "      <td>-0.012838</td>\n",
       "      <td>7.599368e-01</td>\n",
       "    </tr>\n",
       "    <tr>\n",
       "      <th>id</th>\n",
       "      <td>0.039769</td>\n",
       "      <td>3.436819e-01</td>\n",
       "    </tr>\n",
       "    <tr>\n",
       "      <th>smoothness_se</th>\n",
       "      <td>-0.067016</td>\n",
       "      <td>1.102966e-01</td>\n",
       "    </tr>\n",
       "    <tr>\n",
       "      <th>fractal_dimension_se</th>\n",
       "      <td>0.077972</td>\n",
       "      <td>6.307355e-02</td>\n",
       "    </tr>\n",
       "    <tr>\n",
       "      <th>concavity_se</th>\n",
       "      <td>0.253730</td>\n",
       "      <td>8.260176e-10</td>\n",
       "    </tr>\n",
       "    <tr>\n",
       "      <th>compactness_se</th>\n",
       "      <td>0.292999</td>\n",
       "      <td>9.975995e-13</td>\n",
       "    </tr>\n",
       "    <tr>\n",
       "      <th>fractal_dimension_worst</th>\n",
       "      <td>0.323872</td>\n",
       "      <td>2.316432e-15</td>\n",
       "    </tr>\n",
       "    <tr>\n",
       "      <th>symmetry_mean</th>\n",
       "      <td>0.330499</td>\n",
       "      <td>5.733384e-16</td>\n",
       "    </tr>\n",
       "    <tr>\n",
       "      <th>smoothness_mean</th>\n",
       "      <td>0.358560</td>\n",
       "      <td>1.051850e-18</td>\n",
       "    </tr>\n",
       "    <tr>\n",
       "      <th>concave points_se</th>\n",
       "      <td>0.408042</td>\n",
       "      <td>3.072309e-24</td>\n",
       "    </tr>\n",
       "    <tr>\n",
       "      <th>texture_mean</th>\n",
       "      <td>0.415185</td>\n",
       "      <td>4.058636e-25</td>\n",
       "    </tr>\n",
       "    <tr>\n",
       "      <th>symmetry_worst</th>\n",
       "      <td>0.416294</td>\n",
       "      <td>2.951121e-25</td>\n",
       "    </tr>\n",
       "    <tr>\n",
       "      <th>smoothness_worst</th>\n",
       "      <td>0.421465</td>\n",
       "      <td>6.575144e-26</td>\n",
       "    </tr>\n",
       "    <tr>\n",
       "      <th>texture_worst</th>\n",
       "      <td>0.456903</td>\n",
       "      <td>1.078057e-30</td>\n",
       "    </tr>\n",
       "    <tr>\n",
       "      <th>area_se</th>\n",
       "      <td>0.548236</td>\n",
       "      <td>5.895521e-46</td>\n",
       "    </tr>\n",
       "    <tr>\n",
       "      <th>perimeter_se</th>\n",
       "      <td>0.556141</td>\n",
       "      <td>1.651905e-47</td>\n",
       "    </tr>\n",
       "    <tr>\n",
       "      <th>radius_se</th>\n",
       "      <td>0.567134</td>\n",
       "      <td>9.738949e-50</td>\n",
       "    </tr>\n",
       "    <tr>\n",
       "      <th>compactness_worst</th>\n",
       "      <td>0.590998</td>\n",
       "      <td>7.069816e-55</td>\n",
       "    </tr>\n",
       "    <tr>\n",
       "      <th>compactness_mean</th>\n",
       "      <td>0.596534</td>\n",
       "      <td>3.938263e-56</td>\n",
       "    </tr>\n",
       "    <tr>\n",
       "      <th>concavity_worst</th>\n",
       "      <td>0.659610</td>\n",
       "      <td>2.464664e-72</td>\n",
       "    </tr>\n",
       "    <tr>\n",
       "      <th>concavity_mean</th>\n",
       "      <td>0.696360</td>\n",
       "      <td>9.966556e-84</td>\n",
       "    </tr>\n",
       "    <tr>\n",
       "      <th>area_mean</th>\n",
       "      <td>0.708984</td>\n",
       "      <td>4.734564e-88</td>\n",
       "    </tr>\n",
       "    <tr>\n",
       "      <th>radius_mean</th>\n",
       "      <td>0.730029</td>\n",
       "      <td>8.465941e-96</td>\n",
       "    </tr>\n",
       "    <tr>\n",
       "      <th>area_worst</th>\n",
       "      <td>0.733825</td>\n",
       "      <td>2.828848e-97</td>\n",
       "    </tr>\n",
       "    <tr>\n",
       "      <th>perimeter_mean</th>\n",
       "      <td>0.742636</td>\n",
       "      <td>8.436251e-101</td>\n",
       "    </tr>\n",
       "    <tr>\n",
       "      <th>radius_worst</th>\n",
       "      <td>0.776454</td>\n",
       "      <td>8.482292e-116</td>\n",
       "    </tr>\n",
       "    <tr>\n",
       "      <th>concave points_mean</th>\n",
       "      <td>0.776614</td>\n",
       "      <td>7.101150e-116</td>\n",
       "    </tr>\n",
       "    <tr>\n",
       "      <th>perimeter_worst</th>\n",
       "      <td>0.782914</td>\n",
       "      <td>5.771397e-119</td>\n",
       "    </tr>\n",
       "    <tr>\n",
       "      <th>concave points_worst</th>\n",
       "      <td>0.793566</td>\n",
       "      <td>1.969100e-124</td>\n",
       "    </tr>\n",
       "    <tr>\n",
       "      <th>diagnosis</th>\n",
       "      <td>1.000000</td>\n",
       "      <td>0.000000e+00</td>\n",
       "    </tr>\n",
       "  </tbody>\n",
       "</table>\n",
       "</div>"
      ],
      "text/plain": [
       "                                r        p-value\n",
       "symmetry_se             -0.006522   8.766418e-01\n",
       "texture_se              -0.008303   8.433320e-01\n",
       "fractal_dimension_mean  -0.012838   7.599368e-01\n",
       "id                       0.039769   3.436819e-01\n",
       "smoothness_se           -0.067016   1.102966e-01\n",
       "fractal_dimension_se     0.077972   6.307355e-02\n",
       "concavity_se             0.253730   8.260176e-10\n",
       "compactness_se           0.292999   9.975995e-13\n",
       "fractal_dimension_worst  0.323872   2.316432e-15\n",
       "symmetry_mean            0.330499   5.733384e-16\n",
       "smoothness_mean          0.358560   1.051850e-18\n",
       "concave points_se        0.408042   3.072309e-24\n",
       "texture_mean             0.415185   4.058636e-25\n",
       "symmetry_worst           0.416294   2.951121e-25\n",
       "smoothness_worst         0.421465   6.575144e-26\n",
       "texture_worst            0.456903   1.078057e-30\n",
       "area_se                  0.548236   5.895521e-46\n",
       "perimeter_se             0.556141   1.651905e-47\n",
       "radius_se                0.567134   9.738949e-50\n",
       "compactness_worst        0.590998   7.069816e-55\n",
       "compactness_mean         0.596534   3.938263e-56\n",
       "concavity_worst          0.659610   2.464664e-72\n",
       "concavity_mean           0.696360   9.966556e-84\n",
       "area_mean                0.708984   4.734564e-88\n",
       "radius_mean              0.730029   8.465941e-96\n",
       "area_worst               0.733825   2.828848e-97\n",
       "perimeter_mean           0.742636  8.436251e-101\n",
       "radius_worst             0.776454  8.482292e-116\n",
       "concave points_mean      0.776614  7.101150e-116\n",
       "perimeter_worst          0.782914  5.771397e-119\n",
       "concave points_worst     0.793566  1.969100e-124\n",
       "diagnosis                1.000000   0.000000e+00"
      ]
     },
     "execution_count": 10,
     "metadata": {},
     "output_type": "execute_result"
    }
   ],
   "source": [
    "cor_df.sort_values(by=['p-value'], ascending=False)"
   ]
  },
  {
   "cell_type": "code",
   "execution_count": 11,
   "id": "8f4c8bda",
   "metadata": {
    "execution": {
     "iopub.execute_input": "2021-08-24T14:41:51.011351Z",
     "iopub.status.busy": "2021-08-24T14:41:51.010248Z",
     "iopub.status.idle": "2021-08-24T14:41:51.012704Z",
     "shell.execute_reply": "2021-08-24T14:41:51.013108Z",
     "shell.execute_reply.started": "2021-08-24T14:17:53.151258Z"
    },
    "papermill": {
     "duration": 0.075293,
     "end_time": "2021-08-24T14:41:51.013307",
     "exception": false,
     "start_time": "2021-08-24T14:41:50.938014",
     "status": "completed"
    },
    "tags": []
   },
   "outputs": [],
   "source": [
    "col=['symmetry_se', 'texture_se']\n",
    "X=df.drop(col, axis=1)\n",
    "y=df['diagnosis']\n",
    "X_train, x_test, y_train, y_test=train_test_split(X, y, test_size=0.3, random_state=10)"
   ]
  },
  {
   "cell_type": "markdown",
   "id": "5d667214",
   "metadata": {
    "papermill": {
     "duration": 0.063475,
     "end_time": "2021-08-24T14:41:51.137034",
     "exception": false,
     "start_time": "2021-08-24T14:41:51.073559",
     "status": "completed"
    },
    "tags": []
   },
   "source": [
    "# Logistic Regresion"
   ]
  },
  {
   "cell_type": "code",
   "execution_count": 12,
   "id": "968f9058",
   "metadata": {
    "execution": {
     "iopub.execute_input": "2021-08-24T14:41:51.263109Z",
     "iopub.status.busy": "2021-08-24T14:41:51.262139Z",
     "iopub.status.idle": "2021-08-24T14:41:51.266509Z",
     "shell.execute_reply": "2021-08-24T14:41:51.266945Z",
     "shell.execute_reply.started": "2021-08-24T14:17:53.166719Z"
    },
    "papermill": {
     "duration": 0.069235,
     "end_time": "2021-08-24T14:41:51.267117",
     "exception": false,
     "start_time": "2021-08-24T14:41:51.197882",
     "status": "completed"
    },
    "tags": []
   },
   "outputs": [],
   "source": [
    "from sklearn import metrics\n",
    "from sklearn.linear_model import LogisticRegression\n",
    "from sklearn.metrics import classification_report, confusion_matrix,ConfusionMatrixDisplay\n",
    "import statsmodels.api as sm\n",
    "import statsmodels.formula.api as smf"
   ]
  },
  {
   "cell_type": "code",
   "execution_count": 13,
   "id": "756c2f60",
   "metadata": {
    "execution": {
     "iopub.execute_input": "2021-08-24T14:41:51.391459Z",
     "iopub.status.busy": "2021-08-24T14:41:51.390525Z",
     "iopub.status.idle": "2021-08-24T14:41:51.424590Z",
     "shell.execute_reply": "2021-08-24T14:41:51.425382Z",
     "shell.execute_reply.started": "2021-08-24T14:17:53.180165Z"
    },
    "papermill": {
     "duration": 0.097866,
     "end_time": "2021-08-24T14:41:51.425670",
     "exception": false,
     "start_time": "2021-08-24T14:41:51.327804",
     "status": "completed"
    },
    "tags": []
   },
   "outputs": [
    {
     "data": {
      "text/plain": [
       "LogisticRegression()"
      ]
     },
     "execution_count": 13,
     "metadata": {},
     "output_type": "execute_result"
    }
   ],
   "source": [
    "lr=LogisticRegression()\n",
    "lr.fit(X_train, y_train)"
   ]
  },
  {
   "cell_type": "code",
   "execution_count": 14,
   "id": "c6dd4ba9",
   "metadata": {
    "execution": {
     "iopub.execute_input": "2021-08-24T14:41:51.609669Z",
     "iopub.status.busy": "2021-08-24T14:41:51.608678Z",
     "iopub.status.idle": "2021-08-24T14:41:51.611457Z",
     "shell.execute_reply": "2021-08-24T14:41:51.612388Z",
     "shell.execute_reply.started": "2021-08-24T14:17:53.214263Z"
    },
    "papermill": {
     "duration": 0.071837,
     "end_time": "2021-08-24T14:41:51.612673",
     "exception": false,
     "start_time": "2021-08-24T14:41:51.540836",
     "status": "completed"
    },
    "tags": []
   },
   "outputs": [],
   "source": [
    "y_pred=lr.predict(X_train)"
   ]
  },
  {
   "cell_type": "code",
   "execution_count": 15,
   "id": "ddcf6213",
   "metadata": {
    "execution": {
     "iopub.execute_input": "2021-08-24T14:41:51.803708Z",
     "iopub.status.busy": "2021-08-24T14:41:51.802663Z",
     "iopub.status.idle": "2021-08-24T14:41:51.818258Z",
     "shell.execute_reply": "2021-08-24T14:41:51.817645Z",
     "shell.execute_reply.started": "2021-08-24T14:17:53.223460Z"
    },
    "papermill": {
     "duration": 0.084256,
     "end_time": "2021-08-24T14:41:51.818428",
     "exception": false,
     "start_time": "2021-08-24T14:41:51.734172",
     "status": "completed"
    },
    "tags": []
   },
   "outputs": [
    {
     "name": "stdout",
     "output_type": "stream",
     "text": [
      "Accuracy Score:- 0.3844221105527638\n",
      "F1 Score:- 0.5553539019963702\n",
      "Average Precision Score:- 0.3844221105527638\n",
      "Log Loss:- 21.261799291767623\n",
      "Precision Score:- 0.3844221105527638\n",
      "Recall Score:- 1.0\n",
      "ROC-AUC Score:- 0.5\n"
     ]
    }
   ],
   "source": [
    "print(\"Accuracy Score:-\", metrics.accuracy_score(y_train, y_pred))\n",
    "print(\"F1 Score:-\", metrics.f1_score(y_train, y_pred))\n",
    "print(\"Average Precision Score:-\", metrics.average_precision_score(y_train, y_pred))\n",
    "print(\"Log Loss:-\", metrics.log_loss(y_train, y_pred))\n",
    "print(\"Precision Score:-\", metrics.precision_score(y_train, y_pred))\n",
    "print(\"Recall Score:-\", metrics.recall_score(y_train, y_pred))\n",
    "print(\"ROC-AUC Score:-\", metrics.roc_auc_score(y_train, y_pred))"
   ]
  },
  {
   "cell_type": "code",
   "execution_count": 16,
   "id": "f05f7b5c",
   "metadata": {
    "execution": {
     "iopub.execute_input": "2021-08-24T14:41:51.950184Z",
     "iopub.status.busy": "2021-08-24T14:41:51.949541Z",
     "iopub.status.idle": "2021-08-24T14:41:51.952261Z",
     "shell.execute_reply": "2021-08-24T14:41:51.951791Z",
     "shell.execute_reply.started": "2021-08-24T14:17:53.250289Z"
    },
    "papermill": {
     "duration": 0.071402,
     "end_time": "2021-08-24T14:41:51.952416",
     "exception": false,
     "start_time": "2021-08-24T14:41:51.881014",
     "status": "completed"
    },
    "tags": []
   },
   "outputs": [],
   "source": [
    "y_test_pred=lr.predict(x_test)"
   ]
  },
  {
   "cell_type": "code",
   "execution_count": 17,
   "id": "fcf99d49",
   "metadata": {
    "execution": {
     "iopub.execute_input": "2021-08-24T14:41:52.084664Z",
     "iopub.status.busy": "2021-08-24T14:41:52.083727Z",
     "iopub.status.idle": "2021-08-24T14:41:52.096109Z",
     "shell.execute_reply": "2021-08-24T14:41:52.096547Z",
     "shell.execute_reply.started": "2021-08-24T14:17:53.259713Z"
    },
    "papermill": {
     "duration": 0.0827,
     "end_time": "2021-08-24T14:41:52.096727",
     "exception": false,
     "start_time": "2021-08-24T14:41:52.014027",
     "status": "completed"
    },
    "tags": []
   },
   "outputs": [
    {
     "name": "stdout",
     "output_type": "stream",
     "text": [
      "Accuracy Score:- 0.34502923976608185\n",
      "F1 Score:- 0.5130434782608695\n",
      "Average Precision Score:- 0.34502923976608185\n",
      "Log Loss:- 22.622412345860692\n",
      "Precision Score:- 0.34502923976608185\n",
      "Recall Score:- 1.0\n",
      "ROC-AUC Score:- 0.5\n"
     ]
    }
   ],
   "source": [
    "lr_acc=metrics.accuracy_score(y_test, y_test_pred)\n",
    "print(\"Accuracy Score:-\",lr_acc)\n",
    "print(\"F1 Score:-\", metrics.f1_score(y_test, y_test_pred))\n",
    "print(\"Average Precision Score:-\", metrics.average_precision_score(y_test, y_test_pred))\n",
    "print(\"Log Loss:-\", metrics.log_loss(y_test, y_test_pred))\n",
    "print(\"Precision Score:-\", metrics.precision_score(y_test, y_test_pred))\n",
    "print(\"Recall Score:-\", metrics.recall_score(y_test, y_test_pred))\n",
    "print(\"ROC-AUC Score:-\", metrics.roc_auc_score(y_test, y_test_pred))"
   ]
  },
  {
   "cell_type": "code",
   "execution_count": 18,
   "id": "94029412",
   "metadata": {
    "execution": {
     "iopub.execute_input": "2021-08-24T14:41:52.241983Z",
     "iopub.status.busy": "2021-08-24T14:41:52.241330Z",
     "iopub.status.idle": "2021-08-24T14:41:52.442863Z",
     "shell.execute_reply": "2021-08-24T14:41:52.442352Z",
     "shell.execute_reply.started": "2021-08-24T14:17:53.281008Z"
    },
    "papermill": {
     "duration": 0.283785,
     "end_time": "2021-08-24T14:41:52.443001",
     "exception": false,
     "start_time": "2021-08-24T14:41:52.159216",
     "status": "completed"
    },
    "tags": []
   },
   "outputs": [
    {
     "data": {
      "text/plain": [
       "<sklearn.metrics._plot.confusion_matrix.ConfusionMatrixDisplay at 0x7fd1bcd6bb10>"
      ]
     },
     "execution_count": 18,
     "metadata": {},
     "output_type": "execute_result"
    },
    {
     "data": {
      "image/png": "[encoded data removed]",
      "text/plain": [
       "<Figure size 432x288 with 2 Axes>"
      ]
     },
     "metadata": {},
     "output_type": "display_data"
    }
   ],
   "source": [
    "cfm=confusion_matrix(y_test, y_test_pred)\n",
    "disp = ConfusionMatrixDisplay(confusion_matrix=cfm,\n",
    "                               display_labels=lr.classes_)\n",
    "disp.plot() "
   ]
  },
  {
   "cell_type": "code",
   "execution_count": 19,
   "id": "88af38e2",
   "metadata": {
    "execution": {
     "iopub.execute_input": "2021-08-24T14:41:52.576170Z",
     "iopub.status.busy": "2021-08-24T14:41:52.575321Z",
     "iopub.status.idle": "2021-08-24T14:41:52.583473Z",
     "shell.execute_reply": "2021-08-24T14:41:52.583884Z",
     "shell.execute_reply.started": "2021-08-24T14:17:53.531710Z"
    },
    "papermill": {
     "duration": 0.077654,
     "end_time": "2021-08-24T14:41:52.584062",
     "exception": false,
     "start_time": "2021-08-24T14:41:52.506408",
     "status": "completed"
    },
    "tags": []
   },
   "outputs": [
    {
     "name": "stdout",
     "output_type": "stream",
     "text": [
      "              precision    recall  f1-score   support\n",
      "\n",
      "           0       0.00      0.00      0.00       112\n",
      "           1       0.35      1.00      0.51        59\n",
      "\n",
      "    accuracy                           0.35       171\n",
      "   macro avg       0.17      0.50      0.26       171\n",
      "weighted avg       0.12      0.35      0.18       171\n",
      "\n"
     ]
    },
    {
     "name": "stderr",
     "output_type": "stream",
     "text": [
      "/opt/conda/lib/python3.7/site-packages/sklearn/metrics/_classification.py:1221: UndefinedMetricWarning:\n",
      "\n",
      "Precision and F-score are ill-defined and being set to 0.0 in labels with no predicted samples. Use `zero_division` parameter to control this behavior.\n",
      "\n"
     ]
    }
   ],
   "source": [
    "from sklearn.metrics import classification_report\n",
    "print(classification_report(y_test, y_test_pred))"
   ]
  },
  {
   "cell_type": "code",
   "execution_count": 20,
   "id": "0266c254",
   "metadata": {
    "execution": {
     "iopub.execute_input": "2021-08-24T14:41:52.719993Z",
     "iopub.status.busy": "2021-08-24T14:41:52.719403Z",
     "iopub.status.idle": "2021-08-24T14:41:52.725737Z",
     "shell.execute_reply": "2021-08-24T14:41:52.726129Z",
     "shell.execute_reply.started": "2021-08-24T14:17:53.544440Z"
    },
    "papermill": {
     "duration": 0.077164,
     "end_time": "2021-08-24T14:41:52.726312",
     "exception": false,
     "start_time": "2021-08-24T14:41:52.649148",
     "status": "completed"
    },
    "tags": []
   },
   "outputs": [
    {
     "data": {
      "text/plain": [
       "0.34866828087167073"
      ]
     },
     "execution_count": 20,
     "metadata": {},
     "output_type": "execute_result"
    }
   ],
   "source": [
    "y_test_pred_prob=lr.predict_proba(x_test)[:,1]\n",
    "y_test_pred_prob\n",
    "\n",
    "from sklearn.metrics import roc_curve\n",
    "metrics.roc_auc_score(y_test, y_test_pred_prob)\n"
   ]
  },
  {
   "cell_type": "code",
   "execution_count": 21,
   "id": "045e1853",
   "metadata": {
    "execution": {
     "iopub.execute_input": "2021-08-24T14:41:52.874345Z",
     "iopub.status.busy": "2021-08-24T14:41:52.868147Z",
     "iopub.status.idle": "2021-08-24T14:41:53.052406Z",
     "shell.execute_reply": "2021-08-24T14:41:53.051301Z",
     "shell.execute_reply.started": "2021-08-24T14:17:53.581844Z"
    },
    "papermill": {
     "duration": 0.262308,
     "end_time": "2021-08-24T14:41:53.052562",
     "exception": false,
     "start_time": "2021-08-24T14:41:52.790254",
     "status": "completed"
    },
    "tags": []
   },
   "outputs": [
    {
     "data": {
      "image/png": "[encoded data removed]",
      "text/plain": [
       "<Figure size 720x720 with 1 Axes>"
      ]
     },
     "metadata": {},
     "output_type": "display_data"
    }
   ],
   "source": [
    "fpr, tpr,thresholds=roc_curve(y_test,y_test_pred_prob)\n",
    "plt.figure(figsize=(10,10))\n",
    "plt.plot([0,1],[0,1],'k--')\n",
    "plt.plot(fpr, tpr, label='Logistic Regression')\n",
    "plt.xlabel(\"fpr (False Possitive rate)\")\n",
    "plt.ylabel(\"tpr-(True Positive rate)\")\n",
    "plt.title(\"ROC_AUC\")\n",
    "plt.show()"
   ]
  },
  {
   "cell_type": "code",
   "execution_count": 22,
   "id": "b4d2f017",
   "metadata": {
    "execution": {
     "iopub.execute_input": "2021-08-24T14:41:53.188790Z",
     "iopub.status.busy": "2021-08-24T14:41:53.188110Z",
     "iopub.status.idle": "2021-08-24T14:41:53.535646Z",
     "shell.execute_reply": "2021-08-24T14:41:53.536089Z",
     "shell.execute_reply.started": "2021-08-24T14:17:53.803306Z"
    },
    "papermill": {
     "duration": 0.418342,
     "end_time": "2021-08-24T14:41:53.536259",
     "exception": false,
     "start_time": "2021-08-24T14:41:53.117917",
     "status": "completed"
    },
    "tags": []
   },
   "outputs": [
    {
     "data": {
      "image/png": "[encoded data removed]",
      "text/plain": [
       "<Figure size 720x576 with 1 Axes>"
      ]
     },
     "metadata": {},
     "output_type": "display_data"
    }
   ],
   "source": [
    "from sklearn.metrics import precision_recall_curve\n",
    "no_skill=len(y==1)/len(y)\n",
    "y_test_prob=lr.predict_proba(x_test)[:,1]\n",
    "plt.figure(figsize=(10,8))\n",
    "plt.plot([0,1],[no_skill, no_skill], label=\"No Skill\")\n",
    "precision, recall,_ =precision_recall_curve(y_test, y_test_prob)\n",
    "plt.plot(recall, precision, marker='',label=\"Logistic Regression\")\n",
    "plt.xlabel(\"Recall\")\n",
    "plt.ylabel(\"Precision\")\n",
    "plt.title(\"Recall-Precision Curve\")\n",
    "plt.legend()\n",
    "plt.show()"
   ]
  },
  {
   "cell_type": "markdown",
   "id": "4e14f437",
   "metadata": {
    "papermill": {
     "duration": 0.065247,
     "end_time": "2021-08-24T14:41:53.667402",
     "exception": false,
     "start_time": "2021-08-24T14:41:53.602155",
     "status": "completed"
    },
    "tags": []
   },
   "source": [
    "# K-NN"
   ]
  },
  {
   "cell_type": "code",
   "execution_count": 23,
   "id": "55f2cc8a",
   "metadata": {
    "execution": {
     "iopub.execute_input": "2021-08-24T14:41:53.800620Z",
     "iopub.status.busy": "2021-08-24T14:41:53.800021Z",
     "iopub.status.idle": "2021-08-24T14:41:53.803359Z",
     "shell.execute_reply": "2021-08-24T14:41:53.803840Z",
     "shell.execute_reply.started": "2021-08-24T14:17:54.242484Z"
    },
    "papermill": {
     "duration": 0.071136,
     "end_time": "2021-08-24T14:41:53.804023",
     "exception": false,
     "start_time": "2021-08-24T14:41:53.732887",
     "status": "completed"
    },
    "tags": []
   },
   "outputs": [],
   "source": [
    "from sklearn.neighbors import KNeighborsClassifier\n"
   ]
  },
  {
   "cell_type": "code",
   "execution_count": 24,
   "id": "e8eb06d8",
   "metadata": {
    "execution": {
     "iopub.execute_input": "2021-08-24T14:41:53.938030Z",
     "iopub.status.busy": "2021-08-24T14:41:53.937406Z",
     "iopub.status.idle": "2021-08-24T14:41:54.260827Z",
     "shell.execute_reply": "2021-08-24T14:41:54.261246Z",
     "shell.execute_reply.started": "2021-08-24T14:17:54.251139Z"
    },
    "papermill": {
     "duration": 0.391732,
     "end_time": "2021-08-24T14:41:54.261430",
     "exception": false,
     "start_time": "2021-08-24T14:41:53.869698",
     "status": "completed"
    },
    "tags": []
   },
   "outputs": [
    {
     "data": {
      "text/plain": [
       "[<matplotlib.lines.Line2D at 0x7fd1b285c750>]"
      ]
     },
     "execution_count": 24,
     "metadata": {},
     "output_type": "execute_result"
    },
    {
     "data": {
      "image/png": "[encoded data removed]",
      "text/plain": [
       "<Figure size 1080x720 with 1 Axes>"
      ]
     },
     "metadata": {},
     "output_type": "display_data"
    }
   ],
   "source": [
    "error_rate=[]\n",
    "\n",
    "for i in range(1,11):\n",
    "    knn=KNeighborsClassifier(n_neighbors=i)\n",
    "    knn.fit(X_train, y_train)\n",
    "    pred=knn.predict(x_test)\n",
    "    error_rate.append(np.mean(pred!=y_test))\n",
    "    \n",
    "plt.figure(figsize=(15,10))\n",
    "plt.plot(range(1,11), error_rate,marker='o', markersize=9)"
   ]
  },
  {
   "cell_type": "markdown",
   "id": "2a50ae69",
   "metadata": {
    "papermill": {
     "duration": 0.066497,
     "end_time": "2021-08-24T14:41:54.394374",
     "exception": false,
     "start_time": "2021-08-24T14:41:54.327877",
     "status": "completed"
    },
    "tags": []
   },
   "source": [
    "# Conclusion:-\n",
    "As we can see that the optimum K in KNN we get is K=3."
   ]
  },
  {
   "cell_type": "code",
   "execution_count": 25,
   "id": "541de6bf",
   "metadata": {
    "execution": {
     "iopub.execute_input": "2021-08-24T14:41:54.535961Z",
     "iopub.status.busy": "2021-08-24T14:41:54.533814Z",
     "iopub.status.idle": "2021-08-24T14:41:54.540251Z",
     "shell.execute_reply": "2021-08-24T14:41:54.539724Z",
     "shell.execute_reply.started": "2021-08-24T14:17:54.636776Z"
    },
    "papermill": {
     "duration": 0.079628,
     "end_time": "2021-08-24T14:41:54.540407",
     "exception": false,
     "start_time": "2021-08-24T14:41:54.460779",
     "status": "completed"
    },
    "tags": []
   },
   "outputs": [
    {
     "data": {
      "text/plain": [
       "KNeighborsClassifier(n_neighbors=3)"
      ]
     },
     "execution_count": 25,
     "metadata": {},
     "output_type": "execute_result"
    }
   ],
   "source": [
    "knn=KNeighborsClassifier(n_neighbors=3)\n",
    "knn.fit(X_train, y_train)"
   ]
  },
  {
   "cell_type": "code",
   "execution_count": 26,
   "id": "5fef9f62",
   "metadata": {
    "execution": {
     "iopub.execute_input": "2021-08-24T14:41:54.679421Z",
     "iopub.status.busy": "2021-08-24T14:41:54.675592Z",
     "iopub.status.idle": "2021-08-24T14:41:54.696714Z",
     "shell.execute_reply": "2021-08-24T14:41:54.695791Z",
     "shell.execute_reply.started": "2021-08-24T14:17:54.652798Z"
    },
    "papermill": {
     "duration": 0.089658,
     "end_time": "2021-08-24T14:41:54.696890",
     "exception": false,
     "start_time": "2021-08-24T14:41:54.607232",
     "status": "completed"
    },
    "tags": []
   },
   "outputs": [],
   "source": [
    "y_pred=knn.predict(X_train)\n"
   ]
  },
  {
   "cell_type": "code",
   "execution_count": 27,
   "id": "6745f49f",
   "metadata": {
    "execution": {
     "iopub.execute_input": "2021-08-24T14:41:54.840570Z",
     "iopub.status.busy": "2021-08-24T14:41:54.839794Z",
     "iopub.status.idle": "2021-08-24T14:41:54.853799Z",
     "shell.execute_reply": "2021-08-24T14:41:54.853226Z",
     "shell.execute_reply.started": "2021-08-24T14:17:54.687908Z"
    },
    "papermill": {
     "duration": 0.088328,
     "end_time": "2021-08-24T14:41:54.853940",
     "exception": false,
     "start_time": "2021-08-24T14:41:54.765612",
     "status": "completed"
    },
    "tags": []
   },
   "outputs": [
    {
     "name": "stdout",
     "output_type": "stream",
     "text": [
      "Accuracy Score:- 0.8743718592964824\n",
      "F1 Score:- 0.8161764705882353\n",
      "Average Precision Score:- 0.7822453841128529\n",
      "Log Loss:- 4.339058332977326\n",
      "Precision Score:- 0.9327731092436975\n",
      "Recall Score:- 0.7254901960784313\n",
      "ROC-AUC Score:- 0.8464185674269709\n"
     ]
    }
   ],
   "source": [
    "print(\"Accuracy Score:-\", metrics.accuracy_score(y_train, y_pred))\n",
    "print(\"F1 Score:-\", metrics.f1_score(y_train, y_pred))\n",
    "print(\"Average Precision Score:-\", metrics.average_precision_score(y_train, y_pred))\n",
    "print(\"Log Loss:-\", metrics.log_loss(y_train, y_pred))\n",
    "print(\"Precision Score:-\", metrics.precision_score(y_train, y_pred))\n",
    "print(\"Recall Score:-\", metrics.recall_score(y_train, y_pred))\n",
    "print(\"ROC-AUC Score:-\", metrics.roc_auc_score(y_train, y_pred))"
   ]
  },
  {
   "cell_type": "markdown",
   "id": "f3f6aa6b",
   "metadata": {
    "papermill": {
     "duration": 0.066419,
     "end_time": "2021-08-24T14:41:54.987599",
     "exception": false,
     "start_time": "2021-08-24T14:41:54.921180",
     "status": "completed"
    },
    "tags": []
   },
   "source": [
    "# Conclusion: \n",
    "* As we can see that in my previsous notebook the accuracy was 76%, while in this case the accuracy is 87.43%.\n",
    "* It is observed that removing the two feature help ub increasing the accuracy of the dataset using KNN model as prediction\n",
    "* Log Loss is decreased as it was 8.482 and now it is 4.33\n",
    "* ROC-AUC is improved , now it is 0.846 , which is much better than previous results in last notbook"
   ]
  },
  {
   "cell_type": "code",
   "execution_count": 28,
   "id": "49a4f156",
   "metadata": {
    "execution": {
     "iopub.execute_input": "2021-08-24T14:41:55.178546Z",
     "iopub.status.busy": "2021-08-24T14:41:55.177615Z",
     "iopub.status.idle": "2021-08-24T14:41:55.188131Z",
     "shell.execute_reply": "2021-08-24T14:41:55.187488Z",
     "shell.execute_reply.started": "2021-08-24T14:17:54.711846Z"
    },
    "papermill": {
     "duration": 0.084265,
     "end_time": "2021-08-24T14:41:55.188312",
     "exception": false,
     "start_time": "2021-08-24T14:41:55.104047",
     "status": "completed"
    },
    "tags": []
   },
   "outputs": [],
   "source": [
    "y_test_pred=knn.predict(x_test)"
   ]
  },
  {
   "cell_type": "code",
   "execution_count": 29,
   "id": "51a02c75",
   "metadata": {
    "execution": {
     "iopub.execute_input": "2021-08-24T14:41:55.333066Z",
     "iopub.status.busy": "2021-08-24T14:41:55.332066Z",
     "iopub.status.idle": "2021-08-24T14:41:55.343387Z",
     "shell.execute_reply": "2021-08-24T14:41:55.343845Z",
     "shell.execute_reply.started": "2021-08-24T14:17:54.724775Z"
    },
    "papermill": {
     "duration": 0.086773,
     "end_time": "2021-08-24T14:41:55.344024",
     "exception": false,
     "start_time": "2021-08-24T14:41:55.257251",
     "status": "completed"
    },
    "tags": []
   },
   "outputs": [
    {
     "name": "stdout",
     "output_type": "stream",
     "text": [
      "Accuracy Score:- 0.783625730994152\n",
      "F1 Score:- 0.6476190476190476\n",
      "Average Precision Score:- 0.5721384029959448\n",
      "Log Loss:- 7.4733586069056\n",
      "Precision Score:- 0.7391304347826086\n",
      "Recall Score:- 0.576271186440678\n",
      "ROC-AUC Score:- 0.7345641646489105\n"
     ]
    }
   ],
   "source": [
    "knn_acc=metrics.accuracy_score(y_test, y_test_pred)\n",
    "print(\"Accuracy Score:-\",knn_acc)\n",
    "print(\"F1 Score:-\", metrics.f1_score(y_test, y_test_pred))\n",
    "print(\"Average Precision Score:-\", metrics.average_precision_score(y_test, y_test_pred))\n",
    "print(\"Log Loss:-\", metrics.log_loss(y_test, y_test_pred))\n",
    "print(\"Precision Score:-\", metrics.precision_score(y_test, y_test_pred))\n",
    "print(\"Recall Score:-\", metrics.recall_score(y_test, y_test_pred))\n",
    "print(\"ROC-AUC Score:-\", metrics.roc_auc_score(y_test, y_test_pred))"
   ]
  },
  {
   "cell_type": "code",
   "execution_count": 30,
   "id": "0930efdf",
   "metadata": {
    "execution": {
     "iopub.execute_input": "2021-08-24T14:41:55.491625Z",
     "iopub.status.busy": "2021-08-24T14:41:55.483552Z",
     "iopub.status.idle": "2021-08-24T14:41:55.681857Z",
     "shell.execute_reply": "2021-08-24T14:41:55.681384Z",
     "shell.execute_reply.started": "2021-08-24T14:17:54.745515Z"
    },
    "papermill": {
     "duration": 0.270147,
     "end_time": "2021-08-24T14:41:55.682016",
     "exception": false,
     "start_time": "2021-08-24T14:41:55.411869",
     "status": "completed"
    },
    "tags": []
   },
   "outputs": [
    {
     "data": {
      "text/plain": [
       "<sklearn.metrics._plot.confusion_matrix.ConfusionMatrixDisplay at 0x7fd1b281d5d0>"
      ]
     },
     "execution_count": 30,
     "metadata": {},
     "output_type": "execute_result"
    },
    {
     "data": {
      "image/png": "[encoded data removed]",
      "text/plain": [
       "<Figure size 432x288 with 2 Axes>"
      ]
     },
     "metadata": {},
     "output_type": "display_data"
    }
   ],
   "source": [
    "cfm=confusion_matrix(y_test, y_test_pred)\n",
    "disp = ConfusionMatrixDisplay(confusion_matrix=cfm,\n",
    "                               display_labels=knn.classes_)\n",
    "disp.plot() "
   ]
  },
  {
   "cell_type": "code",
   "execution_count": 31,
   "id": "8a4d46aa",
   "metadata": {
    "execution": {
     "iopub.execute_input": "2021-08-24T14:41:55.829779Z",
     "iopub.status.busy": "2021-08-24T14:41:55.828837Z",
     "iopub.status.idle": "2021-08-24T14:41:55.836965Z",
     "shell.execute_reply": "2021-08-24T14:41:55.836494Z",
     "shell.execute_reply.started": "2021-08-24T14:17:54.972351Z"
    },
    "papermill": {
     "duration": 0.086464,
     "end_time": "2021-08-24T14:41:55.837100",
     "exception": false,
     "start_time": "2021-08-24T14:41:55.750636",
     "status": "completed"
    },
    "tags": []
   },
   "outputs": [
    {
     "name": "stdout",
     "output_type": "stream",
     "text": [
      "              precision    recall  f1-score   support\n",
      "\n",
      "           0       0.80      0.89      0.84       112\n",
      "           1       0.74      0.58      0.65        59\n",
      "\n",
      "    accuracy                           0.78       171\n",
      "   macro avg       0.77      0.73      0.75       171\n",
      "weighted avg       0.78      0.78      0.78       171\n",
      "\n"
     ]
    }
   ],
   "source": [
    "from sklearn.metrics import classification_report\n",
    "print(classification_report(y_test, y_test_pred))"
   ]
  },
  {
   "cell_type": "code",
   "execution_count": 32,
   "id": "e3a13d6d",
   "metadata": {
    "execution": {
     "iopub.execute_input": "2021-08-24T14:41:55.983924Z",
     "iopub.status.busy": "2021-08-24T14:41:55.983305Z",
     "iopub.status.idle": "2021-08-24T14:41:55.991003Z",
     "shell.execute_reply": "2021-08-24T14:41:55.990552Z",
     "shell.execute_reply.started": "2021-08-24T14:17:54.985811Z"
    },
    "papermill": {
     "duration": 0.083979,
     "end_time": "2021-08-24T14:41:55.991152",
     "exception": false,
     "start_time": "2021-08-24T14:41:55.907173",
     "status": "completed"
    },
    "tags": []
   },
   "outputs": [
    {
     "data": {
      "text/plain": [
       "0.8064467312348667"
      ]
     },
     "execution_count": 32,
     "metadata": {},
     "output_type": "execute_result"
    }
   ],
   "source": [
    "y_test_pred_prob=knn.predict_proba(x_test)[:,1]\n",
    "y_test_pred_prob\n",
    "\n",
    "from sklearn.metrics import roc_curve\n",
    "metrics.roc_auc_score(y_test, y_test_pred_prob)"
   ]
  },
  {
   "cell_type": "code",
   "execution_count": 33,
   "id": "8240c96b",
   "metadata": {
    "execution": {
     "iopub.execute_input": "2021-08-24T14:41:56.159480Z",
     "iopub.status.busy": "2021-08-24T14:41:56.136368Z",
     "iopub.status.idle": "2021-08-24T14:41:56.356429Z",
     "shell.execute_reply": "2021-08-24T14:41:56.355846Z",
     "shell.execute_reply.started": "2021-08-24T14:17:55.007121Z"
    },
    "papermill": {
     "duration": 0.295641,
     "end_time": "2021-08-24T14:41:56.356579",
     "exception": false,
     "start_time": "2021-08-24T14:41:56.060938",
     "status": "completed"
    },
    "tags": []
   },
   "outputs": [
    {
     "data": {
      "text/plain": [
       "<function matplotlib.pyplot.title(label, fontdict=None, loc=None, pad=None, *, y=None, **kwargs)>"
      ]
     },
     "execution_count": 33,
     "metadata": {},
     "output_type": "execute_result"
    },
    {
     "data": {
      "image/png": "[encoded data removed]",
      "text/plain": [
       "<Figure size 720x720 with 1 Axes>"
      ]
     },
     "metadata": {},
     "output_type": "display_data"
    }
   ],
   "source": [
    "fpr, tpr,thresholds=roc_curve(y_test,y_test_pred_prob)\n",
    "plt.figure(figsize=(10,10))\n",
    "plt.plot([0,1],[0,1],'k--')\n",
    "plt.plot(fpr, tpr, label='Logistic Regression')\n",
    "plt.xlabel(\"fpr (False Possitive rate)\")\n",
    "plt.ylabel(\"tpr-(True Positive rate)\")\n",
    "plt.title"
   ]
  },
  {
   "cell_type": "code",
   "execution_count": 34,
   "id": "3c24db76",
   "metadata": {
    "execution": {
     "iopub.execute_input": "2021-08-24T14:41:56.509395Z",
     "iopub.status.busy": "2021-08-24T14:41:56.508403Z",
     "iopub.status.idle": "2021-08-24T14:41:56.710680Z",
     "shell.execute_reply": "2021-08-24T14:41:56.710091Z",
     "shell.execute_reply.started": "2021-08-24T14:17:55.251805Z"
    },
    "papermill": {
     "duration": 0.283087,
     "end_time": "2021-08-24T14:41:56.710816",
     "exception": false,
     "start_time": "2021-08-24T14:41:56.427729",
     "status": "completed"
    },
    "tags": []
   },
   "outputs": [
    {
     "data": {
      "image/png": "[encoded data removed]",
      "text/plain": [
       "<Figure size 720x576 with 1 Axes>"
      ]
     },
     "metadata": {},
     "output_type": "display_data"
    }
   ],
   "source": [
    "from sklearn.metrics import precision_recall_curve\n",
    "no_skill=len(y==1)/len(y)\n",
    "y_test_prob=knn.predict_proba(x_test)[:,1]\n",
    "plt.figure(figsize=(10,8))\n",
    "plt.plot([0,1],[no_skill, no_skill], label=\"No Skill\")\n",
    "precision, recall,_ =precision_recall_curve(y_test, y_test_prob)\n",
    "plt.plot(recall, precision, marker='',label=\"Knn\")\n",
    "plt.xlabel(\"Recall\")\n",
    "plt.ylabel(\"Precision\")\n",
    "plt.title(\"Recall-Precision Curve\")\n",
    "plt.legend()\n",
    "plt.show()"
   ]
  },
  {
   "cell_type": "markdown",
   "id": "80021bde",
   "metadata": {
    "papermill": {
     "duration": 0.072397,
     "end_time": "2021-08-24T14:41:56.854722",
     "exception": false,
     "start_time": "2021-08-24T14:41:56.782325",
     "status": "completed"
    },
    "tags": []
   },
   "source": [
    "# SVC -Support Vector Classifier"
   ]
  },
  {
   "cell_type": "code",
   "execution_count": 35,
   "id": "c7c00218",
   "metadata": {
    "execution": {
     "iopub.execute_input": "2021-08-24T14:41:57.006513Z",
     "iopub.status.busy": "2021-08-24T14:41:57.005494Z",
     "iopub.status.idle": "2021-08-24T14:41:57.012228Z",
     "shell.execute_reply": "2021-08-24T14:41:57.011611Z",
     "shell.execute_reply.started": "2021-08-24T14:17:55.487783Z"
    },
    "papermill": {
     "duration": 0.085555,
     "end_time": "2021-08-24T14:41:57.012393",
     "exception": false,
     "start_time": "2021-08-24T14:41:56.926838",
     "status": "completed"
    },
    "tags": []
   },
   "outputs": [],
   "source": [
    "from sklearn.svm import SVC\n",
    "from sklearn import metrics\n",
    "from sklearn.preprocessing import StandardScaler\n",
    "scaler = StandardScaler()\n",
    "scaler.fit(X)\n",
    "X = scaler.transform(X)"
   ]
  },
  {
   "cell_type": "code",
   "execution_count": 36,
   "id": "49938283",
   "metadata": {
    "execution": {
     "iopub.execute_input": "2021-08-24T14:41:57.163519Z",
     "iopub.status.busy": "2021-08-24T14:41:57.162662Z",
     "iopub.status.idle": "2021-08-24T14:41:57.166640Z",
     "shell.execute_reply": "2021-08-24T14:41:57.167041Z",
     "shell.execute_reply.started": "2021-08-24T14:17:55.500059Z"
    },
    "papermill": {
     "duration": 0.08231,
     "end_time": "2021-08-24T14:41:57.167216",
     "exception": false,
     "start_time": "2021-08-24T14:41:57.084906",
     "status": "completed"
    },
    "tags": []
   },
   "outputs": [],
   "source": [
    "from sklearn.model_selection import train_test_split\n",
    "X_train, X_test, y_train, y_test = train_test_split(X, y, test_size=0.2, random_state=1)"
   ]
  },
  {
   "cell_type": "code",
   "execution_count": 37,
   "id": "1e37a6d3",
   "metadata": {
    "execution": {
     "iopub.execute_input": "2021-08-24T14:41:57.319558Z",
     "iopub.status.busy": "2021-08-24T14:41:57.318702Z",
     "iopub.status.idle": "2021-08-24T14:41:57.329563Z",
     "shell.execute_reply": "2021-08-24T14:41:57.330001Z",
     "shell.execute_reply.started": "2021-08-24T14:17:55.518202Z"
    },
    "papermill": {
     "duration": 0.089764,
     "end_time": "2021-08-24T14:41:57.330186",
     "exception": false,
     "start_time": "2021-08-24T14:41:57.240422",
     "status": "completed"
    },
    "tags": []
   },
   "outputs": [
    {
     "name": "stdout",
     "output_type": "stream",
     "text": [
      "Accuracy Score:\n",
      "0.9912280701754386\n"
     ]
    }
   ],
   "source": [
    "svc=SVC() #Default hyperparameters\n",
    "svc.fit(X_train,y_train)\n",
    "y_pred=svc.predict(X_test)\n",
    "print('Accuracy Score:')\n",
    "print(metrics.accuracy_score(y_test,y_pred))"
   ]
  },
  {
   "cell_type": "markdown",
   "id": "2bad6c5f",
   "metadata": {
    "papermill": {
     "duration": 0.073674,
     "end_time": "2021-08-24T14:41:57.476493",
     "exception": false,
     "start_time": "2021-08-24T14:41:57.402819",
     "status": "completed"
    },
    "tags": []
   },
   "source": [
    "# Linear kernel"
   ]
  },
  {
   "cell_type": "code",
   "execution_count": 38,
   "id": "1dfe7636",
   "metadata": {
    "execution": {
     "iopub.execute_input": "2021-08-24T14:41:57.630040Z",
     "iopub.status.busy": "2021-08-24T14:41:57.629031Z",
     "iopub.status.idle": "2021-08-24T14:41:57.641147Z",
     "shell.execute_reply": "2021-08-24T14:41:57.641596Z",
     "shell.execute_reply.started": "2021-08-24T14:17:55.539348Z"
    },
    "papermill": {
     "duration": 0.090375,
     "end_time": "2021-08-24T14:41:57.641780",
     "exception": false,
     "start_time": "2021-08-24T14:41:57.551405",
     "status": "completed"
    },
    "tags": []
   },
   "outputs": [
    {
     "name": "stdout",
     "output_type": "stream",
     "text": [
      "Accuracy Score:\n",
      "1.0\n"
     ]
    }
   ],
   "source": [
    "svc=SVC(kernel='linear')\n",
    "svc.fit(X_train,y_train)\n",
    "y_pred=svc.predict(X_test)\n",
    "print('Accuracy Score:')\n",
    "print(metrics.accuracy_score(y_test,y_pred))"
   ]
  },
  {
   "cell_type": "markdown",
   "id": "bd4e42b5",
   "metadata": {
    "papermill": {
     "duration": 0.073318,
     "end_time": "2021-08-24T14:41:57.787411",
     "exception": false,
     "start_time": "2021-08-24T14:41:57.714093",
     "status": "completed"
    },
    "tags": []
   },
   "source": [
    "# RBF kernel"
   ]
  },
  {
   "cell_type": "code",
   "execution_count": 39,
   "id": "4e594805",
   "metadata": {
    "execution": {
     "iopub.execute_input": "2021-08-24T14:41:57.936925Z",
     "iopub.status.busy": "2021-08-24T14:41:57.936321Z",
     "iopub.status.idle": "2021-08-24T14:41:57.948709Z",
     "shell.execute_reply": "2021-08-24T14:41:57.949515Z",
     "shell.execute_reply.started": "2021-08-24T14:17:55.560436Z"
    },
    "papermill": {
     "duration": 0.088867,
     "end_time": "2021-08-24T14:41:57.949802",
     "exception": false,
     "start_time": "2021-08-24T14:41:57.860935",
     "status": "completed"
    },
    "tags": []
   },
   "outputs": [
    {
     "name": "stdout",
     "output_type": "stream",
     "text": [
      "Accuracy Score:\n",
      "0.9912280701754386\n"
     ]
    }
   ],
   "source": [
    "svc=SVC(kernel='rbf')\n",
    "svc.fit(X_train,y_train)\n",
    "y_pred=svc.predict(X_test)\n",
    "print('Accuracy Score:')\n",
    "print(metrics.accuracy_score(y_test,y_pred))"
   ]
  },
  {
   "cell_type": "code",
   "execution_count": 40,
   "id": "8d62630d",
   "metadata": {
    "execution": {
     "iopub.execute_input": "2021-08-24T14:41:58.104233Z",
     "iopub.status.busy": "2021-08-24T14:41:58.103605Z",
     "iopub.status.idle": "2021-08-24T14:41:58.128912Z",
     "shell.execute_reply": "2021-08-24T14:41:58.129556Z",
     "shell.execute_reply.started": "2021-08-24T14:17:55.581278Z"
    },
    "papermill": {
     "duration": 0.103586,
     "end_time": "2021-08-24T14:41:58.129786",
     "exception": false,
     "start_time": "2021-08-24T14:41:58.026200",
     "status": "completed"
    },
    "tags": []
   },
   "outputs": [
    {
     "name": "stdout",
     "output_type": "stream",
     "text": [
      "linear :- 1.0 \n",
      "rbf :- 0.9912280701754386 \n",
      "poly :- 0.9298245614035088 \n",
      "sigmoid :- 0.9912280701754386 \n"
     ]
    }
   ],
   "source": [
    "kernel=['linear', 'rbf', 'poly', 'sigmoid']\n",
    "for i in kernel:\n",
    "    svc=SVC(kernel=i)\n",
    "    svc.fit(X_train,y_train)\n",
    "    y_pred=svc.predict(X_test)\n",
    "    print(\"{} :- {} \".format(i, metrics.accuracy_score(y_test,y_pred)))"
   ]
  },
  {
   "cell_type": "markdown",
   "id": "6c30d313",
   "metadata": {
    "papermill": {
     "duration": 0.07388,
     "end_time": "2021-08-24T14:41:58.278533",
     "exception": false,
     "start_time": "2021-08-24T14:41:58.204653",
     "status": "completed"
    },
    "tags": []
   },
   "source": [
    "* As we can see that the acuraccy score for Linear KERNAL is very well . SInce the we are getting higher accuracy , \n",
    "* it can be due to overfitting using LINEAR kernel.\n",
    "* But as it is clear that using the \"rbf\" and \"sigmoid\" will function well and produces the 99% accuracy.\n"
   ]
  },
  {
   "cell_type": "markdown",
   "id": "57d9a2b5",
   "metadata": {
    "papermill": {
     "duration": 0.081158,
     "end_time": "2021-08-24T14:41:58.432750",
     "exception": false,
     "start_time": "2021-08-24T14:41:58.351592",
     "status": "completed"
    },
    "tags": []
   },
   "source": [
    "# Performing K-fold cross validation with different kernels"
   ]
  },
  {
   "cell_type": "markdown",
   "id": "4c3958d2",
   "metadata": {
    "papermill": {
     "duration": 0.072036,
     "end_time": "2021-08-24T14:41:58.577177",
     "exception": false,
     "start_time": "2021-08-24T14:41:58.505141",
     "status": "completed"
    },
    "tags": []
   },
   "source": [
    "# Conclusion:-\n",
    "* It is quite clear that it is overfitting\n",
    "* SO we are not gonna use this kernel\n",
    "* Look at the other kernels"
   ]
  },
  {
   "cell_type": "code",
   "execution_count": 41,
   "id": "0df31cf5",
   "metadata": {
    "execution": {
     "iopub.execute_input": "2021-08-24T14:41:58.728904Z",
     "iopub.status.busy": "2021-08-24T14:41:58.727917Z",
     "iopub.status.idle": "2021-08-24T14:41:58.809878Z",
     "shell.execute_reply": "2021-08-24T14:41:58.809405Z",
     "shell.execute_reply.started": "2021-08-24T14:17:55.614526Z"
    },
    "papermill": {
     "duration": 0.160608,
     "end_time": "2021-08-24T14:41:58.810038",
     "exception": false,
     "start_time": "2021-08-24T14:41:58.649430",
     "status": "completed"
    },
    "tags": []
   },
   "outputs": [
    {
     "name": "stdout",
     "output_type": "stream",
     "text": [
      "[0.98245614 0.98245614 1.         1.         1.         1.\n",
      " 1.         1.         1.         1.        ]\n",
      "-------------------\n",
      "0.9964912280701753\n"
     ]
    }
   ],
   "source": [
    "from sklearn.model_selection import cross_val_score    \n",
    "svc=SVC(kernel=\"rbf\")\n",
    "scores = cross_val_score(svc, X, y, cv=10, scoring='accuracy') #cv is cross validation\n",
    "print(scores)\n",
    "print(\"-------------------\")\n",
    "print(scores.mean())"
   ]
  },
  {
   "cell_type": "code",
   "execution_count": 42,
   "id": "ed488118",
   "metadata": {
    "execution": {
     "iopub.execute_input": "2021-08-24T14:41:58.990530Z",
     "iopub.status.busy": "2021-08-24T14:41:58.989850Z",
     "iopub.status.idle": "2021-08-24T14:41:59.054963Z",
     "shell.execute_reply": "2021-08-24T14:41:59.055457Z",
     "shell.execute_reply.started": "2021-08-24T14:17:55.678463Z"
    },
    "papermill": {
     "duration": 0.144552,
     "end_time": "2021-08-24T14:41:59.055630",
     "exception": false,
     "start_time": "2021-08-24T14:41:58.911078",
     "status": "completed"
    },
    "tags": []
   },
   "outputs": [
    {
     "name": "stdout",
     "output_type": "stream",
     "text": [
      "[0.96491228 0.87719298 0.9122807  0.89473684 0.92982456 0.96491228\n",
      " 0.94736842 0.94736842 1.         0.96428571]\n",
      "-------------------\n",
      "0.9402882205513784\n"
     ]
    }
   ],
   "source": [
    "from sklearn.model_selection import cross_val_score    \n",
    "svc=SVC(kernel=\"poly\")\n",
    "scores = cross_val_score(svc, X, y, cv=10, scoring='accuracy') #cv is cross validation\n",
    "print(scores)\n",
    "print(\"-------------------\")\n",
    "print(scores.mean())"
   ]
  },
  {
   "cell_type": "code",
   "execution_count": 43,
   "id": "c6a47394",
   "metadata": {
    "execution": {
     "iopub.execute_input": "2021-08-24T14:41:59.206351Z",
     "iopub.status.busy": "2021-08-24T14:41:59.205454Z",
     "iopub.status.idle": "2021-08-24T14:42:01.115756Z",
     "shell.execute_reply": "2021-08-24T14:42:01.115240Z",
     "shell.execute_reply.started": "2021-08-24T14:17:55.734709Z"
    },
    "papermill": {
     "duration": 1.986847,
     "end_time": "2021-08-24T14:42:01.115897",
     "exception": false,
     "start_time": "2021-08-24T14:41:59.129050",
     "status": "completed"
    },
    "tags": []
   },
   "outputs": [
    {
     "name": "stdout",
     "output_type": "stream",
     "text": [
      "[0.9964912280701753, 0.9964912280701753, 0.9964912280701753, 0.9964912280701753, 0.9964912280701753, 0.9964912280701753, 0.9964912280701753, 0.9964912280701753, 0.9964912280701753, 0.9964912280701753, 0.9964912280701753, 0.9964912280701753, 0.9964912280701753, 0.9964912280701753, 0.9964912280701753, 0.9964912280701753, 0.9964912280701753, 0.9964912280701753, 0.9964912280701753, 0.9964912280701753, 0.9964912280701753, 0.9964912280701753, 0.9964912280701753, 0.9964912280701753, 0.9964912280701753]\n"
     ]
    },
    {
     "data": {
      "image/png": "[encoded data removed]",
      "text/plain": [
       "<Figure size 432x288 with 1 Axes>"
      ]
     },
     "metadata": {},
     "output_type": "display_data"
    }
   ],
   "source": [
    "C_range=list(range(1,26))\n",
    "acc_score=[]\n",
    "for c in C_range:\n",
    "    svc = SVC(kernel='rbf', C=c)\n",
    "    scores = cross_val_score(svc, X, y, cv=10, scoring='accuracy')\n",
    "    acc_score.append(scores.mean())\n",
    "plt.plot(range(1,26), acc_score)\n",
    "print(acc_score)"
   ]
  },
  {
   "cell_type": "code",
   "execution_count": 44,
   "id": "78d7c6da",
   "metadata": {
    "execution": {
     "iopub.execute_input": "2021-08-24T14:42:01.271124Z",
     "iopub.status.busy": "2021-08-24T14:42:01.270437Z",
     "iopub.status.idle": "2021-08-24T14:42:02.547239Z",
     "shell.execute_reply": "2021-08-24T14:42:02.546791Z",
     "shell.execute_reply.started": "2021-08-24T14:17:58.052172Z"
    },
    "papermill": {
     "duration": 1.356823,
     "end_time": "2021-08-24T14:42:02.547399",
     "exception": false,
     "start_time": "2021-08-24T14:42:01.190576",
     "status": "completed"
    },
    "tags": []
   },
   "outputs": [
    {
     "name": "stdout",
     "output_type": "stream",
     "text": [
      "[0.9402882205513784, 0.9595864661654134, 0.9701127819548871, 0.9788847117794486, 0.9806390977443608, 0.9806390977443608, 0.9806390977443608, 0.9876879699248121, 0.9876879699248121, 0.9894736842105264, 0.9894736842105264, 0.9912280701754386, 0.9929824561403509, 0.9929824561403509, 0.9929824561403509, 0.9929824561403509, 0.9929824561403509, 0.9929824561403509, 0.9929824561403509, 0.9929824561403509, 0.9929824561403509, 0.9929824561403509, 0.9929824561403509, 0.9929824561403509, 0.9929824561403509]\n"
     ]
    },
    {
     "data": {
      "image/png": "[encoded data removed]",
      "text/plain": [
       "<Figure size 432x288 with 1 Axes>"
      ]
     },
     "metadata": {},
     "output_type": "display_data"
    }
   ],
   "source": [
    "C_range=list(range(1,26))\n",
    "acc_score=[]\n",
    "for c in C_range:\n",
    "    svc = SVC(kernel='poly', C=c)\n",
    "    scores = cross_val_score(svc, X, y, cv=10, scoring='accuracy')\n",
    "    acc_score.append(scores.mean())\n",
    "plt.plot(range(1,26), acc_score)\n",
    "print(acc_score)"
   ]
  },
  {
   "cell_type": "code",
   "execution_count": 45,
   "id": "1805c9a8",
   "metadata": {
    "execution": {
     "iopub.execute_input": "2021-08-24T14:42:02.705974Z",
     "iopub.status.busy": "2021-08-24T14:42:02.705367Z",
     "iopub.status.idle": "2021-08-24T14:42:03.797371Z",
     "shell.execute_reply": "2021-08-24T14:42:03.796837Z",
     "shell.execute_reply.started": "2021-08-24T14:17:59.515741Z"
    },
    "papermill": {
     "duration": 1.173588,
     "end_time": "2021-08-24T14:42:03.797528",
     "exception": false,
     "start_time": "2021-08-24T14:42:02.623940",
     "status": "completed"
    },
    "tags": []
   },
   "outputs": [
    {
     "name": "stdout",
     "output_type": "stream",
     "text": [
      "[0.980670426065163, 0.975407268170426, 0.9736842105263157, 0.9754385964912281, 0.9666040100250626, 0.9666353383458647, 0.9701441102756891, 0.9683897243107771, 0.9683897243107771, 0.9683897243107771, 0.9701441102756891, 0.9683897243107771, 0.9683897243107771, 0.9683897243107771, 0.9666353383458647, 0.9648809523809524, 0.9666353383458647, 0.9683897243107771, 0.9683897243107771, 0.9683897243107771, 0.9683897243107771, 0.9666353383458647, 0.9666353383458647, 0.9666353383458647, 0.9666353383458647]\n"
     ]
    },
    {
     "data": {
      "image/png": "[encoded data removed]",
      "text/plain": [
       "<Figure size 432x288 with 1 Axes>"
      ]
     },
     "metadata": {},
     "output_type": "display_data"
    }
   ],
   "source": [
    "C_range=list(range(1,26))\n",
    "acc_score=[]\n",
    "for c in C_range:\n",
    "    svc = SVC(kernel='sigmoid', C=c)\n",
    "    scores = cross_val_score(svc, X, y, cv=10, scoring='accuracy')\n",
    "    acc_score.append(scores.mean())\n",
    "plt.plot(range(1,26), acc_score)\n",
    "print(acc_score)"
   ]
  },
  {
   "cell_type": "code",
   "execution_count": 46,
   "id": "405f8e90",
   "metadata": {
    "execution": {
     "iopub.execute_input": "2021-08-24T14:42:03.956496Z",
     "iopub.status.busy": "2021-08-24T14:42:03.955819Z",
     "iopub.status.idle": "2021-08-24T14:42:04.548086Z",
     "shell.execute_reply": "2021-08-24T14:42:04.547656Z",
     "shell.execute_reply.started": "2021-08-24T14:18:00.364061Z"
    },
    "papermill": {
     "duration": 0.673855,
     "end_time": "2021-08-24T14:42:04.548218",
     "exception": false,
     "start_time": "2021-08-24T14:42:03.874363",
     "status": "completed"
    },
    "tags": []
   },
   "outputs": [
    {
     "name": "stdout",
     "output_type": "stream",
     "text": [
      "[0.6432330827067669, 0.7276002506265663, 0.8559210526315789, 0.9402882205513784, 0.9894736842105264]\n"
     ]
    },
    {
     "data": {
      "image/png": "[encoded data removed]",
      "text/plain": [
       "<Figure size 432x288 with 1 Axes>"
      ]
     },
     "metadata": {},
     "output_type": "display_data"
    }
   ],
   "source": [
    "C_range=[0.001, 0.01, 0.1, 1.0, 10]\n",
    "acc_score=[]\n",
    "for c in C_range:\n",
    "    svc = SVC(kernel='poly', C=c)\n",
    "    scores = cross_val_score(svc, X, y, cv=10, scoring='accuracy')\n",
    "    acc_score.append(scores.mean())\n",
    "plt.plot(C_range, acc_score)\n",
    "print(acc_score)"
   ]
  },
  {
   "cell_type": "code",
   "execution_count": 47,
   "id": "f05b67f1",
   "metadata": {
    "execution": {
     "iopub.execute_input": "2021-08-24T14:42:04.709002Z",
     "iopub.status.busy": "2021-08-24T14:42:04.708359Z",
     "iopub.status.idle": "2021-08-24T14:42:05.501830Z",
     "shell.execute_reply": "2021-08-24T14:42:05.501313Z",
     "shell.execute_reply.started": "2021-08-24T14:18:00.835521Z"
    },
    "papermill": {
     "duration": 0.876553,
     "end_time": "2021-08-24T14:42:05.501969",
     "exception": false,
     "start_time": "2021-08-24T14:42:04.625416",
     "status": "completed"
    },
    "tags": []
   },
   "outputs": [
    {
     "name": "stdout",
     "output_type": "stream",
     "text": [
      "[0.6274122807017544, 0.7136278195488722, 0.9842105263157895, 0.9964912280701753, 0.9964912280701753]\n"
     ]
    },
    {
     "data": {
      "image/png": "[encoded data removed]",
      "text/plain": [
       "<Figure size 432x288 with 1 Axes>"
      ]
     },
     "metadata": {},
     "output_type": "display_data"
    }
   ],
   "source": [
    "C_range=[0.001, 0.01, 0.1, 1.0, 10]\n",
    "acc_score=[]\n",
    "for c in C_range:\n",
    "    svc = SVC(kernel='rbf', C=c)\n",
    "    scores = cross_val_score(svc, X, y, cv=10, scoring='accuracy')\n",
    "    acc_score.append(scores.mean())\n",
    "plt.plot(C_range, acc_score)\n",
    "print(acc_score)"
   ]
  },
  {
   "cell_type": "code",
   "execution_count": 48,
   "id": "461a7899",
   "metadata": {
    "execution": {
     "iopub.execute_input": "2021-08-24T14:42:05.660227Z",
     "iopub.status.busy": "2021-08-24T14:42:05.659666Z",
     "iopub.status.idle": "2021-08-24T14:42:06.396803Z",
     "shell.execute_reply": "2021-08-24T14:42:06.397205Z",
     "shell.execute_reply.started": "2021-08-24T14:18:01.853444Z"
    },
    "papermill": {
     "duration": 0.817425,
     "end_time": "2021-08-24T14:42:06.397392",
     "exception": false,
     "start_time": "2021-08-24T14:42:05.579967",
     "status": "completed"
    },
    "tags": []
   },
   "outputs": [
    {
     "name": "stdout",
     "output_type": "stream",
     "text": [
      "[0.6274122807017544, 0.9420112781954886, 0.9929824561403509, 0.980670426065163, 0.9683897243107771]\n"
     ]
    },
    {
     "data": {
      "image/png": "[encoded data removed]",
      "text/plain": [
       "<Figure size 432x288 with 1 Axes>"
      ]
     },
     "metadata": {},
     "output_type": "display_data"
    }
   ],
   "source": [
    "C_range=[0.001, 0.01, 0.1, 1.0, 10]\n",
    "acc_score=[]\n",
    "for c in C_range:\n",
    "    svc = SVC(kernel='sigmoid', C=c)\n",
    "    scores = cross_val_score(svc, X, y, cv=10, scoring='accuracy')\n",
    "    acc_score.append(scores.mean())\n",
    "plt.plot(C_range, acc_score)\n",
    "print(acc_score)"
   ]
  },
  {
   "cell_type": "markdown",
   "id": "a55beaba",
   "metadata": {
    "papermill": {
     "duration": 0.078083,
     "end_time": "2021-08-24T14:42:06.554560",
     "exception": false,
     "start_time": "2021-08-24T14:42:06.476477",
     "status": "completed"
    },
    "tags": []
   },
   "source": [
    "# Conclusion:\n",
    "* As we can see that as C value increase the accuracy is increasing respective of the KERNEl\n",
    "* Since C is the hyperparameter\n",
    "* As C increase the Overfitting occurs.\n",
    "* A C decreases the underfitting occures."
   ]
  },
  {
   "cell_type": "code",
   "execution_count": 49,
   "id": "b7ea4bf2",
   "metadata": {
    "execution": {
     "iopub.execute_input": "2021-08-24T14:42:06.716842Z",
     "iopub.status.busy": "2021-08-24T14:42:06.716223Z",
     "iopub.status.idle": "2021-08-24T14:42:06.725424Z",
     "shell.execute_reply": "2021-08-24T14:42:06.724935Z",
     "shell.execute_reply.started": "2021-08-24T14:18:02.477588Z"
    },
    "papermill": {
     "duration": 0.092112,
     "end_time": "2021-08-24T14:42:06.725571",
     "exception": false,
     "start_time": "2021-08-24T14:42:06.633459",
     "status": "completed"
    },
    "tags": []
   },
   "outputs": [],
   "source": [
    "svc=SVC(kernel='poly', C=1.0) #Default hyperparameters\n",
    "svc.fit(X_train,y_train)\n",
    "y_pred=svc.predict(X_train)"
   ]
  },
  {
   "cell_type": "code",
   "execution_count": 50,
   "id": "34f3618b",
   "metadata": {
    "execution": {
     "iopub.execute_input": "2021-08-24T14:42:06.886378Z",
     "iopub.status.busy": "2021-08-24T14:42:06.885422Z",
     "iopub.status.idle": "2021-08-24T14:42:06.903295Z",
     "shell.execute_reply": "2021-08-24T14:42:06.903756Z",
     "shell.execute_reply.started": "2021-08-24T14:18:02.493796Z"
    },
    "papermill": {
     "duration": 0.100063,
     "end_time": "2021-08-24T14:42:06.903933",
     "exception": false,
     "start_time": "2021-08-24T14:42:06.803870",
     "status": "completed"
    },
    "tags": []
   },
   "outputs": [
    {
     "name": "stdout",
     "output_type": "stream",
     "text": [
      "Accuracy Score:- 0.9340659340659341\n",
      "F1 Score:- 0.9032258064516129\n",
      "Average Precision Score:- 0.8894634776987718\n",
      "Log Loss:- 2.277281960104002\n",
      "Precision Score:- 1.0\n",
      "Recall Score:- 0.8235294117647058\n",
      "ROC-AUC Score:- 0.9117647058823529\n"
     ]
    }
   ],
   "source": [
    "print(\"Accuracy Score:-\", metrics.accuracy_score(y_train, y_pred))\n",
    "print(\"F1 Score:-\", metrics.f1_score(y_train, y_pred))\n",
    "print(\"Average Precision Score:-\", metrics.average_precision_score(y_train, y_pred))\n",
    "print(\"Log Loss:-\", metrics.log_loss(y_train, y_pred))\n",
    "print(\"Precision Score:-\", metrics.precision_score(y_train, y_pred))\n",
    "print(\"Recall Score:-\", metrics.recall_score(y_train, y_pred))\n",
    "print(\"ROC-AUC Score:-\", metrics.roc_auc_score(y_train, y_pred))"
   ]
  },
  {
   "cell_type": "code",
   "execution_count": 51,
   "id": "eccf9df2",
   "metadata": {
    "execution": {
     "iopub.execute_input": "2021-08-24T14:42:07.065930Z",
     "iopub.status.busy": "2021-08-24T14:42:07.065018Z",
     "iopub.status.idle": "2021-08-24T14:42:07.069679Z",
     "shell.execute_reply": "2021-08-24T14:42:07.070060Z",
     "shell.execute_reply.started": "2021-08-24T14:18:02.516346Z"
    },
    "papermill": {
     "duration": 0.08756,
     "end_time": "2021-08-24T14:42:07.070228",
     "exception": false,
     "start_time": "2021-08-24T14:42:06.982668",
     "status": "completed"
    },
    "tags": []
   },
   "outputs": [],
   "source": [
    "y_test_pred=svc.predict(X_test)"
   ]
  },
  {
   "cell_type": "code",
   "execution_count": 52,
   "id": "e40538b0",
   "metadata": {
    "execution": {
     "iopub.execute_input": "2021-08-24T14:42:07.234810Z",
     "iopub.status.busy": "2021-08-24T14:42:07.233823Z",
     "iopub.status.idle": "2021-08-24T14:42:07.249697Z",
     "shell.execute_reply": "2021-08-24T14:42:07.250170Z",
     "shell.execute_reply.started": "2021-08-24T14:18:02.522918Z"
    },
    "papermill": {
     "duration": 0.100678,
     "end_time": "2021-08-24T14:42:07.250358",
     "exception": false,
     "start_time": "2021-08-24T14:42:07.149680",
     "status": "completed"
    },
    "tags": []
   },
   "outputs": [
    {
     "name": "stdout",
     "output_type": "stream",
     "text": [
      "Accuracy Score:- 0.9298245614035088\n",
      "F1 Score:- 0.8947368421052632\n",
      "Average Precision Score:- 0.8796992481203008\n",
      "Log Loss:- 2.423773782098996\n",
      "Precision Score:- 1.0\n",
      "Recall Score:- 0.8095238095238095\n",
      "ROC-AUC Score:- 0.9047619047619048\n"
     ]
    }
   ],
   "source": [
    "svc_acc=metrics.accuracy_score(y_test, y_test_pred)\n",
    "print(\"Accuracy Score:-\",svc_acc)\n",
    "print(\"F1 Score:-\", metrics.f1_score(y_test, y_test_pred))\n",
    "print(\"Average Precision Score:-\", metrics.average_precision_score(y_test, y_test_pred))\n",
    "print(\"Log Loss:-\", metrics.log_loss(y_test, y_test_pred))\n",
    "print(\"Precision Score:-\", metrics.precision_score(y_test, y_test_pred))\n",
    "print(\"Recall Score:-\", metrics.recall_score(y_test, y_test_pred))\n",
    "print(\"ROC-AUC Score:-\", metrics.roc_auc_score(y_test, y_test_pred))"
   ]
  },
  {
   "cell_type": "code",
   "execution_count": 53,
   "id": "892aea9a",
   "metadata": {
    "execution": {
     "iopub.execute_input": "2021-08-24T14:42:07.438619Z",
     "iopub.status.busy": "2021-08-24T14:42:07.436745Z",
     "iopub.status.idle": "2021-08-24T14:42:07.613286Z",
     "shell.execute_reply": "2021-08-24T14:42:07.613723Z",
     "shell.execute_reply.started": "2021-08-24T14:18:02.549181Z"
    },
    "papermill": {
     "duration": 0.283448,
     "end_time": "2021-08-24T14:42:07.613888",
     "exception": false,
     "start_time": "2021-08-24T14:42:07.330440",
     "status": "completed"
    },
    "tags": []
   },
   "outputs": [
    {
     "data": {
      "text/plain": [
       "<sklearn.metrics._plot.confusion_matrix.ConfusionMatrixDisplay at 0x7fd1b2319890>"
      ]
     },
     "execution_count": 53,
     "metadata": {},
     "output_type": "execute_result"
    },
    {
     "data": {
      "image/png": "[encoded data removed]",
      "text/plain": [
       "<Figure size 432x288 with 2 Axes>"
      ]
     },
     "metadata": {},
     "output_type": "display_data"
    }
   ],
   "source": [
    "cfm=confusion_matrix(y_test, y_test_pred)\n",
    "disp = ConfusionMatrixDisplay(confusion_matrix=cfm,\n",
    "                               display_labels=svc.classes_)\n",
    "disp.plot()"
   ]
  },
  {
   "cell_type": "code",
   "execution_count": 54,
   "id": "a7a4e0b7",
   "metadata": {
    "execution": {
     "iopub.execute_input": "2021-08-24T14:42:07.780215Z",
     "iopub.status.busy": "2021-08-24T14:42:07.779605Z",
     "iopub.status.idle": "2021-08-24T14:42:07.787956Z",
     "shell.execute_reply": "2021-08-24T14:42:07.787256Z",
     "shell.execute_reply.started": "2021-08-24T14:18:02.747641Z"
    },
    "papermill": {
     "duration": 0.093402,
     "end_time": "2021-08-24T14:42:07.788145",
     "exception": false,
     "start_time": "2021-08-24T14:42:07.694743",
     "status": "completed"
    },
    "tags": []
   },
   "outputs": [
    {
     "name": "stdout",
     "output_type": "stream",
     "text": [
      "              precision    recall  f1-score   support\n",
      "\n",
      "           0       0.90      1.00      0.95        72\n",
      "           1       1.00      0.81      0.89        42\n",
      "\n",
      "    accuracy                           0.93       114\n",
      "   macro avg       0.95      0.90      0.92       114\n",
      "weighted avg       0.94      0.93      0.93       114\n",
      "\n"
     ]
    }
   ],
   "source": [
    "from sklearn.metrics import classification_report\n",
    "print(classification_report(y_test, y_test_pred))"
   ]
  },
  {
   "cell_type": "code",
   "execution_count": 55,
   "id": "535e3a4b",
   "metadata": {
    "execution": {
     "iopub.execute_input": "2021-08-24T14:42:07.957029Z",
     "iopub.status.busy": "2021-08-24T14:42:07.956060Z",
     "iopub.status.idle": "2021-08-24T14:42:07.962611Z",
     "shell.execute_reply": "2021-08-24T14:42:07.962125Z",
     "shell.execute_reply.started": "2021-08-24T14:18:02.761515Z"
    },
    "papermill": {
     "duration": 0.093126,
     "end_time": "2021-08-24T14:42:07.962745",
     "exception": false,
     "start_time": "2021-08-24T14:42:07.869619",
     "status": "completed"
    },
    "tags": []
   },
   "outputs": [
    {
     "data": {
      "text/plain": [
       "0.6266534391534392"
      ]
     },
     "execution_count": 55,
     "metadata": {},
     "output_type": "execute_result"
    }
   ],
   "source": [
    "y_test_pred_prob=lr.predict_proba(X_test)[:,1]\n",
    "y_test_pred_prob\n",
    "\n",
    "from sklearn.metrics import roc_curve\n",
    "metrics.roc_auc_score(y_test, y_test_pred_prob)"
   ]
  },
  {
   "cell_type": "code",
   "execution_count": 56,
   "id": "9021174d",
   "metadata": {
    "execution": {
     "iopub.execute_input": "2021-08-24T14:42:08.132838Z",
     "iopub.status.busy": "2021-08-24T14:42:08.132157Z",
     "iopub.status.idle": "2021-08-24T14:42:08.329007Z",
     "shell.execute_reply": "2021-08-24T14:42:08.329433Z",
     "shell.execute_reply.started": "2021-08-24T14:18:02.774568Z"
    },
    "papermill": {
     "duration": 0.284941,
     "end_time": "2021-08-24T14:42:08.329607",
     "exception": false,
     "start_time": "2021-08-24T14:42:08.044666",
     "status": "completed"
    },
    "tags": []
   },
   "outputs": [
    {
     "data": {
      "image/png": "[encoded data removed]",
      "text/plain": [
       "<Figure size 720x720 with 1 Axes>"
      ]
     },
     "metadata": {},
     "output_type": "display_data"
    }
   ],
   "source": [
    "fpr, tpr,thresholds=roc_curve(y_test,y_test_pred_prob)\n",
    "plt.figure(figsize=(10,10))\n",
    "plt.plot([0,1],[0,1],'k--')\n",
    "plt.plot(fpr, tpr, label='Logistic Regression')\n",
    "plt.xlabel(\"fpr (False Possitive rate)\")\n",
    "plt.ylabel(\"tpr-(True Positive rate)\")\n",
    "plt.title(\"ROC_AUC\")\n",
    "plt.show()"
   ]
  },
  {
   "cell_type": "markdown",
   "id": "72ff0171",
   "metadata": {
    "papermill": {
     "duration": 0.081451,
     "end_time": "2021-08-24T14:42:08.493746",
     "exception": false,
     "start_time": "2021-08-24T14:42:08.412295",
     "status": "completed"
    },
    "tags": []
   },
   "source": [
    "# Decision Tree Clasifiers"
   ]
  },
  {
   "cell_type": "code",
   "execution_count": 57,
   "id": "a8db1eab",
   "metadata": {
    "execution": {
     "iopub.execute_input": "2021-08-24T14:42:08.659888Z",
     "iopub.status.busy": "2021-08-24T14:42:08.659340Z",
     "iopub.status.idle": "2021-08-24T14:42:08.690257Z",
     "shell.execute_reply": "2021-08-24T14:42:08.689750Z",
     "shell.execute_reply.started": "2021-08-24T14:18:02.950660Z"
    },
    "papermill": {
     "duration": 0.115096,
     "end_time": "2021-08-24T14:42:08.690446",
     "exception": false,
     "start_time": "2021-08-24T14:42:08.575350",
     "status": "completed"
    },
    "tags": []
   },
   "outputs": [],
   "source": [
    "from sklearn.tree import DecisionTreeClassifier\n"
   ]
  },
  {
   "cell_type": "code",
   "execution_count": 58,
   "id": "6b771264",
   "metadata": {
    "execution": {
     "iopub.execute_input": "2021-08-24T14:42:08.863567Z",
     "iopub.status.busy": "2021-08-24T14:42:08.862942Z",
     "iopub.status.idle": "2021-08-24T14:42:08.867688Z",
     "shell.execute_reply": "2021-08-24T14:42:08.867187Z",
     "shell.execute_reply.started": "2021-08-24T14:18:02.982867Z"
    },
    "papermill": {
     "duration": 0.095272,
     "end_time": "2021-08-24T14:42:08.867825",
     "exception": false,
     "start_time": "2021-08-24T14:42:08.772553",
     "status": "completed"
    },
    "tags": []
   },
   "outputs": [],
   "source": [
    "X=df.drop(col, axis=1)\n",
    "y=df['diagnosis']\n",
    "X_train, X_test, y_train, y_test=train_test_split(X, y, test_size=0.3, random_state=10)"
   ]
  },
  {
   "cell_type": "code",
   "execution_count": 59,
   "id": "d7c5845d",
   "metadata": {
    "execution": {
     "iopub.execute_input": "2021-08-24T14:42:09.037670Z",
     "iopub.status.busy": "2021-08-24T14:42:09.037029Z",
     "iopub.status.idle": "2021-08-24T14:42:09.049851Z",
     "shell.execute_reply": "2021-08-24T14:42:09.049196Z",
     "shell.execute_reply.started": "2021-08-24T14:18:02.992881Z"
    },
    "papermill": {
     "duration": 0.098768,
     "end_time": "2021-08-24T14:42:09.049993",
     "exception": false,
     "start_time": "2021-08-24T14:42:08.951225",
     "status": "completed"
    },
    "tags": []
   },
   "outputs": [
    {
     "data": {
      "text/plain": [
       "DecisionTreeClassifier(max_depth=3, random_state=0)"
      ]
     },
     "execution_count": 59,
     "metadata": {},
     "output_type": "execute_result"
    }
   ],
   "source": [
    "clf_gini = DecisionTreeClassifier(criterion='gini', max_depth=3, random_state=0)\n",
    "\n",
    "\n",
    "# fit the model\n",
    "clf_gini.fit(X_train, y_train)"
   ]
  },
  {
   "cell_type": "code",
   "execution_count": 60,
   "id": "a9d93b16",
   "metadata": {
    "execution": {
     "iopub.execute_input": "2021-08-24T14:42:09.222398Z",
     "iopub.status.busy": "2021-08-24T14:42:09.221739Z",
     "iopub.status.idle": "2021-08-24T14:42:09.224105Z",
     "shell.execute_reply": "2021-08-24T14:42:09.224550Z",
     "shell.execute_reply.started": "2021-08-24T14:18:03.018982Z"
    },
    "papermill": {
     "duration": 0.092024,
     "end_time": "2021-08-24T14:42:09.224711",
     "exception": false,
     "start_time": "2021-08-24T14:42:09.132687",
     "status": "completed"
    },
    "tags": []
   },
   "outputs": [],
   "source": [
    "y_pred_gini = clf_gini.predict(X_train)"
   ]
  },
  {
   "cell_type": "code",
   "execution_count": 61,
   "id": "550432fe",
   "metadata": {
    "execution": {
     "iopub.execute_input": "2021-08-24T14:42:09.397197Z",
     "iopub.status.busy": "2021-08-24T14:42:09.396214Z",
     "iopub.status.idle": "2021-08-24T14:42:09.410806Z",
     "shell.execute_reply": "2021-08-24T14:42:09.410359Z",
     "shell.execute_reply.started": "2021-08-24T14:18:03.028448Z"
    },
    "papermill": {
     "duration": 0.102433,
     "end_time": "2021-08-24T14:42:09.410946",
     "exception": false,
     "start_time": "2021-08-24T14:42:09.308513",
     "status": "completed"
    },
    "tags": []
   },
   "outputs": [
    {
     "name": "stdout",
     "output_type": "stream",
     "text": [
      "Accuracy Score:- 1.0\n",
      "F1 Score:- 1.0\n",
      "Average Precision Score:- 1.0\n",
      "Log Loss:- 9.992007221626413e-16\n",
      "Precision Score:- 1.0\n",
      "Recall Score:- 1.0\n",
      "ROC-AUC Score:- 1.0\n"
     ]
    }
   ],
   "source": [
    "print(\"Accuracy Score:-\", metrics.accuracy_score(y_train, y_pred_gini))\n",
    "print(\"F1 Score:-\", metrics.f1_score(y_train, y_pred_gini))\n",
    "print(\"Average Precision Score:-\", metrics.average_precision_score(y_train, y_pred_gini))\n",
    "print(\"Log Loss:-\", metrics.log_loss(y_train, y_pred_gini))\n",
    "print(\"Precision Score:-\", metrics.precision_score(y_train, y_pred_gini))\n",
    "print(\"Recall Score:-\", metrics.recall_score(y_train, y_pred_gini))\n",
    "print(\"ROC-AUC Score:-\", metrics.roc_auc_score(y_train, y_pred_gini))"
   ]
  },
  {
   "cell_type": "code",
   "execution_count": 62,
   "id": "93117358",
   "metadata": {
    "execution": {
     "iopub.execute_input": "2021-08-24T14:42:09.585971Z",
     "iopub.status.busy": "2021-08-24T14:42:09.585291Z",
     "iopub.status.idle": "2021-08-24T14:42:09.588570Z",
     "shell.execute_reply": "2021-08-24T14:42:09.588054Z",
     "shell.execute_reply.started": "2021-08-24T14:18:03.061100Z"
    },
    "papermill": {
     "duration": 0.09366,
     "end_time": "2021-08-24T14:42:09.588727",
     "exception": false,
     "start_time": "2021-08-24T14:42:09.495067",
     "status": "completed"
    },
    "tags": []
   },
   "outputs": [],
   "source": [
    "y_test_pred= clf_gini.predict(X_test)"
   ]
  },
  {
   "cell_type": "code",
   "execution_count": 63,
   "id": "44be3251",
   "metadata": {
    "execution": {
     "iopub.execute_input": "2021-08-24T14:42:09.765159Z",
     "iopub.status.busy": "2021-08-24T14:42:09.762423Z",
     "iopub.status.idle": "2021-08-24T14:42:09.775997Z",
     "shell.execute_reply": "2021-08-24T14:42:09.775169Z",
     "shell.execute_reply.started": "2021-08-24T14:18:03.069650Z"
    },
    "papermill": {
     "duration": 0.103853,
     "end_time": "2021-08-24T14:42:09.776179",
     "exception": false,
     "start_time": "2021-08-24T14:42:09.672326",
     "status": "completed"
    },
    "tags": []
   },
   "outputs": [
    {
     "name": "stdout",
     "output_type": "stream",
     "text": [
      "Accuracy Score:- 1.0\n",
      "F1 Score:- 1.0\n",
      "Average Precision Score:- 1.0\n",
      "Log Loss:- 9.992007221626413e-16\n",
      "Precision Score:- 1.0\n",
      "Recall Score:- 1.0\n",
      "ROC-AUC Score:- 1.0\n"
     ]
    }
   ],
   "source": [
    "dc_acc=metrics.accuracy_score(y_test, y_test_pred)\n",
    "print(\"Accuracy Score:-\",dc_acc)\n",
    "print(\"F1 Score:-\", metrics.f1_score(y_test, y_test_pred))\n",
    "print(\"Average Precision Score:-\", metrics.average_precision_score(y_test, y_test_pred))\n",
    "print(\"Log Loss:-\", metrics.log_loss(y_test, y_test_pred))\n",
    "print(\"Precision Score:-\", metrics.precision_score(y_test, y_test_pred))\n",
    "print(\"Recall Score:-\", metrics.recall_score(y_test, y_test_pred))\n",
    "print(\"ROC-AUC Score:-\", metrics.roc_auc_score(y_test, y_test_pred))"
   ]
  },
  {
   "cell_type": "code",
   "execution_count": 64,
   "id": "1d0f3747",
   "metadata": {
    "execution": {
     "iopub.execute_input": "2021-08-24T14:42:09.994260Z",
     "iopub.status.busy": "2021-08-24T14:42:09.978993Z",
     "iopub.status.idle": "2021-08-24T14:42:10.163160Z",
     "shell.execute_reply": "2021-08-24T14:42:10.162641Z",
     "shell.execute_reply.started": "2021-08-24T14:18:03.102276Z"
    },
    "papermill": {
     "duration": 0.272807,
     "end_time": "2021-08-24T14:42:10.163315",
     "exception": false,
     "start_time": "2021-08-24T14:42:09.890508",
     "status": "completed"
    },
    "tags": []
   },
   "outputs": [
    {
     "data": {
      "text/plain": [
       "<sklearn.metrics._plot.confusion_matrix.ConfusionMatrixDisplay at 0x7fd1b21a18d0>"
      ]
     },
     "execution_count": 64,
     "metadata": {},
     "output_type": "execute_result"
    },
    {
     "data": {
      "image/png": "[encoded data removed]",
      "text/plain": [
       "<Figure size 432x288 with 2 Axes>"
      ]
     },
     "metadata": {},
     "output_type": "display_data"
    }
   ],
   "source": [
    "cfm=confusion_matrix(y_test, y_test_pred)\n",
    "disp = ConfusionMatrixDisplay(confusion_matrix=cfm,\n",
    "                               display_labels=clf_gini.classes_)\n",
    "disp.plot()"
   ]
  },
  {
   "cell_type": "code",
   "execution_count": 65,
   "id": "1104bfd5",
   "metadata": {
    "execution": {
     "iopub.execute_input": "2021-08-24T14:42:10.337705Z",
     "iopub.status.busy": "2021-08-24T14:42:10.337096Z",
     "iopub.status.idle": "2021-08-24T14:42:10.344318Z",
     "shell.execute_reply": "2021-08-24T14:42:10.344748Z",
     "shell.execute_reply.started": "2021-08-24T14:18:03.328683Z"
    },
    "papermill": {
     "duration": 0.097402,
     "end_time": "2021-08-24T14:42:10.344911",
     "exception": false,
     "start_time": "2021-08-24T14:42:10.247509",
     "status": "completed"
    },
    "tags": []
   },
   "outputs": [
    {
     "name": "stdout",
     "output_type": "stream",
     "text": [
      "              precision    recall  f1-score   support\n",
      "\n",
      "           0       1.00      1.00      1.00       112\n",
      "           1       1.00      1.00      1.00        59\n",
      "\n",
      "    accuracy                           1.00       171\n",
      "   macro avg       1.00      1.00      1.00       171\n",
      "weighted avg       1.00      1.00      1.00       171\n",
      "\n"
     ]
    }
   ],
   "source": [
    "from sklearn.metrics import classification_report\n",
    "print(classification_report(y_test, y_test_pred))"
   ]
  },
  {
   "cell_type": "code",
   "execution_count": 66,
   "id": "316139c9",
   "metadata": {
    "execution": {
     "iopub.execute_input": "2021-08-24T14:42:10.521760Z",
     "iopub.status.busy": "2021-08-24T14:42:10.521176Z",
     "iopub.status.idle": "2021-08-24T14:42:10.524675Z",
     "shell.execute_reply": "2021-08-24T14:42:10.524193Z",
     "shell.execute_reply.started": "2021-08-24T14:18:03.342989Z"
    },
    "papermill": {
     "duration": 0.096222,
     "end_time": "2021-08-24T14:42:10.524809",
     "exception": false,
     "start_time": "2021-08-24T14:42:10.428587",
     "status": "completed"
    },
    "tags": []
   },
   "outputs": [
    {
     "data": {
      "text/plain": [
       "1.0"
      ]
     },
     "execution_count": 66,
     "metadata": {},
     "output_type": "execute_result"
    }
   ],
   "source": [
    "y_test_pred_prob=clf_gini.predict_proba(X_test)[:,1]\n",
    "y_test_pred_prob\n",
    "\n",
    "from sklearn.metrics import roc_curve\n",
    "metrics.roc_auc_score(y_test, y_test_pred_prob)"
   ]
  },
  {
   "cell_type": "code",
   "execution_count": 67,
   "id": "6ea33323",
   "metadata": {
    "execution": {
     "iopub.execute_input": "2021-08-24T14:42:10.718632Z",
     "iopub.status.busy": "2021-08-24T14:42:10.715226Z",
     "iopub.status.idle": "2021-08-24T14:42:10.885579Z",
     "shell.execute_reply": "2021-08-24T14:42:10.884948Z",
     "shell.execute_reply.started": "2021-08-24T14:18:03.362912Z"
    },
    "papermill": {
     "duration": 0.276841,
     "end_time": "2021-08-24T14:42:10.885720",
     "exception": false,
     "start_time": "2021-08-24T14:42:10.608879",
     "status": "completed"
    },
    "tags": []
   },
   "outputs": [
    {
     "data": {
      "image/png": "[encoded data removed]",
      "text/plain": [
       "<Figure size 720x720 with 1 Axes>"
      ]
     },
     "metadata": {},
     "output_type": "display_data"
    }
   ],
   "source": [
    "fpr, tpr,thresholds=roc_curve(y_test,y_test_pred_prob)\n",
    "plt.figure(figsize=(10,10))\n",
    "plt.plot([0,1],[0,1],'k--')\n",
    "plt.plot(fpr, tpr, label='Logistic Regression')\n",
    "plt.xlabel(\"fpr (False Possitive rate)\")\n",
    "plt.ylabel(\"tpr-(True Positive rate)\")\n",
    "plt.title(\"ROC_AUC\")\n",
    "plt.show()"
   ]
  },
  {
   "cell_type": "code",
   "execution_count": 68,
   "id": "a27d8c4a",
   "metadata": {
    "execution": {
     "iopub.execute_input": "2021-08-24T14:42:11.086481Z",
     "iopub.status.busy": "2021-08-24T14:42:11.082810Z",
     "iopub.status.idle": "2021-08-24T14:42:11.265497Z",
     "shell.execute_reply": "2021-08-24T14:42:11.264995Z",
     "shell.execute_reply.started": "2021-08-24T14:18:03.559651Z"
    },
    "papermill": {
     "duration": 0.294448,
     "end_time": "2021-08-24T14:42:11.265646",
     "exception": false,
     "start_time": "2021-08-24T14:42:10.971198",
     "status": "completed"
    },
    "tags": []
   },
   "outputs": [
    {
     "data": {
      "image/png": "[encoded data removed]",
      "text/plain": [
       "<Figure size 720x576 with 1 Axes>"
      ]
     },
     "metadata": {},
     "output_type": "display_data"
    }
   ],
   "source": [
    "from sklearn.metrics import precision_recall_curve\n",
    "no_skill=len(y==1)/len(y)\n",
    "y_test_prob=lr.predict_proba(X_test)[:,1]\n",
    "plt.figure(figsize=(10,8))\n",
    "plt.plot([0,1],[no_skill, no_skill], label=\"No Skill\")\n",
    "precision, recall,_ =precision_recall_curve(y_test, y_test_prob)\n",
    "plt.plot(recall, precision, marker='',label=\"Decision Tree\")\n",
    "plt.xlabel(\"Recall\")\n",
    "plt.ylabel(\"Precision\")\n",
    "plt.title(\"Recall-Precision Curve\")\n",
    "plt.legend()\n",
    "plt.show()"
   ]
  },
  {
   "cell_type": "code",
   "execution_count": 69,
   "id": "2df89e7e",
   "metadata": {
    "execution": {
     "iopub.execute_input": "2021-08-24T14:42:11.448748Z",
     "iopub.status.busy": "2021-08-24T14:42:11.448066Z",
     "iopub.status.idle": "2021-08-24T14:42:11.455995Z",
     "shell.execute_reply": "2021-08-24T14:42:11.455472Z",
     "shell.execute_reply.started": "2021-08-24T14:18:03.748412Z"
    },
    "papermill": {
     "duration": 0.102675,
     "end_time": "2021-08-24T14:42:11.456137",
     "exception": false,
     "start_time": "2021-08-24T14:42:11.353462",
     "status": "completed"
    },
    "tags": []
   },
   "outputs": [
    {
     "name": "stdout",
     "output_type": "stream",
     "text": [
      "Training set score: 1.0000\n",
      "Test set score: 1.0000\n"
     ]
    }
   ],
   "source": [
    "# print the scores on training and test set\n",
    "\n",
    "print('Training set score: {:.4f}'.format(clf_gini.score(X_train, y_train)))\n",
    "\n",
    "print('Test set score: {:.4f}'.format(clf_gini.score(X_test, y_test)))"
   ]
  },
  {
   "cell_type": "markdown",
   "id": "4ef39b13",
   "metadata": {
    "papermill": {
     "duration": 0.092315,
     "end_time": "2021-08-24T14:42:11.638640",
     "exception": false,
     "start_time": "2021-08-24T14:42:11.546325",
     "status": "completed"
    },
    "tags": []
   },
   "source": [
    "# Visualize decision-trees"
   ]
  },
  {
   "cell_type": "code",
   "execution_count": 70,
   "id": "6edb3258",
   "metadata": {
    "execution": {
     "iopub.execute_input": "2021-08-24T14:42:11.822068Z",
     "iopub.status.busy": "2021-08-24T14:42:11.821409Z",
     "iopub.status.idle": "2021-08-24T14:42:12.057729Z",
     "shell.execute_reply": "2021-08-24T14:42:12.057211Z",
     "shell.execute_reply.started": "2021-08-24T14:18:03.764028Z"
    },
    "papermill": {
     "duration": 0.331319,
     "end_time": "2021-08-24T14:42:12.057868",
     "exception": false,
     "start_time": "2021-08-24T14:42:11.726549",
     "status": "completed"
    },
    "tags": []
   },
   "outputs": [
    {
     "data": {
      "text/plain": [
       "[Text(334.8, 326.15999999999997, 'X[1] <= 0.5\\ngini = 0.473\\nsamples = 398\\nvalue = [245, 153]'),\n",
       " Text(167.4, 108.72000000000003, 'gini = 0.0\\nsamples = 245\\nvalue = [245, 0]'),\n",
       " Text(502.20000000000005, 108.72000000000003, 'gini = 0.0\\nsamples = 153\\nvalue = [0, 153]')]"
      ]
     },
     "execution_count": 70,
     "metadata": {},
     "output_type": "execute_result"
    },
    {
     "data": {
      "image/png": "[encoded data removed]",
      "text/plain": [
       "<Figure size 864x576 with 1 Axes>"
      ]
     },
     "metadata": {},
     "output_type": "display_data"
    }
   ],
   "source": [
    "plt.figure(figsize=(12,8))\n",
    "\n",
    "from sklearn import tree\n",
    "\n",
    "tree.plot_tree(clf_gini.fit(X_train, y_train)) "
   ]
  },
  {
   "cell_type": "markdown",
   "id": "ebb2f8a1",
   "metadata": {
    "papermill": {
     "duration": 0.089036,
     "end_time": "2021-08-24T14:42:12.235662",
     "exception": false,
     "start_time": "2021-08-24T14:42:12.146626",
     "status": "completed"
    },
    "tags": []
   },
   "source": [
    "# Decision Tree Classifier with criterion entropy¶"
   ]
  },
  {
   "cell_type": "code",
   "execution_count": 71,
   "id": "0b3d99c9",
   "metadata": {
    "execution": {
     "iopub.execute_input": "2021-08-24T14:42:12.422749Z",
     "iopub.status.busy": "2021-08-24T14:42:12.422036Z",
     "iopub.status.idle": "2021-08-24T14:42:12.430238Z",
     "shell.execute_reply": "2021-08-24T14:42:12.429733Z",
     "shell.execute_reply.started": "2021-08-24T14:18:04.034457Z"
    },
    "papermill": {
     "duration": 0.104952,
     "end_time": "2021-08-24T14:42:12.430408",
     "exception": false,
     "start_time": "2021-08-24T14:42:12.325456",
     "status": "completed"
    },
    "tags": []
   },
   "outputs": [
    {
     "data": {
      "text/plain": [
       "DecisionTreeClassifier(criterion='entropy', max_depth=3, random_state=0)"
      ]
     },
     "execution_count": 71,
     "metadata": {},
     "output_type": "execute_result"
    }
   ],
   "source": [
    "clf_en = DecisionTreeClassifier(criterion='entropy', max_depth=3, random_state=0)\n",
    "\n",
    "\n",
    "# fit the model\n",
    "clf_en.fit(X_train, y_train)"
   ]
  },
  {
   "cell_type": "code",
   "execution_count": 72,
   "id": "86dace73",
   "metadata": {
    "execution": {
     "iopub.execute_input": "2021-08-24T14:42:12.618182Z",
     "iopub.status.busy": "2021-08-24T14:42:12.617568Z",
     "iopub.status.idle": "2021-08-24T14:42:12.870689Z",
     "shell.execute_reply": "2021-08-24T14:42:12.870157Z",
     "shell.execute_reply.started": "2021-08-24T14:18:04.051544Z"
    },
    "papermill": {
     "duration": 0.351536,
     "end_time": "2021-08-24T14:42:12.870846",
     "exception": false,
     "start_time": "2021-08-24T14:42:12.519310",
     "status": "completed"
    },
    "tags": []
   },
   "outputs": [
    {
     "data": {
      "text/plain": [
       "[<matplotlib.lines.Line2D at 0x7fd1b13d2d10>]"
      ]
     },
     "execution_count": 72,
     "metadata": {},
     "output_type": "execute_result"
    },
    {
     "data": {
      "image/png": "[encoded data removed]",
      "text/plain": [
       "<Figure size 1080x720 with 1 Axes>"
      ]
     },
     "metadata": {},
     "output_type": "display_data"
    }
   ],
   "source": [
    "error_rate=[]\n",
    "for i in range(1,11):\n",
    "    clf_en = DecisionTreeClassifier(criterion='entropy', max_depth=3, random_state=0)\n",
    "\n",
    "\n",
    "    # fit the model\n",
    "    clf_en.fit(X_train, y_train)\n",
    "    pred=clf_en.predict(X_test)\n",
    "    error_rate.append(np.mean(pred!=y_test))\n",
    "    \n",
    "plt.figure(figsize=(15,10))\n",
    "plt.plot(range(1,11), error_rate,marker='o', markersize=9)\n",
    "    "
   ]
  },
  {
   "cell_type": "code",
   "execution_count": 73,
   "id": "8d9ceb29",
   "metadata": {
    "execution": {
     "iopub.execute_input": "2021-08-24T14:42:13.059532Z",
     "iopub.status.busy": "2021-08-24T14:42:13.058885Z",
     "iopub.status.idle": "2021-08-24T14:42:13.065880Z",
     "shell.execute_reply": "2021-08-24T14:42:13.065318Z",
     "shell.execute_reply.started": "2021-08-24T14:18:04.359314Z"
    },
    "papermill": {
     "duration": 0.104096,
     "end_time": "2021-08-24T14:42:13.066008",
     "exception": false,
     "start_time": "2021-08-24T14:42:12.961912",
     "status": "completed"
    },
    "tags": []
   },
   "outputs": [
    {
     "data": {
      "text/plain": [
       "DecisionTreeClassifier(criterion='entropy', max_depth=3, random_state=0)"
      ]
     },
     "execution_count": 73,
     "metadata": {},
     "output_type": "execute_result"
    }
   ],
   "source": [
    "clf_en = DecisionTreeClassifier(criterion='entropy', max_depth=3, random_state=0)\n",
    "\n",
    "\n",
    "# fit the model\n",
    "clf_en.fit(X_train, y_train)"
   ]
  },
  {
   "cell_type": "code",
   "execution_count": 74,
   "id": "a4b1d17d",
   "metadata": {
    "execution": {
     "iopub.execute_input": "2021-08-24T14:42:13.255840Z",
     "iopub.status.busy": "2021-08-24T14:42:13.255156Z",
     "iopub.status.idle": "2021-08-24T14:42:13.256968Z",
     "shell.execute_reply": "2021-08-24T14:42:13.257384Z",
     "shell.execute_reply.started": "2021-08-24T14:18:04.373563Z"
    },
    "papermill": {
     "duration": 0.10118,
     "end_time": "2021-08-24T14:42:13.257553",
     "exception": false,
     "start_time": "2021-08-24T14:42:13.156373",
     "status": "completed"
    },
    "tags": []
   },
   "outputs": [],
   "source": [
    "y_pred=clf_en.predict(X_train)"
   ]
  },
  {
   "cell_type": "code",
   "execution_count": 75,
   "id": "866c0767",
   "metadata": {
    "execution": {
     "iopub.execute_input": "2021-08-24T14:42:13.443200Z",
     "iopub.status.busy": "2021-08-24T14:42:13.442609Z",
     "iopub.status.idle": "2021-08-24T14:42:13.458523Z",
     "shell.execute_reply": "2021-08-24T14:42:13.459229Z",
     "shell.execute_reply.started": "2021-08-24T14:18:04.391418Z"
    },
    "papermill": {
     "duration": 0.109477,
     "end_time": "2021-08-24T14:42:13.459474",
     "exception": false,
     "start_time": "2021-08-24T14:42:13.349997",
     "status": "completed"
    },
    "tags": []
   },
   "outputs": [
    {
     "name": "stdout",
     "output_type": "stream",
     "text": [
      "Accuracy Score:- 1.0\n",
      "F1 Score:- 1.0\n",
      "Average Precision Score:- 1.0\n",
      "Log Loss:- 9.992007221626413e-16\n",
      "Precision Score:- 1.0\n",
      "Recall Score:- 1.0\n",
      "ROC-AUC Score:- 1.0\n"
     ]
    }
   ],
   "source": [
    "print(\"Accuracy Score:-\", metrics.accuracy_score(y_train, y_pred))\n",
    "print(\"F1 Score:-\", metrics.f1_score(y_train, y_pred))\n",
    "print(\"Average Precision Score:-\", metrics.average_precision_score(y_train, y_pred))\n",
    "print(\"Log Loss:-\", metrics.log_loss(y_train, y_pred))\n",
    "print(\"Precision Score:-\", metrics.precision_score(y_train, y_pred))\n",
    "print(\"Recall Score:-\", metrics.recall_score(y_train, y_pred))\n",
    "print(\"ROC-AUC Score:-\", metrics.roc_auc_score(y_train, y_pred))"
   ]
  },
  {
   "cell_type": "code",
   "execution_count": 76,
   "id": "5a821ab1",
   "metadata": {
    "execution": {
     "iopub.execute_input": "2021-08-24T14:42:13.646901Z",
     "iopub.status.busy": "2021-08-24T14:42:13.646220Z",
     "iopub.status.idle": "2021-08-24T14:42:13.648570Z",
     "shell.execute_reply": "2021-08-24T14:42:13.648994Z",
     "shell.execute_reply.started": "2021-08-24T14:18:04.422323Z"
    },
    "papermill": {
     "duration": 0.099295,
     "end_time": "2021-08-24T14:42:13.649148",
     "exception": false,
     "start_time": "2021-08-24T14:42:13.549853",
     "status": "completed"
    },
    "tags": []
   },
   "outputs": [],
   "source": [
    "y_test_pred=clf_en.predict(X_test)\n"
   ]
  },
  {
   "cell_type": "code",
   "execution_count": 77,
   "id": "32a7a61f",
   "metadata": {
    "execution": {
     "iopub.execute_input": "2021-08-24T14:42:13.832853Z",
     "iopub.status.busy": "2021-08-24T14:42:13.832237Z",
     "iopub.status.idle": "2021-08-24T14:42:13.846908Z",
     "shell.execute_reply": "2021-08-24T14:42:13.847421Z",
     "shell.execute_reply.started": "2021-08-24T14:18:04.429812Z"
    },
    "papermill": {
     "duration": 0.108133,
     "end_time": "2021-08-24T14:42:13.847589",
     "exception": false,
     "start_time": "2021-08-24T14:42:13.739456",
     "status": "completed"
    },
    "tags": []
   },
   "outputs": [
    {
     "name": "stdout",
     "output_type": "stream",
     "text": [
      "Accuracy Score:- 1.0\n",
      "F1 Score:- 1.0\n",
      "Average Precision Score:- 1.0\n",
      "Log Loss:- 9.992007221626413e-16\n",
      "Precision Score:- 1.0\n",
      "Recall Score:- 1.0\n",
      "ROC-AUC Score:- 1.0\n"
     ]
    }
   ],
   "source": [
    "dc_en_acc=metrics.accuracy_score(y_test, y_test_pred)\n",
    "print(\"Accuracy Score:-\",dc_en_acc)\n",
    "print(\"F1 Score:-\", metrics.f1_score(y_test, y_test_pred))\n",
    "print(\"Average Precision Score:-\", metrics.average_precision_score(y_test, y_test_pred))\n",
    "print(\"Log Loss:-\", metrics.log_loss(y_test, y_test_pred))\n",
    "print(\"Precision Score:-\", metrics.precision_score(y_test, y_test_pred))\n",
    "print(\"Recall Score:-\", metrics.recall_score(y_test, y_test_pred))\n",
    "print(\"ROC-AUC Score:-\", metrics.roc_auc_score(y_test, y_test_pred))"
   ]
  },
  {
   "cell_type": "code",
   "execution_count": 78,
   "id": "495cdd84",
   "metadata": {
    "execution": {
     "iopub.execute_input": "2021-08-24T14:42:14.035071Z",
     "iopub.status.busy": "2021-08-24T14:42:14.034404Z",
     "iopub.status.idle": "2021-08-24T14:42:14.220051Z",
     "shell.execute_reply": "2021-08-24T14:42:14.219443Z",
     "shell.execute_reply.started": "2021-08-24T14:18:04.458218Z"
    },
    "papermill": {
     "duration": 0.281822,
     "end_time": "2021-08-24T14:42:14.220193",
     "exception": false,
     "start_time": "2021-08-24T14:42:13.938371",
     "status": "completed"
    },
    "tags": []
   },
   "outputs": [
    {
     "data": {
      "text/plain": [
       "<sklearn.metrics._plot.confusion_matrix.ConfusionMatrixDisplay at 0x7fd1b138dc90>"
      ]
     },
     "execution_count": 78,
     "metadata": {},
     "output_type": "execute_result"
    },
    {
     "data": {
      "image/png": "[encoded data removed]",
      "text/plain": [
       "<Figure size 432x288 with 2 Axes>"
      ]
     },
     "metadata": {},
     "output_type": "display_data"
    }
   ],
   "source": [
    "cfm=confusion_matrix(y_test, y_test_pred)\n",
    "disp = ConfusionMatrixDisplay(confusion_matrix=cfm,\n",
    "                               display_labels=clf_en.classes_)\n",
    "disp.plot()"
   ]
  },
  {
   "cell_type": "code",
   "execution_count": 79,
   "id": "400d84b4",
   "metadata": {
    "execution": {
     "iopub.execute_input": "2021-08-24T14:42:14.410362Z",
     "iopub.status.busy": "2021-08-24T14:42:14.409425Z",
     "iopub.status.idle": "2021-08-24T14:42:14.416248Z",
     "shell.execute_reply": "2021-08-24T14:42:14.416987Z",
     "shell.execute_reply.started": "2021-08-24T14:18:04.633363Z"
    },
    "papermill": {
     "duration": 0.104754,
     "end_time": "2021-08-24T14:42:14.417245",
     "exception": false,
     "start_time": "2021-08-24T14:42:14.312491",
     "status": "completed"
    },
    "tags": []
   },
   "outputs": [
    {
     "name": "stdout",
     "output_type": "stream",
     "text": [
      "              precision    recall  f1-score   support\n",
      "\n",
      "           0       1.00      1.00      1.00       112\n",
      "           1       1.00      1.00      1.00        59\n",
      "\n",
      "    accuracy                           1.00       171\n",
      "   macro avg       1.00      1.00      1.00       171\n",
      "weighted avg       1.00      1.00      1.00       171\n",
      "\n"
     ]
    }
   ],
   "source": [
    "from sklearn.metrics import classification_report\n",
    "print(classification_report(y_test, y_test_pred))"
   ]
  },
  {
   "cell_type": "code",
   "execution_count": 80,
   "id": "4960a72f",
   "metadata": {
    "execution": {
     "iopub.execute_input": "2021-08-24T14:42:14.604538Z",
     "iopub.status.busy": "2021-08-24T14:42:14.603943Z",
     "iopub.status.idle": "2021-08-24T14:42:14.613201Z",
     "shell.execute_reply": "2021-08-24T14:42:14.613718Z",
     "shell.execute_reply.started": "2021-08-24T14:18:04.646492Z"
    },
    "papermill": {
     "duration": 0.102947,
     "end_time": "2021-08-24T14:42:14.613875",
     "exception": false,
     "start_time": "2021-08-24T14:42:14.510928",
     "status": "completed"
    },
    "tags": []
   },
   "outputs": [
    {
     "data": {
      "text/plain": [
       "1.0"
      ]
     },
     "execution_count": 80,
     "metadata": {},
     "output_type": "execute_result"
    }
   ],
   "source": [
    "y_test_pred_prob=clf_gini.predict_proba(X_test)[:,1]\n",
    "y_test_pred_prob\n",
    "\n",
    "from sklearn.metrics import roc_curve\n",
    "metrics.roc_auc_score(y_test, y_test_pred_prob)"
   ]
  },
  {
   "cell_type": "code",
   "execution_count": 81,
   "id": "2bb912d3",
   "metadata": {
    "execution": {
     "iopub.execute_input": "2021-08-24T14:42:14.803765Z",
     "iopub.status.busy": "2021-08-24T14:42:14.803119Z",
     "iopub.status.idle": "2021-08-24T14:42:14.984849Z",
     "shell.execute_reply": "2021-08-24T14:42:14.985369Z",
     "shell.execute_reply.started": "2021-08-24T14:18:04.666891Z"
    },
    "papermill": {
     "duration": 0.279181,
     "end_time": "2021-08-24T14:42:14.985544",
     "exception": false,
     "start_time": "2021-08-24T14:42:14.706363",
     "status": "completed"
    },
    "tags": []
   },
   "outputs": [
    {
     "data": {
      "image/png": "[encoded data removed]",
      "text/plain": [
       "<Figure size 720x720 with 1 Axes>"
      ]
     },
     "metadata": {},
     "output_type": "display_data"
    }
   ],
   "source": [
    "fpr, tpr,thresholds=roc_curve(y_test,y_test_pred_prob)\n",
    "plt.figure(figsize=(10,10))\n",
    "plt.plot([0,1],[0,1],'k--')\n",
    "plt.plot(fpr, tpr, label='DEcision Tree with Entropy')\n",
    "plt.xlabel(\"fpr (False Possitive rate)\")\n",
    "plt.ylabel(\"tpr-(True Positive rate)\")\n",
    "plt.title(\"ROC_AUC\")\n",
    "plt.show()"
   ]
  },
  {
   "cell_type": "code",
   "execution_count": 82,
   "id": "f67c005f",
   "metadata": {
    "execution": {
     "iopub.execute_input": "2021-08-24T14:42:15.178537Z",
     "iopub.status.busy": "2021-08-24T14:42:15.177828Z",
     "iopub.status.idle": "2021-08-24T14:42:15.377729Z",
     "shell.execute_reply": "2021-08-24T14:42:15.378180Z",
     "shell.execute_reply.started": "2021-08-24T14:18:04.891465Z"
    },
    "papermill": {
     "duration": 0.296989,
     "end_time": "2021-08-24T14:42:15.378372",
     "exception": false,
     "start_time": "2021-08-24T14:42:15.081383",
     "status": "completed"
    },
    "tags": []
   },
   "outputs": [
    {
     "data": {
      "image/png": "[encoded data removed]",
      "text/plain": [
       "<Figure size 720x576 with 1 Axes>"
      ]
     },
     "metadata": {},
     "output_type": "display_data"
    }
   ],
   "source": [
    "from sklearn.metrics import precision_recall_curve\n",
    "no_skill=len(y==1)/len(y)\n",
    "y_test_prob=lr.predict_proba(X_test)[:,1]\n",
    "plt.figure(figsize=(10,8))\n",
    "plt.plot([0,1],[no_skill, no_skill], label=\"No Skill\")\n",
    "precision, recall,_ =precision_recall_curve(y_test, y_test_prob)\n",
    "plt.plot(recall, precision, marker='',label=\"Decision Tree with Entropy\")\n",
    "plt.xlabel(\"Recall\")\n",
    "plt.ylabel(\"Precision\")\n",
    "plt.title(\"Recall-Precision Curve\")\n",
    "plt.legend()\n",
    "plt.show()"
   ]
  },
  {
   "cell_type": "markdown",
   "id": "63487f90",
   "metadata": {
    "papermill": {
     "duration": 0.094122,
     "end_time": "2021-08-24T14:42:15.566541",
     "exception": false,
     "start_time": "2021-08-24T14:42:15.472419",
     "status": "completed"
    },
    "tags": []
   },
   "source": [
    "# Random Forest Classifiers"
   ]
  },
  {
   "cell_type": "code",
   "execution_count": 83,
   "id": "d6bf1c29",
   "metadata": {
    "execution": {
     "iopub.execute_input": "2021-08-24T14:42:15.758408Z",
     "iopub.status.busy": "2021-08-24T14:42:15.757754Z",
     "iopub.status.idle": "2021-08-24T14:42:15.763896Z",
     "shell.execute_reply": "2021-08-24T14:42:15.763447Z",
     "shell.execute_reply.started": "2021-08-24T14:18:05.116875Z"
    },
    "papermill": {
     "duration": 0.103232,
     "end_time": "2021-08-24T14:42:15.764045",
     "exception": false,
     "start_time": "2021-08-24T14:42:15.660813",
     "status": "completed"
    },
    "tags": []
   },
   "outputs": [],
   "source": [
    "# split data into training and testing sets\n",
    "\n",
    "from sklearn.model_selection import train_test_split\n",
    "\n",
    "X_train, X_test, y_train, y_test = train_test_split(X, y, test_size = 0.33, random_state = 42)"
   ]
  },
  {
   "cell_type": "code",
   "execution_count": 84,
   "id": "6a394d17",
   "metadata": {
    "execution": {
     "iopub.execute_input": "2021-08-24T14:42:15.964126Z",
     "iopub.status.busy": "2021-08-24T14:42:15.963293Z",
     "iopub.status.idle": "2021-08-24T14:42:16.159639Z",
     "shell.execute_reply": "2021-08-24T14:42:16.160112Z",
     "shell.execute_reply.started": "2021-08-24T14:18:05.126335Z"
    },
    "papermill": {
     "duration": 0.296321,
     "end_time": "2021-08-24T14:42:16.160293",
     "exception": false,
     "start_time": "2021-08-24T14:42:15.863972",
     "status": "completed"
    },
    "tags": []
   },
   "outputs": [
    {
     "data": {
      "text/plain": [
       "RandomForestClassifier(random_state=0)"
      ]
     },
     "execution_count": 84,
     "metadata": {},
     "output_type": "execute_result"
    }
   ],
   "source": [
    "# import Random Forest classifier\n",
    "\n",
    "from sklearn.ensemble import RandomForestClassifier\n",
    "\n",
    "\n",
    "\n",
    "# instantiate the classifier \n",
    "\n",
    "rfc = RandomForestClassifier(random_state=0)\n",
    "\n",
    "\n",
    "\n",
    "# fit the model\n",
    "\n",
    "rfc.fit(X_train, y_train)"
   ]
  },
  {
   "cell_type": "code",
   "execution_count": 85,
   "id": "52699795",
   "metadata": {
    "execution": {
     "iopub.execute_input": "2021-08-24T14:42:16.358834Z",
     "iopub.status.busy": "2021-08-24T14:42:16.357847Z",
     "iopub.status.idle": "2021-08-24T14:42:16.373146Z",
     "shell.execute_reply": "2021-08-24T14:42:16.373599Z",
     "shell.execute_reply.started": "2021-08-24T14:18:05.647717Z"
    },
    "papermill": {
     "duration": 0.118695,
     "end_time": "2021-08-24T14:42:16.373780",
     "exception": false,
     "start_time": "2021-08-24T14:42:16.255085",
     "status": "completed"
    },
    "tags": []
   },
   "outputs": [],
   "source": [
    "y_pred = rfc.predict(X_train)\n"
   ]
  },
  {
   "cell_type": "code",
   "execution_count": 86,
   "id": "14bedf7a",
   "metadata": {
    "execution": {
     "iopub.execute_input": "2021-08-24T14:42:16.570458Z",
     "iopub.status.busy": "2021-08-24T14:42:16.569439Z",
     "iopub.status.idle": "2021-08-24T14:42:16.585667Z",
     "shell.execute_reply": "2021-08-24T14:42:16.584950Z",
     "shell.execute_reply.started": "2021-08-24T14:18:05.671229Z"
    },
    "papermill": {
     "duration": 0.117456,
     "end_time": "2021-08-24T14:42:16.585873",
     "exception": false,
     "start_time": "2021-08-24T14:42:16.468417",
     "status": "completed"
    },
    "tags": []
   },
   "outputs": [
    {
     "name": "stdout",
     "output_type": "stream",
     "text": [
      "Accuracy Score:- 1.0\n",
      "F1 Score:- 1.0\n",
      "Average Precision Score:- 1.0\n",
      "Log Loss:- 9.992007221626413e-16\n",
      "Precision Score:- 1.0\n",
      "Recall Score:- 1.0\n",
      "ROC-AUC Score:- 1.0\n"
     ]
    }
   ],
   "source": [
    "print(\"Accuracy Score:-\", metrics.accuracy_score(y_train, y_pred))\n",
    "print(\"F1 Score:-\", metrics.f1_score(y_train, y_pred))\n",
    "print(\"Average Precision Score:-\", metrics.average_precision_score(y_train, y_pred))\n",
    "print(\"Log Loss:-\", metrics.log_loss(y_train, y_pred))\n",
    "print(\"Precision Score:-\", metrics.precision_score(y_train, y_pred))\n",
    "print(\"Recall Score:-\", metrics.recall_score(y_train, y_pred))\n",
    "print(\"ROC-AUC Score:-\", metrics.roc_auc_score(y_train, y_pred))"
   ]
  },
  {
   "cell_type": "markdown",
   "id": "f37e8f8e",
   "metadata": {
    "papermill": {
     "duration": 0.093485,
     "end_time": "2021-08-24T14:42:16.777422",
     "exception": false,
     "start_time": "2021-08-24T14:42:16.683937",
     "status": "completed"
    },
    "tags": []
   },
   "source": [
    "# Conclusion \n",
    "* These are overfit model\n",
    "* We need more features to remove"
   ]
  },
  {
   "cell_type": "markdown",
   "id": "e77930ae",
   "metadata": {
    "papermill": {
     "duration": 0.095207,
     "end_time": "2021-08-24T14:42:16.967460",
     "exception": false,
     "start_time": "2021-08-24T14:42:16.872253",
     "status": "completed"
    },
    "tags": []
   },
   "source": [
    "# What we can do ??\n",
    "we have two options\n",
    "* remove the feature which have correlation more than 0.9\n",
    "* Another one is backward stepwise"
   ]
  },
  {
   "cell_type": "markdown",
   "id": "89cb3ff1",
   "metadata": {
    "papermill": {
     "duration": 0.095055,
     "end_time": "2021-08-24T14:42:17.158945",
     "exception": false,
     "start_time": "2021-08-24T14:42:17.063890",
     "status": "completed"
    },
    "tags": []
   },
   "source": [
    "Next, we compare the correlation between features and remove one of two features that have a correlation higher than 0.9"
   ]
  },
  {
   "cell_type": "code",
   "execution_count": 87,
   "id": "d573a272",
   "metadata": {
    "execution": {
     "iopub.execute_input": "2021-08-24T14:42:17.355669Z",
     "iopub.status.busy": "2021-08-24T14:42:17.353555Z",
     "iopub.status.idle": "2021-08-24T14:42:17.360873Z",
     "shell.execute_reply": "2021-08-24T14:42:17.360243Z",
     "shell.execute_reply.started": "2021-08-24T14:18:05.691833Z"
    },
    "papermill": {
     "duration": 0.106915,
     "end_time": "2021-08-24T14:42:17.361029",
     "exception": false,
     "start_time": "2021-08-24T14:42:17.254114",
     "status": "completed"
    },
    "tags": []
   },
   "outputs": [],
   "source": [
    "corr=df.corr()"
   ]
  },
  {
   "cell_type": "code",
   "execution_count": 88,
   "id": "8cad9bf3",
   "metadata": {
    "execution": {
     "iopub.execute_input": "2021-08-24T14:42:17.569651Z",
     "iopub.status.busy": "2021-08-24T14:42:17.569035Z",
     "iopub.status.idle": "2021-08-24T14:42:17.571316Z",
     "shell.execute_reply": "2021-08-24T14:42:17.570762Z",
     "shell.execute_reply.started": "2021-08-24T14:18:05.701345Z"
    },
    "papermill": {
     "duration": 0.116043,
     "end_time": "2021-08-24T14:42:17.571454",
     "exception": false,
     "start_time": "2021-08-24T14:42:17.455411",
     "status": "completed"
    },
    "tags": []
   },
   "outputs": [],
   "source": [
    "columns = np.full((corr.shape[0],), True, dtype=bool)\n",
    "for i in range(corr.shape[0]):\n",
    "    for j in range(i+1, corr.shape[0]):\n",
    "        if corr.iloc[i,j] >= 0.9:\n",
    "            if columns[j]:\n",
    "                columns[j] = False\n",
    "selected_columns = df.columns[columns]\n",
    "df = df[selected_columns]"
   ]
  },
  {
   "cell_type": "markdown",
   "id": "5e9a90ce",
   "metadata": {
    "papermill": {
     "duration": 0.095236,
     "end_time": "2021-08-24T14:42:17.761217",
     "exception": false,
     "start_time": "2021-08-24T14:42:17.665981",
     "status": "completed"
    },
    "tags": []
   },
   "source": [
    "* Now, the dataset has only those columns with correlation less than 0.9\n",
    "* Next we will be selecting the columns based on how they affect the p-value. We are the removing the column diagnosis because it is the column we are trying to predict"
   ]
  },
  {
   "cell_type": "code",
   "execution_count": 89,
   "id": "742abea6",
   "metadata": {
    "execution": {
     "iopub.execute_input": "2021-08-24T14:42:17.970916Z",
     "iopub.status.busy": "2021-08-24T14:42:17.960167Z",
     "iopub.status.idle": "2021-08-24T14:42:18.035016Z",
     "shell.execute_reply": "2021-08-24T14:42:18.036089Z",
     "shell.execute_reply.started": "2021-08-24T14:21:09.470649Z"
    },
    "papermill": {
     "duration": 0.179881,
     "end_time": "2021-08-24T14:42:18.036419",
     "exception": false,
     "start_time": "2021-08-24T14:42:17.856538",
     "status": "completed"
    },
    "tags": []
   },
   "outputs": [],
   "source": [
    "selected_columns = selected_columns[1:].to_numpy()\n",
    "# importing the statsmodels\n",
    "import statsmodels.api as sm\n",
    "\n",
    "# defing the backward elimination\n",
    "\n",
    "def backwardElimination(x, Y, sl, columns):\n",
    "    numVars = len(x[0])\n",
    "    for i in range(0, numVars):\n",
    "        regressor_OLS = sm.OLS(Y, x).fit()\n",
    "        maxVar = max(regressor_OLS.pvalues).astype(float)\n",
    "        if maxVar > sl:\n",
    "            for j in range(0, numVars - i):\n",
    "                if (regressor_OLS.pvalues[j].astype(float) == maxVar):\n",
    "                    x = np.delete(x, j, 1)\n",
    "                    columns = np.delete(columns, j)\n",
    "                    \n",
    "    regressor_OLS.summary()\n",
    "    return x, columns\n",
    "\n",
    "SL = 0.05\n",
    "data_modeled, selected_columns = backwardElimination(df.iloc[:,1:].values, df.iloc[:,0].values, SL, selected_columns)"
   ]
  },
  {
   "cell_type": "code",
   "execution_count": null,
   "id": "fed82bde",
   "metadata": {
    "papermill": {
     "duration": 0.094357,
     "end_time": "2021-08-24T14:42:18.272649",
     "exception": false,
     "start_time": "2021-08-24T14:42:18.178292",
     "status": "completed"
    },
    "tags": []
   },
   "outputs": [],
   "source": []
  }
 ],
 "metadata": {
  "kernelspec": {
   "display_name": "Python 3",
   "language": "python",
   "name": "python3"
  },
  "language_info": {
   "codemirror_mode": {
    "name": "ipython",
    "version": 3
   },
   "file_extension": ".py",
   "mimetype": "text/x-python",
   "name": "python",
   "nbconvert_exporter": "python",
   "pygments_lexer": "ipython3",
   "version": "3.7.10"
  },
  "papermill": {
   "default_parameters": {},
   "duration": 42.96577,
   "end_time": "2021-08-24T14:42:20.351857",
   "environment_variables": {},
   "exception": null,
   "input_path": "__notebook__.ipynb",
   "output_path": "__notebook__.ipynb",
   "parameters": {},
   "start_time": "2021-08-24T14:41:37.386087",
   "version": "2.3.3"
  }
 },
 "nbformat": 4,
 "nbformat_minor": 5
}
