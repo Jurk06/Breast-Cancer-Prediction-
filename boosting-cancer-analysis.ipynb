{
 "cells": [
  {
   "cell_type": "code",
   "execution_count": 1,
   "id": "b1bd84ca",
   "metadata": {
    "_cell_guid": "b1076dfc-b9ad-4769-8c92-a6c4dae69d19",
    "_uuid": "8f2839f25d086af736a60e9eeb907d3b93b6e0e5",
    "execution": {
     "iopub.execute_input": "2021-08-29T10:54:39.519954Z",
     "iopub.status.busy": "2021-08-29T10:54:39.518858Z",
     "iopub.status.idle": "2021-08-29T10:54:39.540618Z",
     "shell.execute_reply": "2021-08-29T10:54:39.541210Z",
     "shell.execute_reply.started": "2021-08-29T10:17:21.460362Z"
    },
    "papermill": {
     "duration": 0.09228,
     "end_time": "2021-08-29T10:54:39.541590",
     "exception": false,
     "start_time": "2021-08-29T10:54:39.449310",
     "status": "completed"
    },
    "tags": []
   },
   "outputs": [
    {
     "name": "stdout",
     "output_type": "stream",
     "text": [
      "/kaggle/input/breast-cancer-wisconsin-data/data.csv\n"
     ]
    }
   ],
   "source": [
    "# This Python 3 environment comes with many helpful analytics libraries installed\n",
    "# It is defined by the kaggle/python Docker image: https://github.com/kaggle/docker-python\n",
    "# For example, here's several helpful packages to load\n",
    "\n",
    "import numpy as np # linear algebra\n",
    "import pandas as pd # data processing, CSV file I/O (e.g. pd.read_csv)\n",
    "\n",
    "# Input data files are available in the read-only \"../input/\" directory\n",
    "# For example, running this (by clicking run or pressing Shift+Enter) will list all files under the input directory\n",
    "\n",
    "import os\n",
    "for dirname, _, filenames in os.walk('/kaggle/input'):\n",
    "    for filename in filenames:\n",
    "        print(os.path.join(dirname, filename))\n",
    "\n",
    "# You can write up to 20GB to the current directory (/kaggle/working/) that gets preserved as output when you create a version using \"Save & Run All\" \n",
    "# You can also write temporary files to /kaggle/temp/, but they won't be saved outside of the current session"
   ]
  },
  {
   "cell_type": "code",
   "execution_count": 2,
   "id": "d55145b3",
   "metadata": {
    "execution": {
     "iopub.execute_input": "2021-08-29T10:54:39.631119Z",
     "iopub.status.busy": "2021-08-29T10:54:39.630410Z",
     "iopub.status.idle": "2021-08-29T10:54:44.577771Z",
     "shell.execute_reply": "2021-08-29T10:54:44.578319Z",
     "shell.execute_reply.started": "2021-08-29T10:17:21.488093Z"
    },
    "papermill": {
     "duration": 4.991675,
     "end_time": "2021-08-29T10:54:44.578596",
     "exception": false,
     "start_time": "2021-08-29T10:54:39.586921",
     "status": "completed"
    },
    "tags": []
   },
   "outputs": [
    {
     "data": {
      "text/html": [
       "        <script type=\"text/javascript\">\n",
       "        window.PlotlyConfig = {MathJaxConfig: 'local'};\n",
       "        if (window.MathJax) {MathJax.Hub.Config({SVG: {font: \"STIX-Web\"}});}\n",
       "        if (typeof require !== 'undefined') {\n",
       "        require.undef(\"plotly\");\n",
       "        requirejs.config({\n",
       "            paths: {\n",
       "                'plotly': ['https://cdn.plot.ly/plotly-2.2.0.min']\n",
       "            }\n",
       "        });\n",
       "        require(['plotly'], function(Plotly) {\n",
       "            window._Plotly = Plotly;\n",
       "        });\n",
       "        }\n",
       "        </script>\n",
       "        "
      ]
     },
     "metadata": {},
     "output_type": "display_data"
    }
   ],
   "source": [
    "import matplotlib.pyplot as plt\n",
    "import seaborn as sns\n",
    "\n",
    "from pandas import plotting\n",
    "\n",
    "#plotly \n",
    "import plotly.offline as py\n",
    "import plotly.graph_objects as go\n",
    "from plotly.offline import init_notebook_mode, iplot\n",
    "from plotly import tools\n",
    "init_notebook_mode(connected=True)\n",
    "import plotly.figure_factory as ff\n",
    "import plotly.express as px\n",
    "\n",
    "from sklearn.preprocessing import StandardScaler\n",
    "\n",
    "from sklearn.linear_model import LogisticRegression\n",
    "from sklearn import preprocessing\n",
    "from sklearn import neighbors\n",
    "from sklearn.metrics import confusion_matrix,classification_report,precision_score\n",
    "from sklearn.model_selection import train_test_split\n",
    "\n",
    "import statsmodels.api as sm\n",
    "import statsmodels.formula.api as smf\n",
    "\n",
    "\n",
    "plt.style.use('fivethirtyeight')"
   ]
  },
  {
   "cell_type": "code",
   "execution_count": 3,
   "id": "d6eef7bd",
   "metadata": {
    "execution": {
     "iopub.execute_input": "2021-08-29T10:54:44.669074Z",
     "iopub.status.busy": "2021-08-29T10:54:44.668344Z",
     "iopub.status.idle": "2021-08-29T10:54:44.730960Z",
     "shell.execute_reply": "2021-08-29T10:54:44.730436Z",
     "shell.execute_reply.started": "2021-08-29T10:17:24.215826Z"
    },
    "papermill": {
     "duration": 0.109377,
     "end_time": "2021-08-29T10:54:44.731106",
     "exception": false,
     "start_time": "2021-08-29T10:54:44.621729",
     "status": "completed"
    },
    "tags": []
   },
   "outputs": [
    {
     "data": {
      "text/html": [
       "<div>\n",
       "<style scoped>\n",
       "    .dataframe tbody tr th:only-of-type {\n",
       "        vertical-align: middle;\n",
       "    }\n",
       "\n",
       "    .dataframe tbody tr th {\n",
       "        vertical-align: top;\n",
       "    }\n",
       "\n",
       "    .dataframe thead th {\n",
       "        text-align: right;\n",
       "    }\n",
       "</style>\n",
       "<table border=\"1\" class=\"dataframe\">\n",
       "  <thead>\n",
       "    <tr style=\"text-align: right;\">\n",
       "      <th></th>\n",
       "      <th>id</th>\n",
       "      <th>diagnosis</th>\n",
       "      <th>radius_mean</th>\n",
       "      <th>texture_mean</th>\n",
       "      <th>perimeter_mean</th>\n",
       "      <th>area_mean</th>\n",
       "      <th>smoothness_mean</th>\n",
       "      <th>compactness_mean</th>\n",
       "      <th>concavity_mean</th>\n",
       "      <th>concave points_mean</th>\n",
       "      <th>...</th>\n",
       "      <th>texture_worst</th>\n",
       "      <th>perimeter_worst</th>\n",
       "      <th>area_worst</th>\n",
       "      <th>smoothness_worst</th>\n",
       "      <th>compactness_worst</th>\n",
       "      <th>concavity_worst</th>\n",
       "      <th>concave points_worst</th>\n",
       "      <th>symmetry_worst</th>\n",
       "      <th>fractal_dimension_worst</th>\n",
       "      <th>Unnamed: 32</th>\n",
       "    </tr>\n",
       "  </thead>\n",
       "  <tbody>\n",
       "    <tr>\n",
       "      <th>0</th>\n",
       "      <td>842302</td>\n",
       "      <td>M</td>\n",
       "      <td>17.99</td>\n",
       "      <td>10.38</td>\n",
       "      <td>122.80</td>\n",
       "      <td>1001.0</td>\n",
       "      <td>0.11840</td>\n",
       "      <td>0.27760</td>\n",
       "      <td>0.3001</td>\n",
       "      <td>0.14710</td>\n",
       "      <td>...</td>\n",
       "      <td>17.33</td>\n",
       "      <td>184.60</td>\n",
       "      <td>2019.0</td>\n",
       "      <td>0.1622</td>\n",
       "      <td>0.6656</td>\n",
       "      <td>0.7119</td>\n",
       "      <td>0.2654</td>\n",
       "      <td>0.4601</td>\n",
       "      <td>0.11890</td>\n",
       "      <td>NaN</td>\n",
       "    </tr>\n",
       "    <tr>\n",
       "      <th>1</th>\n",
       "      <td>842517</td>\n",
       "      <td>M</td>\n",
       "      <td>20.57</td>\n",
       "      <td>17.77</td>\n",
       "      <td>132.90</td>\n",
       "      <td>1326.0</td>\n",
       "      <td>0.08474</td>\n",
       "      <td>0.07864</td>\n",
       "      <td>0.0869</td>\n",
       "      <td>0.07017</td>\n",
       "      <td>...</td>\n",
       "      <td>23.41</td>\n",
       "      <td>158.80</td>\n",
       "      <td>1956.0</td>\n",
       "      <td>0.1238</td>\n",
       "      <td>0.1866</td>\n",
       "      <td>0.2416</td>\n",
       "      <td>0.1860</td>\n",
       "      <td>0.2750</td>\n",
       "      <td>0.08902</td>\n",
       "      <td>NaN</td>\n",
       "    </tr>\n",
       "    <tr>\n",
       "      <th>2</th>\n",
       "      <td>84300903</td>\n",
       "      <td>M</td>\n",
       "      <td>19.69</td>\n",
       "      <td>21.25</td>\n",
       "      <td>130.00</td>\n",
       "      <td>1203.0</td>\n",
       "      <td>0.10960</td>\n",
       "      <td>0.15990</td>\n",
       "      <td>0.1974</td>\n",
       "      <td>0.12790</td>\n",
       "      <td>...</td>\n",
       "      <td>25.53</td>\n",
       "      <td>152.50</td>\n",
       "      <td>1709.0</td>\n",
       "      <td>0.1444</td>\n",
       "      <td>0.4245</td>\n",
       "      <td>0.4504</td>\n",
       "      <td>0.2430</td>\n",
       "      <td>0.3613</td>\n",
       "      <td>0.08758</td>\n",
       "      <td>NaN</td>\n",
       "    </tr>\n",
       "    <tr>\n",
       "      <th>3</th>\n",
       "      <td>84348301</td>\n",
       "      <td>M</td>\n",
       "      <td>11.42</td>\n",
       "      <td>20.38</td>\n",
       "      <td>77.58</td>\n",
       "      <td>386.1</td>\n",
       "      <td>0.14250</td>\n",
       "      <td>0.28390</td>\n",
       "      <td>0.2414</td>\n",
       "      <td>0.10520</td>\n",
       "      <td>...</td>\n",
       "      <td>26.50</td>\n",
       "      <td>98.87</td>\n",
       "      <td>567.7</td>\n",
       "      <td>0.2098</td>\n",
       "      <td>0.8663</td>\n",
       "      <td>0.6869</td>\n",
       "      <td>0.2575</td>\n",
       "      <td>0.6638</td>\n",
       "      <td>0.17300</td>\n",
       "      <td>NaN</td>\n",
       "    </tr>\n",
       "    <tr>\n",
       "      <th>4</th>\n",
       "      <td>84358402</td>\n",
       "      <td>M</td>\n",
       "      <td>20.29</td>\n",
       "      <td>14.34</td>\n",
       "      <td>135.10</td>\n",
       "      <td>1297.0</td>\n",
       "      <td>0.10030</td>\n",
       "      <td>0.13280</td>\n",
       "      <td>0.1980</td>\n",
       "      <td>0.10430</td>\n",
       "      <td>...</td>\n",
       "      <td>16.67</td>\n",
       "      <td>152.20</td>\n",
       "      <td>1575.0</td>\n",
       "      <td>0.1374</td>\n",
       "      <td>0.2050</td>\n",
       "      <td>0.4000</td>\n",
       "      <td>0.1625</td>\n",
       "      <td>0.2364</td>\n",
       "      <td>0.07678</td>\n",
       "      <td>NaN</td>\n",
       "    </tr>\n",
       "  </tbody>\n",
       "</table>\n",
       "<p>5 rows × 33 columns</p>\n",
       "</div>"
      ],
      "text/plain": [
       "         id diagnosis  radius_mean  texture_mean  perimeter_mean  area_mean  \\\n",
       "0    842302         M        17.99         10.38          122.80     1001.0   \n",
       "1    842517         M        20.57         17.77          132.90     1326.0   \n",
       "2  84300903         M        19.69         21.25          130.00     1203.0   \n",
       "3  84348301         M        11.42         20.38           77.58      386.1   \n",
       "4  84358402         M        20.29         14.34          135.10     1297.0   \n",
       "\n",
       "   smoothness_mean  compactness_mean  concavity_mean  concave points_mean  \\\n",
       "0          0.11840           0.27760          0.3001              0.14710   \n",
       "1          0.08474           0.07864          0.0869              0.07017   \n",
       "2          0.10960           0.15990          0.1974              0.12790   \n",
       "3          0.14250           0.28390          0.2414              0.10520   \n",
       "4          0.10030           0.13280          0.1980              0.10430   \n",
       "\n",
       "   ...  texture_worst  perimeter_worst  area_worst  smoothness_worst  \\\n",
       "0  ...          17.33           184.60      2019.0            0.1622   \n",
       "1  ...          23.41           158.80      1956.0            0.1238   \n",
       "2  ...          25.53           152.50      1709.0            0.1444   \n",
       "3  ...          26.50            98.87       567.7            0.2098   \n",
       "4  ...          16.67           152.20      1575.0            0.1374   \n",
       "\n",
       "   compactness_worst  concavity_worst  concave points_worst  symmetry_worst  \\\n",
       "0             0.6656           0.7119                0.2654          0.4601   \n",
       "1             0.1866           0.2416                0.1860          0.2750   \n",
       "2             0.4245           0.4504                0.2430          0.3613   \n",
       "3             0.8663           0.6869                0.2575          0.6638   \n",
       "4             0.2050           0.4000                0.1625          0.2364   \n",
       "\n",
       "   fractal_dimension_worst  Unnamed: 32  \n",
       "0                  0.11890          NaN  \n",
       "1                  0.08902          NaN  \n",
       "2                  0.08758          NaN  \n",
       "3                  0.17300          NaN  \n",
       "4                  0.07678          NaN  \n",
       "\n",
       "[5 rows x 33 columns]"
      ]
     },
     "execution_count": 3,
     "metadata": {},
     "output_type": "execute_result"
    }
   ],
   "source": [
    "df=pd.read_csv('../input/breast-cancer-wisconsin-data/data.csv')\n",
    "df.head()"
   ]
  },
  {
   "cell_type": "code",
   "execution_count": 4,
   "id": "3ace194b",
   "metadata": {
    "execution": {
     "iopub.execute_input": "2021-08-29T10:54:44.826338Z",
     "iopub.status.busy": "2021-08-29T10:54:44.825344Z",
     "iopub.status.idle": "2021-08-29T10:54:44.828387Z",
     "shell.execute_reply": "2021-08-29T10:54:44.827822Z",
     "shell.execute_reply.started": "2021-08-29T10:17:24.288061Z"
    },
    "papermill": {
     "duration": 0.055332,
     "end_time": "2021-08-29T10:54:44.828553",
     "exception": false,
     "start_time": "2021-08-29T10:54:44.773221",
     "status": "completed"
    },
    "tags": []
   },
   "outputs": [],
   "source": [
    "df=df.drop('Unnamed: 32', axis=1)\n"
   ]
  },
  {
   "cell_type": "code",
   "execution_count": 5,
   "id": "fca1f175",
   "metadata": {
    "execution": {
     "iopub.execute_input": "2021-08-29T10:54:44.917055Z",
     "iopub.status.busy": "2021-08-29T10:54:44.916355Z",
     "iopub.status.idle": "2021-08-29T10:54:44.921991Z",
     "shell.execute_reply": "2021-08-29T10:54:44.922585Z",
     "shell.execute_reply.started": "2021-08-29T10:17:24.297150Z"
    },
    "papermill": {
     "duration": 0.050963,
     "end_time": "2021-08-29T10:54:44.922763",
     "exception": false,
     "start_time": "2021-08-29T10:54:44.871800",
     "status": "completed"
    },
    "tags": []
   },
   "outputs": [],
   "source": [
    "diagnosis={'M':1, 'B':0}\n",
    "df['diagnosis']=[diagnosis[x] for x in df['diagnosis']]"
   ]
  },
  {
   "cell_type": "code",
   "execution_count": 6,
   "id": "a2f8f5d5",
   "metadata": {
    "execution": {
     "iopub.execute_input": "2021-08-29T10:54:45.008729Z",
     "iopub.status.busy": "2021-08-29T10:54:45.008020Z",
     "iopub.status.idle": "2021-08-29T10:54:45.012722Z",
     "shell.execute_reply": "2021-08-29T10:54:45.013297Z",
     "shell.execute_reply.started": "2021-08-29T10:17:24.313695Z"
    },
    "papermill": {
     "duration": 0.04962,
     "end_time": "2021-08-29T10:54:45.013503",
     "exception": false,
     "start_time": "2021-08-29T10:54:44.963883",
     "status": "completed"
    },
    "tags": []
   },
   "outputs": [],
   "source": [
    "col=['radius_mean', 'texture_mean', 'perimeter_mean',\n",
    "        'smoothness_mean', \n",
    "        'symmetry_mean', 'fractal_dimension_mean',\n",
    "       'radius_se', 'texture_se', 'perimeter_se', 'smoothness_se',\n",
    "        'concavity_se', 'concave points_se', 'symmetry_se',\n",
    "       'fractal_dimension_se', 'radius_worst', 'texture_worst',\n",
    "       'perimeter_worst', 'area_worst', 'smoothness_worst',\n",
    "        'concavity_worst', 'concave points_worst',\n",
    "       'symmetry_worst', 'fractal_dimension_worst']"
   ]
  },
  {
   "cell_type": "code",
   "execution_count": 7,
   "id": "fceaf4d8",
   "metadata": {
    "execution": {
     "iopub.execute_input": "2021-08-29T10:54:45.099814Z",
     "iopub.status.busy": "2021-08-29T10:54:45.099137Z",
     "iopub.status.idle": "2021-08-29T10:54:45.107072Z",
     "shell.execute_reply": "2021-08-29T10:54:45.107630Z",
     "shell.execute_reply.started": "2021-08-29T10:17:24.323680Z"
    },
    "papermill": {
     "duration": 0.052514,
     "end_time": "2021-08-29T10:54:45.107819",
     "exception": false,
     "start_time": "2021-08-29T10:54:45.055305",
     "status": "completed"
    },
    "tags": []
   },
   "outputs": [],
   "source": [
    "X=df.drop(col, axis=1)\n",
    "y=df['diagnosis']\n",
    "X_train, x_test, y_train, y_test=train_test_split(X, y, test_size=0.3, random_state=10)"
   ]
  },
  {
   "cell_type": "markdown",
   "id": "7353f0f0",
   "metadata": {
    "papermill": {
     "duration": 0.040687,
     "end_time": "2021-08-29T10:54:45.189642",
     "exception": false,
     "start_time": "2021-08-29T10:54:45.148955",
     "status": "completed"
    },
    "tags": []
   },
   "source": [
    "# Build the AdaBoost model "
   ]
  },
  {
   "cell_type": "code",
   "execution_count": 8,
   "id": "71611f03",
   "metadata": {
    "execution": {
     "iopub.execute_input": "2021-08-29T10:54:45.275219Z",
     "iopub.status.busy": "2021-08-29T10:54:45.274535Z",
     "iopub.status.idle": "2021-08-29T10:54:45.278662Z",
     "shell.execute_reply": "2021-08-29T10:54:45.279161Z",
     "shell.execute_reply.started": "2021-08-29T10:17:24.344735Z"
    },
    "papermill": {
     "duration": 0.048658,
     "end_time": "2021-08-29T10:54:45.279343",
     "exception": false,
     "start_time": "2021-08-29T10:54:45.230685",
     "status": "completed"
    },
    "tags": []
   },
   "outputs": [],
   "source": [
    "from sklearn import metrics\n",
    "from sklearn.metrics import classification_report, confusion_matrix,ConfusionMatrixDisplay\n",
    "import statsmodels.api as sm\n",
    "import statsmodels.formula.api as smf"
   ]
  },
  {
   "cell_type": "code",
   "execution_count": 9,
   "id": "103b98c6",
   "metadata": {
    "execution": {
     "iopub.execute_input": "2021-08-29T10:54:45.367055Z",
     "iopub.status.busy": "2021-08-29T10:54:45.366414Z",
     "iopub.status.idle": "2021-08-29T10:54:45.440770Z",
     "shell.execute_reply": "2021-08-29T10:54:45.439851Z",
     "shell.execute_reply.started": "2021-08-29T10:17:24.353104Z"
    },
    "papermill": {
     "duration": 0.120068,
     "end_time": "2021-08-29T10:54:45.440918",
     "exception": false,
     "start_time": "2021-08-29T10:54:45.320850",
     "status": "completed"
    },
    "tags": []
   },
   "outputs": [],
   "source": [
    "# Import the AdaBoost classifier\n",
    "from sklearn.ensemble import AdaBoostClassifier\n",
    "\n",
    "\n",
    "# Create adaboost classifer object\n",
    "abc = AdaBoostClassifier(n_estimators=50, learning_rate=1, random_state=0)\n",
    "\n",
    "# Train Adaboost Classifer\n",
    "model1 = abc.fit(X_train, y_train)\n",
    "\n",
    "\n",
    "#Predict the response for test dataset\n",
    "y_pred = model1.predict(X_train)"
   ]
  },
  {
   "cell_type": "code",
   "execution_count": 10,
   "id": "2873ca2b",
   "metadata": {
    "execution": {
     "iopub.execute_input": "2021-08-29T10:54:45.531481Z",
     "iopub.status.busy": "2021-08-29T10:54:45.530664Z",
     "iopub.status.idle": "2021-08-29T10:54:45.534341Z",
     "shell.execute_reply": "2021-08-29T10:54:45.533807Z",
     "shell.execute_reply.started": "2021-08-29T10:17:24.398296Z"
    },
    "papermill": {
     "duration": 0.052427,
     "end_time": "2021-08-29T10:54:45.534501",
     "exception": false,
     "start_time": "2021-08-29T10:54:45.482074",
     "status": "completed"
    },
    "tags": []
   },
   "outputs": [],
   "source": [
    "y_pred=model1.predict(X_train)\n"
   ]
  },
  {
   "cell_type": "code",
   "execution_count": 11,
   "id": "c80f51f4",
   "metadata": {
    "execution": {
     "iopub.execute_input": "2021-08-29T10:54:45.628288Z",
     "iopub.status.busy": "2021-08-29T10:54:45.627146Z",
     "iopub.status.idle": "2021-08-29T10:54:45.644599Z",
     "shell.execute_reply": "2021-08-29T10:54:45.643901Z",
     "shell.execute_reply.started": "2021-08-29T10:17:24.408686Z"
    },
    "papermill": {
     "duration": 0.068005,
     "end_time": "2021-08-29T10:54:45.644754",
     "exception": false,
     "start_time": "2021-08-29T10:54:45.576749",
     "status": "completed"
    },
    "tags": []
   },
   "outputs": [
    {
     "name": "stdout",
     "output_type": "stream",
     "text": [
      "Accuracy Score:- 1.0\n",
      "F1 Score:- 1.0\n",
      "Average Precision Score:- 1.0\n",
      "Log Loss:- 9.992007221626413e-16\n",
      "Precision Score:- 1.0\n",
      "Recall Score:- 1.0\n",
      "ROC-AUC Score:- 1.0\n"
     ]
    }
   ],
   "source": [
    "print(\"Accuracy Score:-\", metrics.accuracy_score(y_train, y_pred))\n",
    "print(\"F1 Score:-\", metrics.f1_score(y_train, y_pred))\n",
    "print(\"Average Precision Score:-\", metrics.average_precision_score(y_train, y_pred))\n",
    "print(\"Log Loss:-\", metrics.log_loss(y_train, y_pred))\n",
    "print(\"Precision Score:-\", metrics.precision_score(y_train, y_pred))\n",
    "print(\"Recall Score:-\", metrics.recall_score(y_train, y_pred))\n",
    "print(\"ROC-AUC Score:-\", metrics.roc_auc_score(y_train, y_pred))"
   ]
  },
  {
   "cell_type": "code",
   "execution_count": 12,
   "id": "2b73f072",
   "metadata": {
    "execution": {
     "iopub.execute_input": "2021-08-29T10:54:45.735264Z",
     "iopub.status.busy": "2021-08-29T10:54:45.734578Z",
     "iopub.status.idle": "2021-08-29T10:54:45.737364Z",
     "shell.execute_reply": "2021-08-29T10:54:45.736719Z",
     "shell.execute_reply.started": "2021-08-29T10:17:24.442013Z"
    },
    "papermill": {
     "duration": 0.051374,
     "end_time": "2021-08-29T10:54:45.737531",
     "exception": false,
     "start_time": "2021-08-29T10:54:45.686157",
     "status": "completed"
    },
    "tags": []
   },
   "outputs": [],
   "source": [
    "y_test_pred=model1.predict(x_test)\n"
   ]
  },
  {
   "cell_type": "code",
   "execution_count": 13,
   "id": "e38a2963",
   "metadata": {
    "execution": {
     "iopub.execute_input": "2021-08-29T10:54:45.831645Z",
     "iopub.status.busy": "2021-08-29T10:54:45.830383Z",
     "iopub.status.idle": "2021-08-29T10:54:45.844707Z",
     "shell.execute_reply": "2021-08-29T10:54:45.844073Z",
     "shell.execute_reply.started": "2021-08-29T10:17:24.456534Z"
    },
    "papermill": {
     "duration": 0.065354,
     "end_time": "2021-08-29T10:54:45.844858",
     "exception": false,
     "start_time": "2021-08-29T10:54:45.779504",
     "status": "completed"
    },
    "tags": []
   },
   "outputs": [
    {
     "name": "stdout",
     "output_type": "stream",
     "text": [
      "Accuracy Score:- 1.0\n",
      "F1 Score:- 1.0\n",
      "Average Precision Score:- 1.0\n",
      "Log Loss:- 9.992007221626413e-16\n",
      "Precision Score:- 1.0\n",
      "Recall Score:- 1.0\n",
      "ROC-AUC Score:- 1.0\n"
     ]
    }
   ],
   "source": [
    "ada_acc=metrics.accuracy_score(y_test, y_test_pred)\n",
    "print(\"Accuracy Score:-\",ada_acc)\n",
    "print(\"F1 Score:-\", metrics.f1_score(y_test, y_test_pred))\n",
    "print(\"Average Precision Score:-\", metrics.average_precision_score(y_test, y_test_pred))\n",
    "print(\"Log Loss:-\", metrics.log_loss(y_test, y_test_pred))\n",
    "print(\"Precision Score:-\", metrics.precision_score(y_test, y_test_pred))\n",
    "print(\"Recall Score:-\", metrics.recall_score(y_test, y_test_pred))\n",
    "print(\"ROC-AUC Score:-\", metrics.roc_auc_score(y_test, y_test_pred))"
   ]
  },
  {
   "cell_type": "code",
   "execution_count": 14,
   "id": "1d5ea238",
   "metadata": {
    "execution": {
     "iopub.execute_input": "2021-08-29T10:54:45.947017Z",
     "iopub.status.busy": "2021-08-29T10:54:45.934757Z",
     "iopub.status.idle": "2021-08-29T10:54:46.178527Z",
     "shell.execute_reply": "2021-08-29T10:54:46.177867Z",
     "shell.execute_reply.started": "2021-08-29T10:17:24.485661Z"
    },
    "papermill": {
     "duration": 0.291225,
     "end_time": "2021-08-29T10:54:46.178705",
     "exception": false,
     "start_time": "2021-08-29T10:54:45.887480",
     "status": "completed"
    },
    "tags": []
   },
   "outputs": [
    {
     "data": {
      "text/plain": [
       "<sklearn.metrics._plot.confusion_matrix.ConfusionMatrixDisplay at 0x7fab325e96d0>"
      ]
     },
     "execution_count": 14,
     "metadata": {},
     "output_type": "execute_result"
    },
    {
     "data": {
      "image/png": "[encoded data removed]",
      "text/plain": [
       "<Figure size 432x288 with 2 Axes>"
      ]
     },
     "metadata": {},
     "output_type": "display_data"
    }
   ],
   "source": [
    "cfm=confusion_matrix(y_test, y_test_pred)\n",
    "disp = ConfusionMatrixDisplay(confusion_matrix=cfm,\n",
    "                               display_labels=model1.classes_)\n",
    "disp.plot()"
   ]
  },
  {
   "cell_type": "code",
   "execution_count": 15,
   "id": "bcba7993",
   "metadata": {
    "execution": {
     "iopub.execute_input": "2021-08-29T10:54:46.274864Z",
     "iopub.status.busy": "2021-08-29T10:54:46.273992Z",
     "iopub.status.idle": "2021-08-29T10:54:46.371151Z",
     "shell.execute_reply": "2021-08-29T10:54:46.371740Z",
     "shell.execute_reply.started": "2021-08-29T10:17:24.824703Z"
    },
    "papermill": {
     "duration": 0.148363,
     "end_time": "2021-08-29T10:54:46.371935",
     "exception": false,
     "start_time": "2021-08-29T10:54:46.223572",
     "status": "completed"
    },
    "tags": []
   },
   "outputs": [
    {
     "name": "stdout",
     "output_type": "stream",
     "text": [
      "[1. 1. 1. 1. 1. 1. 1. 1. 1. 1.]\n",
      "-------------------\n",
      "1.0\n"
     ]
    }
   ],
   "source": [
    "from sklearn.model_selection import cross_val_score    \n",
    "scores = cross_val_score(model1, X, y, cv=10, scoring='accuracy') #cv is cross validation\n",
    "print(scores)\n",
    "print(\"-------------------\")\n",
    "print(scores.mean())"
   ]
  },
  {
   "cell_type": "code",
   "execution_count": 16,
   "id": "8be58365",
   "metadata": {
    "execution": {
     "iopub.execute_input": "2021-08-29T10:54:46.466340Z",
     "iopub.status.busy": "2021-08-29T10:54:46.465188Z",
     "iopub.status.idle": "2021-08-29T10:54:46.475376Z",
     "shell.execute_reply": "2021-08-29T10:54:46.474672Z",
     "shell.execute_reply.started": "2021-08-29T10:17:24.963261Z"
    },
    "papermill": {
     "duration": 0.059543,
     "end_time": "2021-08-29T10:54:46.475553",
     "exception": false,
     "start_time": "2021-08-29T10:54:46.416010",
     "status": "completed"
    },
    "tags": []
   },
   "outputs": [
    {
     "name": "stdout",
     "output_type": "stream",
     "text": [
      "              precision    recall  f1-score   support\n",
      "\n",
      "           0       1.00      1.00      1.00       112\n",
      "           1       1.00      1.00      1.00        59\n",
      "\n",
      "    accuracy                           1.00       171\n",
      "   macro avg       1.00      1.00      1.00       171\n",
      "weighted avg       1.00      1.00      1.00       171\n",
      "\n"
     ]
    }
   ],
   "source": [
    "from sklearn.metrics import classification_report\n",
    "print(classification_report(y_test, y_test_pred))"
   ]
  },
  {
   "cell_type": "code",
   "execution_count": 17,
   "id": "ed605170",
   "metadata": {
    "execution": {
     "iopub.execute_input": "2021-08-29T10:54:46.574847Z",
     "iopub.status.busy": "2021-08-29T10:54:46.573810Z",
     "iopub.status.idle": "2021-08-29T10:54:46.580505Z",
     "shell.execute_reply": "2021-08-29T10:54:46.579978Z",
     "shell.execute_reply.started": "2021-08-29T10:17:24.978828Z"
    },
    "papermill": {
     "duration": 0.060627,
     "end_time": "2021-08-29T10:54:46.580653",
     "exception": false,
     "start_time": "2021-08-29T10:54:46.520026",
     "status": "completed"
    },
    "tags": []
   },
   "outputs": [
    {
     "data": {
      "text/plain": [
       "1.0"
      ]
     },
     "execution_count": 17,
     "metadata": {},
     "output_type": "execute_result"
    }
   ],
   "source": [
    "y_test_pred_prob=model1.predict_proba(x_test)[:,1]\n",
    "y_test_pred_prob\n",
    "\n",
    "from sklearn.metrics import roc_curve\n",
    "metrics.roc_auc_score(y_test, y_test_pred_prob)"
   ]
  },
  {
   "cell_type": "code",
   "execution_count": 18,
   "id": "ff55a835",
   "metadata": {
    "execution": {
     "iopub.execute_input": "2021-08-29T10:54:46.696139Z",
     "iopub.status.busy": "2021-08-29T10:54:46.695074Z",
     "iopub.status.idle": "2021-08-29T10:54:46.856552Z",
     "shell.execute_reply": "2021-08-29T10:54:46.857063Z",
     "shell.execute_reply.started": "2021-08-29T10:17:25.000925Z"
    },
    "papermill": {
     "duration": 0.231313,
     "end_time": "2021-08-29T10:54:46.857249",
     "exception": false,
     "start_time": "2021-08-29T10:54:46.625936",
     "status": "completed"
    },
    "tags": []
   },
   "outputs": [
    {
     "data": {
      "image/png": "[encoded data removed]",
      "text/plain": [
       "<Figure size 720x720 with 1 Axes>"
      ]
     },
     "metadata": {},
     "output_type": "display_data"
    }
   ],
   "source": [
    "fpr, tpr,thresholds=roc_curve(y_test,y_test_pred_prob)\n",
    "plt.figure(figsize=(10,10))\n",
    "plt.plot([0,1],[0,1],'k--')\n",
    "plt.plot(fpr, tpr, label='Logistic Regression')\n",
    "plt.xlabel(\"fpr (False Possitive rate)\")\n",
    "plt.ylabel(\"tpr-(True Positive rate)\")\n",
    "plt.title(\"ROC_AUC\")\n",
    "plt.show()"
   ]
  },
  {
   "cell_type": "code",
   "execution_count": 19,
   "id": "b334ccd9",
   "metadata": {
    "execution": {
     "iopub.execute_input": "2021-08-29T10:54:46.957915Z",
     "iopub.status.busy": "2021-08-29T10:54:46.956950Z",
     "iopub.status.idle": "2021-08-29T10:54:47.288687Z",
     "shell.execute_reply": "2021-08-29T10:54:47.288038Z",
     "shell.execute_reply.started": "2021-08-29T10:17:25.284992Z"
    },
    "papermill": {
     "duration": 0.384849,
     "end_time": "2021-08-29T10:54:47.288836",
     "exception": false,
     "start_time": "2021-08-29T10:54:46.903987",
     "status": "completed"
    },
    "tags": []
   },
   "outputs": [
    {
     "data": {
      "image/png": "[encoded data removed]",
      "text/plain": [
       "<Figure size 720x576 with 1 Axes>"
      ]
     },
     "metadata": {},
     "output_type": "display_data"
    }
   ],
   "source": [
    "from sklearn.metrics import precision_recall_curve\n",
    "no_skill=len(y==1)/len(y)\n",
    "y_test_prob=model1.predict_proba(x_test)[:,1]\n",
    "plt.figure(figsize=(10,8))\n",
    "plt.plot([0,1],[no_skill, no_skill], label=\"No Skill\")\n",
    "precision, recall,_ =precision_recall_curve(y_test, y_test_prob)\n",
    "plt.plot(recall, precision, marker='',label=\"Addaboost\")\n",
    "plt.xlabel(\"Recall\")\n",
    "plt.ylabel(\"Precision\")\n",
    "plt.title(\"Recall-Precision Curve\")\n",
    "plt.legend()\n",
    "plt.show()"
   ]
  },
  {
   "cell_type": "markdown",
   "id": "95ed81cf",
   "metadata": {
    "papermill": {
     "duration": 0.046742,
     "end_time": "2021-08-29T10:54:47.382394",
     "exception": false,
     "start_time": "2021-08-29T10:54:47.335652",
     "status": "completed"
    },
    "tags": []
   },
   "source": [
    "# XGBoost"
   ]
  },
  {
   "cell_type": "code",
   "execution_count": 20,
   "id": "ad42ceba",
   "metadata": {
    "execution": {
     "iopub.execute_input": "2021-08-29T10:54:47.486574Z",
     "iopub.status.busy": "2021-08-29T10:54:47.485572Z",
     "iopub.status.idle": "2021-08-29T10:54:47.488583Z",
     "shell.execute_reply": "2021-08-29T10:54:47.487937Z",
     "shell.execute_reply.started": "2021-08-29T10:17:25.756772Z"
    },
    "papermill": {
     "duration": 0.058627,
     "end_time": "2021-08-29T10:54:47.488737",
     "exception": false,
     "start_time": "2021-08-29T10:54:47.430110",
     "status": "completed"
    },
    "tags": []
   },
   "outputs": [],
   "source": [
    "from sklearn.ensemble import GradientBoostingClassifier\n"
   ]
  },
  {
   "cell_type": "code",
   "execution_count": 21,
   "id": "dce900dd",
   "metadata": {
    "execution": {
     "iopub.execute_input": "2021-08-29T10:54:47.587570Z",
     "iopub.status.busy": "2021-08-29T10:54:47.586861Z",
     "iopub.status.idle": "2021-08-29T10:54:47.591259Z",
     "shell.execute_reply": "2021-08-29T10:54:47.590709Z",
     "shell.execute_reply.started": "2021-08-29T10:19:17.921873Z"
    },
    "papermill": {
     "duration": 0.055612,
     "end_time": "2021-08-29T10:54:47.591404",
     "exception": false,
     "start_time": "2021-08-29T10:54:47.535792",
     "status": "completed"
    },
    "tags": []
   },
   "outputs": [],
   "source": [
    "model1=GradientBoostingClassifier(n_estimators=100, learning_rate=1.0, max_depth=1)"
   ]
  },
  {
   "cell_type": "code",
   "execution_count": 22,
   "id": "c7cc440f",
   "metadata": {
    "execution": {
     "iopub.execute_input": "2021-08-29T10:54:47.694878Z",
     "iopub.status.busy": "2021-08-29T10:54:47.694103Z",
     "iopub.status.idle": "2021-08-29T10:54:47.777210Z",
     "shell.execute_reply": "2021-08-29T10:54:47.776601Z",
     "shell.execute_reply.started": "2021-08-29T10:19:35.275330Z"
    },
    "papermill": {
     "duration": 0.137667,
     "end_time": "2021-08-29T10:54:47.777367",
     "exception": false,
     "start_time": "2021-08-29T10:54:47.639700",
     "status": "completed"
    },
    "tags": []
   },
   "outputs": [
    {
     "data": {
      "text/plain": [
       "GradientBoostingClassifier(learning_rate=1.0, max_depth=1)"
      ]
     },
     "execution_count": 22,
     "metadata": {},
     "output_type": "execute_result"
    }
   ],
   "source": [
    "model1.fit(X_train, y_train)"
   ]
  },
  {
   "cell_type": "code",
   "execution_count": 23,
   "id": "16899e95",
   "metadata": {
    "execution": {
     "iopub.execute_input": "2021-08-29T10:54:47.881896Z",
     "iopub.status.busy": "2021-08-29T10:54:47.880815Z",
     "iopub.status.idle": "2021-08-29T10:54:47.883288Z",
     "shell.execute_reply": "2021-08-29T10:54:47.883795Z",
     "shell.execute_reply.started": "2021-08-29T10:19:51.376876Z"
    },
    "papermill": {
     "duration": 0.058448,
     "end_time": "2021-08-29T10:54:47.883963",
     "exception": false,
     "start_time": "2021-08-29T10:54:47.825515",
     "status": "completed"
    },
    "tags": []
   },
   "outputs": [],
   "source": [
    "y_pred=model1.predict(X_train)\n"
   ]
  },
  {
   "cell_type": "code",
   "execution_count": 24,
   "id": "44825892",
   "metadata": {
    "execution": {
     "iopub.execute_input": "2021-08-29T10:54:47.982273Z",
     "iopub.status.busy": "2021-08-29T10:54:47.981284Z",
     "iopub.status.idle": "2021-08-29T10:54:47.999135Z",
     "shell.execute_reply": "2021-08-29T10:54:48.000123Z",
     "shell.execute_reply.started": "2021-08-29T10:20:01.442152Z"
    },
    "papermill": {
     "duration": 0.069054,
     "end_time": "2021-08-29T10:54:48.000390",
     "exception": false,
     "start_time": "2021-08-29T10:54:47.931336",
     "status": "completed"
    },
    "tags": []
   },
   "outputs": [
    {
     "name": "stdout",
     "output_type": "stream",
     "text": [
      "Accuracy Score:- 1.0\n",
      "F1 Score:- 1.0\n",
      "Average Precision Score:- 1.0\n",
      "Log Loss:- 9.992007221626413e-16\n",
      "Precision Score:- 1.0\n",
      "Recall Score:- 1.0\n",
      "ROC-AUC Score:- 1.0\n"
     ]
    }
   ],
   "source": [
    "print(\"Accuracy Score:-\", metrics.accuracy_score(y_train, y_pred))\n",
    "print(\"F1 Score:-\", metrics.f1_score(y_train, y_pred))\n",
    "print(\"Average Precision Score:-\", metrics.average_precision_score(y_train, y_pred))\n",
    "print(\"Log Loss:-\", metrics.log_loss(y_train, y_pred))\n",
    "print(\"Precision Score:-\", metrics.precision_score(y_train, y_pred))\n",
    "print(\"Recall Score:-\", metrics.recall_score(y_train, y_pred))\n",
    "print(\"ROC-AUC Score:-\", metrics.roc_auc_score(y_train, y_pred))"
   ]
  },
  {
   "cell_type": "code",
   "execution_count": 25,
   "id": "b0cadf16",
   "metadata": {
    "execution": {
     "iopub.execute_input": "2021-08-29T10:54:48.100865Z",
     "iopub.status.busy": "2021-08-29T10:54:48.100123Z",
     "iopub.status.idle": "2021-08-29T10:54:48.106370Z",
     "shell.execute_reply": "2021-08-29T10:54:48.107012Z",
     "shell.execute_reply.started": "2021-08-29T10:20:16.749886Z"
    },
    "papermill": {
     "duration": 0.057403,
     "end_time": "2021-08-29T10:54:48.107198",
     "exception": false,
     "start_time": "2021-08-29T10:54:48.049795",
     "status": "completed"
    },
    "tags": []
   },
   "outputs": [],
   "source": [
    "y_test_pred=model1.predict(x_test)\n"
   ]
  },
  {
   "cell_type": "code",
   "execution_count": 26,
   "id": "a104fbd4",
   "metadata": {
    "execution": {
     "iopub.execute_input": "2021-08-29T10:54:48.206788Z",
     "iopub.status.busy": "2021-08-29T10:54:48.206123Z",
     "iopub.status.idle": "2021-08-29T10:54:48.225376Z",
     "shell.execute_reply": "2021-08-29T10:54:48.224133Z",
     "shell.execute_reply.started": "2021-08-29T10:20:42.050749Z"
    },
    "papermill": {
     "duration": 0.070733,
     "end_time": "2021-08-29T10:54:48.225616",
     "exception": false,
     "start_time": "2021-08-29T10:54:48.154883",
     "status": "completed"
    },
    "tags": []
   },
   "outputs": [
    {
     "name": "stdout",
     "output_type": "stream",
     "text": [
      "Accuracy Score:- 1.0\n",
      "F1 Score:- 1.0\n",
      "Average Precision Score:- 1.0\n",
      "Log Loss:- 9.992007221626413e-16\n",
      "Precision Score:- 1.0\n",
      "Recall Score:- 1.0\n",
      "ROC-AUC Score:- 1.0\n"
     ]
    }
   ],
   "source": [
    "xgb_acc=metrics.accuracy_score(y_test, y_test_pred)\n",
    "print(\"Accuracy Score:-\",xgb_acc)\n",
    "print(\"F1 Score:-\", metrics.f1_score(y_test, y_test_pred))\n",
    "print(\"Average Precision Score:-\", metrics.average_precision_score(y_test, y_test_pred))\n",
    "print(\"Log Loss:-\", metrics.log_loss(y_test, y_test_pred))\n",
    "print(\"Precision Score:-\", metrics.precision_score(y_test, y_test_pred))\n",
    "print(\"Recall Score:-\", metrics.recall_score(y_test, y_test_pred))\n",
    "print(\"ROC-AUC Score:-\", metrics.roc_auc_score(y_test, y_test_pred))"
   ]
  },
  {
   "cell_type": "code",
   "execution_count": 27,
   "id": "c83950b3",
   "metadata": {
    "execution": {
     "iopub.execute_input": "2021-08-29T10:54:48.354059Z",
     "iopub.status.busy": "2021-08-29T10:54:48.345142Z",
     "iopub.status.idle": "2021-08-29T10:54:48.523115Z",
     "shell.execute_reply": "2021-08-29T10:54:48.522445Z",
     "shell.execute_reply.started": "2021-08-29T10:20:59.293131Z"
    },
    "papermill": {
     "duration": 0.248609,
     "end_time": "2021-08-29T10:54:48.523261",
     "exception": false,
     "start_time": "2021-08-29T10:54:48.274652",
     "status": "completed"
    },
    "tags": []
   },
   "outputs": [
    {
     "data": {
      "text/plain": [
       "<sklearn.metrics._plot.confusion_matrix.ConfusionMatrixDisplay at 0x7fab3159a090>"
      ]
     },
     "execution_count": 27,
     "metadata": {},
     "output_type": "execute_result"
    },
    {
     "data": {
      "image/png": "[encoded data removed]",
      "text/plain": [
       "<Figure size 432x288 with 2 Axes>"
      ]
     },
     "metadata": {},
     "output_type": "display_data"
    }
   ],
   "source": [
    "cfm=confusion_matrix(y_test, y_test_pred)\n",
    "disp = ConfusionMatrixDisplay(confusion_matrix=cfm,\n",
    "                               display_labels=model1.classes_)\n",
    "disp.plot()"
   ]
  },
  {
   "cell_type": "code",
   "execution_count": 28,
   "id": "3aecf3f4",
   "metadata": {
    "execution": {
     "iopub.execute_input": "2021-08-29T10:54:48.629729Z",
     "iopub.status.busy": "2021-08-29T10:54:48.629060Z",
     "iopub.status.idle": "2021-08-29T10:54:49.538554Z",
     "shell.execute_reply": "2021-08-29T10:54:49.537982Z",
     "shell.execute_reply.started": "2021-08-29T10:21:19.898691Z"
    },
    "papermill": {
     "duration": 0.965183,
     "end_time": "2021-08-29T10:54:49.538702",
     "exception": false,
     "start_time": "2021-08-29T10:54:48.573519",
     "status": "completed"
    },
    "tags": []
   },
   "outputs": [
    {
     "name": "stdout",
     "output_type": "stream",
     "text": [
      "[1. 1. 1. 1. 1. 1. 1. 1. 1. 1.]\n",
      "-------------------\n",
      "1.0\n"
     ]
    }
   ],
   "source": [
    "from sklearn.model_selection import cross_val_score    \n",
    "scores = cross_val_score(model1, X, y, cv=10, scoring='accuracy') #cv is cross validation\n",
    "print(scores)\n",
    "print(\"-------------------\")\n",
    "print(scores.mean())"
   ]
  },
  {
   "cell_type": "code",
   "execution_count": 29,
   "id": "6611cb29",
   "metadata": {
    "execution": {
     "iopub.execute_input": "2021-08-29T10:54:49.647160Z",
     "iopub.status.busy": "2021-08-29T10:54:49.646076Z",
     "iopub.status.idle": "2021-08-29T10:54:49.654365Z",
     "shell.execute_reply": "2021-08-29T10:54:49.655076Z",
     "shell.execute_reply.started": "2021-08-29T10:21:32.106942Z"
    },
    "papermill": {
     "duration": 0.066136,
     "end_time": "2021-08-29T10:54:49.655320",
     "exception": false,
     "start_time": "2021-08-29T10:54:49.589184",
     "status": "completed"
    },
    "tags": []
   },
   "outputs": [
    {
     "name": "stdout",
     "output_type": "stream",
     "text": [
      "              precision    recall  f1-score   support\n",
      "\n",
      "           0       1.00      1.00      1.00       112\n",
      "           1       1.00      1.00      1.00        59\n",
      "\n",
      "    accuracy                           1.00       171\n",
      "   macro avg       1.00      1.00      1.00       171\n",
      "weighted avg       1.00      1.00      1.00       171\n",
      "\n"
     ]
    }
   ],
   "source": [
    "from sklearn.metrics import classification_report\n",
    "print(classification_report(y_test, y_test_pred))"
   ]
  },
  {
   "cell_type": "code",
   "execution_count": 30,
   "id": "921a7aee",
   "metadata": {
    "execution": {
     "iopub.execute_input": "2021-08-29T10:54:49.767209Z",
     "iopub.status.busy": "2021-08-29T10:54:49.766558Z",
     "iopub.status.idle": "2021-08-29T10:54:49.773268Z",
     "shell.execute_reply": "2021-08-29T10:54:49.772636Z",
     "shell.execute_reply.started": "2021-08-29T10:21:53.228161Z"
    },
    "papermill": {
     "duration": 0.066222,
     "end_time": "2021-08-29T10:54:49.773442",
     "exception": false,
     "start_time": "2021-08-29T10:54:49.707220",
     "status": "completed"
    },
    "tags": []
   },
   "outputs": [
    {
     "data": {
      "text/plain": [
       "1.0"
      ]
     },
     "execution_count": 30,
     "metadata": {},
     "output_type": "execute_result"
    }
   ],
   "source": [
    "y_test_pred_prob=model1.predict_proba(x_test)[:,1]\n",
    "y_test_pred_prob\n",
    "\n",
    "from sklearn.metrics import roc_curve\n",
    "metrics.roc_auc_score(y_test, y_test_pred_prob)"
   ]
  },
  {
   "cell_type": "code",
   "execution_count": 31,
   "id": "d45e7d47",
   "metadata": {
    "execution": {
     "iopub.execute_input": "2021-08-29T10:54:49.891745Z",
     "iopub.status.busy": "2021-08-29T10:54:49.881501Z",
     "iopub.status.idle": "2021-08-29T10:54:50.056942Z",
     "shell.execute_reply": "2021-08-29T10:54:50.055902Z",
     "shell.execute_reply.started": "2021-08-29T10:22:14.863602Z"
    },
    "papermill": {
     "duration": 0.232822,
     "end_time": "2021-08-29T10:54:50.057101",
     "exception": false,
     "start_time": "2021-08-29T10:54:49.824279",
     "status": "completed"
    },
    "tags": []
   },
   "outputs": [
    {
     "data": {
      "image/png": "[encoded data removed]",
      "text/plain": [
       "<Figure size 720x720 with 1 Axes>"
      ]
     },
     "metadata": {},
     "output_type": "display_data"
    }
   ],
   "source": [
    "fpr, tpr,thresholds=roc_curve(y_test,y_test_pred_prob)\n",
    "plt.figure(figsize=(10,10))\n",
    "plt.plot([0,1],[0,1],'k--')\n",
    "plt.plot(fpr, tpr, label='XGBoost')\n",
    "plt.xlabel(\"fpr (False Possitive rate)\")\n",
    "plt.ylabel(\"tpr-(True Positive rate)\")\n",
    "plt.title(\"ROC_AUC\")\n",
    "plt.show()"
   ]
  },
  {
   "cell_type": "code",
   "execution_count": 32,
   "id": "88370862",
   "metadata": {
    "execution": {
     "iopub.execute_input": "2021-08-29T10:54:50.189591Z",
     "iopub.status.busy": "2021-08-29T10:54:50.185495Z",
     "iopub.status.idle": "2021-08-29T10:54:50.346086Z",
     "shell.execute_reply": "2021-08-29T10:54:50.345460Z",
     "shell.execute_reply.started": "2021-08-29T10:22:55.167279Z"
    },
    "papermill": {
     "duration": 0.237132,
     "end_time": "2021-08-29T10:54:50.346225",
     "exception": false,
     "start_time": "2021-08-29T10:54:50.109093",
     "status": "completed"
    },
    "tags": []
   },
   "outputs": [
    {
     "data": {
      "image/png": "[encoded data removed]",
      "text/plain": [
       "<Figure size 720x576 with 1 Axes>"
      ]
     },
     "metadata": {},
     "output_type": "display_data"
    }
   ],
   "source": [
    "from sklearn.metrics import precision_recall_curve\n",
    "no_skill=len(y==1)/len(y)\n",
    "y_test_prob=model1.predict_proba(x_test)[:,1]\n",
    "plt.figure(figsize=(10,8))\n",
    "plt.plot([0,1],[no_skill, no_skill], label=\"No Skill\")\n",
    "precision, recall,_ =precision_recall_curve(y_test, y_test_prob)\n",
    "plt.plot(recall, precision, marker='',label=\"XGBoost\")\n",
    "plt.xlabel(\"Recall\")\n",
    "plt.ylabel(\"Precision\")\n",
    "plt.title(\"Recall-Precision Curve\")\n",
    "plt.legend()\n",
    "plt.show()"
   ]
  },
  {
   "cell_type": "markdown",
   "id": "079de79c",
   "metadata": {
    "papermill": {
     "duration": 0.057086,
     "end_time": "2021-08-29T10:54:50.456570",
     "exception": false,
     "start_time": "2021-08-29T10:54:50.399484",
     "status": "completed"
    },
    "tags": []
   },
   "source": [
    "# Cross Validation "
   ]
  },
  {
   "cell_type": "code",
   "execution_count": 33,
   "id": "355ba94d",
   "metadata": {
    "execution": {
     "iopub.execute_input": "2021-08-29T10:54:50.588193Z",
     "iopub.status.busy": "2021-08-29T10:54:50.587189Z",
     "iopub.status.idle": "2021-08-29T10:54:50.590920Z",
     "shell.execute_reply": "2021-08-29T10:54:50.590371Z",
     "shell.execute_reply.started": "2021-08-29T10:30:08.000433Z"
    },
    "papermill": {
     "duration": 0.071757,
     "end_time": "2021-08-29T10:54:50.591055",
     "exception": false,
     "start_time": "2021-08-29T10:54:50.519298",
     "status": "completed"
    },
    "tags": []
   },
   "outputs": [],
   "source": [
    "# split training feature and target sets into training and validation subsets\n",
    "from sklearn.model_selection import train_test_split\n",
    "\n",
    "X_train_sub, X_validation_sub, y_train_sub, y_validation_sub = train_test_split(X_train, y_train, random_state=0)"
   ]
  },
  {
   "cell_type": "code",
   "execution_count": 34,
   "id": "f566aae9",
   "metadata": {
    "execution": {
     "iopub.execute_input": "2021-08-29T10:54:50.706047Z",
     "iopub.status.busy": "2021-08-29T10:54:50.705020Z",
     "iopub.status.idle": "2021-08-29T10:54:50.836386Z",
     "shell.execute_reply": "2021-08-29T10:54:50.835637Z",
     "shell.execute_reply.started": "2021-08-29T10:30:23.270592Z"
    },
    "papermill": {
     "duration": 0.192773,
     "end_time": "2021-08-29T10:54:50.836562",
     "exception": false,
     "start_time": "2021-08-29T10:54:50.643789",
     "status": "completed"
    },
    "tags": []
   },
   "outputs": [
    {
     "name": "stdout",
     "output_type": "stream",
     "text": [
      "Learning rate:  0.05\n",
      "Accuracy score (training): 0.990\n",
      "Accuracy score (validation): 1.000\n",
      "\n",
      "Learning rate:  0.1\n",
      "Accuracy score (training): 1.000\n",
      "Accuracy score (validation): 1.000\n",
      "\n",
      "Learning rate:  0.25\n",
      "Accuracy score (training): 1.000\n",
      "Accuracy score (validation): 1.000\n",
      "\n",
      "Learning rate:  0.5\n",
      "Accuracy score (training): 1.000\n",
      "Accuracy score (validation): 1.000\n",
      "\n",
      "Learning rate:  0.75\n",
      "Accuracy score (training): 1.000\n",
      "Accuracy score (validation): 1.000\n",
      "\n",
      "Learning rate:  1\n",
      "Accuracy score (training): 1.000\n",
      "Accuracy score (validation): 1.000\n",
      "\n"
     ]
    }
   ],
   "source": [
    "learning_rates = [0.05, 0.1, 0.25, 0.5, 0.75, 1]\n",
    "for learning_rate in learning_rates:\n",
    "    gb = GradientBoostingClassifier(n_estimators=20, learning_rate = learning_rate, max_features=2, max_depth = 2, random_state = 0)\n",
    "    gb.fit(X_train_sub, y_train_sub)\n",
    "    print(\"Learning rate: \", learning_rate)\n",
    "    print(\"Accuracy score (training): {0:.3f}\".format(gb.score(X_train_sub, y_train_sub)))\n",
    "    print(\"Accuracy score (validation): {0:.3f}\".format(gb.score(X_validation_sub, y_validation_sub)))\n",
    "    print()"
   ]
  },
  {
   "cell_type": "code",
   "execution_count": 35,
   "id": "1fcf0acc",
   "metadata": {
    "execution": {
     "iopub.execute_input": "2021-08-29T10:54:50.951609Z",
     "iopub.status.busy": "2021-08-29T10:54:50.950775Z",
     "iopub.status.idle": "2021-08-29T10:54:50.977209Z",
     "shell.execute_reply": "2021-08-29T10:54:50.976704Z",
     "shell.execute_reply.started": "2021-08-29T10:31:36.972464Z"
    },
    "papermill": {
     "duration": 0.087967,
     "end_time": "2021-08-29T10:54:50.977363",
     "exception": false,
     "start_time": "2021-08-29T10:54:50.889396",
     "status": "completed"
    },
    "tags": []
   },
   "outputs": [
    {
     "name": "stdout",
     "output_type": "stream",
     "text": [
      "Confusion Matrix:\n",
      "[[57  0]\n",
      " [ 0 43]]\n",
      "\n",
      "Classification Report\n",
      "              precision    recall  f1-score   support\n",
      "\n",
      "           0       1.00      1.00      1.00        57\n",
      "           1       1.00      1.00      1.00        43\n",
      "\n",
      "    accuracy                           1.00       100\n",
      "   macro avg       1.00      1.00      1.00       100\n",
      "weighted avg       1.00      1.00      1.00       100\n",
      "\n"
     ]
    }
   ],
   "source": [
    "# Output confusion matrix and classification report of Gradient Boosting algorithm on validation set\n",
    "\n",
    "gb = GradientBoostingClassifier(n_estimators=20, learning_rate = 0.5, max_features=2, max_depth = 2, random_state = 0)\n",
    "gb.fit(X_train_sub, y_train_sub)\n",
    "predictions = gb.predict(X_validation_sub)\n",
    "\n",
    "print(\"Confusion Matrix:\")\n",
    "print(confusion_matrix(y_validation_sub, predictions))\n",
    "print()\n",
    "print(\"Classification Report\")\n",
    "print(classification_report(y_validation_sub, predictions))"
   ]
  },
  {
   "cell_type": "code",
   "execution_count": 36,
   "id": "2275b3b5",
   "metadata": {
    "execution": {
     "iopub.execute_input": "2021-08-29T10:54:51.112714Z",
     "iopub.status.busy": "2021-08-29T10:54:51.112023Z",
     "iopub.status.idle": "2021-08-29T10:54:51.279532Z",
     "shell.execute_reply": "2021-08-29T10:54:51.280046Z",
     "shell.execute_reply.started": "2021-08-29T10:33:15.526208Z"
    },
    "papermill": {
     "duration": 0.249734,
     "end_time": "2021-08-29T10:54:51.280235",
     "exception": false,
     "start_time": "2021-08-29T10:54:51.030501",
     "status": "completed"
    },
    "tags": []
   },
   "outputs": [
    {
     "data": {
      "text/plain": [
       "<sklearn.metrics._plot.confusion_matrix.ConfusionMatrixDisplay at 0x7fab30791d50>"
      ]
     },
     "execution_count": 36,
     "metadata": {},
     "output_type": "execute_result"
    },
    {
     "data": {
      "image/png": "[encoded data removed]",
      "text/plain": [
       "<Figure size 432x288 with 2 Axes>"
      ]
     },
     "metadata": {},
     "output_type": "display_data"
    }
   ],
   "source": [
    "cfm=confusion_matrix(y_validation_sub, predictions)\n",
    "disp = ConfusionMatrixDisplay(confusion_matrix=cfm,\n",
    "                               display_labels=gb.classes_)\n",
    "disp.plot()"
   ]
  },
  {
   "cell_type": "markdown",
   "id": "8a66fe44",
   "metadata": {
    "papermill": {
     "duration": 0.054213,
     "end_time": "2021-08-29T10:54:51.389323",
     "exception": false,
     "start_time": "2021-08-29T10:54:51.335110",
     "status": "completed"
    },
    "tags": []
   },
   "source": [
    "# CatBoost Classifier in Python\n"
   ]
  },
  {
   "cell_type": "code",
   "execution_count": 37,
   "id": "ea725505",
   "metadata": {
    "execution": {
     "iopub.execute_input": "2021-08-29T10:54:51.503138Z",
     "iopub.status.busy": "2021-08-29T10:54:51.502071Z",
     "iopub.status.idle": "2021-08-29T10:54:51.684868Z",
     "shell.execute_reply": "2021-08-29T10:54:51.684286Z",
     "shell.execute_reply.started": "2021-08-29T10:49:34.243720Z"
    },
    "papermill": {
     "duration": 0.240861,
     "end_time": "2021-08-29T10:54:51.685018",
     "exception": false,
     "start_time": "2021-08-29T10:54:51.444157",
     "status": "completed"
    },
    "tags": []
   },
   "outputs": [],
   "source": [
    "from catboost import CatBoostClassifier\n",
    "\n",
    "clf = CatBoostClassifier(\n",
    "    iterations=5, \n",
    "    learning_rate=0.1, \n",
    "    #loss_function='CrossEntropy'\n",
    ")"
   ]
  },
  {
   "cell_type": "code",
   "execution_count": 38,
   "id": "20b475b1",
   "metadata": {
    "execution": {
     "iopub.execute_input": "2021-08-29T10:54:51.809987Z",
     "iopub.status.busy": "2021-08-29T10:54:51.802532Z",
     "iopub.status.idle": "2021-08-29T10:54:51.936354Z",
     "shell.execute_reply": "2021-08-29T10:54:51.936894Z",
     "shell.execute_reply.started": "2021-08-29T10:50:41.502201Z"
    },
    "papermill": {
     "duration": 0.197662,
     "end_time": "2021-08-29T10:54:51.937067",
     "exception": false,
     "start_time": "2021-08-29T10:54:51.739405",
     "status": "completed"
    },
    "tags": []
   },
   "outputs": [
    {
     "data": {
      "text/plain": [
       "<catboost.core.CatBoostClassifier at 0x7fab3081dcd0>"
      ]
     },
     "execution_count": 38,
     "metadata": {},
     "output_type": "execute_result"
    }
   ],
   "source": [
    "clf.fit(X_train, y_train, \n",
    "        eval_set=(X_validation_sub, y_validation_sub), \n",
    "        verbose=False\n",
    ")"
   ]
  },
  {
   "cell_type": "code",
   "execution_count": 39,
   "id": "602479bc",
   "metadata": {
    "execution": {
     "iopub.execute_input": "2021-08-29T10:54:52.050657Z",
     "iopub.status.busy": "2021-08-29T10:54:52.049932Z",
     "iopub.status.idle": "2021-08-29T10:54:52.060394Z",
     "shell.execute_reply": "2021-08-29T10:54:52.059861Z",
     "shell.execute_reply.started": "2021-08-29T10:51:02.019603Z"
    },
    "papermill": {
     "duration": 0.068468,
     "end_time": "2021-08-29T10:54:52.060570",
     "exception": false,
     "start_time": "2021-08-29T10:54:51.992102",
     "status": "completed"
    },
    "tags": []
   },
   "outputs": [],
   "source": [
    "y_pred=clf.predict(X_train)\n"
   ]
  },
  {
   "cell_type": "code",
   "execution_count": 40,
   "id": "804c2737",
   "metadata": {
    "execution": {
     "iopub.execute_input": "2021-08-29T10:54:52.179509Z",
     "iopub.status.busy": "2021-08-29T10:54:52.178393Z",
     "iopub.status.idle": "2021-08-29T10:54:52.194128Z",
     "shell.execute_reply": "2021-08-29T10:54:52.193465Z",
     "shell.execute_reply.started": "2021-08-29T10:51:09.140966Z"
    },
    "papermill": {
     "duration": 0.078654,
     "end_time": "2021-08-29T10:54:52.194270",
     "exception": false,
     "start_time": "2021-08-29T10:54:52.115616",
     "status": "completed"
    },
    "tags": []
   },
   "outputs": [
    {
     "name": "stdout",
     "output_type": "stream",
     "text": [
      "Accuracy Score:- 1.0\n",
      "F1 Score:- 1.0\n",
      "Average Precision Score:- 1.0\n",
      "Log Loss:- 9.992007221626413e-16\n",
      "Precision Score:- 1.0\n",
      "Recall Score:- 1.0\n",
      "ROC-AUC Score:- 1.0\n"
     ]
    }
   ],
   "source": [
    "print(\"Accuracy Score:-\", metrics.accuracy_score(y_train, y_pred))\n",
    "print(\"F1 Score:-\", metrics.f1_score(y_train, y_pred))\n",
    "print(\"Average Precision Score:-\", metrics.average_precision_score(y_train, y_pred))\n",
    "print(\"Log Loss:-\", metrics.log_loss(y_train, y_pred))\n",
    "print(\"Precision Score:-\", metrics.precision_score(y_train, y_pred))\n",
    "print(\"Recall Score:-\", metrics.recall_score(y_train, y_pred))\n",
    "print(\"ROC-AUC Score:-\", metrics.roc_auc_score(y_train, y_pred))"
   ]
  },
  {
   "cell_type": "code",
   "execution_count": 41,
   "id": "13445c8d",
   "metadata": {
    "execution": {
     "iopub.execute_input": "2021-08-29T10:54:52.310763Z",
     "iopub.status.busy": "2021-08-29T10:54:52.310121Z",
     "iopub.status.idle": "2021-08-29T10:54:52.316039Z",
     "shell.execute_reply": "2021-08-29T10:54:52.316660Z",
     "shell.execute_reply.started": "2021-08-29T10:51:26.792289Z"
    },
    "papermill": {
     "duration": 0.064626,
     "end_time": "2021-08-29T10:54:52.316853",
     "exception": false,
     "start_time": "2021-08-29T10:54:52.252227",
     "status": "completed"
    },
    "tags": []
   },
   "outputs": [],
   "source": [
    "y_test_pred=clf.predict(x_test)\n"
   ]
  },
  {
   "cell_type": "code",
   "execution_count": 42,
   "id": "aa2665bc",
   "metadata": {
    "execution": {
     "iopub.execute_input": "2021-08-29T10:54:52.436242Z",
     "iopub.status.busy": "2021-08-29T10:54:52.435559Z",
     "iopub.status.idle": "2021-08-29T10:54:52.455189Z",
     "shell.execute_reply": "2021-08-29T10:54:52.454552Z",
     "shell.execute_reply.started": "2021-08-29T10:51:44.698255Z"
    },
    "papermill": {
     "duration": 0.081611,
     "end_time": "2021-08-29T10:54:52.455338",
     "exception": false,
     "start_time": "2021-08-29T10:54:52.373727",
     "status": "completed"
    },
    "tags": []
   },
   "outputs": [
    {
     "name": "stdout",
     "output_type": "stream",
     "text": [
      "Accuracy Score:- 1.0\n",
      "F1 Score:- 1.0\n",
      "Average Precision Score:- 1.0\n",
      "Log Loss:- 9.992007221626413e-16\n",
      "Precision Score:- 1.0\n",
      "Recall Score:- 1.0\n",
      "ROC-AUC Score:- 1.0\n"
     ]
    }
   ],
   "source": [
    "cat_acc=metrics.accuracy_score(y_test, y_test_pred)\n",
    "print(\"Accuracy Score:-\",cat_acc)\n",
    "print(\"F1 Score:-\", metrics.f1_score(y_test, y_test_pred))\n",
    "print(\"Average Precision Score:-\", metrics.average_precision_score(y_test, y_test_pred))\n",
    "print(\"Log Loss:-\", metrics.log_loss(y_test, y_test_pred))\n",
    "print(\"Precision Score:-\", metrics.precision_score(y_test, y_test_pred))\n",
    "print(\"Recall Score:-\", metrics.recall_score(y_test, y_test_pred))\n",
    "print(\"ROC-AUC Score:-\", metrics.roc_auc_score(y_test, y_test_pred))"
   ]
  },
  {
   "cell_type": "code",
   "execution_count": 43,
   "id": "1c2a0156",
   "metadata": {
    "execution": {
     "iopub.execute_input": "2021-08-29T10:54:52.602943Z",
     "iopub.status.busy": "2021-08-29T10:54:52.599344Z",
     "iopub.status.idle": "2021-08-29T10:54:52.778756Z",
     "shell.execute_reply": "2021-08-29T10:54:52.778001Z",
     "shell.execute_reply.started": "2021-08-29T10:51:59.851434Z"
    },
    "papermill": {
     "duration": 0.265973,
     "end_time": "2021-08-29T10:54:52.778919",
     "exception": false,
     "start_time": "2021-08-29T10:54:52.512946",
     "status": "completed"
    },
    "tags": []
   },
   "outputs": [
    {
     "data": {
      "text/plain": [
       "<sklearn.metrics._plot.confusion_matrix.ConfusionMatrixDisplay at 0x7fab242d0810>"
      ]
     },
     "execution_count": 43,
     "metadata": {},
     "output_type": "execute_result"
    },
    {
     "data": {
      "image/png": "[encoded data removed]",
      "text/plain": [
       "<Figure size 432x288 with 2 Axes>"
      ]
     },
     "metadata": {},
     "output_type": "display_data"
    }
   ],
   "source": [
    "cfm=confusion_matrix(y_test, y_test_pred)\n",
    "disp = ConfusionMatrixDisplay(confusion_matrix=cfm,\n",
    "                               display_labels=clf.classes_)\n",
    "disp.plot()"
   ]
  },
  {
   "cell_type": "code",
   "execution_count": 44,
   "id": "85635f84",
   "metadata": {
    "execution": {
     "iopub.execute_input": "2021-08-29T10:54:52.903063Z",
     "iopub.status.busy": "2021-08-29T10:54:52.901935Z",
     "iopub.status.idle": "2021-08-29T10:54:52.911277Z",
     "shell.execute_reply": "2021-08-29T10:54:52.910701Z",
     "shell.execute_reply.started": "2021-08-29T10:52:36.115510Z"
    },
    "papermill": {
     "duration": 0.072784,
     "end_time": "2021-08-29T10:54:52.911436",
     "exception": false,
     "start_time": "2021-08-29T10:54:52.838652",
     "status": "completed"
    },
    "tags": []
   },
   "outputs": [
    {
     "name": "stdout",
     "output_type": "stream",
     "text": [
      "              precision    recall  f1-score   support\n",
      "\n",
      "           0       1.00      1.00      1.00       112\n",
      "           1       1.00      1.00      1.00        59\n",
      "\n",
      "    accuracy                           1.00       171\n",
      "   macro avg       1.00      1.00      1.00       171\n",
      "weighted avg       1.00      1.00      1.00       171\n",
      "\n"
     ]
    }
   ],
   "source": [
    "from sklearn.metrics import classification_report\n",
    "print(classification_report(y_test, y_test_pred))"
   ]
  },
  {
   "cell_type": "code",
   "execution_count": 45,
   "id": "4ae3a604",
   "metadata": {
    "execution": {
     "iopub.execute_input": "2021-08-29T10:54:53.035176Z",
     "iopub.status.busy": "2021-08-29T10:54:53.034058Z",
     "iopub.status.idle": "2021-08-29T10:54:53.042377Z",
     "shell.execute_reply": "2021-08-29T10:54:53.041822Z",
     "shell.execute_reply.started": "2021-08-29T10:52:53.606425Z"
    },
    "papermill": {
     "duration": 0.073833,
     "end_time": "2021-08-29T10:54:53.042572",
     "exception": false,
     "start_time": "2021-08-29T10:54:52.968739",
     "status": "completed"
    },
    "tags": []
   },
   "outputs": [
    {
     "data": {
      "text/plain": [
       "1.0"
      ]
     },
     "execution_count": 45,
     "metadata": {},
     "output_type": "execute_result"
    }
   ],
   "source": [
    "y_test_pred_prob=clf.predict_proba(x_test)[:,1]\n",
    "y_test_pred_prob\n",
    "\n",
    "from sklearn.metrics import roc_curve\n",
    "metrics.roc_auc_score(y_test, y_test_pred_prob)"
   ]
  },
  {
   "cell_type": "code",
   "execution_count": 46,
   "id": "c4f0c19b",
   "metadata": {
    "execution": {
     "iopub.execute_input": "2021-08-29T10:54:53.165583Z",
     "iopub.status.busy": "2021-08-29T10:54:53.164575Z",
     "iopub.status.idle": "2021-08-29T10:54:53.345397Z",
     "shell.execute_reply": "2021-08-29T10:54:53.345970Z",
     "shell.execute_reply.started": "2021-08-29T10:53:01.155609Z"
    },
    "papermill": {
     "duration": 0.244602,
     "end_time": "2021-08-29T10:54:53.346148",
     "exception": false,
     "start_time": "2021-08-29T10:54:53.101546",
     "status": "completed"
    },
    "tags": []
   },
   "outputs": [
    {
     "data": {
      "image/png": "[encoded data removed]",
      "text/plain": [
       "<Figure size 720x720 with 1 Axes>"
      ]
     },
     "metadata": {},
     "output_type": "display_data"
    }
   ],
   "source": [
    "fpr, tpr,thresholds=roc_curve(y_test,y_test_pred_prob)\n",
    "plt.figure(figsize=(10,10))\n",
    "plt.plot([0,1],[0,1],'k--')\n",
    "plt.plot(fpr, tpr, label='Logistic Regression')\n",
    "plt.xlabel(\"fpr (False Possitive rate)\")\n",
    "plt.ylabel(\"tpr-(True Positive rate)\")\n",
    "plt.title(\"ROC_AUC\")\n",
    "plt.show()"
   ]
  },
  {
   "cell_type": "code",
   "execution_count": 47,
   "id": "d660d3eb",
   "metadata": {
    "execution": {
     "iopub.execute_input": "2021-08-29T10:54:53.470664Z",
     "iopub.status.busy": "2021-08-29T10:54:53.469652Z",
     "iopub.status.idle": "2021-08-29T10:54:53.670391Z",
     "shell.execute_reply": "2021-08-29T10:54:53.671016Z",
     "shell.execute_reply.started": "2021-08-29T10:53:33.014477Z"
    },
    "papermill": {
     "duration": 0.264281,
     "end_time": "2021-08-29T10:54:53.671193",
     "exception": false,
     "start_time": "2021-08-29T10:54:53.406912",
     "status": "completed"
    },
    "tags": []
   },
   "outputs": [
    {
     "data": {
      "image/png": "[encoded data removed]",
      "text/plain": [
       "<Figure size 720x576 with 1 Axes>"
      ]
     },
     "metadata": {},
     "output_type": "display_data"
    }
   ],
   "source": [
    "from sklearn.metrics import precision_recall_curve\n",
    "no_skill=len(y==1)/len(y)\n",
    "y_test_prob=clf.predict_proba(x_test)[:,1]\n",
    "plt.figure(figsize=(10,8))\n",
    "plt.plot([0,1],[no_skill, no_skill], label=\"No Skill\")\n",
    "precision, recall,_ =precision_recall_curve(y_test, y_test_prob)\n",
    "plt.plot(recall, precision, marker='',label=\"Catboost\")\n",
    "plt.xlabel(\"Recall\")\n",
    "plt.ylabel(\"Precision\")\n",
    "plt.title(\"Recall-Precision Curve\")\n",
    "plt.legend()\n",
    "plt.show()"
   ]
  },
  {
   "cell_type": "code",
   "execution_count": null,
   "id": "6908693e",
   "metadata": {
    "papermill": {
     "duration": 0.064818,
     "end_time": "2021-08-29T10:54:53.812017",
     "exception": false,
     "start_time": "2021-08-29T10:54:53.747199",
     "status": "completed"
    },
    "tags": []
   },
   "outputs": [],
   "source": []
  }
 ],
 "metadata": {
  "kernelspec": {
   "display_name": "Python 3",
   "language": "python",
   "name": "python3"
  },
  "language_info": {
   "codemirror_mode": {
    "name": "ipython",
    "version": 3
   },
   "file_extension": ".py",
   "mimetype": "text/x-python",
   "name": "python",
   "nbconvert_exporter": "python",
   "pygments_lexer": "ipython3",
   "version": "3.7.10"
  },
  "papermill": {
   "default_parameters": {},
   "duration": 24.898253,
   "end_time": "2021-08-29T10:54:55.645144",
   "environment_variables": {},
   "exception": null,
   "input_path": "__notebook__.ipynb",
   "output_path": "__notebook__.ipynb",
   "parameters": {},
   "start_time": "2021-08-29T10:54:30.746891",
   "version": "2.3.3"
  }
 },
 "nbformat": 4,
 "nbformat_minor": 5
}
